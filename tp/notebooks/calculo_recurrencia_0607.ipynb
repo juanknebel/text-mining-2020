{
 "cells": [
  {
   "cell_type": "code",
   "execution_count": 1,
   "metadata": {},
   "outputs": [],
   "source": [
    "import pandas as pd\n",
    "import numpy as np\n",
    "import random\n",
    "import re\n",
    "import csv\n",
    "from collections import defaultdict\n",
    "from gensim import corpora, models, similarities, matutils\n",
    "from string import punctuation\n",
    "from gensim.models import CoherenceModel, LdaModel, LsiModel, HdpModel\n",
    "import nltk\n",
    "from nltk import RegexpTokenizer, word_tokenize, sent_tokenize\n",
    "from nltk.stem.porter import PorterStemmer\n",
    "from nltk.corpus import stopwords\n",
    "from sklearn.model_selection import train_test_split\n",
    "from sklearn.feature_extraction.text import TfidfVectorizer\n",
    "import pyLDAvis.gensim\n",
    "pyLDAvis.enable_notebook()\n",
    "\n",
    "import warnings\n",
    "warnings.filterwarnings('ignore')  \n",
    "%matplotlib inline"
   ]
  },
  {
   "cell_type": "code",
   "execution_count": 2,
   "metadata": {},
   "outputs": [
    {
     "name": "stdout",
     "output_type": "stream",
     "text": [
      "593\n"
     ]
    }
   ],
   "source": [
    "Vet_dreams_clusters_kmeans =np.array(pd.read_csv('../data/sa/vet_clusters_kmeans.txt', header=None, names=['Cluster'] )['Cluster'])\n",
    "print(len(Vet_dreams_clusters_kmeans))\n",
    "#Vet_dreams_clusters_kmeans= np.array([x+1 for x in Vet_dreams_clusters_kmeans])"
   ]
  },
  {
   "cell_type": "code",
   "execution_count": 3,
   "metadata": {},
   "outputs": [],
   "source": [
    "Phil_dreams_clusters_kmeans=[4, 3, 1, 4, 2, 1, 3, 0, 2, 1, 3, 2, 1, 3, 4, 4, 4, 2, 4, 3, 4, 2,\n",
    "       4, 1, 2, 1, 4, 1, 4, 4, 1, 3, 4, 1, 4, 2, 1, 2, 2, 1, 2, 1, 0, 4,\n",
    "       3, 1, 4, 4, 1, 1, 4, 4, 1, 0, 4, 0, 4, 1, 1, 4, 1, 4, 1, 4, 1, 4,\n",
    "       3, 4, 2, 2, 1, 4, 1, 1, 2, 0, 2, 4, 2, 4, 4, 1, 1, 1, 4, 3, 1, 4,\n",
    "       1, 1, 1, 2, 2, 1, 0, 2, 1, 4, 1, 2, 2, 4, 1, 1, 1, 1, 4, 0, 0, 0,\n",
    "       4, 2, 2, 0, 2, 4, 3, 0, 2, 1, 2, 3, 1, 2, 4, 2, 1, 0, 4, 3, 3, 1,\n",
    "       2, 0, 4, 2, 1, 0, 1, 4, 2, 2, 1, 2, 2, 1, 4, 2, 3, 4, 4, 0, 0, 3,\n",
    "       4, 2, 1, 0, 4, 4, 4, 0, 4, 1, 4, 4, 2, 1, 1, 2, 0, 2, 2, 1, 1, 0,\n",
    "       4, 2, 4, 0, 4, 3, 1, 4, 2, 4, 4, 2, 0, 3, 1, 4, 0, 4, 2, 4, 4, 2,\n",
    "       4, 2, 1, 1, 4, 2, 4, 1, 4, 4, 3, 0, 2, 0, 2, 4, 2, 4, 2, 4, 0, 4,\n",
    "       0, 3, 4, 4, 1, 3, 2, 2, 2, 1, 0, 2, 2, 1, 2, 2, 1, 3, 4, 2, 1, 0,\n",
    "       0, 4, 0, 4, 0, 4, 4, 2, 1, 0, 4, 1, 2, 2, 2, 4, 2, 4, 1, 1, 0, 0,\n",
    "       3, 2, 2, 3, 1, 4, 1, 4, 4, 4, 2, 2, 3, 4, 4, 4, 2, 4, 4, 1, 4, 0,\n",
    "       2, 1, 2, 1, 2, 0, 4, 1, 1, 0, 2, 2, 0, 4, 4, 2, 1, 2, 4, 2, 2, 1,\n",
    "       2, 4, 1, 1, 2, 0, 4, 2, 2, 4, 2, 0, 4, 2, 2, 1, 2, 3, 4, 3, 3, 3,\n",
    "       2, 1, 2, 4, 4, 1, 2, 1, 1, 4, 0, 4, 4, 0, 4, 3, 0, 4, 0, 4, 1, 4,\n",
    "       4, 1, 2, 4, 1, 2, 4, 4, 3, 4, 4, 4, 2, 1, 1, 0, 1, 0, 4, 2, 1, 4,\n",
    "       1, 4, 0, 0, 3, 0, 1, 4, 0, 1, 2, 0, 1, 2, 0, 1, 0, 1, 2, 1, 2, 0,\n",
    "       4, 0, 0, 3, 4, 1, 4, 4, 2, 0, 1, 2, 4, 2, 1, 2, 4, 2, 3, 4, 4, 2,\n",
    "       1, 1, 4, 0, 2, 4, 4, 0, 4, 2, 4, 0, 2, 1, 4, 0, 2, 2, 2, 1, 1, 4,\n",
    "       0, 1, 2, 3, 0, 0, 0, 0, 0, 3, 0, 2, 4, 2, 0, 1, 0, 0, 0, 3, 4, 4,\n",
    "       2, 2, 0, 0, 4, 0, 0, 4, 0, 2, 2, 0, 2, 2, 4, 2, 4, 4, 4, 4, 1, 4,\n",
    "       2, 4, 2, 4, 1, 1, 4, 3, 4, 4, 0, 2, 2, 2, 0, 4, 0, 4, 4, 0, 4, 3]\n",
    "#Phil_dreams_clusters_kmeans= np.array([x+1 for x in Phil_dreams_clusters_kmeans])"
   ]
  },
  {
   "cell_type": "code",
   "execution_count": 4,
   "metadata": {},
   "outputs": [],
   "source": [
    "def func_detecta_recurrencia_max(p_clu, p_dreams_clusters):\n",
    "    cluster=[]\n",
    "    for i, x in enumerate(p_dreams_clusters):\n",
    "        if (x!=p_clu): \n",
    "            cluster.append(0)\n",
    "        else:\n",
    "            cluster.append(1)\n",
    "    # window size = 10 \n",
    "    f = pd.DataFrame({'flag_on': cluster})\n",
    "    resul=f.rolling(10).sum()\n",
    "    max_recu=resul[\"flag_on\"].max()\n",
    "    median_recu=resul[\"flag_on\"][resul[\"flag_on\"]>1].median() \n",
    "    print(\"cluster=\",p_clu, \" max=\", max_recu, \" mediana=\", median_recu)\n",
    "    \n",
    "    return(resul)\n"
   ]
  },
  {
   "cell_type": "code",
   "execution_count": 5,
   "metadata": {},
   "outputs": [
    {
     "name": "stdout",
     "output_type": "stream",
     "text": [
      "cluster= 0  max= 6.0  mediana= 2.0\n",
      "cluster= 1  max= 7.0  mediana= 3.0\n",
      "cluster= 2  max= 7.0  mediana= 3.0\n",
      "cluster= 3  max= 4.0  mediana= 2.0\n",
      "cluster= 4  max= 7.0  mediana= 3.0\n"
     ]
    }
   ],
   "source": [
    "Phil_res_recu_clusters=[]\n",
    "Phil_res_recu_max=[]\n",
    "Phil_res_recu_median=[]\n",
    "for i in (list(range(5))):\n",
    "    Phil_res_recu_clusters.append(func_detecta_recurrencia_max(i, Phil_dreams_clusters_kmeans))\n",
    "    Phil_res_recu_max.append(Phil_res_recu_clusters[i][\"flag_on\"].max() ) \n",
    "    Phil_res_recu_median.append(Phil_res_recu_clusters[i][\"flag_on\"][Phil_res_recu_clusters[i][\"flag_on\"]>1].median() ) "
   ]
  },
  {
   "cell_type": "code",
   "execution_count": 6,
   "metadata": {},
   "outputs": [
    {
     "name": "stdout",
     "output_type": "stream",
     "text": [
      "cluster= 0  max= 4.0  mediana= 2.0\n",
      "cluster= 1  max= 7.0  mediana= 2.5\n",
      "cluster= 2  max= 5.0  mediana= 2.0\n",
      "cluster= 3  max= 5.0  mediana= 2.0\n",
      "cluster= 4  max= 6.0  mediana= 3.0\n",
      "cluster= 5  max= 5.0  mediana= 2.0\n",
      "cluster= 6  max= 4.0  mediana= 2.0\n",
      "cluster= 7  max= 6.0  mediana= 2.0\n"
     ]
    }
   ],
   "source": [
    "Vet_res_recu_clusters=[]\n",
    "Vet_res_recu_max=[]\n",
    "Vet_res_recu_median=[]\n",
    "for i in (list(range(8))):\n",
    "    Vet_res_recu_clusters.append(func_detecta_recurrencia_max(i, Vet_dreams_clusters_kmeans))\n",
    "    Vet_res_recu_max.append(Vet_res_recu_clusters[i][\"flag_on\"].max() ) \n",
    "    Vet_res_recu_median.append(Vet_res_recu_clusters[i][\"flag_on\"][Vet_res_recu_clusters[i][\"flag_on\"]>1].median() ) "
   ]
  },
  {
   "cell_type": "code",
   "execution_count": 7,
   "metadata": {},
   "outputs": [],
   "source": [
    "Vet_lista_color_recu=[]\n",
    "for i in  list(range(len(Vet_dreams_clusters_kmeans))):\n",
    "    if  Vet_res_recu_clusters[Vet_dreams_clusters_kmeans[i]][\"flag_on\"][i] > Vet_res_recu_median[Vet_dreams_clusters_kmeans[i]] :\n",
    "        Vet_lista_color_recu.append(\"blue\")\n",
    "    elif  Vet_res_recu_clusters[Vet_dreams_clusters_kmeans[i]][\"flag_on\"][i] == round(Vet_res_recu_median[Vet_dreams_clusters_kmeans[i]]) :\n",
    "        Vet_lista_color_recu.append(\"cyan\")\n",
    "    else:\n",
    "        Vet_lista_color_recu.append(\"gray\")\n",
    "        \n",
    "    "
   ]
  },
  {
   "cell_type": "code",
   "execution_count": 8,
   "metadata": {},
   "outputs": [],
   "source": [
    "Phil_lista_color_recu=[]\n",
    "for i in  list(range(len(Phil_dreams_clusters_kmeans))):\n",
    "    if  Phil_res_recu_clusters[Phil_dreams_clusters_kmeans[i]][\"flag_on\"][i] > Phil_res_recu_median[Phil_dreams_clusters_kmeans[i]] :\n",
    "        Phil_lista_color_recu.append(\"blue\")\n",
    "    elif  Phil_res_recu_clusters[Phil_dreams_clusters_kmeans[i]][\"flag_on\"][i] == round(Phil_res_recu_median[Phil_dreams_clusters_kmeans[i]]) :\n",
    "        Phil_lista_color_recu.append(\"cyan\")\n",
    "    else:\n",
    "        Phil_lista_color_recu.append(\"gray\")\n",
    "        \n",
    "    "
   ]
  },
  {
   "cell_type": "code",
   "execution_count": 9,
   "metadata": {},
   "outputs": [],
   "source": [
    "\n",
    "\n",
    "with open('../data/sa/phil_color_recu.txt', 'w') as filehandle:\n",
    "    for listitem in Phil_lista_color_recu:\n",
    "        filehandle.write('%s\\n' % listitem)"
   ]
  },
  {
   "cell_type": "code",
   "execution_count": 10,
   "metadata": {},
   "outputs": [],
   "source": [
    "\n",
    "with open('../data/sa/vet_color_recu.txt', 'w') as filehandle:\n",
    "    for listitem in Vet_lista_color_recu:\n",
    "        filehandle.write('%s\\n' % listitem)"
   ]
  },
  {
   "cell_type": "code",
   "execution_count": null,
   "metadata": {},
   "outputs": [],
   "source": []
  }
 ],
 "metadata": {
  "kernelspec": {
   "display_name": "Python 3",
   "language": "python",
   "name": "python3"
  },
  "language_info": {
   "codemirror_mode": {
    "name": "ipython",
    "version": 3
   },
   "file_extension": ".py",
   "mimetype": "text/x-python",
   "name": "python",
   "nbconvert_exporter": "python",
   "pygments_lexer": "ipython3",
   "version": "3.7.3"
  }
 },
 "nbformat": 4,
 "nbformat_minor": 2
}
