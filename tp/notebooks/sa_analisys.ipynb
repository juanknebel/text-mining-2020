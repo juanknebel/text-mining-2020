{
 "cells": [
  {
   "cell_type": "markdown",
   "metadata": {},
   "source": [
    "# Sentiment Analysis"
   ]
  },
  {
   "cell_type": "code",
   "execution_count": 1,
   "metadata": {},
   "outputs": [],
   "source": [
    "import pandas as pd\n",
    "import warnings, sys, os\n",
    "from pathlib import Path\n",
    "\n",
    "\n",
    "path = Path(os.getcwd())\n",
    "sys.path.append(str(path.parent))\n",
    "warnings.filterwarnings('ignore')  \n",
    "%matplotlib inline\n",
    "data_directory = '../data'"
   ]
  },
  {
   "cell_type": "code",
   "execution_count": 2,
   "metadata": {},
   "outputs": [
    {
     "output_type": "execute_result",
     "data": {
      "text/plain": "      code       note                                        description  \\\n0        1       1957  the one at the meadss house where its bigger i...   \n1        2    8/11/67  im at a family reunion in a large fine house w...   \n2        3     8/1/85  i watch a plane fly past and shortly realize i...   \n3        4      1985?  me pulling the green leaves and berries off so...   \n4        5      1985?  im in a room that reminds me of but definitely...   \n...    ...        ...                                                ...   \n43127   85  F, age 18  the dream was about me and my boyfriend going ...   \n43128   86  F, age 18  two weeks ago this guy asked me to senior ball...   \n43129   87  F, age 18  my boyfriend just broke up with me so he was o...   \n43130   88  F, age 18  i was in my backyard and i was flying i would ...   \n43131   89  F, age 18  i felt scared i was pregnant in my dream then ...   \n\n       words  group_id  Anger  Anticipation  Disgust  Fear  Joy  ...  \\\n0      154.0         1      7             6        9     8    3  ...   \n1      248.0         1     12            10       12    14   12  ...   \n2      303.0         1     12            16       11    17   12  ...   \n3      468.0         1     22            18       21    21   26  ...   \n4      561.0         1     18            26       22    20   32  ...   \n...      ...       ...    ...           ...      ...   ...  ...  ...   \n43127  138.0        89      6            13        8     6   15  ...   \n43128   96.0        89      3             2        0     2    6  ...   \n43129  139.0        89      4             5        6     4    7  ...   \n43130  104.0        89      5             9        3     4   10  ...   \n43131   92.0        89      5             9        5     5   14  ...   \n\n       Disgust_pct  Sadness_pct  Surprise_pct  Positive_pct  Negative_pct  \\\n0         0.058442     0.058442      0.019481      0.129870      0.214286   \n1         0.048387     0.084677      0.004032      0.157258      0.237903   \n2         0.036304     0.049505      0.029703      0.165017      0.181518   \n3         0.044872     0.061966      0.025641      0.158120      0.198718   \n4         0.039216     0.032086      0.017825      0.172906      0.139037   \n...            ...          ...           ...           ...           ...   \n43127     0.057971     0.072464      0.036232      0.253623      0.217391   \n43128     0.000000     0.020833      0.041667      0.156250      0.072917   \n43129     0.043165     0.028777      0.028777      0.187050      0.129496   \n43130     0.028846     0.057692      0.067308      0.317308      0.173077   \n43131     0.054348     0.086957      0.043478      0.336957      0.250000   \n\n       Neutral_pct  Dominant_Emotion_pct  Dominant_Sentiment_pct  \\\n0         0.019481              0.071429                0.214286   \n1         0.004032              0.084677                0.237903   \n2         0.029703              0.072607                0.181518   \n3         0.025641              0.064103                0.198718   \n4         0.017825              0.069519                0.172906   \n...            ...                   ...                     ...   \n43127     0.036232              0.108696                0.253623   \n43128     0.041667              0.072917                0.156250   \n43129     0.028777              0.100719                0.187050   \n43130     0.067308              0.134615                0.317308   \n43131     0.043478              0.152174                0.336957   \n\n       Dominant_Emotion  Dominant_Sentment  \n0                 Trust           Negative  \n1               Sadness           Negative  \n2                 Trust           Negative  \n3                 Trust           Negative  \n4                 Trust           Positive  \n...                 ...                ...  \n43127               Joy           Positive  \n43128             Trust           Positive  \n43129             Trust           Positive  \n43130             Trust           Positive  \n43131               Joy           Positive  \n\n[43132 rows x 31 columns]",
      "text/html": "<div>\n<style scoped>\n    .dataframe tbody tr th:only-of-type {\n        vertical-align: middle;\n    }\n\n    .dataframe tbody tr th {\n        vertical-align: top;\n    }\n\n    .dataframe thead th {\n        text-align: right;\n    }\n</style>\n<table border=\"1\" class=\"dataframe\">\n  <thead>\n    <tr style=\"text-align: right;\">\n      <th></th>\n      <th>code</th>\n      <th>note</th>\n      <th>description</th>\n      <th>words</th>\n      <th>group_id</th>\n      <th>Anger</th>\n      <th>Anticipation</th>\n      <th>Disgust</th>\n      <th>Fear</th>\n      <th>Joy</th>\n      <th>...</th>\n      <th>Disgust_pct</th>\n      <th>Sadness_pct</th>\n      <th>Surprise_pct</th>\n      <th>Positive_pct</th>\n      <th>Negative_pct</th>\n      <th>Neutral_pct</th>\n      <th>Dominant_Emotion_pct</th>\n      <th>Dominant_Sentiment_pct</th>\n      <th>Dominant_Emotion</th>\n      <th>Dominant_Sentment</th>\n    </tr>\n  </thead>\n  <tbody>\n    <tr>\n      <th>0</th>\n      <td>1</td>\n      <td>1957</td>\n      <td>the one at the meadss house where its bigger i...</td>\n      <td>154.0</td>\n      <td>1</td>\n      <td>7</td>\n      <td>6</td>\n      <td>9</td>\n      <td>8</td>\n      <td>3</td>\n      <td>...</td>\n      <td>0.058442</td>\n      <td>0.058442</td>\n      <td>0.019481</td>\n      <td>0.129870</td>\n      <td>0.214286</td>\n      <td>0.019481</td>\n      <td>0.071429</td>\n      <td>0.214286</td>\n      <td>Trust</td>\n      <td>Negative</td>\n    </tr>\n    <tr>\n      <th>1</th>\n      <td>2</td>\n      <td>8/11/67</td>\n      <td>im at a family reunion in a large fine house w...</td>\n      <td>248.0</td>\n      <td>1</td>\n      <td>12</td>\n      <td>10</td>\n      <td>12</td>\n      <td>14</td>\n      <td>12</td>\n      <td>...</td>\n      <td>0.048387</td>\n      <td>0.084677</td>\n      <td>0.004032</td>\n      <td>0.157258</td>\n      <td>0.237903</td>\n      <td>0.004032</td>\n      <td>0.084677</td>\n      <td>0.237903</td>\n      <td>Sadness</td>\n      <td>Negative</td>\n    </tr>\n    <tr>\n      <th>2</th>\n      <td>3</td>\n      <td>8/1/85</td>\n      <td>i watch a plane fly past and shortly realize i...</td>\n      <td>303.0</td>\n      <td>1</td>\n      <td>12</td>\n      <td>16</td>\n      <td>11</td>\n      <td>17</td>\n      <td>12</td>\n      <td>...</td>\n      <td>0.036304</td>\n      <td>0.049505</td>\n      <td>0.029703</td>\n      <td>0.165017</td>\n      <td>0.181518</td>\n      <td>0.029703</td>\n      <td>0.072607</td>\n      <td>0.181518</td>\n      <td>Trust</td>\n      <td>Negative</td>\n    </tr>\n    <tr>\n      <th>3</th>\n      <td>4</td>\n      <td>1985?</td>\n      <td>me pulling the green leaves and berries off so...</td>\n      <td>468.0</td>\n      <td>1</td>\n      <td>22</td>\n      <td>18</td>\n      <td>21</td>\n      <td>21</td>\n      <td>26</td>\n      <td>...</td>\n      <td>0.044872</td>\n      <td>0.061966</td>\n      <td>0.025641</td>\n      <td>0.158120</td>\n      <td>0.198718</td>\n      <td>0.025641</td>\n      <td>0.064103</td>\n      <td>0.198718</td>\n      <td>Trust</td>\n      <td>Negative</td>\n    </tr>\n    <tr>\n      <th>4</th>\n      <td>5</td>\n      <td>1985?</td>\n      <td>im in a room that reminds me of but definitely...</td>\n      <td>561.0</td>\n      <td>1</td>\n      <td>18</td>\n      <td>26</td>\n      <td>22</td>\n      <td>20</td>\n      <td>32</td>\n      <td>...</td>\n      <td>0.039216</td>\n      <td>0.032086</td>\n      <td>0.017825</td>\n      <td>0.172906</td>\n      <td>0.139037</td>\n      <td>0.017825</td>\n      <td>0.069519</td>\n      <td>0.172906</td>\n      <td>Trust</td>\n      <td>Positive</td>\n    </tr>\n    <tr>\n      <th>...</th>\n      <td>...</td>\n      <td>...</td>\n      <td>...</td>\n      <td>...</td>\n      <td>...</td>\n      <td>...</td>\n      <td>...</td>\n      <td>...</td>\n      <td>...</td>\n      <td>...</td>\n      <td>...</td>\n      <td>...</td>\n      <td>...</td>\n      <td>...</td>\n      <td>...</td>\n      <td>...</td>\n      <td>...</td>\n      <td>...</td>\n      <td>...</td>\n      <td>...</td>\n      <td>...</td>\n    </tr>\n    <tr>\n      <th>43127</th>\n      <td>85</td>\n      <td>F, age 18</td>\n      <td>the dream was about me and my boyfriend going ...</td>\n      <td>138.0</td>\n      <td>89</td>\n      <td>6</td>\n      <td>13</td>\n      <td>8</td>\n      <td>6</td>\n      <td>15</td>\n      <td>...</td>\n      <td>0.057971</td>\n      <td>0.072464</td>\n      <td>0.036232</td>\n      <td>0.253623</td>\n      <td>0.217391</td>\n      <td>0.036232</td>\n      <td>0.108696</td>\n      <td>0.253623</td>\n      <td>Joy</td>\n      <td>Positive</td>\n    </tr>\n    <tr>\n      <th>43128</th>\n      <td>86</td>\n      <td>F, age 18</td>\n      <td>two weeks ago this guy asked me to senior ball...</td>\n      <td>96.0</td>\n      <td>89</td>\n      <td>3</td>\n      <td>2</td>\n      <td>0</td>\n      <td>2</td>\n      <td>6</td>\n      <td>...</td>\n      <td>0.000000</td>\n      <td>0.020833</td>\n      <td>0.041667</td>\n      <td>0.156250</td>\n      <td>0.072917</td>\n      <td>0.041667</td>\n      <td>0.072917</td>\n      <td>0.156250</td>\n      <td>Trust</td>\n      <td>Positive</td>\n    </tr>\n    <tr>\n      <th>43129</th>\n      <td>87</td>\n      <td>F, age 18</td>\n      <td>my boyfriend just broke up with me so he was o...</td>\n      <td>139.0</td>\n      <td>89</td>\n      <td>4</td>\n      <td>5</td>\n      <td>6</td>\n      <td>4</td>\n      <td>7</td>\n      <td>...</td>\n      <td>0.043165</td>\n      <td>0.028777</td>\n      <td>0.028777</td>\n      <td>0.187050</td>\n      <td>0.129496</td>\n      <td>0.028777</td>\n      <td>0.100719</td>\n      <td>0.187050</td>\n      <td>Trust</td>\n      <td>Positive</td>\n    </tr>\n    <tr>\n      <th>43130</th>\n      <td>88</td>\n      <td>F, age 18</td>\n      <td>i was in my backyard and i was flying i would ...</td>\n      <td>104.0</td>\n      <td>89</td>\n      <td>5</td>\n      <td>9</td>\n      <td>3</td>\n      <td>4</td>\n      <td>10</td>\n      <td>...</td>\n      <td>0.028846</td>\n      <td>0.057692</td>\n      <td>0.067308</td>\n      <td>0.317308</td>\n      <td>0.173077</td>\n      <td>0.067308</td>\n      <td>0.134615</td>\n      <td>0.317308</td>\n      <td>Trust</td>\n      <td>Positive</td>\n    </tr>\n    <tr>\n      <th>43131</th>\n      <td>89</td>\n      <td>F, age 18</td>\n      <td>i felt scared i was pregnant in my dream then ...</td>\n      <td>92.0</td>\n      <td>89</td>\n      <td>5</td>\n      <td>9</td>\n      <td>5</td>\n      <td>5</td>\n      <td>14</td>\n      <td>...</td>\n      <td>0.054348</td>\n      <td>0.086957</td>\n      <td>0.043478</td>\n      <td>0.336957</td>\n      <td>0.250000</td>\n      <td>0.043478</td>\n      <td>0.152174</td>\n      <td>0.336957</td>\n      <td>Joy</td>\n      <td>Positive</td>\n    </tr>\n  </tbody>\n</table>\n<p>43132 rows × 31 columns</p>\n</div>"
     },
     "metadata": {},
     "execution_count": 2
    }
   ],
   "source": [
    "#dreams_groups_intensity\n",
    "dreams_groups_intensity=pd.read_csv(f'{data_directory}/sa/out/dreams_groups_intensity.csv',delimiter=',')\n",
    "#dreams_groups_emotions\n",
    "#dreams_groups_intensity=pd.read_csv(f'{data_directory}/sa/out/dreams_groups_emotions.csv',delimiter=','')\n",
    "dreams_groups_intensity"
   ]
  },
  {
   "cell_type": "markdown",
   "metadata": {},
   "source": [
    "### Generamos los 3 set de datos con los que vamos a trabajar"
   ]
  },
  {
   "cell_type": "code",
   "execution_count": 3,
   "metadata": {},
   "outputs": [],
   "source": [
    "#group_list=[\n",
    "#\"Phil 1: Teens\",\n",
    "#\"Phil 2: late 20s\",\n",
    "#\"Phil 3: retirement\",\n",
    "#'Vietnam Vet: 1970-2008 war dreams',\n",
    "#'Vietnam Vet: 2015 dreams', \n",
    "#'Vietnam Vet: 2016-17 dreams']\n",
    "\n",
    "group_Phil=[71,72,73]\n",
    "group_Vet=[85,86,87]\n",
    "dreams_groups_intensity_phil=dreams_groups_intensity[dreams_groups_intensity[\"group_id\"].isin(group_Phil)]\n",
    "dreams_groups_intensity_vet=dreams_groups_intensity[dreams_groups_intensity[\"group_id\"].isin(group_Vet)]\n",
    "\n"
   ]
  },
  {
   "cell_type": "code",
   "execution_count": 4,
   "metadata": {},
   "outputs": [],
   "source": [
    "#dreams_groups_intensity_phil.to_csv(f'{data_directory}/sa/out/dreams_groups_intensity_phil.csv', index = False)\n",
    "#dreams_groups_intensity_vet.to_csv(f'{data_directory}/sa/out/dreams_groups_intensity_vet.csv', index = False)"
   ]
  },
  {
   "cell_type": "markdown",
   "metadata": {},
   "source": [
    "## dreams_groups_intensity"
   ]
  },
  {
   "cell_type": "markdown",
   "metadata": {},
   "source": [
    "## Análisis exploratorio: Todo el Corpus "
   ]
  },
  {
   "cell_type": "markdown",
   "metadata": {},
   "source": [
    "#### Cual es el sentimiento predominante en los sueños analisados de Phil y el médico de Vietnam?"
   ]
  },
  {
   "cell_type": "code",
   "execution_count": 7,
   "metadata": {},
   "outputs": [
    {
     "output_type": "execute_result",
     "data": {
      "text/plain": "Negative    24022\nPositive    19099\nNeutral        11\nName: Dominant_Sentment, dtype: int64"
     },
     "metadata": {},
     "execution_count": 7
    }
   ],
   "source": [
    "dreams_groups_intensity.iloc[:,-1].value_counts()"
   ]
  },
  {
   "cell_type": "code",
   "execution_count": 8,
   "metadata": {},
   "outputs": [],
   "source": [
    "dreams_negative=dreams_groups_intensity[dreams_groups_intensity.iloc[:,-1]==\"Negative\"]"
   ]
  },
  {
   "cell_type": "code",
   "execution_count": 9,
   "metadata": {},
   "outputs": [
    {
     "output_type": "execute_result",
     "data": {
      "text/plain": "'i had a dream that i was the unabomber and i was trying to blow up our school our school was in an assembly and i left the assembly to set off the bomb as i was going to the bomb a girl at my school offered me some of her chocolate chip cookie the ones we can buy at the cafeteria she then told me that one of the teachers at the school knew that i was the bomber i tried to get away so i went on another route but it was a dead end there was a wall with electrified barbed wire and signs that said beware of dog i the turned around and went the other way the teacher never caught me and i proceeded to light the bomb i took a match and i threw it at the bomb the match just laid on the ground and burned the bomb never went off because the match went out'"
     },
     "metadata": {},
     "execution_count": 9
    }
   ],
   "source": [
    "dreams_negative.iloc[-17,2]"
   ]
  },
  {
   "cell_type": "markdown",
   "metadata": {},
   "source": [
    "### Ranking de emociones"
   ]
  },
  {
   "cell_type": "code",
   "execution_count": 10,
   "metadata": {},
   "outputs": [
    {
     "output_type": "execute_result",
     "data": {
      "text/plain": "Trust           14208\nFear             9863\nJoy              6794\nSadness          4586\nAnger            3751\nAnticipation     2432\nDisgust          1441\nSurprise           57\nName: Dominant_Emotion, dtype: int64"
     },
     "metadata": {},
     "execution_count": 10
    }
   ],
   "source": [
    "dreams_groups_intensity.iloc[:,-2].value_counts()"
   ]
  },
  {
   "cell_type": "markdown",
   "metadata": {},
   "source": [
    "## Análisis exploratorio: Phil"
   ]
  },
  {
   "cell_type": "code",
   "execution_count": 13,
   "metadata": {},
   "outputs": [
    {
     "output_type": "execute_result",
     "data": {
      "text/plain": "Positive    264\nNegative    242\nName: Dominant_Sentment, dtype: int64"
     },
     "metadata": {},
     "execution_count": 13
    }
   ],
   "source": [
    "dreams_groups_intensity_phil.iloc[:,-1].value_counts()"
   ]
  },
  {
   "cell_type": "code",
   "execution_count": 14,
   "metadata": {},
   "outputs": [],
   "source": [
    "dreams_negative=dreams_groups_intensity_phil[dreams_groups_intensity_phil.iloc[:,-1]==\"Negative\"]"
   ]
  },
  {
   "cell_type": "markdown",
   "metadata": {},
   "source": [
    "### Ranking de emociones"
   ]
  },
  {
   "cell_type": "code",
   "execution_count": 15,
   "metadata": {},
   "outputs": [
    {
     "output_type": "execute_result",
     "data": {
      "text/plain": "Trust           214\nJoy              73\nAnger            61\nAnticipation     55\nFear             49\nSadness          43\nDisgust           9\nSurprise          2\nName: Dominant_Emotion, dtype: int64"
     },
     "metadata": {},
     "execution_count": 15
    }
   ],
   "source": [
    "dreams_groups_intensity_phil.iloc[:,-2].value_counts()"
   ]
  },
  {
   "cell_type": "markdown",
   "metadata": {},
   "source": [
    "## Análisis exploratorio: Vet"
   ]
  },
  {
   "cell_type": "code",
   "execution_count": 16,
   "metadata": {},
   "outputs": [
    {
     "output_type": "execute_result",
     "data": {
      "text/plain": "Negative    403\nPositive    190\nName: Dominant_Sentment, dtype: int64"
     },
     "metadata": {},
     "execution_count": 16
    }
   ],
   "source": [
    "dreams_groups_intensity_vet.iloc[:,-1].value_counts()"
   ]
  },
  {
   "cell_type": "code",
   "execution_count": 17,
   "metadata": {},
   "outputs": [],
   "source": [
    "dreams_negative=dreams_groups_intensity_vet[dreams_groups_intensity_vet.iloc[:,-1]==\"Negative\"]"
   ]
  },
  {
   "cell_type": "markdown",
   "metadata": {},
   "source": [
    "## Ranking de emociones"
   ]
  },
  {
   "cell_type": "code",
   "execution_count": 19,
   "metadata": {},
   "outputs": [
    {
     "output_type": "execute_result",
     "data": {
      "text/plain": "Fear            171\nTrust           159\nSadness          87\nJoy              87\nAnger            47\nAnticipation     28\nDisgust          14\nName: Dominant_Emotion, dtype: int64"
     },
     "metadata": {},
     "execution_count": 19
    }
   ],
   "source": [
    "dreams_groups_intensity_vet.iloc[:,-2].value_counts()"
   ]
  },
  {
   "cell_type": "code",
   "execution_count": null,
   "metadata": {},
   "outputs": [],
   "source": []
  },
  {
   "cell_type": "markdown",
   "metadata": {},
   "source": [
    "## Próximos pasos "
   ]
  },
  {
   "cell_type": "markdown",
   "metadata": {},
   "source": [
    "- El analisis esta hecho sobre Intentisy, podriamos probar con el otro grupo tambien (Emotion_Lexicon).\n",
    "- Análisis exploratorios mas copados\n",
    "- Hacer visualizaciones sobre los resultados y responder las preguntas planteadas"
   ]
  }
 ],
 "metadata": {
  "kernelspec": {
   "display_name": "Python 3",
   "language": "python",
   "name": "python3"
  },
  "language_info": {
   "codemirror_mode": {
    "name": "ipython",
    "version": 3
   },
   "file_extension": ".py",
   "mimetype": "text/x-python",
   "name": "python",
   "nbconvert_exporter": "python",
   "pygments_lexer": "ipython3",
   "version": "3.6.9-final"
  }
 },
 "nbformat": 4,
 "nbformat_minor": 2
}