{
  "nbformat": 4,
  "nbformat_minor": 0,
  "metadata": {
    "kernelspec": {
      "display_name": "Python 3",
      "language": "python",
      "name": "python3"
    },
    "language_info": {
      "codemirror_mode": {
        "name": "ipython",
        "version": 3
      },
      "file_extension": ".py",
      "mimetype": "text/x-python",
      "name": "python",
      "nbconvert_exporter": "python",
      "pygments_lexer": "ipython3",
      "version": "3.7.0"
    },
    "colab": {
      "name": "Text in Python.ipynb",
      "provenance": [],
      "collapsed_sections": [
        "7Fjk88gdwrrp",
        "G555Edqhwrrq",
        "8xlA1qD-wrru",
        "cOtBl8CKwrrw",
        "i3w7DDJvwrry",
        "Y_YwfQpqwrr2",
        "DzfzkzOGwrr7",
        "TlcStgslwrsA",
        "PAkpCTajwrsH",
        "q871gc_uwrsM",
        "F65Yqk4uwrsu",
        "e_UqVHmiwrsy",
        "qyOxgjKawrsz",
        "yMNs9g-Twrs1"
      ],
      "include_colab_link": true
    }
  },
  "cells": [
    {
      "cell_type": "markdown",
      "metadata": {
        "id": "view-in-github",
        "colab_type": "text"
      },
      "source": [
        "<a href=\"https://colab.research.google.com/github/juanknebel/text-mining-2020/blob/master/Text_in_Python.ipynb\" target=\"_parent\"><img src=\"https://colab.research.google.com/assets/colab-badge.svg\" alt=\"Open In Colab\"/></a>"
      ]
    },
    {
      "cell_type": "markdown",
      "metadata": {
        "id": "UCroo2Jzwro2",
        "colab_type": "text"
      },
      "source": [
        "# Introducción al NLP en python"
      ]
    },
    {
      "cell_type": "code",
      "metadata": {
        "id": "90dqzY0jwro3",
        "colab_type": "code",
        "colab": {}
      },
      "source": [
        "# shift + Enter para correr una celda de Jupyther Notebook\n",
        "string = \"No puedo decir que no estoy en desacuerdo contigo.\" # se puede usar 2 comillas (\") o 1 sola (')"
      ],
      "execution_count": 0,
      "outputs": []
    },
    {
      "cell_type": "code",
      "metadata": {
        "id": "wY99Ahb5wro7",
        "colab_type": "code",
        "colab": {
          "base_uri": "https://localhost:8080/",
          "height": 34
        },
        "outputId": "b62f631b-f556-41d6-b064-57ecca90f830"
      },
      "source": [
        "string"
      ],
      "execution_count": 2,
      "outputs": [
        {
          "output_type": "execute_result",
          "data": {
            "text/plain": [
              "'No puedo decir que no estoy en desacuerdo contigo.'"
            ]
          },
          "metadata": {
            "tags": []
          },
          "execution_count": 2
        }
      ]
    },
    {
      "cell_type": "code",
      "metadata": {
        "id": "zftiLvjbwro-",
        "colab_type": "code",
        "colab": {
          "base_uri": "https://localhost:8080/",
          "height": 34
        },
        "outputId": "47beb33f-ec8d-4b23-e59b-f501f19347a8"
      },
      "source": [
        "type(string)"
      ],
      "execution_count": 3,
      "outputs": [
        {
          "output_type": "execute_result",
          "data": {
            "text/plain": [
              "str"
            ]
          },
          "metadata": {
            "tags": []
          },
          "execution_count": 3
        }
      ]
    },
    {
      "cell_type": "code",
      "metadata": {
        "id": "NUojLq8e5aAg",
        "colab_type": "code",
        "colab": {
          "base_uri": "https://localhost:8080/",
          "height": 34
        },
        "outputId": "ccb14dba-3acb-48a5-d77d-ce3bc1fe3264"
      },
      "source": [
        "print(\"Prueba\")"
      ],
      "execution_count": 4,
      "outputs": [
        {
          "output_type": "stream",
          "text": [
            "Prueba\n"
          ],
          "name": "stdout"
        }
      ]
    },
    {
      "cell_type": "markdown",
      "metadata": {
        "id": "OZjPugtrwrpB",
        "colab_type": "text"
      },
      "source": [
        "### Selección de caracteres por índices"
      ]
    },
    {
      "cell_type": "code",
      "metadata": {
        "id": "ac-Ypf54wrpC",
        "colab_type": "code",
        "colab": {
          "base_uri": "https://localhost:8080/",
          "height": 34
        },
        "outputId": "089406d9-755b-4c5a-90df-cecf2cb03f13"
      },
      "source": [
        "string"
      ],
      "execution_count": 5,
      "outputs": [
        {
          "output_type": "execute_result",
          "data": {
            "text/plain": [
              "'No puedo decir que no estoy en desacuerdo contigo.'"
            ]
          },
          "metadata": {
            "tags": []
          },
          "execution_count": 5
        }
      ]
    },
    {
      "cell_type": "code",
      "metadata": {
        "id": "ivGqbQ4WwrpF",
        "colab_type": "code",
        "colab": {
          "base_uri": "https://localhost:8080/",
          "height": 34
        },
        "outputId": "475426d4-0bdf-4faf-fb5b-a64c28742970"
      },
      "source": [
        "# selecciono el primer caracter\n",
        "string[0]"
      ],
      "execution_count": 6,
      "outputs": [
        {
          "output_type": "execute_result",
          "data": {
            "text/plain": [
              "'N'"
            ]
          },
          "metadata": {
            "tags": []
          },
          "execution_count": 6
        }
      ]
    },
    {
      "cell_type": "code",
      "metadata": {
        "id": "F6HjeP5VwrpH",
        "colab_type": "code",
        "colab": {
          "base_uri": "https://localhost:8080/",
          "height": 34
        },
        "outputId": "ce8c6581-fc1a-433f-bcc5-0971ee99bc16"
      },
      "source": [
        "string[5]"
      ],
      "execution_count": 7,
      "outputs": [
        {
          "output_type": "execute_result",
          "data": {
            "text/plain": [
              "'e'"
            ]
          },
          "metadata": {
            "tags": []
          },
          "execution_count": 7
        }
      ]
    },
    {
      "cell_type": "code",
      "metadata": {
        "id": "n0NQOiOHwrpK",
        "colab_type": "code",
        "colab": {
          "base_uri": "https://localhost:8080/",
          "height": 34
        },
        "outputId": "1086fe35-48c4-4d79-a24f-ed61398be47b"
      },
      "source": [
        "# selecciono los primeros 5 caracteres\n",
        "string[:5]"
      ],
      "execution_count": 8,
      "outputs": [
        {
          "output_type": "execute_result",
          "data": {
            "text/plain": [
              "'No pu'"
            ]
          },
          "metadata": {
            "tags": []
          },
          "execution_count": 8
        }
      ]
    },
    {
      "cell_type": "code",
      "metadata": {
        "id": "CriB9lWEwrpM",
        "colab_type": "code",
        "colab": {
          "base_uri": "https://localhost:8080/",
          "height": 34
        },
        "outputId": "15108cb4-ac29-4b11-e26d-6c050ad9ad4b"
      },
      "source": [
        "# selecciono los últimos 5 caracteres\n",
        "string[-5:]"
      ],
      "execution_count": 9,
      "outputs": [
        {
          "output_type": "execute_result",
          "data": {
            "text/plain": [
              "'tigo.'"
            ]
          },
          "metadata": {
            "tags": []
          },
          "execution_count": 9
        }
      ]
    },
    {
      "cell_type": "code",
      "metadata": {
        "id": "0vcmEuyVwrpP",
        "colab_type": "code",
        "colab": {
          "base_uri": "https://localhost:8080/",
          "height": 34
        },
        "outputId": "326a67a2-76be-46df-d1cc-157a88516fcf"
      },
      "source": [
        "# selecciono los caracteres entre las posiciones 5 y 15 (el de \"index=5\" se incluye, el de \"index=15\" se excluye)\n",
        "string[5:15]"
      ],
      "execution_count": 10,
      "outputs": [
        {
          "output_type": "execute_result",
          "data": {
            "text/plain": [
              "'edo decir '"
            ]
          },
          "metadata": {
            "tags": []
          },
          "execution_count": 10
        }
      ]
    },
    {
      "cell_type": "code",
      "metadata": {
        "id": "9NFeRYjOwrpT",
        "colab_type": "code",
        "colab": {
          "base_uri": "https://localhost:8080/",
          "height": 34
        },
        "outputId": "1f83e634-fc28-4f2d-ec9c-74af0e9d5ce4"
      },
      "source": [
        "# selecciono los caracteres entre las posiciones 5 y 15 salteando de a 2\n",
        "string[5:15:2]"
      ],
      "execution_count": 11,
      "outputs": [
        {
          "output_type": "execute_result",
          "data": {
            "text/plain": [
              "'eodcr'"
            ]
          },
          "metadata": {
            "tags": []
          },
          "execution_count": 11
        }
      ]
    },
    {
      "cell_type": "markdown",
      "metadata": {
        "id": "qVjmCj6CwrpX",
        "colab_type": "text"
      },
      "source": [
        "### Operaciones sobre strings"
      ]
    },
    {
      "cell_type": "code",
      "metadata": {
        "id": "2kOET4x7wrpY",
        "colab_type": "code",
        "colab": {
          "base_uri": "https://localhost:8080/",
          "height": 34
        },
        "outputId": "aac99be2-df2b-41cc-b095-f4803c1f0e67"
      },
      "source": [
        "# len() devuelve el largo del string, es decir, cuantos caracteres hay\n",
        "len(string)"
      ],
      "execution_count": 12,
      "outputs": [
        {
          "output_type": "execute_result",
          "data": {
            "text/plain": [
              "50"
            ]
          },
          "metadata": {
            "tags": []
          },
          "execution_count": 12
        }
      ]
    },
    {
      "cell_type": "code",
      "metadata": {
        "id": "3z2aCV7ewrpa",
        "colab_type": "code",
        "colab": {
          "base_uri": "https://localhost:8080/",
          "height": 34
        },
        "outputId": "360cb31b-32bf-4a0b-8369-3e7086c522d3"
      },
      "source": [
        "# corrobora si esa secuencia esta en el string\n",
        "\"estoy\" in string"
      ],
      "execution_count": 13,
      "outputs": [
        {
          "output_type": "execute_result",
          "data": {
            "text/plain": [
              "True"
            ]
          },
          "metadata": {
            "tags": []
          },
          "execution_count": 13
        }
      ]
    },
    {
      "cell_type": "code",
      "metadata": {
        "id": "VQXbyMm4wrpc",
        "colab_type": "code",
        "colab": {}
      },
      "source": [
        "string2 = \"Nunca pertenecería a un club que admitiera como socio a 1 persona como yo.\"\n",
        "string3 = \"Fuera del perro, un libro es el mejor amigo del hombre. Dentro del perro está demasiado oscuro para leer.\""
      ],
      "execution_count": 0,
      "outputs": []
    },
    {
      "cell_type": "code",
      "metadata": {
        "id": "Zt8saJzowrpf",
        "colab_type": "code",
        "colab": {
          "base_uri": "https://localhost:8080/",
          "height": 54
        },
        "outputId": "3c81c2bc-ac92-41c5-8325-a7e571148d55"
      },
      "source": [
        "# el signo \"+\" concatena strings\n",
        "string + string2 + string3"
      ],
      "execution_count": 15,
      "outputs": [
        {
          "output_type": "execute_result",
          "data": {
            "text/plain": [
              "'No puedo decir que no estoy en desacuerdo contigo.Nunca pertenecería a un club que admitiera como socio a 1 persona como yo.Fuera del perro, un libro es el mejor amigo del hombre. Dentro del perro está demasiado oscuro para leer.'"
            ]
          },
          "metadata": {
            "tags": []
          },
          "execution_count": 15
        }
      ]
    },
    {
      "cell_type": "code",
      "metadata": {
        "id": "bUDVlo4lwrph",
        "colab_type": "code",
        "colab": {
          "base_uri": "https://localhost:8080/",
          "height": 54
        },
        "outputId": "df2b0251-11f1-4d84-db65-31ea179dd894"
      },
      "source": [
        "# agrego enters entre frases (el enter se representa con \"\\n\" )\n",
        "string + \"\\n\" + string2 + \"\\n\" + string3"
      ],
      "execution_count": 16,
      "outputs": [
        {
          "output_type": "execute_result",
          "data": {
            "text/plain": [
              "'No puedo decir que no estoy en desacuerdo contigo.\\nNunca pertenecería a un club que admitiera como socio a 1 persona como yo.\\nFuera del perro, un libro es el mejor amigo del hombre. Dentro del perro está demasiado oscuro para leer.'"
            ]
          },
          "metadata": {
            "tags": []
          },
          "execution_count": 16
        }
      ]
    },
    {
      "cell_type": "code",
      "metadata": {
        "id": "IDMAoTy5wrpj",
        "colab_type": "code",
        "colab": {
          "base_uri": "https://localhost:8080/",
          "height": 88
        },
        "outputId": "7cc703a6-6920-4240-f5fe-4a18b7c137b3"
      },
      "source": [
        "print(string + \"\\n\" + string2 + \"\\n\" + string3)"
      ],
      "execution_count": 17,
      "outputs": [
        {
          "output_type": "stream",
          "text": [
            "No puedo decir que no estoy en desacuerdo contigo.\n",
            "Nunca pertenecería a un club que admitiera como socio a 1 persona como yo.\n",
            "Fuera del perro, un libro es el mejor amigo del hombre. Dentro del perro está demasiado oscuro para leer.\n"
          ],
          "name": "stdout"
        }
      ]
    },
    {
      "cell_type": "code",
      "metadata": {
        "id": "AFoMeGFvwrpm",
        "colab_type": "code",
        "colab": {
          "base_uri": "https://localhost:8080/",
          "height": 34
        },
        "outputId": "11b91da8-b53d-4154-9b32-f1660502e077"
      },
      "source": [
        "string_a = \"esta peli la vi \"\n",
        "n = 100\n",
        "string_b = \" veces\"\n",
        "string_a + str(n) + string_b # no funciona porque 'n' no es un string"
      ],
      "execution_count": 20,
      "outputs": [
        {
          "output_type": "execute_result",
          "data": {
            "text/plain": [
              "'esta peli la vi 100 veces'"
            ]
          },
          "metadata": {
            "tags": []
          },
          "execution_count": 20
        }
      ]
    },
    {
      "cell_type": "code",
      "metadata": {
        "id": "IS9tCH1awrpo",
        "colab_type": "code",
        "colab": {
          "base_uri": "https://localhost:8080/",
          "height": 34
        },
        "outputId": "748f8aa4-b9f0-41ad-c09e-543b7179004a"
      },
      "source": [
        "string_a + str(n) + string_b  ## Ahora si funciona"
      ],
      "execution_count": 21,
      "outputs": [
        {
          "output_type": "execute_result",
          "data": {
            "text/plain": [
              "'esta peli la vi 100 veces'"
            ]
          },
          "metadata": {
            "tags": []
          },
          "execution_count": 21
        }
      ]
    },
    {
      "cell_type": "code",
      "metadata": {
        "id": "cuquNLGowrpr",
        "colab_type": "code",
        "colab": {
          "base_uri": "https://localhost:8080/",
          "height": 34
        },
        "outputId": "df39df20-57fd-410a-bd65-80020ab88e41"
      },
      "source": [
        "# concatena la secuencia tres veces\n",
        "\"peli\" * 3"
      ],
      "execution_count": 22,
      "outputs": [
        {
          "output_type": "execute_result",
          "data": {
            "text/plain": [
              "'pelipelipeli'"
            ]
          },
          "metadata": {
            "tags": []
          },
          "execution_count": 22
        }
      ]
    },
    {
      "cell_type": "code",
      "metadata": {
        "id": "MBnZljhrwrpv",
        "colab_type": "code",
        "colab": {
          "base_uri": "https://localhost:8080/",
          "height": 85
        },
        "outputId": "5257f68e-de98-4f7d-c5d6-b6dc9f55f618"
      },
      "source": [
        "print((\"nana \"*8+\"BATMAN\\n\")*3)"
      ],
      "execution_count": 23,
      "outputs": [
        {
          "output_type": "stream",
          "text": [
            "nana nana nana nana nana nana nana nana BATMAN\n",
            "nana nana nana nana nana nana nana nana BATMAN\n",
            "nana nana nana nana nana nana nana nana BATMAN\n",
            "\n"
          ],
          "name": "stdout"
        }
      ]
    },
    {
      "cell_type": "markdown",
      "metadata": {
        "id": "kMEUQY3Nwrp6",
        "colab_type": "text"
      },
      "source": [
        "### Métodos"
      ]
    },
    {
      "cell_type": "code",
      "metadata": {
        "id": "7d3iTwZMwrp6",
        "colab_type": "code",
        "colab": {
          "base_uri": "https://localhost:8080/",
          "height": 34
        },
        "outputId": "280b7e57-7a5c-4991-a899-ce5b610edc41"
      },
      "source": [
        "string"
      ],
      "execution_count": 24,
      "outputs": [
        {
          "output_type": "execute_result",
          "data": {
            "text/plain": [
              "'No puedo decir que no estoy en desacuerdo contigo.'"
            ]
          },
          "metadata": {
            "tags": []
          },
          "execution_count": 24
        }
      ]
    },
    {
      "cell_type": "code",
      "metadata": {
        "id": "fuiJwwb7wrp-",
        "colab_type": "code",
        "colab": {
          "base_uri": "https://localhost:8080/",
          "height": 34
        },
        "outputId": "3aa81dee-9da5-46ad-8226-cc400e1ab0c0"
      },
      "source": [
        "# cuenta substrings\n",
        "string.count(\"de\")"
      ],
      "execution_count": 25,
      "outputs": [
        {
          "output_type": "execute_result",
          "data": {
            "text/plain": [
              "2"
            ]
          },
          "metadata": {
            "tags": []
          },
          "execution_count": 25
        }
      ]
    },
    {
      "cell_type": "code",
      "metadata": {
        "id": "RGAf-jj6wrqB",
        "colab_type": "code",
        "colab": {
          "base_uri": "https://localhost:8080/",
          "height": 34
        },
        "outputId": "d7f791f4-056d-41c4-c8ca-7b45ff88882c"
      },
      "source": [
        "# Devuelve el menor indice donde aparece el substring (devuleve -1 si el substring no aparece)\n",
        "string.find(\"de\")"
      ],
      "execution_count": 26,
      "outputs": [
        {
          "output_type": "execute_result",
          "data": {
            "text/plain": [
              "9"
            ]
          },
          "metadata": {
            "tags": []
          },
          "execution_count": 26
        }
      ]
    },
    {
      "cell_type": "code",
      "metadata": {
        "id": "e3iXRqOQwrqD",
        "colab_type": "code",
        "colab": {
          "base_uri": "https://localhost:8080/",
          "height": 34
        },
        "outputId": "bfec2a56-c3aa-49ff-d51e-c9fd179dd4f5"
      },
      "source": [
        "string[9:(9+2)]"
      ],
      "execution_count": 27,
      "outputs": [
        {
          "output_type": "execute_result",
          "data": {
            "text/plain": [
              "'de'"
            ]
          },
          "metadata": {
            "tags": []
          },
          "execution_count": 27
        }
      ]
    },
    {
      "cell_type": "code",
      "metadata": {
        "id": "re0DxVrcwrqF",
        "colab_type": "code",
        "colab": {
          "base_uri": "https://localhost:8080/",
          "height": 34
        },
        "outputId": "f885068e-2585-41e0-d360-bb97e7b4d228"
      },
      "source": [
        "# Devuelve el MAYOR indice donde aparece el substring (devuleve -1 si el substring no aparece)\n",
        "string.rfind(\"de\")"
      ],
      "execution_count": 28,
      "outputs": [
        {
          "output_type": "execute_result",
          "data": {
            "text/plain": [
              "31"
            ]
          },
          "metadata": {
            "tags": []
          },
          "execution_count": 28
        }
      ]
    },
    {
      "cell_type": "code",
      "metadata": {
        "id": "fd2DUcIVwrqH",
        "colab_type": "code",
        "colab": {
          "base_uri": "https://localhost:8080/",
          "height": 34
        },
        "outputId": "de324fa9-c4a5-416a-d07c-973f9885199c"
      },
      "source": [
        "# Devuelve el string en minúscula\n",
        "string.lower()"
      ],
      "execution_count": 29,
      "outputs": [
        {
          "output_type": "execute_result",
          "data": {
            "text/plain": [
              "'no puedo decir que no estoy en desacuerdo contigo.'"
            ]
          },
          "metadata": {
            "tags": []
          },
          "execution_count": 29
        }
      ]
    },
    {
      "cell_type": "code",
      "metadata": {
        "id": "1tY2e_xPwrqJ",
        "colab_type": "code",
        "colab": {
          "base_uri": "https://localhost:8080/",
          "height": 34
        },
        "outputId": "97bce0ed-d060-4446-cae6-a21ca624ece0"
      },
      "source": [
        "# Devuelve el string en MAYUSCULA\n",
        "string.upper()"
      ],
      "execution_count": 30,
      "outputs": [
        {
          "output_type": "execute_result",
          "data": {
            "text/plain": [
              "'NO PUEDO DECIR QUE NO ESTOY EN DESACUERDO CONTIGO.'"
            ]
          },
          "metadata": {
            "tags": []
          },
          "execution_count": 30
        }
      ]
    },
    {
      "cell_type": "code",
      "metadata": {
        "colab_type": "code",
        "id": "3hAovVqVN_nE",
        "colab": {
          "base_uri": "https://localhost:8080/",
          "height": 34
        },
        "outputId": "e91cc0a9-6e9a-4c10-b1b8-e140dab46af6"
      },
      "source": [
        "string"
      ],
      "execution_count": 31,
      "outputs": [
        {
          "output_type": "execute_result",
          "data": {
            "text/plain": [
              "'No puedo decir que no estoy en desacuerdo contigo.'"
            ]
          },
          "metadata": {
            "tags": []
          },
          "execution_count": 31
        }
      ]
    },
    {
      "cell_type": "code",
      "metadata": {
        "id": "-RIn8ycHwrqQ",
        "colab_type": "code",
        "colab": {
          "base_uri": "https://localhost:8080/",
          "height": 34
        },
        "outputId": "497b5df9-5e4e-4407-accb-914a7a055e6a"
      },
      "source": [
        "# devuelve True si es string es únicamente alfabetico\n",
        "string.isalpha()"
      ],
      "execution_count": 32,
      "outputs": [
        {
          "output_type": "execute_result",
          "data": {
            "text/plain": [
              "False"
            ]
          },
          "metadata": {
            "tags": []
          },
          "execution_count": 32
        }
      ]
    },
    {
      "cell_type": "code",
      "metadata": {
        "id": "rYIYm1JawrqS",
        "colab_type": "code",
        "colab": {
          "base_uri": "https://localhost:8080/",
          "height": 34
        },
        "outputId": "9f2417de-5750-48d1-c429-5083bc6a09a5"
      },
      "source": [
        "# Que va a dar esto?\n",
        "print(\"El10\".isalpha())"
      ],
      "execution_count": 33,
      "outputs": [
        {
          "output_type": "stream",
          "text": [
            "False\n"
          ],
          "name": "stdout"
        }
      ]
    },
    {
      "cell_type": "code",
      "metadata": {
        "id": "pX57muORwrqW",
        "colab_type": "code",
        "colab": {
          "base_uri": "https://localhost:8080/",
          "height": 34
        },
        "outputId": "07953031-0083-46ba-a631-0c9e1c38840e"
      },
      "source": [
        "print(\"El10\".isalnum())"
      ],
      "execution_count": 34,
      "outputs": [
        {
          "output_type": "stream",
          "text": [
            "True\n"
          ],
          "name": "stdout"
        }
      ]
    },
    {
      "cell_type": "code",
      "metadata": {
        "id": "BLMJq9jOwrqY",
        "colab_type": "code",
        "colab": {
          "base_uri": "https://localhost:8080/",
          "height": 34
        },
        "outputId": "ea1925aa-b32b-462e-e68a-c8f4657f63a8"
      },
      "source": [
        "print(\"El 10\".isalnum())"
      ],
      "execution_count": 35,
      "outputs": [
        {
          "output_type": "stream",
          "text": [
            "False\n"
          ],
          "name": "stdout"
        }
      ]
    },
    {
      "cell_type": "code",
      "metadata": {
        "id": "sUkQ92aIwrqa",
        "colab_type": "code",
        "colab": {
          "base_uri": "https://localhost:8080/",
          "height": 34
        },
        "outputId": "4f4d021b-e4a0-4879-c090-d29ac6eef150"
      },
      "source": [
        "# .strip() remueve los caracteres \"no deseados\" iniciales y finales. \n",
        "texto = \"\\n\\n\\n no puedo decir que...        \"\n",
        "texto.strip() # Si no se especifica los \"no deseados\" son los espacios en blanco "
      ],
      "execution_count": 36,
      "outputs": [
        {
          "output_type": "execute_result",
          "data": {
            "text/plain": [
              "'no puedo decir que...'"
            ]
          },
          "metadata": {
            "tags": []
          },
          "execution_count": 36
        }
      ]
    },
    {
      "cell_type": "code",
      "metadata": {
        "id": "b7f0T5g7wrqe",
        "colab_type": "code",
        "colab": {
          "base_uri": "https://localhost:8080/",
          "height": 34
        },
        "outputId": "37139d54-a5e9-4c62-f93f-1e6c4c9103d5"
      },
      "source": [
        "texto.strip(\"\\n. \") # se pueden especificar los \"no deseados\""
      ],
      "execution_count": 37,
      "outputs": [
        {
          "output_type": "execute_result",
          "data": {
            "text/plain": [
              "'no puedo decir que'"
            ]
          },
          "metadata": {
            "tags": []
          },
          "execution_count": 37
        }
      ]
    },
    {
      "cell_type": "code",
      "metadata": {
        "id": "kPZevPkgwrqg",
        "colab_type": "code",
        "colab": {
          "base_uri": "https://localhost:8080/",
          "height": 34
        },
        "outputId": "c08af222-a2fe-4b13-f7f8-a309958b9f32"
      },
      "source": [
        "# devuelve un string con un substring reemplazado por otro  \n",
        "string.replace(\"no\",\"SI\") # string.replace('old', 'new')"
      ],
      "execution_count": 38,
      "outputs": [
        {
          "output_type": "execute_result",
          "data": {
            "text/plain": [
              "'No puedo decir que SI estoy en desacuerdo contigo.'"
            ]
          },
          "metadata": {
            "tags": []
          },
          "execution_count": 38
        }
      ]
    },
    {
      "cell_type": "code",
      "metadata": {
        "id": "IhyqLl0cwrqj",
        "colab_type": "code",
        "colab": {
          "base_uri": "https://localhost:8080/",
          "height": 34
        },
        "outputId": "93c92bc2-095f-4c34-f2b4-2cd20f2f4b56"
      },
      "source": [
        "string.replace(\"o\",\"\") # remueve todas las \"o\""
      ],
      "execution_count": 39,
      "outputs": [
        {
          "output_type": "execute_result",
          "data": {
            "text/plain": [
              "'N pued decir que n esty en desacuerd cntig.'"
            ]
          },
          "metadata": {
            "tags": []
          },
          "execution_count": 39
        }
      ]
    },
    {
      "cell_type": "code",
      "metadata": {
        "id": "vwvzdPovwrql",
        "colab_type": "code",
        "colab": {
          "base_uri": "https://localhost:8080/",
          "height": 34
        },
        "outputId": "76bacb50-548f-480f-d007-2a7f752a77eb"
      },
      "source": [
        "lista_de_frases = [\"Frases Marxistas:\",string,string2,string3] # armo una lista\n",
        "type(lista_de_frases)"
      ],
      "execution_count": 40,
      "outputs": [
        {
          "output_type": "execute_result",
          "data": {
            "text/plain": [
              "list"
            ]
          },
          "metadata": {
            "tags": []
          },
          "execution_count": 40
        }
      ]
    },
    {
      "cell_type": "code",
      "metadata": {
        "id": "EpS4EwAvdwqk",
        "colab_type": "code",
        "colab": {
          "base_uri": "https://localhost:8080/",
          "height": 105
        },
        "outputId": "d2729feb-c8df-4fc5-dc73-14b801dfa47c"
      },
      "source": [
        "lista_de_frases"
      ],
      "execution_count": 44,
      "outputs": [
        {
          "output_type": "execute_result",
          "data": {
            "text/plain": [
              "['Frases Marxistas:',\n",
              " 'No puedo decir que no estoy en desacuerdo contigo.',\n",
              " 'Nunca pertenecería a un club que admitiera como socio a 1 persona como yo.',\n",
              " 'Fuera del perro, un libro es el mejor amigo del hombre. Dentro del perro está demasiado oscuro para leer.']"
            ]
          },
          "metadata": {
            "tags": []
          },
          "execution_count": 44
        }
      ]
    },
    {
      "cell_type": "code",
      "metadata": {
        "id": "J38mzuTqd1pw",
        "colab_type": "code",
        "colab": {
          "base_uri": "https://localhost:8080/",
          "height": 34
        },
        "outputId": "abc17f73-391c-4ce5-9130-c2c488e9672c"
      },
      "source": [
        "lista_de_frases[1] # accedo al elemento 1 de la lista"
      ],
      "execution_count": 45,
      "outputs": [
        {
          "output_type": "execute_result",
          "data": {
            "text/plain": [
              "'No puedo decir que no estoy en desacuerdo contigo.'"
            ]
          },
          "metadata": {
            "tags": []
          },
          "execution_count": 45
        }
      ]
    },
    {
      "cell_type": "code",
      "metadata": {
        "id": "gwZV5jR2wrqn",
        "colab_type": "code",
        "colab": {
          "base_uri": "https://localhost:8080/",
          "height": 54
        },
        "outputId": "7fdd04d4-48fd-4eb7-842d-d6d00cabce49"
      },
      "source": [
        "frases_marxistas = \"\\n\\t- \".join(lista_de_frases) # concatenacion de una lista de strings\n",
        "frases_marxistas "
      ],
      "execution_count": 46,
      "outputs": [
        {
          "output_type": "execute_result",
          "data": {
            "text/plain": [
              "'Frases Marxistas:\\n\\t- No puedo decir que no estoy en desacuerdo contigo.\\n\\t- Nunca pertenecería a un club que admitiera como socio a 1 persona como yo.\\n\\t- Fuera del perro, un libro es el mejor amigo del hombre. Dentro del perro está demasiado oscuro para leer.'"
            ]
          },
          "metadata": {
            "tags": []
          },
          "execution_count": 46
        }
      ]
    },
    {
      "cell_type": "code",
      "metadata": {
        "id": "3zWKg2z0wrqp",
        "colab_type": "code",
        "colab": {
          "base_uri": "https://localhost:8080/",
          "height": 105
        },
        "outputId": "ace13947-3056-4ac4-df95-e7f31157c5d8"
      },
      "source": [
        "print(frases_marxistas)"
      ],
      "execution_count": 47,
      "outputs": [
        {
          "output_type": "stream",
          "text": [
            "Frases Marxistas:\n",
            "\t- No puedo decir que no estoy en desacuerdo contigo.\n",
            "\t- Nunca pertenecería a un club que admitiera como socio a 1 persona como yo.\n",
            "\t- Fuera del perro, un libro es el mejor amigo del hombre. Dentro del perro está demasiado oscuro para leer.\n"
          ],
          "name": "stdout"
        }
      ]
    },
    {
      "cell_type": "code",
      "metadata": {
        "id": "Fsi9Uwb_wrqt",
        "colab_type": "code",
        "colab": {
          "base_uri": "https://localhost:8080/",
          "height": 105
        },
        "outputId": "bc6b7457-42e6-4be4-c19c-e676d224752f"
      },
      "source": [
        "frases_marxistas.split(\"\\n\\t- \") # Lo opuesto de .join()  (devuelve una lista de strings)"
      ],
      "execution_count": 48,
      "outputs": [
        {
          "output_type": "execute_result",
          "data": {
            "text/plain": [
              "['Frases Marxistas:',\n",
              " 'No puedo decir que no estoy en desacuerdo contigo.',\n",
              " 'Nunca pertenecería a un club que admitiera como socio a 1 persona como yo.',\n",
              " 'Fuera del perro, un libro es el mejor amigo del hombre. Dentro del perro está demasiado oscuro para leer.']"
            ]
          },
          "metadata": {
            "tags": []
          },
          "execution_count": 48
        }
      ]
    },
    {
      "cell_type": "markdown",
      "metadata": {
        "id": "7zcrrWnswrqw",
        "colab_type": "text"
      },
      "source": [
        "#### para mas métodos ver:  https://docs.python.org/3/library/stdtypes.html#string-methods"
      ]
    },
    {
      "cell_type": "markdown",
      "metadata": {
        "id": "iMkwF9FETyec",
        "colab_type": "text"
      },
      "source": [
        "# Expresiones Regulares\n",
        "### Identificación de patrones\n",
        "#####  \".\" : Matchea cualquier caracter excepto '\\n'\n",
        "#####  \"^\" y  \"$\": Matchean el comienzo y el final de un string\n",
        "##### \"[]\": Matchea el set de caracteres que se encuentren dentro de los corchetes (r\"l[ao]s\" machea \"las\" y \"los\")\n",
        "##### \\d: Matchea digitos; equivalente a [0-9].\n",
        "##### \\D: Matchea caracteres que NO sean digitos; equivalente a [^0-9].\n",
        "##### \\s: Matchea espacios en blanco; equivalente a [ \\t\\n\\r\\f\\v].\n",
        "##### \\S: Matchea espacios que NO esten en blanco; equivalente a [^ \\t\\n\\r\\f\\v].\n",
        "##### \\w: Matchea caracteres alfanuméricos; equivalente a [a-zA-Z0-9_].\n",
        "##### \\W: Matchea caracteres que NO sean alfanuméricos; equivalente a[^a-zA-Z0-9_].\n",
        "##### a|b: Matchea \"a\" o \"b\"\n",
        "##### Repeticiones:\n",
        "##### \"+\": Matchea 1 o mas ocurrencias\n",
        "##### \"*\": Matchea 0 o mas ocurrencias\n",
        "##### \"?\": Matchea 0 o 1 ocurrencia\n",
        "##### \"{n, m}\": Matchea entre n y m ocurrencias\n",
        "##### \"\\\\\": Permite matchear caracteres especiales\n",
        "##### para más info ver: https://docs.python.org/3.1/library/re.html#re-syntax"
      ]
    },
    {
      "cell_type": "code",
      "metadata": {
        "id": "ab1mrdcVwrrA",
        "colab_type": "code",
        "colab": {}
      },
      "source": [
        "import re # Librería para trabajar con expresiones regulares\n",
        "import pandas as pd # Librería para trabajar con DataFrames"
      ],
      "execution_count": 0,
      "outputs": []
    },
    {
      "cell_type": "code",
      "metadata": {
        "id": "IxKkd__WwrrD",
        "colab_type": "code",
        "colab": {}
      },
      "source": [
        "texto = \"\"\"(Jefe de los Minisupers) 14'49'' Podéis hacerme tres preguntas.\n",
        "(Apu) 14'58'' Qué bueno, porque sólo necesito una.\n",
        "(Homer) 15'05'' ¿Usted es el Jefe de los Minisupers?\n",
        "(Jefe de los Minisupers) 15'13'' Así es.\n",
        "(Homer) 15'22'' ¿Usted?\n",
        "(Jefe de los Minisupers) 15'38'' Así es.\n",
        "(Homer) 15'41'' ¿Está seguro?\n",
        "(Jefe de los Minisupers) 16' Sí. Espero que los haya iluminado.\n",
        "(Apu) 16'11'' Pero tengo que...\n",
        "(Jefe de los Minisupers) 16'2'' Gracias. Vuelva pronto.\n",
        "(Apu) 16'29'' Pero.\n",
        "(Jefe de los Minisupers) 16'33'' Graciaaaaas. Vuelva pronto.\"\"\""
      ],
      "execution_count": 0,
      "outputs": []
    },
    {
      "cell_type": "code",
      "metadata": {
        "id": "kEZ-8_Q9wrrF",
        "colab_type": "code",
        "colab": {
          "base_uri": "https://localhost:8080/",
          "height": 221
        },
        "outputId": "ae46a082-a729-47b5-d24a-5a000610aa98"
      },
      "source": [
        "print(texto)"
      ],
      "execution_count": 51,
      "outputs": [
        {
          "output_type": "stream",
          "text": [
            "(Jefe de los Minisupers) 14'49'' Podéis hacerme tres preguntas.\n",
            "(Apu) 14'58'' Qué bueno, porque sólo necesito una.\n",
            "(Homer) 15'05'' ¿Usted es el Jefe de los Minisupers?\n",
            "(Jefe de los Minisupers) 15'13'' Así es.\n",
            "(Homer) 15'22'' ¿Usted?\n",
            "(Jefe de los Minisupers) 15'38'' Así es.\n",
            "(Homer) 15'41'' ¿Está seguro?\n",
            "(Jefe de los Minisupers) 16' Sí. Espero que los haya iluminado.\n",
            "(Apu) 16'11'' Pero tengo que...\n",
            "(Jefe de los Minisupers) 16'2'' Gracias. Vuelva pronto.\n",
            "(Apu) 16'29'' Pero.\n",
            "(Jefe de los Minisupers) 16'33'' Graciaaaaas. Vuelva pronto.\n"
          ],
          "name": "stdout"
        }
      ]
    },
    {
      "cell_type": "code",
      "metadata": {
        "id": "U5hB4eSOwrrG",
        "colab_type": "code",
        "colab": {
          "base_uri": "https://localhost:8080/",
          "height": 34
        },
        "outputId": "396f7f08-b4e6-435d-de94-79091e15f0c3"
      },
      "source": [
        "# re.search() busca el patron de la expresion regular y devuelve un objeto si lo encuentra\n",
        "match = re.search(r\"Gracias. Vuelva pronto\", texto)\n",
        "match"
      ],
      "execution_count": 52,
      "outputs": [
        {
          "output_type": "execute_result",
          "data": {
            "text/plain": [
              "<_sre.SRE_Match object; span=(432, 454), match='Gracias. Vuelva pronto'>"
            ]
          },
          "metadata": {
            "tags": []
          },
          "execution_count": 52
        }
      ]
    },
    {
      "cell_type": "code",
      "metadata": {
        "id": "3NunFZQ2wrrJ",
        "colab_type": "code",
        "colab": {
          "base_uri": "https://localhost:8080/",
          "height": 51
        },
        "outputId": "60a55012-b31c-4ba3-b3ef-a60fc60d423d"
      },
      "source": [
        "# el \"if\" testea si re.search() encontró el patrón; \n",
        "# match.group() devuelve el primer matcheo \n",
        "# match.span() el rango de sus indices\n",
        "if match:\n",
        "    print(\"El primer matcheo es:\",match.group())\n",
        "    print(\"El rango de los indices es:\",match.span())\n",
        "else: \n",
        "    print(\"El patron NO esta en el texto\")"
      ],
      "execution_count": 53,
      "outputs": [
        {
          "output_type": "stream",
          "text": [
            "El primer matcheo es: Gracias. Vuelva pronto\n",
            "El rango de los indices es: (432, 454)\n"
          ],
          "name": "stdout"
        }
      ]
    },
    {
      "cell_type": "code",
      "metadata": {
        "id": "ZiuhW_XNwrrL",
        "colab_type": "code",
        "colab": {
          "base_uri": "https://localhost:8080/",
          "height": 34
        },
        "outputId": "528c5ffa-4c84-42ff-aa22-803aa463a788"
      },
      "source": [
        "# re.findall() devuelve todos los matcheos\n",
        "re.findall(r\"Gracia+s\\. Vuelva pronto\", texto)"
      ],
      "execution_count": 56,
      "outputs": [
        {
          "output_type": "execute_result",
          "data": {
            "text/plain": [
              "['Gracias. Vuelva pronto', 'Graciaaaaas. Vuelva pronto']"
            ]
          },
          "metadata": {
            "tags": []
          },
          "execution_count": 56
        }
      ]
    },
    {
      "cell_type": "code",
      "metadata": {
        "id": "Gqg8vHIvwrrP",
        "colab_type": "code",
        "colab": {
          "base_uri": "https://localhost:8080/",
          "height": 187
        },
        "outputId": "20007baa-800b-47a8-ae39-6e3e0dcee882"
      },
      "source": [
        "# re.findall() devuelve todos los matcheos\n",
        "re.findall(r\"\\d\\d'\\d\\d''\", texto)"
      ],
      "execution_count": 57,
      "outputs": [
        {
          "output_type": "execute_result",
          "data": {
            "text/plain": [
              "[\"14'49''\",\n",
              " \"14'58''\",\n",
              " \"15'05''\",\n",
              " \"15'13''\",\n",
              " \"15'22''\",\n",
              " \"15'38''\",\n",
              " \"15'41''\",\n",
              " \"16'11''\",\n",
              " \"16'29''\",\n",
              " \"16'33''\"]"
            ]
          },
          "metadata": {
            "tags": []
          },
          "execution_count": 57
        }
      ]
    },
    {
      "cell_type": "code",
      "metadata": {
        "id": "tXtBg2ZpwrrS",
        "colab_type": "code",
        "colab": {
          "base_uri": "https://localhost:8080/",
          "height": 221
        },
        "outputId": "58d78139-512e-46c0-833b-c271bbe838cc"
      },
      "source": [
        "# re.findall() devuelve todos los matcheos\n",
        "re.findall(r\"\\d\\d'\\d{0,2}'{0,2}\", texto)"
      ],
      "execution_count": 58,
      "outputs": [
        {
          "output_type": "execute_result",
          "data": {
            "text/plain": [
              "[\"14'49''\",\n",
              " \"14'58''\",\n",
              " \"15'05''\",\n",
              " \"15'13''\",\n",
              " \"15'22''\",\n",
              " \"15'38''\",\n",
              " \"15'41''\",\n",
              " \"16'\",\n",
              " \"16'11''\",\n",
              " \"16'2''\",\n",
              " \"16'29''\",\n",
              " \"16'33''\"]"
            ]
          },
          "metadata": {
            "tags": []
          },
          "execution_count": 58
        }
      ]
    },
    {
      "cell_type": "code",
      "metadata": {
        "id": "LQbQwB1JwrrT",
        "colab_type": "code",
        "colab": {
          "base_uri": "https://localhost:8080/",
          "height": 221
        },
        "outputId": "24d5064e-b1f1-46a2-92b9-270847e2b05c"
      },
      "source": [
        "re.findall(r\"\\(.*\\)\", texto)"
      ],
      "execution_count": 59,
      "outputs": [
        {
          "output_type": "execute_result",
          "data": {
            "text/plain": [
              "['(Jefe de los Minisupers)',\n",
              " '(Apu)',\n",
              " '(Homer)',\n",
              " '(Jefe de los Minisupers)',\n",
              " '(Homer)',\n",
              " '(Jefe de los Minisupers)',\n",
              " '(Homer)',\n",
              " '(Jefe de los Minisupers)',\n",
              " '(Apu)',\n",
              " '(Jefe de los Minisupers)',\n",
              " '(Apu)',\n",
              " '(Jefe de los Minisupers)']"
            ]
          },
          "metadata": {
            "tags": []
          },
          "execution_count": 59
        }
      ]
    },
    {
      "cell_type": "markdown",
      "metadata": {
        "id": "TYJUQb8Fwrrc",
        "colab_type": "text"
      },
      "source": [
        "### Grupos"
      ]
    },
    {
      "cell_type": "code",
      "metadata": {
        "id": "SA-ub8wywrrc",
        "colab_type": "code",
        "colab": {
          "base_uri": "https://localhost:8080/",
          "height": 221
        },
        "outputId": "89b8396f-d10a-4fe4-bd50-e3c69485b1bf"
      },
      "source": [
        "# Los paréntesis definen los grupos, que identifican los elementos a devolver\n",
        "re.findall(r\"\\((.*)\\)\", texto)"
      ],
      "execution_count": 60,
      "outputs": [
        {
          "output_type": "execute_result",
          "data": {
            "text/plain": [
              "['Jefe de los Minisupers',\n",
              " 'Apu',\n",
              " 'Homer',\n",
              " 'Jefe de los Minisupers',\n",
              " 'Homer',\n",
              " 'Jefe de los Minisupers',\n",
              " 'Homer',\n",
              " 'Jefe de los Minisupers',\n",
              " 'Apu',\n",
              " 'Jefe de los Minisupers',\n",
              " 'Apu',\n",
              " 'Jefe de los Minisupers']"
            ]
          },
          "metadata": {
            "tags": []
          },
          "execution_count": 60
        }
      ]
    },
    {
      "cell_type": "code",
      "metadata": {
        "id": "oYO_m-dBwrrg",
        "colab_type": "code",
        "colab": {
          "base_uri": "https://localhost:8080/",
          "height": 221
        },
        "outputId": "2f5e94d8-535b-4a3d-b641-4b48146dd738"
      },
      "source": [
        "script = re.findall(r\"\\((.*)\\) (\\d\\d'\\d{0,2}'{0,2}) (.*)\", texto)\n",
        "script"
      ],
      "execution_count": 61,
      "outputs": [
        {
          "output_type": "execute_result",
          "data": {
            "text/plain": [
              "[('Jefe de los Minisupers', \"14'49''\", 'Podéis hacerme tres preguntas.'),\n",
              " ('Apu', \"14'58''\", 'Qué bueno, porque sólo necesito una.'),\n",
              " ('Homer', \"15'05''\", '¿Usted es el Jefe de los Minisupers?'),\n",
              " ('Jefe de los Minisupers', \"15'13''\", 'Así es.'),\n",
              " ('Homer', \"15'22''\", '¿Usted?'),\n",
              " ('Jefe de los Minisupers', \"15'38''\", 'Así es.'),\n",
              " ('Homer', \"15'41''\", '¿Está seguro?'),\n",
              " ('Jefe de los Minisupers', \"16'\", 'Sí. Espero que los haya iluminado.'),\n",
              " ('Apu', \"16'11''\", 'Pero tengo que...'),\n",
              " ('Jefe de los Minisupers', \"16'2''\", 'Gracias. Vuelva pronto.'),\n",
              " ('Apu', \"16'29''\", 'Pero.'),\n",
              " ('Jefe de los Minisupers', \"16'33''\", 'Graciaaaaas. Vuelva pronto.')]"
            ]
          },
          "metadata": {
            "tags": []
          },
          "execution_count": 61
        }
      ]
    },
    {
      "cell_type": "code",
      "metadata": {
        "id": "nMbwxvu3wrri",
        "colab_type": "code",
        "colab": {
          "base_uri": "https://localhost:8080/",
          "height": 421
        },
        "outputId": "04927f2f-ef0e-4a58-a832-dc04ecf588c2"
      },
      "source": [
        "df = pd.DataFrame(script) # Dataframe de pandas\n",
        "df.columns = [\"personaje\",\"tiempo\",\"texto\"]\n",
        "df"
      ],
      "execution_count": 62,
      "outputs": [
        {
          "output_type": "execute_result",
          "data": {
            "text/html": [
              "<div>\n",
              "<style scoped>\n",
              "    .dataframe tbody tr th:only-of-type {\n",
              "        vertical-align: middle;\n",
              "    }\n",
              "\n",
              "    .dataframe tbody tr th {\n",
              "        vertical-align: top;\n",
              "    }\n",
              "\n",
              "    .dataframe thead th {\n",
              "        text-align: right;\n",
              "    }\n",
              "</style>\n",
              "<table border=\"1\" class=\"dataframe\">\n",
              "  <thead>\n",
              "    <tr style=\"text-align: right;\">\n",
              "      <th></th>\n",
              "      <th>personaje</th>\n",
              "      <th>tiempo</th>\n",
              "      <th>texto</th>\n",
              "    </tr>\n",
              "  </thead>\n",
              "  <tbody>\n",
              "    <tr>\n",
              "      <th>0</th>\n",
              "      <td>Jefe de los Minisupers</td>\n",
              "      <td>14'49''</td>\n",
              "      <td>Podéis hacerme tres preguntas.</td>\n",
              "    </tr>\n",
              "    <tr>\n",
              "      <th>1</th>\n",
              "      <td>Apu</td>\n",
              "      <td>14'58''</td>\n",
              "      <td>Qué bueno, porque sólo necesito una.</td>\n",
              "    </tr>\n",
              "    <tr>\n",
              "      <th>2</th>\n",
              "      <td>Homer</td>\n",
              "      <td>15'05''</td>\n",
              "      <td>¿Usted es el Jefe de los Minisupers?</td>\n",
              "    </tr>\n",
              "    <tr>\n",
              "      <th>3</th>\n",
              "      <td>Jefe de los Minisupers</td>\n",
              "      <td>15'13''</td>\n",
              "      <td>Así es.</td>\n",
              "    </tr>\n",
              "    <tr>\n",
              "      <th>4</th>\n",
              "      <td>Homer</td>\n",
              "      <td>15'22''</td>\n",
              "      <td>¿Usted?</td>\n",
              "    </tr>\n",
              "    <tr>\n",
              "      <th>5</th>\n",
              "      <td>Jefe de los Minisupers</td>\n",
              "      <td>15'38''</td>\n",
              "      <td>Así es.</td>\n",
              "    </tr>\n",
              "    <tr>\n",
              "      <th>6</th>\n",
              "      <td>Homer</td>\n",
              "      <td>15'41''</td>\n",
              "      <td>¿Está seguro?</td>\n",
              "    </tr>\n",
              "    <tr>\n",
              "      <th>7</th>\n",
              "      <td>Jefe de los Minisupers</td>\n",
              "      <td>16'</td>\n",
              "      <td>Sí. Espero que los haya iluminado.</td>\n",
              "    </tr>\n",
              "    <tr>\n",
              "      <th>8</th>\n",
              "      <td>Apu</td>\n",
              "      <td>16'11''</td>\n",
              "      <td>Pero tengo que...</td>\n",
              "    </tr>\n",
              "    <tr>\n",
              "      <th>9</th>\n",
              "      <td>Jefe de los Minisupers</td>\n",
              "      <td>16'2''</td>\n",
              "      <td>Gracias. Vuelva pronto.</td>\n",
              "    </tr>\n",
              "    <tr>\n",
              "      <th>10</th>\n",
              "      <td>Apu</td>\n",
              "      <td>16'29''</td>\n",
              "      <td>Pero.</td>\n",
              "    </tr>\n",
              "    <tr>\n",
              "      <th>11</th>\n",
              "      <td>Jefe de los Minisupers</td>\n",
              "      <td>16'33''</td>\n",
              "      <td>Graciaaaaas. Vuelva pronto.</td>\n",
              "    </tr>\n",
              "  </tbody>\n",
              "</table>\n",
              "</div>"
            ],
            "text/plain": [
              "                 personaje   tiempo                                 texto\n",
              "0   Jefe de los Minisupers  14'49''        Podéis hacerme tres preguntas.\n",
              "1                      Apu  14'58''  Qué bueno, porque sólo necesito una.\n",
              "2                    Homer  15'05''  ¿Usted es el Jefe de los Minisupers?\n",
              "3   Jefe de los Minisupers  15'13''                               Así es.\n",
              "4                    Homer  15'22''                               ¿Usted?\n",
              "5   Jefe de los Minisupers  15'38''                               Así es.\n",
              "6                    Homer  15'41''                         ¿Está seguro?\n",
              "7   Jefe de los Minisupers      16'    Sí. Espero que los haya iluminado.\n",
              "8                      Apu  16'11''                     Pero tengo que...\n",
              "9   Jefe de los Minisupers   16'2''               Gracias. Vuelva pronto.\n",
              "10                     Apu  16'29''                                 Pero.\n",
              "11  Jefe de los Minisupers  16'33''           Graciaaaaas. Vuelva pronto."
            ]
          },
          "metadata": {
            "tags": []
          },
          "execution_count": 62
        }
      ]
    },
    {
      "cell_type": "code",
      "metadata": {
        "id": "WVi9z5g8wrrk",
        "colab_type": "code",
        "colab": {
          "base_uri": "https://localhost:8080/",
          "height": 235
        },
        "outputId": "13bfabb4-3c47-4aab-887d-255ea480a2cf"
      },
      "source": [
        "df[df[\"personaje\"] == \"Jefe de los Minisupers\"] # Pandas continuará..."
      ],
      "execution_count": 63,
      "outputs": [
        {
          "output_type": "execute_result",
          "data": {
            "text/html": [
              "<div>\n",
              "<style scoped>\n",
              "    .dataframe tbody tr th:only-of-type {\n",
              "        vertical-align: middle;\n",
              "    }\n",
              "\n",
              "    .dataframe tbody tr th {\n",
              "        vertical-align: top;\n",
              "    }\n",
              "\n",
              "    .dataframe thead th {\n",
              "        text-align: right;\n",
              "    }\n",
              "</style>\n",
              "<table border=\"1\" class=\"dataframe\">\n",
              "  <thead>\n",
              "    <tr style=\"text-align: right;\">\n",
              "      <th></th>\n",
              "      <th>personaje</th>\n",
              "      <th>tiempo</th>\n",
              "      <th>texto</th>\n",
              "    </tr>\n",
              "  </thead>\n",
              "  <tbody>\n",
              "    <tr>\n",
              "      <th>0</th>\n",
              "      <td>Jefe de los Minisupers</td>\n",
              "      <td>14'49''</td>\n",
              "      <td>Podéis hacerme tres preguntas.</td>\n",
              "    </tr>\n",
              "    <tr>\n",
              "      <th>3</th>\n",
              "      <td>Jefe de los Minisupers</td>\n",
              "      <td>15'13''</td>\n",
              "      <td>Así es.</td>\n",
              "    </tr>\n",
              "    <tr>\n",
              "      <th>5</th>\n",
              "      <td>Jefe de los Minisupers</td>\n",
              "      <td>15'38''</td>\n",
              "      <td>Así es.</td>\n",
              "    </tr>\n",
              "    <tr>\n",
              "      <th>7</th>\n",
              "      <td>Jefe de los Minisupers</td>\n",
              "      <td>16'</td>\n",
              "      <td>Sí. Espero que los haya iluminado.</td>\n",
              "    </tr>\n",
              "    <tr>\n",
              "      <th>9</th>\n",
              "      <td>Jefe de los Minisupers</td>\n",
              "      <td>16'2''</td>\n",
              "      <td>Gracias. Vuelva pronto.</td>\n",
              "    </tr>\n",
              "    <tr>\n",
              "      <th>11</th>\n",
              "      <td>Jefe de los Minisupers</td>\n",
              "      <td>16'33''</td>\n",
              "      <td>Graciaaaaas. Vuelva pronto.</td>\n",
              "    </tr>\n",
              "  </tbody>\n",
              "</table>\n",
              "</div>"
            ],
            "text/plain": [
              "                 personaje   tiempo                               texto\n",
              "0   Jefe de los Minisupers  14'49''      Podéis hacerme tres preguntas.\n",
              "3   Jefe de los Minisupers  15'13''                             Así es.\n",
              "5   Jefe de los Minisupers  15'38''                             Así es.\n",
              "7   Jefe de los Minisupers      16'  Sí. Espero que los haya iluminado.\n",
              "9   Jefe de los Minisupers   16'2''             Gracias. Vuelva pronto.\n",
              "11  Jefe de los Minisupers  16'33''         Graciaaaaas. Vuelva pronto."
            ]
          },
          "metadata": {
            "tags": []
          },
          "execution_count": 63
        }
      ]
    },
    {
      "cell_type": "code",
      "metadata": {
        "id": "xp-0F_CZwrrm",
        "colab_type": "code",
        "colab": {
          "base_uri": "https://localhost:8080/",
          "height": 425
        },
        "outputId": "3bce5235-0527-44b6-94ad-29d03c93b40a"
      },
      "source": [
        "# re.finditer(pattern, string) devuelve un iterador de MatchObjects\n",
        "script_iterator = re.finditer(r\"\\((.*)\\) (\\d\\d'\\d{0,2}'{0,2}) (.*)\", texto)\n",
        "scripts = []\n",
        "for match in script_iterator:\n",
        "    g1 = match.group(1)\n",
        "    g2_min = match.group(2).split(\"'\")[0] #  \"16'33''\".split(\"'\") -> ['16', '33', '', '']\n",
        "    g2_seg = match.group(2).split(\"'\")[1]\n",
        "    g3 = match.group(3)\n",
        "    span = match.span()\n",
        "    scripts.append([g1,g2_min,g2_seg,g3,span])\n",
        "\n",
        "scripts"
      ],
      "execution_count": 64,
      "outputs": [
        {
          "output_type": "execute_result",
          "data": {
            "text/plain": [
              "[['Jefe de los Minisupers',\n",
              "  '14',\n",
              "  '49',\n",
              "  'Podéis hacerme tres preguntas.',\n",
              "  (0, 63)],\n",
              " ['Apu', '14', '58', 'Qué bueno, porque sólo necesito una.', (64, 114)],\n",
              " ['Homer', '15', '05', '¿Usted es el Jefe de los Minisupers?', (115, 167)],\n",
              " ['Jefe de los Minisupers', '15', '13', 'Así es.', (168, 208)],\n",
              " ['Homer', '15', '22', '¿Usted?', (209, 232)],\n",
              " ['Jefe de los Minisupers', '15', '38', 'Así es.', (233, 273)],\n",
              " ['Homer', '15', '41', '¿Está seguro?', (274, 303)],\n",
              " ['Jefe de los Minisupers',\n",
              "  '16',\n",
              "  '',\n",
              "  'Sí. Espero que los haya iluminado.',\n",
              "  (304, 367)],\n",
              " ['Apu', '16', '11', 'Pero tengo que...', (368, 399)],\n",
              " ['Jefe de los Minisupers', '16', '2', 'Gracias. Vuelva pronto.', (400, 455)],\n",
              " ['Apu', '16', '29', 'Pero.', (456, 475)],\n",
              " ['Jefe de los Minisupers',\n",
              "  '16',\n",
              "  '33',\n",
              "  'Graciaaaaas. Vuelva pronto.',\n",
              "  (476, 536)]]"
            ]
          },
          "metadata": {
            "tags": []
          },
          "execution_count": 64
        }
      ]
    },
    {
      "cell_type": "code",
      "metadata": {
        "id": "uk39__V1wrrn",
        "colab_type": "code",
        "colab": {
          "base_uri": "https://localhost:8080/",
          "height": 421
        },
        "outputId": "c45c7119-a570-4bf7-edf4-a25971d8b2b1"
      },
      "source": [
        "df_scripts = pd.DataFrame(scripts)\n",
        "df_scripts.columns = [\"personaje\",\"min\",\"seg\",\"texto\",\"indices\"]\n",
        "df_scripts"
      ],
      "execution_count": 65,
      "outputs": [
        {
          "output_type": "execute_result",
          "data": {
            "text/html": [
              "<div>\n",
              "<style scoped>\n",
              "    .dataframe tbody tr th:only-of-type {\n",
              "        vertical-align: middle;\n",
              "    }\n",
              "\n",
              "    .dataframe tbody tr th {\n",
              "        vertical-align: top;\n",
              "    }\n",
              "\n",
              "    .dataframe thead th {\n",
              "        text-align: right;\n",
              "    }\n",
              "</style>\n",
              "<table border=\"1\" class=\"dataframe\">\n",
              "  <thead>\n",
              "    <tr style=\"text-align: right;\">\n",
              "      <th></th>\n",
              "      <th>personaje</th>\n",
              "      <th>min</th>\n",
              "      <th>seg</th>\n",
              "      <th>texto</th>\n",
              "      <th>indices</th>\n",
              "    </tr>\n",
              "  </thead>\n",
              "  <tbody>\n",
              "    <tr>\n",
              "      <th>0</th>\n",
              "      <td>Jefe de los Minisupers</td>\n",
              "      <td>14</td>\n",
              "      <td>49</td>\n",
              "      <td>Podéis hacerme tres preguntas.</td>\n",
              "      <td>(0, 63)</td>\n",
              "    </tr>\n",
              "    <tr>\n",
              "      <th>1</th>\n",
              "      <td>Apu</td>\n",
              "      <td>14</td>\n",
              "      <td>58</td>\n",
              "      <td>Qué bueno, porque sólo necesito una.</td>\n",
              "      <td>(64, 114)</td>\n",
              "    </tr>\n",
              "    <tr>\n",
              "      <th>2</th>\n",
              "      <td>Homer</td>\n",
              "      <td>15</td>\n",
              "      <td>05</td>\n",
              "      <td>¿Usted es el Jefe de los Minisupers?</td>\n",
              "      <td>(115, 167)</td>\n",
              "    </tr>\n",
              "    <tr>\n",
              "      <th>3</th>\n",
              "      <td>Jefe de los Minisupers</td>\n",
              "      <td>15</td>\n",
              "      <td>13</td>\n",
              "      <td>Así es.</td>\n",
              "      <td>(168, 208)</td>\n",
              "    </tr>\n",
              "    <tr>\n",
              "      <th>4</th>\n",
              "      <td>Homer</td>\n",
              "      <td>15</td>\n",
              "      <td>22</td>\n",
              "      <td>¿Usted?</td>\n",
              "      <td>(209, 232)</td>\n",
              "    </tr>\n",
              "    <tr>\n",
              "      <th>5</th>\n",
              "      <td>Jefe de los Minisupers</td>\n",
              "      <td>15</td>\n",
              "      <td>38</td>\n",
              "      <td>Así es.</td>\n",
              "      <td>(233, 273)</td>\n",
              "    </tr>\n",
              "    <tr>\n",
              "      <th>6</th>\n",
              "      <td>Homer</td>\n",
              "      <td>15</td>\n",
              "      <td>41</td>\n",
              "      <td>¿Está seguro?</td>\n",
              "      <td>(274, 303)</td>\n",
              "    </tr>\n",
              "    <tr>\n",
              "      <th>7</th>\n",
              "      <td>Jefe de los Minisupers</td>\n",
              "      <td>16</td>\n",
              "      <td></td>\n",
              "      <td>Sí. Espero que los haya iluminado.</td>\n",
              "      <td>(304, 367)</td>\n",
              "    </tr>\n",
              "    <tr>\n",
              "      <th>8</th>\n",
              "      <td>Apu</td>\n",
              "      <td>16</td>\n",
              "      <td>11</td>\n",
              "      <td>Pero tengo que...</td>\n",
              "      <td>(368, 399)</td>\n",
              "    </tr>\n",
              "    <tr>\n",
              "      <th>9</th>\n",
              "      <td>Jefe de los Minisupers</td>\n",
              "      <td>16</td>\n",
              "      <td>2</td>\n",
              "      <td>Gracias. Vuelva pronto.</td>\n",
              "      <td>(400, 455)</td>\n",
              "    </tr>\n",
              "    <tr>\n",
              "      <th>10</th>\n",
              "      <td>Apu</td>\n",
              "      <td>16</td>\n",
              "      <td>29</td>\n",
              "      <td>Pero.</td>\n",
              "      <td>(456, 475)</td>\n",
              "    </tr>\n",
              "    <tr>\n",
              "      <th>11</th>\n",
              "      <td>Jefe de los Minisupers</td>\n",
              "      <td>16</td>\n",
              "      <td>33</td>\n",
              "      <td>Graciaaaaas. Vuelva pronto.</td>\n",
              "      <td>(476, 536)</td>\n",
              "    </tr>\n",
              "  </tbody>\n",
              "</table>\n",
              "</div>"
            ],
            "text/plain": [
              "                 personaje  ...     indices\n",
              "0   Jefe de los Minisupers  ...     (0, 63)\n",
              "1                      Apu  ...   (64, 114)\n",
              "2                    Homer  ...  (115, 167)\n",
              "3   Jefe de los Minisupers  ...  (168, 208)\n",
              "4                    Homer  ...  (209, 232)\n",
              "5   Jefe de los Minisupers  ...  (233, 273)\n",
              "6                    Homer  ...  (274, 303)\n",
              "7   Jefe de los Minisupers  ...  (304, 367)\n",
              "8                      Apu  ...  (368, 399)\n",
              "9   Jefe de los Minisupers  ...  (400, 455)\n",
              "10                     Apu  ...  (456, 475)\n",
              "11  Jefe de los Minisupers  ...  (476, 536)\n",
              "\n",
              "[12 rows x 5 columns]"
            ]
          },
          "metadata": {
            "tags": []
          },
          "execution_count": 65
        }
      ]
    },
    {
      "cell_type": "markdown",
      "metadata": {
        "id": "7Fjk88gdwrrp",
        "colab_type": "text"
      },
      "source": [
        "### Más sobre grupos"
      ]
    },
    {
      "cell_type": "markdown",
      "metadata": {
        "id": "G555Edqhwrrq",
        "colab_type": "text"
      },
      "source": [
        "#### Hallar el hablante y los tiempos en los que habla.  Pero solo para Homero o Apu"
      ]
    },
    {
      "cell_type": "code",
      "metadata": {
        "id": "zbm-Z4iSwrrr",
        "colab_type": "code",
        "colab": {
          "base_uri": "https://localhost:8080/",
          "height": 119
        },
        "outputId": "eb569687-043f-4e38-e305-fa3aad735784"
      },
      "source": [
        "# (?:...) No identifica el contenido del parentesis con un grupo\n",
        "re.findall(r\"\\((?:Homer|Apu)\\) \\d\\d'\\d{0,2}'{0,2}\",texto)"
      ],
      "execution_count": 66,
      "outputs": [
        {
          "output_type": "execute_result",
          "data": {
            "text/plain": [
              "[\"(Apu) 14'58''\",\n",
              " \"(Homer) 15'05''\",\n",
              " \"(Homer) 15'22''\",\n",
              " \"(Homer) 15'41''\",\n",
              " \"(Apu) 16'11''\",\n",
              " \"(Apu) 16'29''\"]"
            ]
          },
          "metadata": {
            "tags": []
          },
          "execution_count": 66
        }
      ]
    },
    {
      "cell_type": "markdown",
      "metadata": {
        "id": "8xlA1qD-wrru",
        "colab_type": "text"
      },
      "source": [
        "#### Cambiar \"(Personaje)\" por \"Personaje:\" en el texto y sacar tiempos"
      ]
    },
    {
      "cell_type": "code",
      "metadata": {
        "id": "YUwTf9eNwrru",
        "colab_type": "code",
        "colab": {
          "base_uri": "https://localhost:8080/",
          "height": 221
        },
        "outputId": "5482000f-e06f-4f32-a9c7-61b7cb8007f1"
      },
      "source": [
        "new_text = re.sub(r\"\\((.*)\\) (\\d\\d'\\d{0,2}'{0,2}) (.*)\",\"\\g<1>: \\g<3>\",texto)\n",
        "print(new_text)"
      ],
      "execution_count": 67,
      "outputs": [
        {
          "output_type": "stream",
          "text": [
            "Jefe de los Minisupers: Podéis hacerme tres preguntas.\n",
            "Apu: Qué bueno, porque sólo necesito una.\n",
            "Homer: ¿Usted es el Jefe de los Minisupers?\n",
            "Jefe de los Minisupers: Así es.\n",
            "Homer: ¿Usted?\n",
            "Jefe de los Minisupers: Así es.\n",
            "Homer: ¿Está seguro?\n",
            "Jefe de los Minisupers: Sí. Espero que los haya iluminado.\n",
            "Apu: Pero tengo que...\n",
            "Jefe de los Minisupers: Gracias. Vuelva pronto.\n",
            "Apu: Pero.\n",
            "Jefe de los Minisupers: Graciaaaaas. Vuelva pronto.\n"
          ],
          "name": "stdout"
        }
      ]
    },
    {
      "cell_type": "markdown",
      "metadata": {
        "id": "cOtBl8CKwrrw",
        "colab_type": "text"
      },
      "source": [
        "#### Cambiar el texto precedido por \"Jefe de los Minisupers:\""
      ]
    },
    {
      "cell_type": "code",
      "metadata": {
        "id": "CngUQq8ywrrw",
        "colab_type": "code",
        "colab": {
          "base_uri": "https://localhost:8080/",
          "height": 221
        },
        "outputId": "0dbae794-0fa4-496b-fef4-5a615351dd1a"
      },
      "source": [
        "# machea si es precedido por un match de (?<=...)\n",
        "print(re.sub(r\"(?<=Jefe de los Minisupers:).*\",\" PALABRAS SANTAS\",new_text))"
      ],
      "execution_count": 68,
      "outputs": [
        {
          "output_type": "stream",
          "text": [
            "Jefe de los Minisupers: PALABRAS SANTAS\n",
            "Apu: Qué bueno, porque sólo necesito una.\n",
            "Homer: ¿Usted es el Jefe de los Minisupers?\n",
            "Jefe de los Minisupers: PALABRAS SANTAS\n",
            "Homer: ¿Usted?\n",
            "Jefe de los Minisupers: PALABRAS SANTAS\n",
            "Homer: ¿Está seguro?\n",
            "Jefe de los Minisupers: PALABRAS SANTAS\n",
            "Apu: Pero tengo que...\n",
            "Jefe de los Minisupers: PALABRAS SANTAS\n",
            "Apu: Pero.\n",
            "Jefe de los Minisupers: PALABRAS SANTAS\n"
          ],
          "name": "stdout"
        }
      ]
    },
    {
      "cell_type": "markdown",
      "metadata": {
        "id": "A74cZsVFlZHE",
        "colab_type": "text"
      },
      "source": [
        "#### Encuentra los textos unicamente"
      ]
    },
    {
      "cell_type": "code",
      "metadata": {
        "id": "N9hovKRZlQAQ",
        "colab_type": "code",
        "colab": {
          "base_uri": "https://localhost:8080/",
          "height": 204
        },
        "outputId": "80c4a2e8-65f5-4109-b1d7-5928763d57fb"
      },
      "source": [
        "# machea si aparece antes de (?=...)\n",
        "re.findall(r\"(?<=: ).*(?=\\n)\",new_text)"
      ],
      "execution_count": 69,
      "outputs": [
        {
          "output_type": "execute_result",
          "data": {
            "text/plain": [
              "['Podéis hacerme tres preguntas.',\n",
              " 'Qué bueno, porque sólo necesito una.',\n",
              " '¿Usted es el Jefe de los Minisupers?',\n",
              " 'Así es.',\n",
              " '¿Usted?',\n",
              " 'Así es.',\n",
              " '¿Está seguro?',\n",
              " 'Sí. Espero que los haya iluminado.',\n",
              " 'Pero tengo que...',\n",
              " 'Gracias. Vuelva pronto.',\n",
              " 'Pero.']"
            ]
          },
          "metadata": {
            "tags": []
          },
          "execution_count": 69
        }
      ]
    },
    {
      "cell_type": "markdown",
      "metadata": {
        "id": "i3w7DDJvwrry",
        "colab_type": "text"
      },
      "source": [
        "### Greedy vs Non Greedy"
      ]
    },
    {
      "cell_type": "code",
      "metadata": {
        "id": "yjDYEde5lAW_",
        "colab_type": "code",
        "colab": {
          "base_uri": "https://localhost:8080/",
          "height": 54
        },
        "outputId": "89c24677-22fc-4751-fd4b-26ed158e6628"
      },
      "source": [
        "textos = \" \".join(re.findall(r\"(?<=: ).*(?=\\n)\",new_text))\n",
        "textos\n"
      ],
      "execution_count": 79,
      "outputs": [
        {
          "output_type": "execute_result",
          "data": {
            "text/plain": [
              "'Podéis hacerme tres preguntas. Qué bueno, porque sólo necesito una. ¿Usted es el Jefe de los Minisupers? Así es. ¿Usted? Así es. ¿Está seguro? Sí. Espero que los haya iluminado. Pero tengo que... Gracias. Vuelva pronto. Pero.'"
            ]
          },
          "metadata": {
            "tags": []
          },
          "execution_count": 79
        }
      ]
    },
    {
      "cell_type": "code",
      "metadata": {
        "id": "6Vn51UIUwrr0",
        "colab_type": "code",
        "colab": {
          "base_uri": "https://localhost:8080/",
          "height": 34
        },
        "outputId": "fd380fd1-0874-4181-8a9a-019c9703a5b6"
      },
      "source": [
        "# quiero extraer todas las preguntas\n",
        "re.findall(r\"\\¿.*\\?\",textos)"
      ],
      "execution_count": 74,
      "outputs": [
        {
          "output_type": "execute_result",
          "data": {
            "text/plain": [
              "['¿Usted es el Jefe de los Minisupers? Así es. ¿Usted? Así es. ¿Está seguro?']"
            ]
          },
          "metadata": {
            "tags": []
          },
          "execution_count": 74
        }
      ]
    },
    {
      "cell_type": "markdown",
      "metadata": {
        "id": "Y_YwfQpqwrr2",
        "colab_type": "text"
      },
      "source": [
        "###  Los caracteres especiales **+** y  **\\***  text machean el patron mas largo posible ( se dice que **+** y  **\\*** son \"greedy\")\n",
        "### para que sean non-greedy se le agrega un \"?\" a la derecha => \"*?\" "
      ]
    },
    {
      "cell_type": "code",
      "metadata": {
        "id": "mQfSc9sDwrr3",
        "colab_type": "code",
        "colab": {
          "base_uri": "https://localhost:8080/",
          "height": 34
        },
        "outputId": "a33a8785-26d2-4c81-d9e3-c99868471769"
      },
      "source": [
        "# quiero extraer todas las preguntas\n",
        "re.findall(r\"\\¿.*?\\?\",textos)"
      ],
      "execution_count": 72,
      "outputs": [
        {
          "output_type": "execute_result",
          "data": {
            "text/plain": [
              "['¿Usted es el Jefe de los Minisupers?', '¿Usted?', '¿Está seguro?']"
            ]
          },
          "metadata": {
            "tags": []
          },
          "execution_count": 72
        }
      ]
    },
    {
      "cell_type": "markdown",
      "metadata": {
        "id": "PrKd5Qoqwrr5",
        "colab_type": "text"
      },
      "source": [
        "# Preprocesamiento de Textos: Normalización "
      ]
    },
    {
      "cell_type": "code",
      "metadata": {
        "id": "FQXGtZWIloTn",
        "colab_type": "code",
        "colab": {
          "base_uri": "https://localhost:8080/",
          "height": 221
        },
        "outputId": "e718c6c7-a369-4b4c-dc30-ed6a3c50bbc8"
      },
      "source": [
        "print(texto)"
      ],
      "execution_count": 80,
      "outputs": [
        {
          "output_type": "stream",
          "text": [
            "(Jefe de los Minisupers) 14'49'' Podéis hacerme tres preguntas.\n",
            "(Apu) 14'58'' Qué bueno, porque sólo necesito una.\n",
            "(Homer) 15'05'' ¿Usted es el Jefe de los Minisupers?\n",
            "(Jefe de los Minisupers) 15'13'' Así es.\n",
            "(Homer) 15'22'' ¿Usted?\n",
            "(Jefe de los Minisupers) 15'38'' Así es.\n",
            "(Homer) 15'41'' ¿Está seguro?\n",
            "(Jefe de los Minisupers) 16' Sí. Espero que los haya iluminado.\n",
            "(Apu) 16'11'' Pero tengo que...\n",
            "(Jefe de los Minisupers) 16'2'' Gracias. Vuelva pronto.\n",
            "(Apu) 16'29'' Pero.\n",
            "(Jefe de los Minisupers) 16'33'' Graciaaaaas. Vuelva pronto.\n"
          ],
          "name": "stdout"
        }
      ]
    },
    {
      "cell_type": "code",
      "metadata": {
        "id": "xc19S_UOwrr5",
        "colab_type": "code",
        "colab": {
          "base_uri": "https://localhost:8080/",
          "height": 221
        },
        "outputId": "d55e5f7e-fdd5-4a74-dd63-7f5325952c86"
      },
      "source": [
        "# re.sub(patron, remplazo, string)\n",
        "# devuelve el string con el patron reemplazado \n",
        "textos = re.sub(r\"a+\",\"a\",texto)\n",
        "print(textos)"
      ],
      "execution_count": 81,
      "outputs": [
        {
          "output_type": "stream",
          "text": [
            "(Jefe de los Minisupers) 14'49'' Podéis hacerme tres preguntas.\n",
            "(Apu) 14'58'' Qué bueno, porque sólo necesito una.\n",
            "(Homer) 15'05'' ¿Usted es el Jefe de los Minisupers?\n",
            "(Jefe de los Minisupers) 15'13'' Así es.\n",
            "(Homer) 15'22'' ¿Usted?\n",
            "(Jefe de los Minisupers) 15'38'' Así es.\n",
            "(Homer) 15'41'' ¿Está seguro?\n",
            "(Jefe de los Minisupers) 16' Sí. Espero que los haya iluminado.\n",
            "(Apu) 16'11'' Pero tengo que...\n",
            "(Jefe de los Minisupers) 16'2'' Gracias. Vuelva pronto.\n",
            "(Apu) 16'29'' Pero.\n",
            "(Jefe de los Minisupers) 16'33'' Gracias. Vuelva pronto.\n"
          ],
          "name": "stdout"
        }
      ]
    },
    {
      "cell_type": "markdown",
      "metadata": {
        "id": "ZPsBL3nzwrr7",
        "colab_type": "text"
      },
      "source": [
        "# Tokenización\n",
        "### tokenizar es segmentar el texto en unidades (tokens) \n",
        "### los tokens podrían ser palabras, numeros, signos de puntuacion, emoticones, etc..."
      ]
    },
    {
      "cell_type": "markdown",
      "metadata": {
        "id": "DzfzkzOGwrr7",
        "colab_type": "text"
      },
      "source": [
        "### En este ejemplo buscamos calcular la frecuencia de aparicion de las palabras"
      ]
    },
    {
      "cell_type": "code",
      "metadata": {
        "id": "HdxcI1CIwrr8",
        "colab_type": "code",
        "colab": {
          "base_uri": "https://localhost:8080/",
          "height": 1000
        },
        "outputId": "e6e7743e-fa8f-4f90-c088-3909452fb6ba"
      },
      "source": [
        "tokens = re.split(r\"\\W+\",textos)\n",
        "print(\"hay\",len(tokens),\"tokens\")\n",
        "tokens"
      ],
      "execution_count": 82,
      "outputs": [
        {
          "output_type": "stream",
          "text": [
            "hay 95 tokens\n"
          ],
          "name": "stdout"
        },
        {
          "output_type": "execute_result",
          "data": {
            "text/plain": [
              "['',\n",
              " 'Jefe',\n",
              " 'de',\n",
              " 'los',\n",
              " 'Minisupers',\n",
              " '14',\n",
              " '49',\n",
              " 'Podéis',\n",
              " 'hacerme',\n",
              " 'tres',\n",
              " 'preguntas',\n",
              " 'Apu',\n",
              " '14',\n",
              " '58',\n",
              " 'Qué',\n",
              " 'bueno',\n",
              " 'porque',\n",
              " 'sólo',\n",
              " 'necesito',\n",
              " 'una',\n",
              " 'Homer',\n",
              " '15',\n",
              " '05',\n",
              " 'Usted',\n",
              " 'es',\n",
              " 'el',\n",
              " 'Jefe',\n",
              " 'de',\n",
              " 'los',\n",
              " 'Minisupers',\n",
              " 'Jefe',\n",
              " 'de',\n",
              " 'los',\n",
              " 'Minisupers',\n",
              " '15',\n",
              " '13',\n",
              " 'Así',\n",
              " 'es',\n",
              " 'Homer',\n",
              " '15',\n",
              " '22',\n",
              " 'Usted',\n",
              " 'Jefe',\n",
              " 'de',\n",
              " 'los',\n",
              " 'Minisupers',\n",
              " '15',\n",
              " '38',\n",
              " 'Así',\n",
              " 'es',\n",
              " 'Homer',\n",
              " '15',\n",
              " '41',\n",
              " 'Está',\n",
              " 'seguro',\n",
              " 'Jefe',\n",
              " 'de',\n",
              " 'los',\n",
              " 'Minisupers',\n",
              " '16',\n",
              " 'Sí',\n",
              " 'Espero',\n",
              " 'que',\n",
              " 'los',\n",
              " 'haya',\n",
              " 'iluminado',\n",
              " 'Apu',\n",
              " '16',\n",
              " '11',\n",
              " 'Pero',\n",
              " 'tengo',\n",
              " 'que',\n",
              " 'Jefe',\n",
              " 'de',\n",
              " 'los',\n",
              " 'Minisupers',\n",
              " '16',\n",
              " '2',\n",
              " 'Gracias',\n",
              " 'Vuelva',\n",
              " 'pronto',\n",
              " 'Apu',\n",
              " '16',\n",
              " '29',\n",
              " 'Pero',\n",
              " 'Jefe',\n",
              " 'de',\n",
              " 'los',\n",
              " 'Minisupers',\n",
              " '16',\n",
              " '33',\n",
              " 'Gracias',\n",
              " 'Vuelva',\n",
              " 'pronto',\n",
              " '']"
            ]
          },
          "metadata": {
            "tags": []
          },
          "execution_count": 82
        }
      ]
    },
    {
      "cell_type": "code",
      "metadata": {
        "id": "02axuOY2wrr9",
        "colab_type": "code",
        "colab": {
          "base_uri": "https://localhost:8080/",
          "height": 221
        },
        "outputId": "2d39021d-23af-4a92-9456-7815fff95b07"
      },
      "source": [
        "pd.Series(tokens)"
      ],
      "execution_count": 83,
      "outputs": [
        {
          "output_type": "execute_result",
          "data": {
            "text/plain": [
              "0               \n",
              "1           Jefe\n",
              "2             de\n",
              "3            los\n",
              "4     Minisupers\n",
              "         ...    \n",
              "90            33\n",
              "91       Gracias\n",
              "92        Vuelva\n",
              "93        pronto\n",
              "94              \n",
              "Length: 95, dtype: object"
            ]
          },
          "metadata": {
            "tags": []
          },
          "execution_count": 83
        }
      ]
    },
    {
      "cell_type": "code",
      "metadata": {
        "id": "H54-sktqwrr_",
        "colab_type": "code",
        "colab": {
          "base_uri": "https://localhost:8080/",
          "height": 204
        },
        "outputId": "5b7b86c1-216f-4ebd-d388-03c1ab9db417"
      },
      "source": [
        "pd.Series(tokens).value_counts().head(10)"
      ],
      "execution_count": 84,
      "outputs": [
        {
          "output_type": "execute_result",
          "data": {
            "text/plain": [
              "los           8\n",
              "Jefe          7\n",
              "de            7\n",
              "Minisupers    7\n",
              "16            5\n",
              "15            5\n",
              "Homer         3\n",
              "Apu           3\n",
              "es            3\n",
              "pronto        2\n",
              "dtype: int64"
            ]
          },
          "metadata": {
            "tags": []
          },
          "execution_count": 84
        }
      ]
    },
    {
      "cell_type": "markdown",
      "metadata": {
        "id": "TlcStgslwrsA",
        "colab_type": "text"
      },
      "source": [
        "### Tokenización de oraciones"
      ]
    },
    {
      "cell_type": "code",
      "metadata": {
        "id": "3ERmOGv9wrsB",
        "colab_type": "code",
        "colab": {
          "base_uri": "https://localhost:8080/",
          "height": 102
        },
        "outputId": "842f997a-b54e-44fb-b792-2a90fb1418d2"
      },
      "source": [
        "dificil_de_tokenizar = \"Dr. formulate it to me. I don't know how to tokenize this! it's impossible!\"\n",
        "re.split(\"[\\.!]\",dificil_de_tokenizar)"
      ],
      "execution_count": 85,
      "outputs": [
        {
          "output_type": "execute_result",
          "data": {
            "text/plain": [
              "['Dr',\n",
              " ' formulate it to me',\n",
              " \" I don't know how to tokenize this\",\n",
              " \" it's impossible\",\n",
              " '']"
            ]
          },
          "metadata": {
            "tags": []
          },
          "execution_count": 85
        }
      ]
    },
    {
      "cell_type": "markdown",
      "metadata": {
        "id": "jx52iPvXwrsC",
        "colab_type": "text"
      },
      "source": [
        "## NLTK"
      ]
    },
    {
      "cell_type": "code",
      "metadata": {
        "id": "tbi1e3mwmSNB",
        "colab_type": "code",
        "colab": {
          "base_uri": "https://localhost:8080/",
          "height": 68
        },
        "outputId": "d97de2e9-2bba-4e3c-bc09-17c8f4ce4531"
      },
      "source": [
        "import nltk\n",
        "nltk.download('punkt')"
      ],
      "execution_count": 86,
      "outputs": [
        {
          "output_type": "stream",
          "text": [
            "[nltk_data] Downloading package punkt to /root/nltk_data...\n",
            "[nltk_data]   Unzipping tokenizers/punkt.zip.\n"
          ],
          "name": "stdout"
        },
        {
          "output_type": "execute_result",
          "data": {
            "text/plain": [
              "True"
            ]
          },
          "metadata": {
            "tags": []
          },
          "execution_count": 86
        }
      ]
    },
    {
      "cell_type": "code",
      "metadata": {
        "id": "IzK-LPr5wrsC",
        "colab_type": "code",
        "colab": {}
      },
      "source": [
        "from nltk import word_tokenize\n",
        "from nltk import sent_tokenize"
      ],
      "execution_count": 0,
      "outputs": []
    },
    {
      "cell_type": "code",
      "metadata": {
        "id": "E2sk0ghnwrsE",
        "colab_type": "code",
        "colab": {
          "base_uri": "https://localhost:8080/",
          "height": 68
        },
        "outputId": "b6db00ef-da86-4987-d258-f0bccb0fb0dc"
      },
      "source": [
        "sent = sent_tokenize(dificil_de_tokenizar)\n",
        "sent"
      ],
      "execution_count": 88,
      "outputs": [
        {
          "output_type": "execute_result",
          "data": {
            "text/plain": [
              "['Dr. formulate it to me.',\n",
              " \"I don't know how to tokenize this!\",\n",
              " \"it's impossible!\"]"
            ]
          },
          "metadata": {
            "tags": []
          },
          "execution_count": 88
        }
      ]
    },
    {
      "cell_type": "code",
      "metadata": {
        "id": "s_tjaiTTwrsG",
        "colab_type": "code",
        "colab": {
          "base_uri": "https://localhost:8080/",
          "height": 34
        },
        "outputId": "7d9676a4-5edf-4ae9-f0a8-4afa17aacebf"
      },
      "source": [
        "word_tokenize(sent[1])"
      ],
      "execution_count": 89,
      "outputs": [
        {
          "output_type": "execute_result",
          "data": {
            "text/plain": [
              "['I', 'do', \"n't\", 'know', 'how', 'to', 'tokenize', 'this', '!']"
            ]
          },
          "metadata": {
            "tags": []
          },
          "execution_count": 89
        }
      ]
    },
    {
      "cell_type": "markdown",
      "metadata": {
        "id": "PAkpCTajwrsH",
        "colab_type": "text"
      },
      "source": [
        "### Ahora en español"
      ]
    },
    {
      "cell_type": "code",
      "metadata": {
        "id": "fS2svQ32wrsI",
        "colab_type": "code",
        "colab": {
          "base_uri": "https://localhost:8080/",
          "height": 255
        },
        "outputId": "ca889811-c4d9-420c-8e63-bae5e95d2ac7"
      },
      "source": [
        "sents = sent_tokenize(texto,language=\"english\")\n",
        "sents"
      ],
      "execution_count": 90,
      "outputs": [
        {
          "output_type": "execute_result",
          "data": {
            "text/plain": [
              "[\"(Jefe de los Minisupers) 14'49'' Podéis hacerme tres preguntas.\",\n",
              " \"(Apu) 14'58'' Qué bueno, porque sólo necesito una.\",\n",
              " \"(Homer) 15'05'' ¿Usted es el Jefe de los Minisupers?\",\n",
              " \"(Jefe de los Minisupers) 15'13'' Así es.\",\n",
              " \"(Homer) 15'22'' ¿Usted?\",\n",
              " \"(Jefe de los Minisupers) 15'38'' Así es.\",\n",
              " \"(Homer) 15'41'' ¿Está seguro?\",\n",
              " \"(Jefe de los Minisupers) 16' Sí.\",\n",
              " 'Espero que los haya iluminado.',\n",
              " \"(Apu) 16'11'' Pero tengo que...\\n(Jefe de los Minisupers) 16'2'' Gracias.\",\n",
              " 'Vuelva pronto.',\n",
              " \"(Apu) 16'29'' Pero.\",\n",
              " \"(Jefe de los Minisupers) 16'33'' Graciaaaaas.\",\n",
              " 'Vuelva pronto.']"
            ]
          },
          "metadata": {
            "tags": []
          },
          "execution_count": 90
        }
      ]
    },
    {
      "cell_type": "code",
      "metadata": {
        "id": "-UJdbAWSwrsJ",
        "colab_type": "code",
        "colab": {}
      },
      "source": [
        "tokens = word_tokenize(textos,language=\"spanish\")"
      ],
      "execution_count": 0,
      "outputs": []
    },
    {
      "cell_type": "code",
      "metadata": {
        "id": "eZkX-MS6wrsK",
        "colab_type": "code",
        "colab": {
          "base_uri": "https://localhost:8080/",
          "height": 1000
        },
        "outputId": "6b81840e-ed6a-4a6f-c392-3646a2e906a1"
      },
      "source": [
        "tokens"
      ],
      "execution_count": 92,
      "outputs": [
        {
          "output_type": "execute_result",
          "data": {
            "text/plain": [
              "['(',\n",
              " 'Jefe',\n",
              " 'de',\n",
              " 'los',\n",
              " 'Minisupers',\n",
              " ')',\n",
              " \"14'49\",\n",
              " \"''\",\n",
              " 'Podéis',\n",
              " 'hacerme',\n",
              " 'tres',\n",
              " 'preguntas',\n",
              " '.',\n",
              " '(',\n",
              " 'Apu',\n",
              " ')',\n",
              " \"14'58\",\n",
              " \"''\",\n",
              " 'Qué',\n",
              " 'bueno',\n",
              " ',',\n",
              " 'porque',\n",
              " 'sólo',\n",
              " 'necesito',\n",
              " 'una',\n",
              " '.',\n",
              " '(',\n",
              " 'Homer',\n",
              " ')',\n",
              " \"15'05\",\n",
              " \"''\",\n",
              " '¿Usted',\n",
              " 'es',\n",
              " 'el',\n",
              " 'Jefe',\n",
              " 'de',\n",
              " 'los',\n",
              " 'Minisupers',\n",
              " '?',\n",
              " '(',\n",
              " 'Jefe',\n",
              " 'de',\n",
              " 'los',\n",
              " 'Minisupers',\n",
              " ')',\n",
              " \"15'13\",\n",
              " \"''\",\n",
              " 'Así',\n",
              " 'es',\n",
              " '.',\n",
              " '(',\n",
              " 'Homer',\n",
              " ')',\n",
              " \"15'22\",\n",
              " \"''\",\n",
              " '¿Usted',\n",
              " '?',\n",
              " '(',\n",
              " 'Jefe',\n",
              " 'de',\n",
              " 'los',\n",
              " 'Minisupers',\n",
              " ')',\n",
              " \"15'38\",\n",
              " \"''\",\n",
              " 'Así',\n",
              " 'es',\n",
              " '.',\n",
              " '(',\n",
              " 'Homer',\n",
              " ')',\n",
              " \"15'41\",\n",
              " \"''\",\n",
              " '¿Está',\n",
              " 'seguro',\n",
              " '?',\n",
              " '(',\n",
              " 'Jefe',\n",
              " 'de',\n",
              " 'los',\n",
              " 'Minisupers',\n",
              " ')',\n",
              " '16',\n",
              " \"'\",\n",
              " 'Sí',\n",
              " '.',\n",
              " 'Espero',\n",
              " 'que',\n",
              " 'los',\n",
              " 'haya',\n",
              " 'iluminado',\n",
              " '.',\n",
              " '(',\n",
              " 'Apu',\n",
              " ')',\n",
              " \"16'11\",\n",
              " \"''\",\n",
              " 'Pero',\n",
              " 'tengo',\n",
              " 'que',\n",
              " '...',\n",
              " '(',\n",
              " 'Jefe',\n",
              " 'de',\n",
              " 'los',\n",
              " 'Minisupers',\n",
              " ')',\n",
              " \"16'2\",\n",
              " \"''\",\n",
              " 'Gracias',\n",
              " '.',\n",
              " 'Vuelva',\n",
              " 'pronto',\n",
              " '.',\n",
              " '(',\n",
              " 'Apu',\n",
              " ')',\n",
              " \"16'29\",\n",
              " \"''\",\n",
              " 'Pero',\n",
              " '.',\n",
              " '(',\n",
              " 'Jefe',\n",
              " 'de',\n",
              " 'los',\n",
              " 'Minisupers',\n",
              " ')',\n",
              " \"16'33\",\n",
              " \"''\",\n",
              " 'Gracias',\n",
              " '.',\n",
              " 'Vuelva',\n",
              " 'pronto',\n",
              " '.']"
            ]
          },
          "metadata": {
            "tags": []
          },
          "execution_count": 92
        }
      ]
    },
    {
      "cell_type": "markdown",
      "metadata": {
        "id": "q871gc_uwrsM",
        "colab_type": "text"
      },
      "source": [
        "### los problemas con el \"¿\" lo podemos emparchar"
      ]
    },
    {
      "cell_type": "code",
      "metadata": {
        "id": "DZ14MUo7wrsM",
        "colab_type": "code",
        "colab": {
          "base_uri": "https://localhost:8080/",
          "height": 1000
        },
        "outputId": "6b932c08-f18f-462e-920b-fce945211f33"
      },
      "source": [
        "textos_retocados = re.sub(r\"¿\",\" ¿ \",textos)\n",
        "tokens = word_tokenize(textos_retocados,language=\"spanish\")\n",
        "tokens"
      ],
      "execution_count": 93,
      "outputs": [
        {
          "output_type": "execute_result",
          "data": {
            "text/plain": [
              "['(',\n",
              " 'Jefe',\n",
              " 'de',\n",
              " 'los',\n",
              " 'Minisupers',\n",
              " ')',\n",
              " \"14'49\",\n",
              " \"''\",\n",
              " 'Podéis',\n",
              " 'hacerme',\n",
              " 'tres',\n",
              " 'preguntas',\n",
              " '.',\n",
              " '(',\n",
              " 'Apu',\n",
              " ')',\n",
              " \"14'58\",\n",
              " \"''\",\n",
              " 'Qué',\n",
              " 'bueno',\n",
              " ',',\n",
              " 'porque',\n",
              " 'sólo',\n",
              " 'necesito',\n",
              " 'una',\n",
              " '.',\n",
              " '(',\n",
              " 'Homer',\n",
              " ')',\n",
              " \"15'05\",\n",
              " \"''\",\n",
              " '¿',\n",
              " 'Usted',\n",
              " 'es',\n",
              " 'el',\n",
              " 'Jefe',\n",
              " 'de',\n",
              " 'los',\n",
              " 'Minisupers',\n",
              " '?',\n",
              " '(',\n",
              " 'Jefe',\n",
              " 'de',\n",
              " 'los',\n",
              " 'Minisupers',\n",
              " ')',\n",
              " \"15'13\",\n",
              " \"''\",\n",
              " 'Así',\n",
              " 'es',\n",
              " '.',\n",
              " '(',\n",
              " 'Homer',\n",
              " ')',\n",
              " \"15'22\",\n",
              " \"''\",\n",
              " '¿',\n",
              " 'Usted',\n",
              " '?',\n",
              " '(',\n",
              " 'Jefe',\n",
              " 'de',\n",
              " 'los',\n",
              " 'Minisupers',\n",
              " ')',\n",
              " \"15'38\",\n",
              " \"''\",\n",
              " 'Así',\n",
              " 'es',\n",
              " '.',\n",
              " '(',\n",
              " 'Homer',\n",
              " ')',\n",
              " \"15'41\",\n",
              " \"''\",\n",
              " '¿',\n",
              " 'Está',\n",
              " 'seguro',\n",
              " '?',\n",
              " '(',\n",
              " 'Jefe',\n",
              " 'de',\n",
              " 'los',\n",
              " 'Minisupers',\n",
              " ')',\n",
              " '16',\n",
              " \"'\",\n",
              " 'Sí',\n",
              " '.',\n",
              " 'Espero',\n",
              " 'que',\n",
              " 'los',\n",
              " 'haya',\n",
              " 'iluminado',\n",
              " '.',\n",
              " '(',\n",
              " 'Apu',\n",
              " ')',\n",
              " \"16'11\",\n",
              " \"''\",\n",
              " 'Pero',\n",
              " 'tengo',\n",
              " 'que',\n",
              " '...',\n",
              " '(',\n",
              " 'Jefe',\n",
              " 'de',\n",
              " 'los',\n",
              " 'Minisupers',\n",
              " ')',\n",
              " \"16'2\",\n",
              " \"''\",\n",
              " 'Gracias',\n",
              " '.',\n",
              " 'Vuelva',\n",
              " 'pronto',\n",
              " '.',\n",
              " '(',\n",
              " 'Apu',\n",
              " ')',\n",
              " \"16'29\",\n",
              " \"''\",\n",
              " 'Pero',\n",
              " '.',\n",
              " '(',\n",
              " 'Jefe',\n",
              " 'de',\n",
              " 'los',\n",
              " 'Minisupers',\n",
              " ')',\n",
              " \"16'33\",\n",
              " \"''\",\n",
              " 'Gracias',\n",
              " '.',\n",
              " 'Vuelva',\n",
              " 'pronto',\n",
              " '.']"
            ]
          },
          "metadata": {
            "tags": []
          },
          "execution_count": 93
        }
      ]
    },
    {
      "cell_type": "code",
      "metadata": {
        "id": "2QLLT4iJwrsP",
        "colab_type": "code",
        "colab": {
          "base_uri": "https://localhost:8080/",
          "height": 1000
        },
        "outputId": "1a5eaccc-9a78-4cad-a15b-3b1bac7aae9d"
      },
      "source": [
        "palabras = [token.lower() for token in tokens if token.isalpha()]\n",
        "palabras"
      ],
      "execution_count": 94,
      "outputs": [
        {
          "output_type": "execute_result",
          "data": {
            "text/plain": [
              "['jefe',\n",
              " 'de',\n",
              " 'los',\n",
              " 'minisupers',\n",
              " 'podéis',\n",
              " 'hacerme',\n",
              " 'tres',\n",
              " 'preguntas',\n",
              " 'apu',\n",
              " 'qué',\n",
              " 'bueno',\n",
              " 'porque',\n",
              " 'sólo',\n",
              " 'necesito',\n",
              " 'una',\n",
              " 'homer',\n",
              " 'usted',\n",
              " 'es',\n",
              " 'el',\n",
              " 'jefe',\n",
              " 'de',\n",
              " 'los',\n",
              " 'minisupers',\n",
              " 'jefe',\n",
              " 'de',\n",
              " 'los',\n",
              " 'minisupers',\n",
              " 'así',\n",
              " 'es',\n",
              " 'homer',\n",
              " 'usted',\n",
              " 'jefe',\n",
              " 'de',\n",
              " 'los',\n",
              " 'minisupers',\n",
              " 'así',\n",
              " 'es',\n",
              " 'homer',\n",
              " 'está',\n",
              " 'seguro',\n",
              " 'jefe',\n",
              " 'de',\n",
              " 'los',\n",
              " 'minisupers',\n",
              " 'sí',\n",
              " 'espero',\n",
              " 'que',\n",
              " 'los',\n",
              " 'haya',\n",
              " 'iluminado',\n",
              " 'apu',\n",
              " 'pero',\n",
              " 'tengo',\n",
              " 'que',\n",
              " 'jefe',\n",
              " 'de',\n",
              " 'los',\n",
              " 'minisupers',\n",
              " 'gracias',\n",
              " 'vuelva',\n",
              " 'pronto',\n",
              " 'apu',\n",
              " 'pero',\n",
              " 'jefe',\n",
              " 'de',\n",
              " 'los',\n",
              " 'minisupers',\n",
              " 'gracias',\n",
              " 'vuelva',\n",
              " 'pronto']"
            ]
          },
          "metadata": {
            "tags": []
          },
          "execution_count": 94
        }
      ]
    },
    {
      "cell_type": "markdown",
      "metadata": {
        "id": "OvuwxxDxwrsR",
        "colab_type": "text"
      },
      "source": [
        "### Stopwords"
      ]
    },
    {
      "cell_type": "code",
      "metadata": {
        "id": "9TtPgPJuOs38",
        "colab_type": "code",
        "colab": {
          "base_uri": "https://localhost:8080/",
          "height": 68
        },
        "outputId": "fdd616f8-d2ab-45c9-985d-e04ef7630d00"
      },
      "source": [
        "import nltk\n",
        "nltk.download('stopwords')"
      ],
      "execution_count": 95,
      "outputs": [
        {
          "output_type": "stream",
          "text": [
            "[nltk_data] Downloading package stopwords to /root/nltk_data...\n",
            "[nltk_data]   Unzipping corpora/stopwords.zip.\n"
          ],
          "name": "stdout"
        },
        {
          "output_type": "execute_result",
          "data": {
            "text/plain": [
              "True"
            ]
          },
          "metadata": {
            "tags": []
          },
          "execution_count": 95
        }
      ]
    },
    {
      "cell_type": "markdown",
      "metadata": {
        "id": "TOxWtyMYlckr",
        "colab_type": "text"
      },
      "source": [
        ""
      ]
    },
    {
      "cell_type": "code",
      "metadata": {
        "id": "CrVwIRRrwrsR",
        "colab_type": "code",
        "colab": {
          "base_uri": "https://localhost:8080/",
          "height": 357
        },
        "outputId": "a3650dd0-5c11-4418-c731-5a6b7abdb7b8"
      },
      "source": [
        "from nltk.corpus import stopwords\n",
        "stoplist = stopwords.words(\"spanish\")\n",
        "stoplist[:20]"
      ],
      "execution_count": 96,
      "outputs": [
        {
          "output_type": "execute_result",
          "data": {
            "text/plain": [
              "['de',\n",
              " 'la',\n",
              " 'que',\n",
              " 'el',\n",
              " 'en',\n",
              " 'y',\n",
              " 'a',\n",
              " 'los',\n",
              " 'del',\n",
              " 'se',\n",
              " 'las',\n",
              " 'por',\n",
              " 'un',\n",
              " 'para',\n",
              " 'con',\n",
              " 'no',\n",
              " 'una',\n",
              " 'su',\n",
              " 'al',\n",
              " 'lo']"
            ]
          },
          "metadata": {
            "tags": []
          },
          "execution_count": 96
        }
      ]
    },
    {
      "cell_type": "code",
      "metadata": {
        "id": "k6fByQsowrsV",
        "colab_type": "code",
        "colab": {
          "base_uri": "https://localhost:8080/",
          "height": 357
        },
        "outputId": "fab8d3a8-825d-4bfa-d510-3d4cb1df9056"
      },
      "source": [
        "# elimino los stopwords\n",
        "palabras = [token.lower() for token in tokens if token.lower() not in stoplist and token.isalpha()]\n",
        "palabras[:20]"
      ],
      "execution_count": 97,
      "outputs": [
        {
          "output_type": "execute_result",
          "data": {
            "text/plain": [
              "['jefe',\n",
              " 'minisupers',\n",
              " 'podéis',\n",
              " 'hacerme',\n",
              " 'tres',\n",
              " 'preguntas',\n",
              " 'apu',\n",
              " 'bueno',\n",
              " 'sólo',\n",
              " 'necesito',\n",
              " 'homer',\n",
              " 'usted',\n",
              " 'jefe',\n",
              " 'minisupers',\n",
              " 'jefe',\n",
              " 'minisupers',\n",
              " 'así',\n",
              " 'homer',\n",
              " 'usted',\n",
              " 'jefe']"
            ]
          },
          "metadata": {
            "tags": []
          },
          "execution_count": 97
        }
      ]
    },
    {
      "cell_type": "code",
      "metadata": {
        "id": "qgTX8XKzwrsY",
        "colab_type": "code",
        "colab": {}
      },
      "source": [
        ""
      ],
      "execution_count": 0,
      "outputs": []
    },
    {
      "cell_type": "markdown",
      "metadata": {
        "id": "roFjWSKgH_ii",
        "colab_type": "text"
      },
      "source": [
        "## Ejercicio 1\n",
        "### armar un texto que tenga sentido usando las variables a, b, c y d"
      ]
    },
    {
      "cell_type": "code",
      "metadata": {
        "id": "ViCz2clGIDBX",
        "colab_type": "code",
        "colab": {}
      },
      "source": [
        "a = \"xxxxxxxxxxxxxxxx veces \"  \n",
        "b = 1000 \n",
        "c = \"xxxno puedo soñar xxxxx\" \n",
        "d = \"xlxaxsx xmxixsxmxaxsx xcxoxsxaxs\""
      ],
      "execution_count": 0,
      "outputs": []
    },
    {
      "cell_type": "markdown",
      "metadata": {
        "id": "0Z-5EbssJlMf",
        "colab_type": "text"
      },
      "source": [
        "## Ejercicio 2: \n",
        "### a) cuantas letras hay en la tercer oración?\n",
        "### b) cuantas palabras hay en todo el texto"
      ]
    },
    {
      "cell_type": "code",
      "metadata": {
        "id": "AOJahA_gJmjd",
        "colab_type": "code",
        "colab": {}
      },
      "source": [
        "texto_ej2 = \"Citadme diciendo que me han citado mal. Claro que lo entiendo. Incluso un niño de cinco años podría entenderlo. ¡Que me traigan un niño de cinco años!\" "
      ],
      "execution_count": 0,
      "outputs": []
    },
    {
      "cell_type": "markdown",
      "metadata": {
        "id": "5Kyl3FBMMQ-1",
        "colab_type": "text"
      },
      "source": [
        "##  Ejercicio 3\n",
        "### Amar un Regex para extraer todas las fechas mencionadas"
      ]
    },
    {
      "cell_type": "code",
      "metadata": {
        "id": "Yky1OMbmKxvv",
        "colab_type": "code",
        "colab": {}
      },
      "source": [
        "texto_ej3=\"compras de julio: el 02/07 yerba, 5/7/18 azucar y 8/7 cafe. Agosto: 02-08-2018, 15-8-2018 y 29-08 mas yerba \""
      ],
      "execution_count": 0,
      "outputs": []
    },
    {
      "cell_type": "markdown",
      "metadata": {
        "id": "P0xAmIgcwrsa",
        "colab_type": "text"
      },
      "source": [
        "## Ejercicio 4\n",
        "\n",
        "### a) Cuales son las 10 palabras mas frecuentes? no contar efecto de si es mayúscula o minúscula. \n",
        "### b) Cuantas palabras son stopwords? que porcentaje de las palabras son stopwords?\n",
        "### c) Sacar las tíldes (normalización)\n",
        "### d) Pasar los millones a números 1.800 millones -> 1.800.000  (normalización)\n",
        "### e) Extraer los numeros asociados a dolares, pesos y porcentajes\n",
        "### f) Plotear en eje log-log un la frequencia de las palabras vs su ranking: es decir representar en un scatterplot cuantas veces aparece la palabra mas frecuente (ranking=1), cuantas veces la 2da mas frecuentes (ranking=2)..., la n-esima mas frecuente (ranking = n) "
      ]
    },
    {
      "cell_type": "code",
      "metadata": {
        "id": "2j8vQmOewrsc",
        "colab_type": "code",
        "colab": {}
      },
      "source": [
        "texto_ej4='Jueves 29.3.2018 BUENOS AIRES\\n INGRESAR EDICIÓN IMPRESA Suscribirse Onmail\\n   SEGUINOS\\nPORTADA\\t\\tPOLÍTICA\\tMUNDO\\tNACIONAL\\t\\tINFO. GRAL\\t\\tESPECTÁCULOS\\t\\t\\n\\nambito.comJueves 29.3.2018\\n\\nECONOMÍA\\n\\n\\n\\n\\n\\nPOR MARIANA LEIVA.- lunes 26 de Marzo de 2018\\nEl BCRA intervino por séptima rueda consecutiva y el dólar cedió cinco centavos a $ 20,49\\nMariana Leiva \\t\\nMARIANA LEIVA\\n \\nCon un Banco Central presente en la rueda por séptima rueda consecutiva, el dólar inició la semana con nueva baja, al ceder cinco centavos a $ 20,49 en agencias y bancos de la city porteña, de acuerdo al promedio de ámbito.com. \\n\\nEl billete -que anotó su segunda caída consecutiva- se desacopló del segmento mayorista, donde la divisa terminó sin cambios a $ 20,21.\\n\\nDurante la rueda, la moneda estadounidense tuvo un recorrido muy acotado en una rueda en la que el Banco Central volvió a fijar límites al movimiento de los precios. Operadores estimaron que la autoridad monetaria habría vendido unos u$s 100 millones, con lo que en el mes llevaría desembolsado cerca de u$s 1.800 millones. \\n\\nA poco de iniciada la sesión se hizo presente una postura de venta en $ 20,21 efectivizada por el BCRA que señaló el límite superior fijado en la banda de fluctuación del tipo de cambio. La presencia oficial, en este sentido, disuadió desde el arranque presiones sobre los precios que merced a una mayor oferta privada descendieron hasta tocar mínimos en los $ 20,163. Al final del día, sus ventas sumaron u$s 69 millones.\\n\\nLa oferta provino, además, de las liquidaciones de exportadores cerealeros con un promedio u$s 85 millones por día (aumentó 40% que la semana anterior) y también de otros rubros que realimentan la venta de la divisa norteamericana, además de algunos inversores tentados por la tasa de interés en pesos ahora que tienen un dólar con poca oscilación y con un techo de $ 20,4 y un piso de $ 20,2, según puntualizaron de ABC Mercado de Cambios. \\n\\nDesde PR Corredores de Cambio, indicaron que \"el inicio de la semana corta presentó un escenario dominado en forma reiterada por la regulación oficial del tipo de cambio. La estrategia del Banco Central apuntó a dejar sin posibilidad de que los precios del dólar superaran el nivel alcanzado en el cierre de la semana pasada pero sin forzar una nueva caída en su cotización\". El volumen operado descendió un 6,5% a u$s 758 millones.\\n\\n\"La suerte de la evolución del dólar en el cierre de marzo parece estar echada y, dadas las características de las últimas regulaciones oficiales su nivel para el miércoles próximo se anticipa que no estará muy alejado del alcanzado en la fecha, un dato que los mercados de futuros descuentan en su cotización de esta rueda\", agregaron.\\n\\nEn el mercado de dinero entre bancos, el \"call money\" operó estable a un promedio del 25,5% TNA y en \"swaps\" cambiarios se pactaron u$s 148 millones para tomar y/o colocar fondos en pesos mediante el uso de compra-venta de dólares para el martes y el miércoles. Las Lebac en el circuito secundario se operaban al plazo de 23 días a 23,55% TNA, y la de 268 días al 24,9% TNA.\\n\\nEn el Rofex, donde se operaron u$s 1.156 millones, más del 40% se operó para fin de mes a $ 20,215 con una tasa implícita del 9% TNA y el plazo más largo fue julio a $ 21,63 a una tasa del 20,50% TNA. \\n\\nEn la plaza paralela, el blue cayó seis centavos a $ 20,88, según el relevamiento de este medio en cuevas del microcentro porteño. Asimismo, el \"contado con liqui\" bajó 10 centavos a $ 20,19.\\n\\nPor último, las reservas del Banco Central aumentaron este lunes u$s 18 millones, hasta los u$s 60.917 millones.\\nTAGS\\n \\n\\n\\n\\n'"
      ],
      "execution_count": 0,
      "outputs": []
    },
    {
      "cell_type": "code",
      "metadata": {
        "id": "d0oY_qnbSXDY",
        "colab_type": "code",
        "colab": {}
      },
      "source": [
        "print(texto_ej4)"
      ],
      "execution_count": 0,
      "outputs": []
    },
    {
      "cell_type": "markdown",
      "metadata": {
        "id": "Nj-Rl4lFIia2",
        "colab_type": "text"
      },
      "source": [
        "## Ejemplo de respuesta ej 1"
      ]
    },
    {
      "cell_type": "code",
      "metadata": {
        "id": "J3YecRXPwrsp",
        "colab_type": "code",
        "colab": {}
      },
      "source": [
        "c[3:-5]+str(b)+a[-7:]+d[1::2]"
      ],
      "execution_count": 0,
      "outputs": []
    },
    {
      "cell_type": "code",
      "metadata": {
        "id": "0NPC7G-zwrsr",
        "colab_type": "code",
        "colab": {}
      },
      "source": [
        ""
      ],
      "execution_count": 0,
      "outputs": []
    },
    {
      "cell_type": "markdown",
      "metadata": {
        "id": "1KIea6nIKFwm",
        "colab_type": "text"
      },
      "source": [
        "## Ejemplo de respuesta ej 2\n",
        "### a) cuantas letras hay en la tercer oración?\n",
        "\n"
      ]
    },
    {
      "cell_type": "code",
      "metadata": {
        "id": "zPVptgJaKJQB",
        "colab_type": "code",
        "colab": {}
      },
      "source": [
        "texto_ej2.split(\".\")\n"
      ],
      "execution_count": 0,
      "outputs": []
    },
    {
      "cell_type": "code",
      "metadata": {
        "id": "F7KxZgx4KVup",
        "colab_type": "code",
        "colab": {}
      },
      "source": [
        "len(texto_ej2.split(\".\")[2].replace(\" \",\"\"))"
      ],
      "execution_count": 0,
      "outputs": []
    },
    {
      "cell_type": "markdown",
      "metadata": {
        "id": "UIdBtGzyLv_u",
        "colab_type": "text"
      },
      "source": [
        "### b) cuantas palabras hay en todo el texto"
      ]
    },
    {
      "cell_type": "code",
      "metadata": {
        "id": "ik8yEQL4Lll8",
        "colab_type": "code",
        "colab": {}
      },
      "source": [
        "len(texto_ej2.split(\" \"))"
      ],
      "execution_count": 0,
      "outputs": []
    },
    {
      "cell_type": "markdown",
      "metadata": {
        "id": "g41zAcSqsS6v",
        "colab_type": "text"
      },
      "source": [
        "## Ejemplo de respuesta ej 3"
      ]
    },
    {
      "cell_type": "code",
      "metadata": {
        "id": "U7FfSZOosQo8",
        "colab_type": "code",
        "colab": {}
      },
      "source": [
        "re.findall(r\"\\d{1,2}[/-]\\d{1,2}[/-]?\\d{0,4}\",texto_ej3)"
      ],
      "execution_count": 0,
      "outputs": []
    },
    {
      "cell_type": "markdown",
      "metadata": {
        "id": "-CXsQruAwrss",
        "colab_type": "text"
      },
      "source": [
        "## Ejemplo de respuesta ej 4"
      ]
    },
    {
      "cell_type": "markdown",
      "metadata": {
        "id": "krigxOSQwrss",
        "colab_type": "text"
      },
      "source": [
        "### a) Cuales son las 10 palabras mas frecuentes? no contar efecto de si es mayúscula o minúscula. "
      ]
    },
    {
      "cell_type": "code",
      "metadata": {
        "id": "ANHz-N-Xwrst",
        "colab_type": "code",
        "colab": {}
      },
      "source": [
        "palabras_frec = pd.Series([w for w in word_tokenize(texto_ej4.lower(),language=\"spanish\") if w.isalpha()]).value_counts()  \n",
        "palabras_frec[:10]"
      ],
      "execution_count": 0,
      "outputs": []
    },
    {
      "cell_type": "markdown",
      "metadata": {
        "id": "F65Yqk4uwrsu",
        "colab_type": "text"
      },
      "source": [
        "### b) cuantas palabras son stopwords? que porcentaje de las palabras son stopwords?"
      ]
    },
    {
      "cell_type": "code",
      "metadata": {
        "id": "E6JwnfU5wrsu",
        "colab_type": "code",
        "colab": {}
      },
      "source": [
        "palabras = [w for w in word_tokenize(texto_ej4.lower(),language=\"spanish\") if w.isalpha()]\n",
        "texto_ej4_stopwords = [w for w in palabras if w in stoplist]\n",
        "n_stopwords = len(texto_ej4_stopwords)\n",
        "print(\"hay\",n_stopwords,\"stopwords\")\n",
        "porcentaje = n_stopwords/len(palabras)*100\n",
        "print(\"un %\",round(porcentaje),\"de las palabras son stopwords! WTF\")"
      ],
      "execution_count": 0,
      "outputs": []
    },
    {
      "cell_type": "code",
      "metadata": {
        "id": "pu7dwpfuwrsw",
        "colab_type": "code",
        "colab": {}
      },
      "source": [
        "# usando pandas\n",
        "print( palabras_frec[[p in stoplist for p in palabras_frec.index]].sum())\n",
        "print( palabras_frec[[p in stoplist for p in palabras_frec.index]].sum() /palabras_frec.sum() *100)"
      ],
      "execution_count": 0,
      "outputs": []
    },
    {
      "cell_type": "markdown",
      "metadata": {
        "id": "e_UqVHmiwrsy",
        "colab_type": "text"
      },
      "source": [
        "### c) Sacar las tíldes (normalización)"
      ]
    },
    {
      "cell_type": "code",
      "metadata": {
        "id": "3ISSDUR4wrsy",
        "colab_type": "code",
        "colab": {}
      },
      "source": [
        "def sacar_tildes(texto):\n",
        "    texto = re.sub(\"á\",\"a\",texto)\n",
        "    texto = re.sub(\"é\",\"e\",texto)\n",
        "    texto = re.sub(\"í\",\"i\",texto)\n",
        "    texto = re.sub(\"ó\",\"o\",texto)\n",
        "    texto = re.sub(\"ú\",\"u\",texto)\n",
        "    texto = re.sub(\"Á\",\"A\",texto)\n",
        "    texto = re.sub(\"É\",\"E\",texto)\n",
        "    texto = re.sub(\"Í\",\"I\",texto)\n",
        "    texto = re.sub(\"Ó\",\"O\",texto)\n",
        "    return re.sub(\"Ú\",\"U\",texto)\n",
        "     \n",
        "texto_ej4c = sacar_tildes(texto_ej4)\n",
        "print(texto_ej4c)"
      ],
      "execution_count": 0,
      "outputs": []
    },
    {
      "cell_type": "markdown",
      "metadata": {
        "id": "qyOxgjKawrsz",
        "colab_type": "text"
      },
      "source": [
        "### d) pasar los millones a números 1.800 millones -> 1.800.000  (normalización)"
      ]
    },
    {
      "cell_type": "code",
      "metadata": {
        "id": "UVEHYsAIwrsz",
        "colab_type": "code",
        "colab": {}
      },
      "source": [
        "texto_ej4d = re.sub(r\"(\\d) millones\",\"\\g<1>.000.000\",texto_ej4)\n",
        "print(texto_ej4d)"
      ],
      "execution_count": 0,
      "outputs": []
    },
    {
      "cell_type": "markdown",
      "metadata": {
        "id": "yMNs9g-Twrs1",
        "colab_type": "text"
      },
      "source": [
        "### e) extraer los numeros asociados a dolares, pesos y porcentajes"
      ]
    },
    {
      "cell_type": "code",
      "metadata": {
        "id": "4rGrEmX_wrs1",
        "colab_type": "code",
        "colab": {}
      },
      "source": [
        "print(\"Dolares:\",re.findall(r\"(?<=u\\$s )\\d+(?:\\.\\d\\d\\d)*(?:\\,\\d+)?\",texto_ej4))"
      ],
      "execution_count": 0,
      "outputs": []
    },
    {
      "cell_type": "code",
      "metadata": {
        "id": "RPZL_pPdwrs3",
        "colab_type": "code",
        "colab": {}
      },
      "source": [
        "print(\"Pesos:\",re.findall(r\"(?<=\\$ )\\d+(?:\\.\\d\\d\\d)*(?:\\,\\d+)?\",texto_ej4))"
      ],
      "execution_count": 0,
      "outputs": []
    },
    {
      "cell_type": "code",
      "metadata": {
        "id": "nGg0kN9ywrs4",
        "colab_type": "code",
        "colab": {}
      },
      "source": [
        "print(\"Porcentajes:\",re.findall(r\"\\d+(?:\\,\\d+)?(?=\\%)\",texto_ej4))"
      ],
      "execution_count": 0,
      "outputs": []
    },
    {
      "cell_type": "markdown",
      "metadata": {
        "id": "XHR_rapbwrs5",
        "colab_type": "text"
      },
      "source": [
        "### f) Plotear en eje log-log un la frequencia de las palabras vs su ranking: es decir representar en un scatterplot cuantas veces aparece la palabra mas frecuente (ranking=1), cuantas veces la 2da mas frecuentes (ranking=2)..., la n-esima mas frecuente (ranking = n) "
      ]
    },
    {
      "cell_type": "code",
      "metadata": {
        "id": "pVTVZ-USwrs5",
        "colab_type": "code",
        "colab": {}
      },
      "source": [
        "%matplotlib inline \n",
        "import matplotlib.pyplot as plt\n",
        "plt.scatter(range(1,len(palabras_frec)+1),palabras_frec)\n",
        "plt.xscale(\"log\");plt.yscale(\"log\")\n",
        "plt.xlabel(\"Ranking\"); plt.ylabel(\"Frecuencia\");"
      ],
      "execution_count": 0,
      "outputs": []
    },
    {
      "cell_type": "code",
      "metadata": {
        "id": "Tggu6bHlwrs6",
        "colab_type": "code",
        "colab": {}
      },
      "source": [
        ""
      ],
      "execution_count": 0,
      "outputs": []
    }
  ]
}