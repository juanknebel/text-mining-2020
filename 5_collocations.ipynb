{
  "nbformat": 4,
  "nbformat_minor": 0,
  "metadata": {
    "kernelspec": {
      "display_name": "Python 3",
      "language": "python",
      "name": "python3"
    },
    "language_info": {
      "codemirror_mode": {
        "name": "ipython",
        "version": 3
      },
      "file_extension": ".py",
      "mimetype": "text/x-python",
      "name": "python",
      "nbconvert_exporter": "python",
      "pygments_lexer": "ipython3",
      "version": "3.6.5"
    },
    "colab": {
      "name": "5. collocations.ipynb",
      "provenance": [],
      "collapsed_sections": [],
      "include_colab_link": true
    }
  },
  "cells": [
    {
      "cell_type": "markdown",
      "metadata": {
        "id": "view-in-github",
        "colab_type": "text"
      },
      "source": [
        "<a href=\"https://colab.research.google.com/github/juanknebel/text-mining-2020/blob/master/5_collocations.ipynb\" target=\"_parent\"><img src=\"https://colab.research.google.com/assets/colab-badge.svg\" alt=\"Open In Colab\"/></a>"
      ]
    },
    {
      "cell_type": "code",
      "metadata": {
        "id": "gKt6KcBKxRWA",
        "colab_type": "code",
        "colab": {}
      },
      "source": [
        "%matplotlib inline \n",
        "import matplotlib.pyplot as plt\n",
        "import pandas as pd\n",
        "import numpy as np\n",
        "import re\n",
        "from nltk import word_tokenize, sent_tokenize\n",
        "from nltk.collocations import BigramAssocMeasures, BigramCollocationFinder\n",
        "from gensim.models.phrases import Phrases, Phraser"
      ],
      "execution_count": 0,
      "outputs": []
    },
    {
      "cell_type": "code",
      "metadata": {
        "id": "ZAXdytB1xcYl",
        "colab_type": "code",
        "outputId": "3d15e552-9dcc-49be-f8bb-d6fcdd07033e",
        "colab": {
          "base_uri": "https://localhost:8080/",
          "height": 72
        }
      },
      "source": [
        "import nltk\n",
        "nltk.download('punkt')\n",
        "nltk.download('reuters')\n",
        "from nltk.corpus import reuters\n"
      ],
      "execution_count": 0,
      "outputs": [
        {
          "output_type": "stream",
          "text": [
            "[nltk_data] Downloading package punkt to /root/nltk_data...\n",
            "[nltk_data]   Unzipping tokenizers/punkt.zip.\n",
            "[nltk_data] Downloading package reuters to /root/nltk_data...\n"
          ],
          "name": "stdout"
        }
      ]
    },
    {
      "cell_type": "code",
      "metadata": {
        "id": "7V4plIZaxlcE",
        "colab_type": "code",
        "colab": {}
      },
      "source": [
        "documents = []\n",
        " \n",
        "for fileid in reuters.fileids():\n",
        "    documents.append(reuters.raw(fileid).lower())\n"
      ],
      "execution_count": 0,
      "outputs": []
    },
    {
      "cell_type": "code",
      "metadata": {
        "id": "Hgd3E9w9wIJi",
        "colab_type": "code",
        "outputId": "339e6624-cafa-44a7-fdad-716cdfcca880",
        "colab": {
          "base_uri": "https://localhost:8080/",
          "height": 55
        }
      },
      "source": [
        "documents[0]"
      ],
      "execution_count": 0,
      "outputs": [
        {
          "output_type": "execute_result",
          "data": {
            "text/plain": [
              "'asian exporters fear damage from u.s.-japan rift\\n  mounting trade friction between the\\n  u.s. and japan has raised fears among many of asia\\'s exporting\\n  nations that the row could inflict far-reaching economic\\n  damage, businessmen and officials said.\\n      they told reuter correspondents in asian capitals a u.s.\\n  move against japan might boost protectionist sentiment in the\\n  u.s. and lead to curbs on american imports of their products.\\n      but some exporters said that while the conflict would hurt\\n  them in the long-run, in the short-term tokyo\\'s loss might be\\n  their gain.\\n      the u.s. has said it will impose 300 mln dlrs of tariffs on\\n  imports of japanese electronics goods on april 17, in\\n  retaliation for japan\\'s alleged failure to stick to a pact not\\n  to sell semiconductors on world markets at below cost.\\n      unofficial japanese estimates put the impact of the tariffs\\n  at 10 billion dlrs and spokesmen for major electronics firms\\n  said they would virtually halt exports of products hit by the\\n  new taxes.\\n      \"we wouldn\\'t be able to do business,\" said a spokesman for\\n  leading japanese electronics firm matsushita electric\\n  industrial co ltd &lt;mc.t>.\\n      \"if the tariffs remain in place for any length of time\\n  beyond a few months it will mean the complete erosion of\\n  exports (of goods subject to tariffs) to the u.s.,\" said tom\\n  murtha, a stock analyst at the tokyo office of broker &lt;james\\n  capel and co>.\\n      in taiwan, businessmen and officials are also worried.\\n      \"we are aware of the seriousness of the u.s. threat against\\n  japan because it serves as a warning to us,\" said a senior\\n  taiwanese trade official who asked not to be named.\\n      taiwan had a trade trade surplus of 15.6 billion dlrs last\\n  year, 95 pct of it with the u.s.\\n      the surplus helped swell taiwan\\'s foreign exchange reserves\\n  to 53 billion dlrs, among the world\\'s largest.\\n      \"we must quickly open our markets, remove trade barriers and\\n  cut import tariffs to allow imports of u.s. products, if we\\n  want to defuse problems from possible u.s. retaliation,\" said\\n  paul sheen, chairman of textile exporters &lt;taiwan safe group>.\\n      a senior official of south korea\\'s trade promotion\\n  association said the trade dispute between the u.s. and japan\\n  might also lead to pressure on south korea, whose chief exports\\n  are similar to those of japan.\\n      last year south korea had a trade surplus of 7.1 billion\\n  dlrs with the u.s., up from 4.9 billion dlrs in 1985.\\n      in malaysia, trade officers and businessmen said tough\\n  curbs against japan might allow hard-hit producers of\\n  semiconductors in third countries to expand their sales to the\\n  u.s.\\n      in hong kong, where newspapers have alleged japan has been\\n  selling below-cost semiconductors, some electronics\\n  manufacturers share that view. but other businessmen said such\\n  a short-term commercial advantage would be outweighed by\\n  further u.s. pressure to block imports.\\n      \"that is a very short-term view,\" said lawrence mills,\\n  director-general of the federation of hong kong industry.\\n      \"if the whole purpose is to prevent imports, one day it will\\n  be extended to other sources. much more serious for hong kong\\n  is the disadvantage of action restraining trade,\" he said.\\n      the u.s. last year was hong kong\\'s biggest export market,\\n  accounting for over 30 pct of domestically produced exports.\\n      the australian government is awaiting the outcome of trade\\n  talks between the u.s. and japan with interest and concern,\\n  industry minister john button said in canberra last friday.\\n      \"this kind of deterioration in trade relations between two\\n  countries which are major trading partners of ours is a very\\n  serious matter,\" button said.\\n      he said australia\\'s concerns centred on coal and beef,\\n  australia\\'s two largest exports to japan and also significant\\n  u.s. exports to that country.\\n      meanwhile u.s.-japanese diplomatic manoeuvres to solve the\\n  trade stand-off continue.\\n      japan\\'s ruling liberal democratic party yesterday outlined\\n  a package of economic measures to boost the japanese economy.\\n      the measures proposed include a large supplementary budget\\n  and record public works spending in the first half of the\\n  financial year.\\n      they also call for stepped-up spending as an emergency\\n  measure to stimulate the economy despite prime minister\\n  yasuhiro nakasone\\'s avowed fiscal reform program.\\n      deputy u.s. trade representative michael smith and makoto\\n  kuroda, japan\\'s deputy minister of international trade and\\n  industry (miti), are due to meet in washington this week in an\\n  effort to end the dispute.\\n  \\n\\n'"
            ]
          },
          "metadata": {
            "tags": []
          },
          "execution_count": 4
        }
      ]
    },
    {
      "cell_type": "code",
      "metadata": {
        "id": "3yju1UELxwC8",
        "colab_type": "code",
        "outputId": "64721d95-491e-46c5-e671-c1a755397cf7",
        "colab": {
          "base_uri": "https://localhost:8080/",
          "height": 290
        }
      },
      "source": [
        "tokens =  [w for doc in documents for w in word_tokenize(doc)]\n",
        "tokens[:15]"
      ],
      "execution_count": 0,
      "outputs": [
        {
          "output_type": "execute_result",
          "data": {
            "text/plain": [
              "['asian',\n",
              " 'exporters',\n",
              " 'fear',\n",
              " 'damage',\n",
              " 'from',\n",
              " 'u.s.-japan',\n",
              " 'rift',\n",
              " 'mounting',\n",
              " 'trade',\n",
              " 'friction',\n",
              " 'between',\n",
              " 'the',\n",
              " 'u.s.',\n",
              " 'and',\n",
              " 'japan']"
            ]
          },
          "metadata": {
            "tags": []
          },
          "execution_count": 5
        }
      ]
    },
    {
      "cell_type": "code",
      "metadata": {
        "id": "tBV9qhExxRWM",
        "colab_type": "code",
        "outputId": "fe1b1254-dafd-4375-f2ab-1a6488e20667",
        "colab": {
          "base_uri": "https://localhost:8080/",
          "height": 926
        }
      },
      "source": [
        "# Bi-gramas\n",
        "bigram_measures = BigramAssocMeasures()\n",
        "finder = BigramCollocationFinder.from_words(tokens)\n",
        "# Filtra bigramas con frecuencia menor a 10\n",
        "finder.apply_freq_filter(10)\n",
        "# devuelve los \"n\" bigramas con mayor PMI\n",
        "finder.nbest(bigram_measures.pmi, n = 50)"
      ],
      "execution_count": 0,
      "outputs": [
        {
          "output_type": "execute_result",
          "data": {
            "text/plain": [
              "[('het', 'comite'),\n",
              " ('lago', 'agrio'),\n",
              " ('dar', 'es'),\n",
              " ('es', 'salaam'),\n",
              " ('hoare', 'govett'),\n",
              " ('corpus', 'christi'),\n",
              " ('paz', 'estenssoro'),\n",
              " ('corazon', 'aquino'),\n",
              " ('ay', 'expd-e'),\n",
              " ('lear', 'siegler'),\n",
              " ('l.f.', 'rothschild'),\n",
              " ('ranks', 'hovis'),\n",
              " ('hajime', 'tamura'),\n",
              " ('abu', 'dhabi'),\n",
              " ('poison', 'pill'),\n",
              " ('kleinwort', 'benson'),\n",
              " ('ind', 'ttl-f'),\n",
              " ('rjr', 'nabisco'),\n",
              " ('gates', 'learjet'),\n",
              " ('pro', 'forma'),\n",
              " ('margaret', 'thatcher'),\n",
              " ('carter', 'hawley'),\n",
              " ('canary', 'islands'),\n",
              " ('mcdonnell', 'douglas'),\n",
              " ('bra', 'kanon'),\n",
              " ('lord', 'abbett'),\n",
              " ('puerto', 'rico'),\n",
              " ('phelps', 'dodge'),\n",
              " (\"'n\", 'pak'),\n",
              " ('sao', 'paulo'),\n",
              " ('brace', 'jovanovich'),\n",
              " ('karl', 'otto'),\n",
              " ('marlin', 'fitzwater'),\n",
              " ('pizza', 'inn'),\n",
              " ('dean', 'witter'),\n",
              " ('buenos', 'aires'),\n",
              " ('costa', 'rica'),\n",
              " ('king', 'fahd'),\n",
              " ('del', 'este'),\n",
              " ('pl', '480'),\n",
              " ('hernandez', 'grisanti'),\n",
              " ('arturo', 'hernandez'),\n",
              " ('punta', 'del'),\n",
              " ('el', 'nino'),\n",
              " ('optional', 'origin'),\n",
              " ('du', 'pont'),\n",
              " ('drexel', 'burnham'),\n",
              " ('denis', 'bra'),\n",
              " ('hisham', 'nazer'),\n",
              " ('jorio', 'dauster')]"
            ]
          },
          "metadata": {
            "tags": []
          },
          "execution_count": 6
        }
      ]
    },
    {
      "cell_type": "markdown",
      "metadata": {
        "id": "8I3ugZBhxRWP",
        "colab_type": "text"
      },
      "source": [
        "# Gensim"
      ]
    },
    {
      "cell_type": "code",
      "metadata": {
        "id": "triH4tGdxRWQ",
        "colab_type": "code",
        "colab": {}
      },
      "source": [
        "sentences =  [word_tokenize(sent) for sent in sent_tokenize(\"\\n\".join(documents).lower())]"
      ],
      "execution_count": 0,
      "outputs": []
    },
    {
      "cell_type": "code",
      "metadata": {
        "id": "yApzJBGfSW_v",
        "colab_type": "code",
        "outputId": "8c599e16-08f9-4a48-a1e9-9e2ea23c2b6e",
        "colab": {
          "base_uri": "https://localhost:8080/",
          "height": 1000
        }
      },
      "source": [
        "sentences[:3]"
      ],
      "execution_count": 0,
      "outputs": [
        {
          "output_type": "execute_result",
          "data": {
            "text/plain": [
              "[['asian',\n",
              "  'exporters',\n",
              "  'fear',\n",
              "  'damage',\n",
              "  'from',\n",
              "  'u.s.-japan',\n",
              "  'rift',\n",
              "  'mounting',\n",
              "  'trade',\n",
              "  'friction',\n",
              "  'between',\n",
              "  'the',\n",
              "  'u.s.',\n",
              "  'and',\n",
              "  'japan',\n",
              "  'has',\n",
              "  'raised',\n",
              "  'fears',\n",
              "  'among',\n",
              "  'many',\n",
              "  'of',\n",
              "  'asia',\n",
              "  \"'s\",\n",
              "  'exporting',\n",
              "  'nations',\n",
              "  'that',\n",
              "  'the',\n",
              "  'row',\n",
              "  'could',\n",
              "  'inflict',\n",
              "  'far-reaching',\n",
              "  'economic',\n",
              "  'damage',\n",
              "  ',',\n",
              "  'businessmen',\n",
              "  'and',\n",
              "  'officials',\n",
              "  'said',\n",
              "  '.'],\n",
              " ['they',\n",
              "  'told',\n",
              "  'reuter',\n",
              "  'correspondents',\n",
              "  'in',\n",
              "  'asian',\n",
              "  'capitals',\n",
              "  'a',\n",
              "  'u.s.',\n",
              "  'move',\n",
              "  'against',\n",
              "  'japan',\n",
              "  'might',\n",
              "  'boost',\n",
              "  'protectionist',\n",
              "  'sentiment',\n",
              "  'in',\n",
              "  'the',\n",
              "  'u.s.',\n",
              "  'and',\n",
              "  'lead',\n",
              "  'to',\n",
              "  'curbs',\n",
              "  'on',\n",
              "  'american',\n",
              "  'imports',\n",
              "  'of',\n",
              "  'their',\n",
              "  'products',\n",
              "  '.'],\n",
              " ['but',\n",
              "  'some',\n",
              "  'exporters',\n",
              "  'said',\n",
              "  'that',\n",
              "  'while',\n",
              "  'the',\n",
              "  'conflict',\n",
              "  'would',\n",
              "  'hurt',\n",
              "  'them',\n",
              "  'in',\n",
              "  'the',\n",
              "  'long-run',\n",
              "  ',',\n",
              "  'in',\n",
              "  'the',\n",
              "  'short-term',\n",
              "  'tokyo',\n",
              "  \"'s\",\n",
              "  'loss',\n",
              "  'might',\n",
              "  'be',\n",
              "  'their',\n",
              "  'gain',\n",
              "  '.']]"
            ]
          },
          "metadata": {
            "tags": []
          },
          "execution_count": 9
        }
      ]
    },
    {
      "cell_type": "code",
      "metadata": {
        "id": "O7wPJW-rxRWT",
        "colab_type": "code",
        "colab": {}
      },
      "source": [
        "sentences = [sent for sent in sentences if len(sent)>1]"
      ],
      "execution_count": 0,
      "outputs": []
    },
    {
      "cell_type": "code",
      "metadata": {
        "id": "4cZs0-CaxRWW",
        "colab_type": "code",
        "colab": {}
      },
      "source": [
        "collocations = Phrases(sentences=sentences, min_count=10,threshold=0.5,scoring='npmi') # threshold: minimo score aceptado"
      ],
      "execution_count": 0,
      "outputs": []
    },
    {
      "cell_type": "code",
      "metadata": {
        "id": "E-2nDor0xRWZ",
        "colab_type": "code",
        "colab": {}
      },
      "source": [
        "to_collocations = Phraser(collocations)"
      ],
      "execution_count": 0,
      "outputs": []
    },
    {
      "cell_type": "code",
      "metadata": {
        "id": "cGYtAFGhxRWc",
        "colab_type": "code",
        "colab": {}
      },
      "source": [
        "sent = 'new york is in united states of america. south africa and south america are in different continents'"
      ],
      "execution_count": 0,
      "outputs": []
    },
    {
      "cell_type": "code",
      "metadata": {
        "id": "POePHCeDxRWf",
        "colab_type": "code",
        "outputId": "e3b4705c-ba64-4ae4-b546-b508d3ca56d9",
        "colab": {
          "base_uri": "https://localhost:8080/",
          "height": 290
        }
      },
      "source": [
        "to_collocations[word_tokenize(sent)]"
      ],
      "execution_count": 0,
      "outputs": [
        {
          "output_type": "execute_result",
          "data": {
            "text/plain": [
              "['new_york',\n",
              " 'is',\n",
              " 'in',\n",
              " 'united_states',\n",
              " 'of',\n",
              " 'america',\n",
              " '.',\n",
              " 'south_africa',\n",
              " 'and',\n",
              " 'south',\n",
              " 'america',\n",
              " 'are',\n",
              " 'in',\n",
              " 'different',\n",
              " 'continents']"
            ]
          },
          "metadata": {
            "tags": []
          },
          "execution_count": 14
        }
      ]
    },
    {
      "cell_type": "code",
      "metadata": {
        "id": "3CC5GAiSxRWi",
        "colab_type": "code",
        "outputId": "619df391-aae3-46ad-dee2-456aaad6d7ed",
        "colab": {
          "base_uri": "https://localhost:8080/",
          "height": 35
        }
      },
      "source": [
        "df_collocations =pd.DataFrame([x for x in collocations.export_phrases(sentences)],columns=[\"bigram\",\"score\"])\n",
        "df_collocations.shape"
      ],
      "execution_count": 0,
      "outputs": [
        {
          "output_type": "execute_result",
          "data": {
            "text/plain": [
              "(113970, 2)"
            ]
          },
          "metadata": {
            "tags": []
          },
          "execution_count": 15
        }
      ]
    },
    {
      "cell_type": "code",
      "metadata": {
        "id": "2pvE6_YHxRWl",
        "colab_type": "code",
        "outputId": "e636e710-0502-4ef7-e7b8-bdb196663ef3",
        "colab": {
          "base_uri": "https://localhost:8080/",
          "height": 1000
        }
      },
      "source": [
        "df_collocations.drop_duplicates().sort_values(by=\"score\",ascending=False).head(50)"
      ],
      "execution_count": 0,
      "outputs": [
        {
          "output_type": "execute_result",
          "data": {
            "text/html": [
              "<div>\n",
              "<style scoped>\n",
              "    .dataframe tbody tr th:only-of-type {\n",
              "        vertical-align: middle;\n",
              "    }\n",
              "\n",
              "    .dataframe tbody tr th {\n",
              "        vertical-align: top;\n",
              "    }\n",
              "\n",
              "    .dataframe thead th {\n",
              "        text-align: right;\n",
              "    }\n",
              "</style>\n",
              "<table border=\"1\" class=\"dataframe\">\n",
              "  <thead>\n",
              "    <tr style=\"text-align: right;\">\n",
              "      <th></th>\n",
              "      <th>bigram</th>\n",
              "      <th>score</th>\n",
              "    </tr>\n",
              "  </thead>\n",
              "  <tbody>\n",
              "    <tr>\n",
              "      <th>39186</th>\n",
              "      <td>b'corpus christi'</td>\n",
              "      <td>1.000000</td>\n",
              "    </tr>\n",
              "    <tr>\n",
              "      <th>7608</th>\n",
              "      <td>b'lago agrio'</td>\n",
              "      <td>1.000000</td>\n",
              "    </tr>\n",
              "    <tr>\n",
              "      <th>8018</th>\n",
              "      <td>b'het comite'</td>\n",
              "      <td>1.000000</td>\n",
              "    </tr>\n",
              "    <tr>\n",
              "      <th>33044</th>\n",
              "      <td>b'bra kanon'</td>\n",
              "      <td>1.000000</td>\n",
              "    </tr>\n",
              "    <tr>\n",
              "      <th>1258</th>\n",
              "      <td>b'buenos aires'</td>\n",
              "      <td>1.000000</td>\n",
              "    </tr>\n",
              "    <tr>\n",
              "      <th>8</th>\n",
              "      <td>b'&amp; lt'</td>\n",
              "      <td>0.999734</td>\n",
              "    </tr>\n",
              "    <tr>\n",
              "      <th>170</th>\n",
              "      <td>b'lt ;'</td>\n",
              "      <td>0.998407</td>\n",
              "    </tr>\n",
              "    <tr>\n",
              "      <th>5811</th>\n",
              "      <td>b'04/09/87 03/09/87'</td>\n",
              "      <td>0.997678</td>\n",
              "    </tr>\n",
              "    <tr>\n",
              "      <th>22542</th>\n",
              "      <td>b'hoare govett'</td>\n",
              "      <td>0.992659</td>\n",
              "    </tr>\n",
              "    <tr>\n",
              "      <th>8503</th>\n",
              "      <td>b'crazy eddie'</td>\n",
              "      <td>0.992514</td>\n",
              "    </tr>\n",
              "    <tr>\n",
              "      <th>815</th>\n",
              "      <td>b'avg shrs'</td>\n",
              "      <td>0.991896</td>\n",
              "    </tr>\n",
              "    <tr>\n",
              "      <th>28</th>\n",
              "      <td>b'hong kong'</td>\n",
              "      <td>0.986784</td>\n",
              "    </tr>\n",
              "    <tr>\n",
              "      <th>101</th>\n",
              "      <td>b'sri lanka'</td>\n",
              "      <td>0.986650</td>\n",
              "    </tr>\n",
              "    <tr>\n",
              "      <th>15465</th>\n",
              "      <td>b'karl otto'</td>\n",
              "      <td>0.986516</td>\n",
              "    </tr>\n",
              "    <tr>\n",
              "      <th>3788</th>\n",
              "      <td>b'los angeles'</td>\n",
              "      <td>0.985732</td>\n",
              "    </tr>\n",
              "    <tr>\n",
              "      <th>24386</th>\n",
              "      <td>b'dar es'</td>\n",
              "      <td>0.984740</td>\n",
              "    </tr>\n",
              "    <tr>\n",
              "      <th>433</th>\n",
              "      <td>b'wall street'</td>\n",
              "      <td>0.983436</td>\n",
              "    </tr>\n",
              "    <tr>\n",
              "      <th>5915</th>\n",
              "      <td>b'4/2/87 prev'</td>\n",
              "      <td>0.980448</td>\n",
              "    </tr>\n",
              "    <tr>\n",
              "      <th>5923</th>\n",
              "      <td>b'prev wk'</td>\n",
              "      <td>0.980448</td>\n",
              "    </tr>\n",
              "    <tr>\n",
              "      <th>8156</th>\n",
              "      <td>b'poison pill'</td>\n",
              "      <td>0.979519</td>\n",
              "    </tr>\n",
              "    <tr>\n",
              "      <th>76359</th>\n",
              "      <td>b'paz estenssoro'</td>\n",
              "      <td>0.978040</td>\n",
              "    </tr>\n",
              "    <tr>\n",
              "      <th>12942</th>\n",
              "      <td>b'costa rica'</td>\n",
              "      <td>0.974368</td>\n",
              "    </tr>\n",
              "    <tr>\n",
              "      <th>69050</th>\n",
              "      <td>b'corazon aquino'</td>\n",
              "      <td>0.973831</td>\n",
              "    </tr>\n",
              "    <tr>\n",
              "      <th>11235</th>\n",
              "      <td>b'abu dhabi'</td>\n",
              "      <td>0.973699</td>\n",
              "    </tr>\n",
              "    <tr>\n",
              "      <th>3079</th>\n",
              "      <td>b'merrill lynch'</td>\n",
              "      <td>0.973685</td>\n",
              "    </tr>\n",
              "    <tr>\n",
              "      <th>5314</th>\n",
              "      <td>b'k mart'</td>\n",
              "      <td>0.972811</td>\n",
              "    </tr>\n",
              "    <tr>\n",
              "      <th>1417</th>\n",
              "      <td>b'dean witter'</td>\n",
              "      <td>0.971238</td>\n",
              "    </tr>\n",
              "    <tr>\n",
              "      <th>9034</th>\n",
              "      <td>b'drexel burnham'</td>\n",
              "      <td>0.970734</td>\n",
              "    </tr>\n",
              "    <tr>\n",
              "      <th>52528</th>\n",
              "      <td>b'lear siegler'</td>\n",
              "      <td>0.970395</td>\n",
              "    </tr>\n",
              "    <tr>\n",
              "      <th>1631</th>\n",
              "      <td>b'sao paulo'</td>\n",
              "      <td>0.966985</td>\n",
              "    </tr>\n",
              "    <tr>\n",
              "      <th>20450</th>\n",
              "      <td>b'l.f. rothschild'</td>\n",
              "      <td>0.963271</td>\n",
              "    </tr>\n",
              "    <tr>\n",
              "      <th>25820</th>\n",
              "      <td>b'ranks hovis'</td>\n",
              "      <td>0.961045</td>\n",
              "    </tr>\n",
              "    <tr>\n",
              "      <th>5928</th>\n",
              "      <td>b'ay expd-e'</td>\n",
              "      <td>0.960661</td>\n",
              "    </tr>\n",
              "    <tr>\n",
              "      <th>16967</th>\n",
              "      <td>b'phelps dodge'</td>\n",
              "      <td>0.959547</td>\n",
              "    </tr>\n",
              "    <tr>\n",
              "      <th>11119</th>\n",
              "      <td>b'pro forma'</td>\n",
              "      <td>0.959279</td>\n",
              "    </tr>\n",
              "    <tr>\n",
              "      <th>7724</th>\n",
              "      <td>b'margaret thatcher'</td>\n",
              "      <td>0.957375</td>\n",
              "    </tr>\n",
              "    <tr>\n",
              "      <th>76634</th>\n",
              "      <td>b'gates learjet'</td>\n",
              "      <td>0.957244</td>\n",
              "    </tr>\n",
              "    <tr>\n",
              "      <th>877</th>\n",
              "      <td>b'note :'</td>\n",
              "      <td>0.951387</td>\n",
              "    </tr>\n",
              "    <tr>\n",
              "      <th>480</th>\n",
              "      <td>b'jardine matheson'</td>\n",
              "      <td>0.950632</td>\n",
              "    </tr>\n",
              "    <tr>\n",
              "      <th>124</th>\n",
              "      <td>b'kleinwort benson'</td>\n",
              "      <td>0.949778</td>\n",
              "    </tr>\n",
              "    <tr>\n",
              "      <th>7012</th>\n",
              "      <td>b'du pont'</td>\n",
              "      <td>0.947989</td>\n",
              "    </tr>\n",
              "    <tr>\n",
              "      <th>23148</th>\n",
              "      <td>b'hernandez grisanti'</td>\n",
              "      <td>0.947074</td>\n",
              "    </tr>\n",
              "    <tr>\n",
              "      <th>12830</th>\n",
              "      <td>b'hajime tamura'</td>\n",
              "      <td>0.946277</td>\n",
              "    </tr>\n",
              "    <tr>\n",
              "      <th>1259</th>\n",
              "      <td>b'santa fe'</td>\n",
              "      <td>0.944366</td>\n",
              "    </tr>\n",
              "    <tr>\n",
              "      <th>303</th>\n",
              "      <td>b'saudi arabia'</td>\n",
              "      <td>0.942982</td>\n",
              "    </tr>\n",
              "    <tr>\n",
              "      <th>19259</th>\n",
              "      <td>b'carter hawley'</td>\n",
              "      <td>0.942731</td>\n",
              "    </tr>\n",
              "    <tr>\n",
              "      <th>5929</th>\n",
              "      <td>b'ind ttl-f'</td>\n",
              "      <td>0.941517</td>\n",
              "    </tr>\n",
              "    <tr>\n",
              "      <th>2012</th>\n",
              "      <td>b'lord abbett'</td>\n",
              "      <td>0.940302</td>\n",
              "    </tr>\n",
              "    <tr>\n",
              "      <th>5398</th>\n",
              "      <td>b'puerto rico'</td>\n",
              "      <td>0.939428</td>\n",
              "    </tr>\n",
              "    <tr>\n",
              "      <th>2307</th>\n",
              "      <td>b'exchequer nigel'</td>\n",
              "      <td>0.938548</td>\n",
              "    </tr>\n",
              "  </tbody>\n",
              "</table>\n",
              "</div>"
            ],
            "text/plain": [
              "                      bigram     score\n",
              "39186      b'corpus christi'  1.000000\n",
              "7608           b'lago agrio'  1.000000\n",
              "8018           b'het comite'  1.000000\n",
              "33044           b'bra kanon'  1.000000\n",
              "1258         b'buenos aires'  1.000000\n",
              "8                    b'& lt'  0.999734\n",
              "170                  b'lt ;'  0.998407\n",
              "5811    b'04/09/87 03/09/87'  0.997678\n",
              "22542        b'hoare govett'  0.992659\n",
              "8503          b'crazy eddie'  0.992514\n",
              "815              b'avg shrs'  0.991896\n",
              "28              b'hong kong'  0.986784\n",
              "101             b'sri lanka'  0.986650\n",
              "15465           b'karl otto'  0.986516\n",
              "3788          b'los angeles'  0.985732\n",
              "24386              b'dar es'  0.984740\n",
              "433           b'wall street'  0.983436\n",
              "5915          b'4/2/87 prev'  0.980448\n",
              "5923              b'prev wk'  0.980448\n",
              "8156          b'poison pill'  0.979519\n",
              "76359      b'paz estenssoro'  0.978040\n",
              "12942          b'costa rica'  0.974368\n",
              "69050      b'corazon aquino'  0.973831\n",
              "11235           b'abu dhabi'  0.973699\n",
              "3079        b'merrill lynch'  0.973685\n",
              "5314               b'k mart'  0.972811\n",
              "1417          b'dean witter'  0.971238\n",
              "9034       b'drexel burnham'  0.970734\n",
              "52528        b'lear siegler'  0.970395\n",
              "1631            b'sao paulo'  0.966985\n",
              "20450     b'l.f. rothschild'  0.963271\n",
              "25820         b'ranks hovis'  0.961045\n",
              "5928            b'ay expd-e'  0.960661\n",
              "16967        b'phelps dodge'  0.959547\n",
              "11119           b'pro forma'  0.959279\n",
              "7724    b'margaret thatcher'  0.957375\n",
              "76634       b'gates learjet'  0.957244\n",
              "877                b'note :'  0.951387\n",
              "480      b'jardine matheson'  0.950632\n",
              "124      b'kleinwort benson'  0.949778\n",
              "7012              b'du pont'  0.947989\n",
              "23148  b'hernandez grisanti'  0.947074\n",
              "12830       b'hajime tamura'  0.946277\n",
              "1259             b'santa fe'  0.944366\n",
              "303          b'saudi arabia'  0.942982\n",
              "19259       b'carter hawley'  0.942731\n",
              "5929            b'ind ttl-f'  0.941517\n",
              "2012          b'lord abbett'  0.940302\n",
              "5398          b'puerto rico'  0.939428\n",
              "2307      b'exchequer nigel'  0.938548"
            ]
          },
          "metadata": {
            "tags": []
          },
          "execution_count": 16
        }
      ]
    },
    {
      "cell_type": "code",
      "metadata": {
        "id": "xks1BBRuxRWo",
        "colab_type": "code",
        "colab": {}
      },
      "source": [
        ""
      ],
      "execution_count": 0,
      "outputs": []
    },
    {
      "cell_type": "code",
      "metadata": {
        "id": "u6tosrYjxRWq",
        "colab_type": "code",
        "colab": {}
      },
      "source": [
        ""
      ],
      "execution_count": 0,
      "outputs": []
    },
    {
      "cell_type": "code",
      "metadata": {
        "id": "VW-dJFHj64hz",
        "colab_type": "code",
        "colab": {}
      },
      "source": [
        ""
      ],
      "execution_count": 0,
      "outputs": []
    }
  ]
}