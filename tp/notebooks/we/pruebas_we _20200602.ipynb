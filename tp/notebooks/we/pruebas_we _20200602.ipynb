{
 "cells": [
  {
   "cell_type": "code",
   "execution_count": 1,
   "metadata": {},
   "outputs": [],
   "source": [
    "import pandas as pd\n",
    "import numpy as np\n",
    "import random\n",
    "import re\n",
    "import csv\n",
    "from collections import defaultdict\n",
    "from gensim import corpora, models, similarities, matutils\n",
    "from string import punctuation\n",
    "from gensim.models import CoherenceModel, LdaModel, LsiModel, HdpModel\n",
    "import nltk\n",
    "from nltk import RegexpTokenizer, word_tokenize, sent_tokenize\n",
    "from nltk.stem.porter import PorterStemmer\n",
    "from nltk.corpus import stopwords\n",
    "from sklearn.model_selection import train_test_split\n",
    "from sklearn.feature_extraction.text import TfidfVectorizer\n",
    "import pyLDAvis.gensim\n",
    "pyLDAvis.enable_notebook()\n",
    "\n",
    "import warnings\n",
    "warnings.filterwarnings('ignore')  \n",
    "%matplotlib inline"
   ]
  },
  {
   "cell_type": "code",
   "execution_count": 2,
   "metadata": {},
   "outputs": [],
   "source": [
    "from gensim.models.word2vec import Word2Vec\n",
    "from gensim.models import KeyedVectors\n",
    "from gensim.matutils import cossim\n",
    "from gensim.models.phrases import Phrases, Phraser"
   ]
  },
  {
   "cell_type": "code",
   "execution_count": 3,
   "metadata": {},
   "outputs": [],
   "source": [
    "import matplotlib.pyplot as plt\n",
    "from sklearn.metrics.pairwise import euclidean_distances\n",
    "from sklearn.metrics import adjusted_rand_score, silhouette_score, silhouette_samples\n",
    "import matplotlib.cm as cm\n",
    "import matplotlib as mpl\n",
    "import seaborn as sns"
   ]
  },
  {
   "cell_type": "code",
   "execution_count": 4,
   "metadata": {},
   "outputs": [],
   "source": [
    "from scipy.cluster.hierarchy import dendrogram, linkage,cophenet, fcluster\n",
    "from scipy.spatial.distance import pdist, squareform\n",
    "from sklearn.cluster import KMeans, DBSCAN\n",
    "from sklearn.metrics import adjusted_rand_score, silhouette_score, silhouette_samples\n",
    "from sklearn.neighbors import NearestNeighbors"
   ]
  },
  {
   "cell_type": "code",
   "execution_count": 5,
   "metadata": {},
   "outputs": [
    {
     "name": "stderr",
     "output_type": "stream",
     "text": [
      "[nltk_data] Downloading package stopwords to\n",
      "[nltk_data]     C:\\Users\\susan\\AppData\\Roaming\\nltk_data...\n",
      "[nltk_data]   Package stopwords is already up-to-date!\n"
     ]
    },
    {
     "data": {
      "text/plain": [
       "True"
      ]
     },
     "execution_count": 5,
     "metadata": {},
     "output_type": "execute_result"
    }
   ],
   "source": [
    "nltk.download('stopwords')"
   ]
  },
  {
   "cell_type": "code",
   "execution_count": 6,
   "metadata": {},
   "outputs": [],
   "source": [
    "#import matplotlib.pylab as pylab\n",
    "#params = {'legend.fontsize': 'x-large',\n",
    "#          'figure.figsize': (15, 5),\n",
    "#         'axes.labelsize': 'x-large',\n",
    "#         'axes.titlesize':'x-large',\n",
    "#         'xtick.labelsize':'x-large',\n",
    "#         'ytick.labelsize':'x-large'}\n",
    "#pylab.rcParams.update(params)"
   ]
  },
  {
   "cell_type": "code",
   "execution_count": 7,
   "metadata": {},
   "outputs": [],
   "source": [
    "#pd.set_option('display.max_colwidth', -1)"
   ]
  },
  {
   "cell_type": "code",
   "execution_count": 8,
   "metadata": {},
   "outputs": [
    {
     "name": "stdout",
     "output_type": "stream",
     "text": [
      "593\n"
     ]
    }
   ],
   "source": [
    "##  Leer cluster de kmeans - VET\n",
    "Vet_dreams_clusters_kmeans =np.array(pd.read_csv('../data/sa/vet_clusters_kmeans.txt', header=None, names=['Cluster'] )['Cluster'])\n",
    "print(len(Vet_dreams_clusters_kmeans))\n",
    "Vet_dreams_clusters_kmeans= np.array([x+1 for x in Vet_dreams_clusters_kmeans])\n",
    "\n",
    "##  Leer cluster de kmeans - Phil\n",
    "Phil_dreams_clusters_kmeans=[4, 3, 1, 4, 2, 1, 3, 0, 2, 1, 3, 2, 1, 3, 4, 4, 4, 2, 4, 3, 4, 2,\n",
    "       4, 1, 2, 1, 4, 1, 4, 4, 1, 3, 4, 1, 4, 2, 1, 2, 2, 1, 2, 1, 0, 4,\n",
    "       3, 1, 4, 4, 1, 1, 4, 4, 1, 0, 4, 0, 4, 1, 1, 4, 1, 4, 1, 4, 1, 4,\n",
    "       3, 4, 2, 2, 1, 4, 1, 1, 2, 0, 2, 4, 2, 4, 4, 1, 1, 1, 4, 3, 1, 4,\n",
    "       1, 1, 1, 2, 2, 1, 0, 2, 1, 4, 1, 2, 2, 4, 1, 1, 1, 1, 4, 0, 0, 0,\n",
    "       4, 2, 2, 0, 2, 4, 3, 0, 2, 1, 2, 3, 1, 2, 4, 2, 1, 0, 4, 3, 3, 1,\n",
    "       2, 0, 4, 2, 1, 0, 1, 4, 2, 2, 1, 2, 2, 1, 4, 2, 3, 4, 4, 0, 0, 3,\n",
    "       4, 2, 1, 0, 4, 4, 4, 0, 4, 1, 4, 4, 2, 1, 1, 2, 0, 2, 2, 1, 1, 0,\n",
    "       4, 2, 4, 0, 4, 3, 1, 4, 2, 4, 4, 2, 0, 3, 1, 4, 0, 4, 2, 4, 4, 2,\n",
    "       4, 2, 1, 1, 4, 2, 4, 1, 4, 4, 3, 0, 2, 0, 2, 4, 2, 4, 2, 4, 0, 4,\n",
    "       0, 3, 4, 4, 1, 3, 2, 2, 2, 1, 0, 2, 2, 1, 2, 2, 1, 3, 4, 2, 1, 0,\n",
    "       0, 4, 0, 4, 0, 4, 4, 2, 1, 0, 4, 1, 2, 2, 2, 4, 2, 4, 1, 1, 0, 0,\n",
    "       3, 2, 2, 3, 1, 4, 1, 4, 4, 4, 2, 2, 3, 4, 4, 4, 2, 4, 4, 1, 4, 0,\n",
    "       2, 1, 2, 1, 2, 0, 4, 1, 1, 0, 2, 2, 0, 4, 4, 2, 1, 2, 4, 2, 2, 1,\n",
    "       2, 4, 1, 1, 2, 0, 4, 2, 2, 4, 2, 0, 4, 2, 2, 1, 2, 3, 4, 3, 3, 3,\n",
    "       2, 1, 2, 4, 4, 1, 2, 1, 1, 4, 0, 4, 4, 0, 4, 3, 0, 4, 0, 4, 1, 4,\n",
    "       4, 1, 2, 4, 1, 2, 4, 4, 3, 4, 4, 4, 2, 1, 1, 0, 1, 0, 4, 2, 1, 4,\n",
    "       1, 4, 0, 0, 3, 0, 1, 4, 0, 1, 2, 0, 1, 2, 0, 1, 0, 1, 2, 1, 2, 0,\n",
    "       4, 0, 0, 3, 4, 1, 4, 4, 2, 0, 1, 2, 4, 2, 1, 2, 4, 2, 3, 4, 4, 2,\n",
    "       1, 1, 4, 0, 2, 4, 4, 0, 4, 2, 4, 0, 2, 1, 4, 0, 2, 2, 2, 1, 1, 4,\n",
    "       0, 1, 2, 3, 0, 0, 0, 0, 0, 3, 0, 2, 4, 2, 0, 1, 0, 0, 0, 3, 4, 4,\n",
    "       2, 2, 0, 0, 4, 0, 0, 4, 0, 2, 2, 0, 2, 2, 4, 2, 4, 4, 4, 4, 1, 4,\n",
    "       2, 4, 2, 4, 1, 1, 4, 3, 4, 4, 0, 2, 2, 2, 0, 4, 0, 4, 4, 0, 4, 3]\n",
    "Phil_dreams_clusters_kmeans= np.array([x+1 for x in Phil_dreams_clusters_kmeans])"
   ]
  },
  {
   "cell_type": "code",
   "execution_count": 9,
   "metadata": {},
   "outputs": [],
   "source": [
    "\n",
    "with open('phil_clusters_kmeans.txt', 'w') as filehandle:\n",
    "        for listitem in Phil_dreams_clusters_kmeans:\n",
    "            filehandle.write('%d\\n' % round(listitem,2))"
   ]
  },
  {
   "cell_type": "code",
   "execution_count": 10,
   "metadata": {},
   "outputs": [
    {
     "name": "stdout",
     "output_type": "stream",
     "text": [
      "(89, 8)\n"
     ]
    }
   ],
   "source": [
    "summary = pd.read_csv('../data/dreamers_summary.csv', sep='|')\n",
    "print(summary.shape)"
   ]
  },
  {
   "cell_type": "code",
   "execution_count": 11,
   "metadata": {},
   "outputs": [
    {
     "data": {
      "text/html": [
       "<div>\n",
       "<style scoped>\n",
       "    .dataframe tbody tr th:only-of-type {\n",
       "        vertical-align: middle;\n",
       "    }\n",
       "\n",
       "    .dataframe tbody tr th {\n",
       "        vertical-align: top;\n",
       "    }\n",
       "\n",
       "    .dataframe thead th {\n",
       "        text-align: right;\n",
       "    }\n",
       "</style>\n",
       "<table border=\"1\" class=\"dataframe\">\n",
       "  <thead>\n",
       "    <tr style=\"text-align: right;\">\n",
       "      <th></th>\n",
       "      <th>group</th>\n",
       "      <th>dreamer sex</th>\n",
       "      <th>dreamer age</th>\n",
       "      <th>dream years</th>\n",
       "      <th>numbers of dreams</th>\n",
       "      <th>summary</th>\n",
       "      <th>id</th>\n",
       "      <th>total_words</th>\n",
       "    </tr>\n",
       "  </thead>\n",
       "  <tbody>\n",
       "    <tr>\n",
       "      <th>0</th>\n",
       "      <td>Alta: a detailed dreamer</td>\n",
       "      <td>female</td>\n",
       "      <td>adult</td>\n",
       "      <td>1985-1997</td>\n",
       "      <td>422</td>\n",
       "      <td>Alta is an adult woman who wrote down her drea...</td>\n",
       "      <td>1</td>\n",
       "      <td>166351.0</td>\n",
       "    </tr>\n",
       "    <tr>\n",
       "      <th>1</th>\n",
       "      <td>Angie: age 18 &amp; 20</td>\n",
       "      <td>female</td>\n",
       "      <td>18 to 20</td>\n",
       "      <td>1996</td>\n",
       "      <td>48</td>\n",
       "      <td>Angie is a college student whose dreams are of...</td>\n",
       "      <td>2</td>\n",
       "      <td>9754.0</td>\n",
       "    </tr>\n",
       "    <tr>\n",
       "      <th>2</th>\n",
       "      <td>Arlie: a middle-aged woman</td>\n",
       "      <td>female</td>\n",
       "      <td>middle-aged</td>\n",
       "      <td>1992-1998</td>\n",
       "      <td>212</td>\n",
       "      <td>Arlie is an older adult woman who wrote down h...</td>\n",
       "      <td>3</td>\n",
       "      <td>22022.0</td>\n",
       "    </tr>\n",
       "    <tr>\n",
       "      <th>3</th>\n",
       "      <td>Barb Sanders</td>\n",
       "      <td>female</td>\n",
       "      <td>20 to 60</td>\n",
       "      <td>1960-1997</td>\n",
       "      <td>3116</td>\n",
       "      <td>Barb Sanders (not her real name) is a middle-a...</td>\n",
       "      <td>4</td>\n",
       "      <td>576351.0</td>\n",
       "    </tr>\n",
       "    <tr>\n",
       "      <th>4</th>\n",
       "      <td>Barb Sanders #2</td>\n",
       "      <td>female</td>\n",
       "      <td>60 to 64</td>\n",
       "      <td>1997-2001</td>\n",
       "      <td>1138</td>\n",
       "      <td>1138 more dreams from Barb Sanders, written do...</td>\n",
       "      <td>5</td>\n",
       "      <td>217901.0</td>\n",
       "    </tr>\n",
       "    <tr>\n",
       "      <th>5</th>\n",
       "      <td>Barb Sanders: baseline</td>\n",
       "      <td>female</td>\n",
       "      <td>20 to 60</td>\n",
       "      <td>1960-1999</td>\n",
       "      <td>250</td>\n",
       "      <td>These 250 dreams are a representative sample o...</td>\n",
       "      <td>6</td>\n",
       "      <td>38588.0</td>\n",
       "    </tr>\n",
       "    <tr>\n",
       "      <th>6</th>\n",
       "      <td>Bay Area girls: Grades 4-6</td>\n",
       "      <td>female</td>\n",
       "      <td>9 to 11</td>\n",
       "      <td>1996-1997</td>\n",
       "      <td>234</td>\n",
       "      <td>The 388 dreams in this set were collected in N...</td>\n",
       "      <td>7</td>\n",
       "      <td>27521.0</td>\n",
       "    </tr>\n",
       "    <tr>\n",
       "      <th>7</th>\n",
       "      <td>Bay Area girls: Grades 7-9</td>\n",
       "      <td>female</td>\n",
       "      <td>12 to 14</td>\n",
       "      <td>1996-1997</td>\n",
       "      <td>154</td>\n",
       "      <td>The 388 dreams in this set were collected in N...</td>\n",
       "      <td>8</td>\n",
       "      <td>21712.0</td>\n",
       "    </tr>\n",
       "    <tr>\n",
       "      <th>8</th>\n",
       "      <td>Bea 1: a high school student</td>\n",
       "      <td>female</td>\n",
       "      <td>14 to 16</td>\n",
       "      <td>2003-2005</td>\n",
       "      <td>223</td>\n",
       "      <td>Bea's vivid dream reports from age 14 to 16 pr...</td>\n",
       "      <td>9</td>\n",
       "      <td>28698.0</td>\n",
       "    </tr>\n",
       "    <tr>\n",
       "      <th>9</th>\n",
       "      <td>Bea 2: a college student</td>\n",
       "      <td>female</td>\n",
       "      <td>14 to 16</td>\n",
       "      <td>2007-2010</td>\n",
       "      <td>63</td>\n",
       "      <td>See Bea 1.</td>\n",
       "      <td>10</td>\n",
       "      <td>14128.0</td>\n",
       "    </tr>\n",
       "    <tr>\n",
       "      <th>10</th>\n",
       "      <td>Blind dreamers (F)</td>\n",
       "      <td>female</td>\n",
       "      <td>?</td>\n",
       "      <td>mid-1990s</td>\n",
       "      <td>238</td>\n",
       "      <td>These dreams were collected in the mid-1990s f...</td>\n",
       "      <td>11</td>\n",
       "      <td>35883.0</td>\n",
       "    </tr>\n",
       "    <tr>\n",
       "      <th>11</th>\n",
       "      <td>Blind dreamers (M)</td>\n",
       "      <td>male</td>\n",
       "      <td>?</td>\n",
       "      <td>mid-1990s</td>\n",
       "      <td>143</td>\n",
       "      <td>These dreams were collected in the mid-1990s f...</td>\n",
       "      <td>12</td>\n",
       "      <td>18701.0</td>\n",
       "    </tr>\n",
       "    <tr>\n",
       "      <th>12</th>\n",
       "      <td>Chris: a transvestite</td>\n",
       "      <td>male</td>\n",
       "      <td>50</td>\n",
       "      <td>1968</td>\n",
       "      <td>100</td>\n",
       "      <td>Chris was a Wall Street businessman in his 50s...</td>\n",
       "      <td>13</td>\n",
       "      <td>14669.0</td>\n",
       "    </tr>\n",
       "    <tr>\n",
       "      <th>13</th>\n",
       "      <td>Chuck: a physical scientist</td>\n",
       "      <td>male</td>\n",
       "      <td>young-adult</td>\n",
       "      <td>1991-1993</td>\n",
       "      <td>75</td>\n",
       "      <td>Chuck is a young Ph.D. researcher in one of th...</td>\n",
       "      <td>14</td>\n",
       "      <td>12538.0</td>\n",
       "    </tr>\n",
       "    <tr>\n",
       "      <th>14</th>\n",
       "      <td>College women, late 1940s</td>\n",
       "      <td>female</td>\n",
       "      <td>young-adult</td>\n",
       "      <td>1946-1950</td>\n",
       "      <td>681</td>\n",
       "      <td>These dreams were collected by Calvin Hall fro...</td>\n",
       "      <td>15</td>\n",
       "      <td>131374.0</td>\n",
       "    </tr>\n",
       "    <tr>\n",
       "      <th>15</th>\n",
       "      <td>Dahlia: concerns with appearance</td>\n",
       "      <td>female</td>\n",
       "      <td>21</td>\n",
       "      <td>?</td>\n",
       "      <td>24</td>\n",
       "      <td>This series of 24 dreams from a 21-year-old co...</td>\n",
       "      <td>16</td>\n",
       "      <td>2459.0</td>\n",
       "    </tr>\n",
       "    <tr>\n",
       "      <th>16</th>\n",
       "      <td>David: teenage dreams</td>\n",
       "      <td>male</td>\n",
       "      <td>13 to 20</td>\n",
       "      <td>1990-1999</td>\n",
       "      <td>166</td>\n",
       "      <td>David is our code name for a young man in his ...</td>\n",
       "      <td>17</td>\n",
       "      <td>34582.0</td>\n",
       "    </tr>\n",
       "    <tr>\n",
       "      <th>17</th>\n",
       "      <td>Detlev von Uslar, auf Deutsch</td>\n",
       "      <td>male</td>\n",
       "      <td>adult</td>\n",
       "      <td>1949-2001</td>\n",
       "      <td>6100</td>\n",
       "      <td>This remarkable series of 6,100 dreams in Germ...</td>\n",
       "      <td>18</td>\n",
       "      <td>835138.0</td>\n",
       "    </tr>\n",
       "    <tr>\n",
       "      <th>18</th>\n",
       "      <td>Dorothea: 53 years of dreams</td>\n",
       "      <td>female</td>\n",
       "      <td>25 to 75</td>\n",
       "      <td>1912-1965</td>\n",
       "      <td>900</td>\n",
       "      <td>Dorothea lived from 1887 to 1965. This series ...</td>\n",
       "      <td>19</td>\n",
       "      <td>68185.0</td>\n",
       "    </tr>\n",
       "    <tr>\n",
       "      <th>19</th>\n",
       "      <td>Ed: dreams of his late wife</td>\n",
       "      <td>male</td>\n",
       "      <td>57 to 80</td>\n",
       "      <td>1980-2002</td>\n",
       "      <td>143</td>\n",
       "      <td>Ed was 57 when his wife Mary died of cancer af...</td>\n",
       "      <td>20</td>\n",
       "      <td>24562.0</td>\n",
       "    </tr>\n",
       "    <tr>\n",
       "      <th>20</th>\n",
       "      <td>Edna: a blind woman</td>\n",
       "      <td>female</td>\n",
       "      <td>young-adult</td>\n",
       "      <td>1948-1949</td>\n",
       "      <td>19</td>\n",
       "      <td>Edna is a congenitally blind first-year colleg...</td>\n",
       "      <td>21</td>\n",
       "      <td>4454.0</td>\n",
       "    </tr>\n",
       "    <tr>\n",
       "      <th>21</th>\n",
       "      <td>Elizabeth: a woman in her 40s</td>\n",
       "      <td>female</td>\n",
       "      <td>adult</td>\n",
       "      <td>1999-</td>\n",
       "      <td>1707</td>\n",
       "      <td>Elizabeth first recorded a few of her dreams i...</td>\n",
       "      <td>22</td>\n",
       "      <td>552153.0</td>\n",
       "    </tr>\n",
       "    <tr>\n",
       "      <th>22</th>\n",
       "      <td>Emma's Husband</td>\n",
       "      <td>male</td>\n",
       "      <td>40 to 80</td>\n",
       "      <td>1940-1998</td>\n",
       "      <td>72</td>\n",
       "      <td>These dreams come from Emma's husband, who is ...</td>\n",
       "      <td>23</td>\n",
       "      <td>11912.0</td>\n",
       "    </tr>\n",
       "    <tr>\n",
       "      <th>23</th>\n",
       "      <td>Emma: 48 years of dreams</td>\n",
       "      <td>female</td>\n",
       "      <td>40 to 80</td>\n",
       "      <td>1949-1997</td>\n",
       "      <td>1221</td>\n",
       "      <td>Emma is an elderly woman who wrote down her dr...</td>\n",
       "      <td>24</td>\n",
       "      <td>88196.0</td>\n",
       "    </tr>\n",
       "    <tr>\n",
       "      <th>24</th>\n",
       "      <td>Esther: an adolescent girl</td>\n",
       "      <td>female</td>\n",
       "      <td>12 to 21</td>\n",
       "      <td>1998</td>\n",
       "      <td>110</td>\n",
       "      <td>This series is unique in that it starts at age...</td>\n",
       "      <td>25</td>\n",
       "      <td>9549.0</td>\n",
       "    </tr>\n",
       "    <tr>\n",
       "      <th>25</th>\n",
       "      <td>German dreams (F)</td>\n",
       "      <td>female</td>\n",
       "      <td>young-adult</td>\n",
       "      <td>1990s</td>\n",
       "      <td>397</td>\n",
       "      <td>These dream reports -- in German -- were colle...</td>\n",
       "      <td>26</td>\n",
       "      <td>41878.0</td>\n",
       "    </tr>\n",
       "    <tr>\n",
       "      <th>26</th>\n",
       "      <td>German dreams (M)</td>\n",
       "      <td>male</td>\n",
       "      <td>young-adult</td>\n",
       "      <td>1990s</td>\n",
       "      <td>140</td>\n",
       "      <td>These dream reports -- in German -- were colle...</td>\n",
       "      <td>27</td>\n",
       "      <td>15519.0</td>\n",
       "    </tr>\n",
       "    <tr>\n",
       "      <th>27</th>\n",
       "      <td>Hall/VdC Norms: Female</td>\n",
       "      <td>female</td>\n",
       "      <td>?</td>\n",
       "      <td>1940s-1950s</td>\n",
       "      <td>490</td>\n",
       "      <td>This set contains the 500 dream reports on whi...</td>\n",
       "      <td>28</td>\n",
       "      <td>63757.0</td>\n",
       "    </tr>\n",
       "    <tr>\n",
       "      <th>28</th>\n",
       "      <td>Hall/VdC Norms: Male</td>\n",
       "      <td>male</td>\n",
       "      <td>?</td>\n",
       "      <td>1940s-1950s</td>\n",
       "      <td>491</td>\n",
       "      <td>This set contains the 500 dream reports on whi...</td>\n",
       "      <td>29</td>\n",
       "      <td>58325.0</td>\n",
       "    </tr>\n",
       "    <tr>\n",
       "      <th>29</th>\n",
       "      <td>Izzy (ALL, including non-consecutive)</td>\n",
       "      <td>female</td>\n",
       "      <td>12 to 25</td>\n",
       "      <td>2003-2016</td>\n",
       "      <td>4352</td>\n",
       "      <td>This dream series consists of 4,352 dream repo...</td>\n",
       "      <td>30</td>\n",
       "      <td>593077.0</td>\n",
       "    </tr>\n",
       "    <tr>\n",
       "      <th>...</th>\n",
       "      <td>...</td>\n",
       "      <td>...</td>\n",
       "      <td>...</td>\n",
       "      <td>...</td>\n",
       "      <td>...</td>\n",
       "      <td>...</td>\n",
       "      <td>...</td>\n",
       "      <td>...</td>\n",
       "    </tr>\n",
       "    <tr>\n",
       "      <th>59</th>\n",
       "      <td>Merri: an artist</td>\n",
       "      <td>female</td>\n",
       "      <td>30</td>\n",
       "      <td>1999-2000</td>\n",
       "      <td>315</td>\n",
       "      <td>Merri Anderson is an artist in her late 30s wh...</td>\n",
       "      <td>60</td>\n",
       "      <td>104661.0</td>\n",
       "    </tr>\n",
       "    <tr>\n",
       "      <th>60</th>\n",
       "      <td>Miami Home-Lab: Home</td>\n",
       "      <td>male</td>\n",
       "      <td>young-adult</td>\n",
       "      <td>1963-1965</td>\n",
       "      <td>171</td>\n",
       "      <td>The dream reports in this collection come for ...</td>\n",
       "      <td>61</td>\n",
       "      <td>41351.0</td>\n",
       "    </tr>\n",
       "    <tr>\n",
       "      <th>61</th>\n",
       "      <td>Miami Home-Lab: Lab</td>\n",
       "      <td>male</td>\n",
       "      <td>young-adult</td>\n",
       "      <td>1963-1965</td>\n",
       "      <td>274</td>\n",
       "      <td>The dream reports in this collection come for ...</td>\n",
       "      <td>62</td>\n",
       "      <td>96449.0</td>\n",
       "    </tr>\n",
       "    <tr>\n",
       "      <th>62</th>\n",
       "      <td>Midwest teenagers (F)</td>\n",
       "      <td>female</td>\n",
       "      <td>14 to 18</td>\n",
       "      <td>1998</td>\n",
       "      <td>111</td>\n",
       "      <td>These dreams from teenagers (ages 14-18) were ...</td>\n",
       "      <td>63</td>\n",
       "      <td>10227.0</td>\n",
       "    </tr>\n",
       "    <tr>\n",
       "      <th>63</th>\n",
       "      <td>Midwest teenagers (M)</td>\n",
       "      <td>male</td>\n",
       "      <td>14 to 18</td>\n",
       "      <td>1998</td>\n",
       "      <td>83</td>\n",
       "      <td>These dreams from teenagers (ages 14-18) were ...</td>\n",
       "      <td>64</td>\n",
       "      <td>4994.0</td>\n",
       "    </tr>\n",
       "    <tr>\n",
       "      <th>64</th>\n",
       "      <td>Nancy: Caring &amp; headstrong</td>\n",
       "      <td>female</td>\n",
       "      <td>20</td>\n",
       "      <td>1997</td>\n",
       "      <td>44</td>\n",
       "      <td>Nancy is a bright, attractive, white working-c...</td>\n",
       "      <td>65</td>\n",
       "      <td>5665.0</td>\n",
       "    </tr>\n",
       "    <tr>\n",
       "      <th>65</th>\n",
       "      <td>The Natural Scientist</td>\n",
       "      <td>male</td>\n",
       "      <td>50</td>\n",
       "      <td>1939</td>\n",
       "      <td>234</td>\n",
       "      <td>The person we call \"The Natural Scientist\" was...</td>\n",
       "      <td>66</td>\n",
       "      <td>34101.0</td>\n",
       "    </tr>\n",
       "    <tr>\n",
       "      <th>66</th>\n",
       "      <td>Norman: a child molester</td>\n",
       "      <td>male</td>\n",
       "      <td>34 to 38</td>\n",
       "      <td>1963-1967</td>\n",
       "      <td>1235</td>\n",
       "      <td>Most of the dreams in this remarkable series w...</td>\n",
       "      <td>67</td>\n",
       "      <td>51340.0</td>\n",
       "    </tr>\n",
       "    <tr>\n",
       "      <th>67</th>\n",
       "      <td>Pegasus: a factory worker</td>\n",
       "      <td>male</td>\n",
       "      <td>middle-aged</td>\n",
       "      <td>1949-1964</td>\n",
       "      <td>1093</td>\n",
       "      <td>Pegasus is a factory worker from the northern ...</td>\n",
       "      <td>68</td>\n",
       "      <td>135928.0</td>\n",
       "    </tr>\n",
       "    <tr>\n",
       "      <th>68</th>\n",
       "      <td>Peruvian men</td>\n",
       "      <td>male</td>\n",
       "      <td>18 to 20</td>\n",
       "      <td>1970</td>\n",
       "      <td>384</td>\n",
       "      <td>These dreams were collected from 48 male and 4...</td>\n",
       "      <td>69</td>\n",
       "      <td>43110.0</td>\n",
       "    </tr>\n",
       "    <tr>\n",
       "      <th>69</th>\n",
       "      <td>Peruvian women</td>\n",
       "      <td>female</td>\n",
       "      <td>18 to 20</td>\n",
       "      <td>1970</td>\n",
       "      <td>382</td>\n",
       "      <td>These dreams were collected from 48 male and 4...</td>\n",
       "      <td>70</td>\n",
       "      <td>54946.0</td>\n",
       "    </tr>\n",
       "    <tr>\n",
       "      <th>70</th>\n",
       "      <td>Phil 1: teens</td>\n",
       "      <td>male</td>\n",
       "      <td>15 to 17</td>\n",
       "      <td>1957-1959</td>\n",
       "      <td>106</td>\n",
       "      <td>Phil is a retired humanities professor with no...</td>\n",
       "      <td>71</td>\n",
       "      <td>15933.0</td>\n",
       "    </tr>\n",
       "    <tr>\n",
       "      <th>71</th>\n",
       "      <td>Phil 2: late 20s</td>\n",
       "      <td>male</td>\n",
       "      <td>29</td>\n",
       "      <td>1971</td>\n",
       "      <td>220</td>\n",
       "      <td>Phil is a retired humanities professor with no...</td>\n",
       "      <td>72</td>\n",
       "      <td>41347.0</td>\n",
       "    </tr>\n",
       "    <tr>\n",
       "      <th>72</th>\n",
       "      <td>Phil 3: retirement</td>\n",
       "      <td>male</td>\n",
       "      <td>62</td>\n",
       "      <td>2004</td>\n",
       "      <td>180</td>\n",
       "      <td>Phil is a retired humanities professor with no...</td>\n",
       "      <td>73</td>\n",
       "      <td>27882.0</td>\n",
       "    </tr>\n",
       "    <tr>\n",
       "      <th>73</th>\n",
       "      <td>The Physiologist</td>\n",
       "      <td>male</td>\n",
       "      <td>22 to 43</td>\n",
       "      <td>1897-1918</td>\n",
       "      <td>86</td>\n",
       "      <td>The Physiologist, whose real name was Percy G....</td>\n",
       "      <td>74</td>\n",
       "      <td>9098.0</td>\n",
       "    </tr>\n",
       "    <tr>\n",
       "      <th>74</th>\n",
       "      <td>Ringo: from the 1960s</td>\n",
       "      <td>male</td>\n",
       "      <td>24</td>\n",
       "      <td>1964</td>\n",
       "      <td>16</td>\n",
       "      <td>Ringo was 24 years old when he wrote down thes...</td>\n",
       "      <td>75</td>\n",
       "      <td>2017.0</td>\n",
       "    </tr>\n",
       "    <tr>\n",
       "      <th>75</th>\n",
       "      <td>Robert Bosnak: A dream analyst</td>\n",
       "      <td>male</td>\n",
       "      <td>50</td>\n",
       "      <td>?</td>\n",
       "      <td>53</td>\n",
       "      <td>Rob Bosnak is a well-known, Jungian-oriented d...</td>\n",
       "      <td>76</td>\n",
       "      <td>7808.0</td>\n",
       "    </tr>\n",
       "    <tr>\n",
       "      <th>76</th>\n",
       "      <td>Samantha: in her 20s</td>\n",
       "      <td>female</td>\n",
       "      <td>20</td>\n",
       "      <td>1992-1999</td>\n",
       "      <td>63</td>\n",
       "      <td>Samantha is a college-educated woman in her tw...</td>\n",
       "      <td>77</td>\n",
       "      <td>20668.0</td>\n",
       "    </tr>\n",
       "    <tr>\n",
       "      <th>77</th>\n",
       "      <td>Seventh grade girls</td>\n",
       "      <td>female</td>\n",
       "      <td>12 to 13</td>\n",
       "      <td>1996</td>\n",
       "      <td>69</td>\n",
       "      <td>These dreams were collected at a middle school...</td>\n",
       "      <td>78</td>\n",
       "      <td>9995.0</td>\n",
       "    </tr>\n",
       "    <tr>\n",
       "      <th>78</th>\n",
       "      <td>Swiss children, auf Deutsch (F)</td>\n",
       "      <td>female</td>\n",
       "      <td>9 to 14</td>\n",
       "      <td>1989-1995</td>\n",
       "      <td>164</td>\n",
       "      <td>This collection contains 299 dreams (164 girls...</td>\n",
       "      <td>79</td>\n",
       "      <td>26677.0</td>\n",
       "    </tr>\n",
       "    <tr>\n",
       "      <th>79</th>\n",
       "      <td>Swiss children, auf Deutsch (M)</td>\n",
       "      <td>male</td>\n",
       "      <td>9 to 14</td>\n",
       "      <td>1989-1995</td>\n",
       "      <td>135</td>\n",
       "      <td>This collection contains 299 dreams (164 girls...</td>\n",
       "      <td>80</td>\n",
       "      <td>18171.0</td>\n",
       "    </tr>\n",
       "    <tr>\n",
       "      <th>80</th>\n",
       "      <td>Toby: A friendly party animal</td>\n",
       "      <td>male</td>\n",
       "      <td>20</td>\n",
       "      <td>2003-2006</td>\n",
       "      <td>33</td>\n",
       "      <td>Toby is a young man in his early 20s who atten...</td>\n",
       "      <td>81</td>\n",
       "      <td>7819.0</td>\n",
       "    </tr>\n",
       "    <tr>\n",
       "      <th>81</th>\n",
       "      <td>Tom: An outgoing man</td>\n",
       "      <td>male</td>\n",
       "      <td>21</td>\n",
       "      <td>1990s</td>\n",
       "      <td>27</td>\n",
       "      <td>Tom was a 21-year-old graduating senior when h...</td>\n",
       "      <td>82</td>\n",
       "      <td>4688.0</td>\n",
       "    </tr>\n",
       "    <tr>\n",
       "      <th>82</th>\n",
       "      <td>UCSC women, 1996</td>\n",
       "      <td>female</td>\n",
       "      <td>18 to 24</td>\n",
       "      <td>1996</td>\n",
       "      <td>81</td>\n",
       "      <td>These are Most Recent Dreams from women ages 1...</td>\n",
       "      <td>83</td>\n",
       "      <td>10854.0</td>\n",
       "    </tr>\n",
       "    <tr>\n",
       "      <th>83</th>\n",
       "      <td>Vickie: a 10-year-old girl</td>\n",
       "      <td>female</td>\n",
       "      <td>10</td>\n",
       "      <td>1995</td>\n",
       "      <td>35</td>\n",
       "      <td>These 35 dreams were collected over a six-week...</td>\n",
       "      <td>84</td>\n",
       "      <td>3530.0</td>\n",
       "    </tr>\n",
       "    <tr>\n",
       "      <th>84</th>\n",
       "      <td>Vietnam Vet: 1970-2008 war dreams</td>\n",
       "      <td>male</td>\n",
       "      <td>21 to 59</td>\n",
       "      <td>1970-2008</td>\n",
       "      <td>98</td>\n",
       "      <td>There are three sets of dreams from this Vietn...</td>\n",
       "      <td>85</td>\n",
       "      <td>14755.0</td>\n",
       "    </tr>\n",
       "    <tr>\n",
       "      <th>85</th>\n",
       "      <td>Vietnam Vet: 2015 dreams</td>\n",
       "      <td>male</td>\n",
       "      <td>66</td>\n",
       "      <td>2015</td>\n",
       "      <td>32</td>\n",
       "      <td>There are three sets of dreams from this Vietn...</td>\n",
       "      <td>86</td>\n",
       "      <td>3618.0</td>\n",
       "    </tr>\n",
       "    <tr>\n",
       "      <th>86</th>\n",
       "      <td>Vietnam Vet: 2016-17 dreams</td>\n",
       "      <td>male</td>\n",
       "      <td>67 to 68</td>\n",
       "      <td>2016-2017</td>\n",
       "      <td>463</td>\n",
       "      <td>There are three sets of dreams from this Vietn...</td>\n",
       "      <td>87</td>\n",
       "      <td>62311.0</td>\n",
       "    </tr>\n",
       "    <tr>\n",
       "      <th>87</th>\n",
       "      <td>Wedding dreams</td>\n",
       "      <td>female</td>\n",
       "      <td>?</td>\n",
       "      <td>1940s-1950s &amp; 1990s</td>\n",
       "      <td>65</td>\n",
       "      <td>This set consists of college women's dreams th...</td>\n",
       "      <td>88</td>\n",
       "      <td>7132.0</td>\n",
       "    </tr>\n",
       "    <tr>\n",
       "      <th>88</th>\n",
       "      <td>West Coast teenage girls</td>\n",
       "      <td>female</td>\n",
       "      <td>11 to 18</td>\n",
       "      <td>mid-1990s</td>\n",
       "      <td>89</td>\n",
       "      <td>These dreams, from teenage girls ages 11-18, w...</td>\n",
       "      <td>89</td>\n",
       "      <td>9820.0</td>\n",
       "    </tr>\n",
       "  </tbody>\n",
       "</table>\n",
       "<p>89 rows × 8 columns</p>\n",
       "</div>"
      ],
      "text/plain": [
       "                                    group dreamer sex  dreamer age  \\\n",
       "0                Alta: a detailed dreamer      female        adult   \n",
       "1                      Angie: age 18 & 20      female     18 to 20   \n",
       "2              Arlie: a middle-aged woman      female  middle-aged   \n",
       "3                            Barb Sanders      female     20 to 60   \n",
       "4                         Barb Sanders #2      female     60 to 64   \n",
       "5                  Barb Sanders: baseline      female     20 to 60   \n",
       "6              Bay Area girls: Grades 4-6      female      9 to 11   \n",
       "7              Bay Area girls: Grades 7-9      female     12 to 14   \n",
       "8            Bea 1: a high school student      female     14 to 16   \n",
       "9                Bea 2: a college student      female     14 to 16   \n",
       "10                     Blind dreamers (F)      female            ?   \n",
       "11                     Blind dreamers (M)        male            ?   \n",
       "12                  Chris: a transvestite        male           50   \n",
       "13            Chuck: a physical scientist        male  young-adult   \n",
       "14              College women, late 1940s      female  young-adult   \n",
       "15       Dahlia: concerns with appearance      female           21   \n",
       "16                  David: teenage dreams        male     13 to 20   \n",
       "17          Detlev von Uslar, auf Deutsch        male        adult   \n",
       "18           Dorothea: 53 years of dreams      female     25 to 75   \n",
       "19            Ed: dreams of his late wife        male     57 to 80   \n",
       "20                    Edna: a blind woman      female  young-adult   \n",
       "21          Elizabeth: a woman in her 40s      female        adult   \n",
       "22                         Emma's Husband        male     40 to 80   \n",
       "23               Emma: 48 years of dreams      female     40 to 80   \n",
       "24             Esther: an adolescent girl      female     12 to 21   \n",
       "25                      German dreams (F)      female  young-adult   \n",
       "26                      German dreams (M)        male  young-adult   \n",
       "27                 Hall/VdC Norms: Female      female            ?   \n",
       "28                   Hall/VdC Norms: Male        male            ?   \n",
       "29  Izzy (ALL, including non-consecutive)      female     12 to 25   \n",
       "..                                    ...         ...          ...   \n",
       "59                       Merri: an artist      female           30   \n",
       "60                   Miami Home-Lab: Home        male  young-adult   \n",
       "61                    Miami Home-Lab: Lab        male  young-adult   \n",
       "62                  Midwest teenagers (F)      female     14 to 18   \n",
       "63                  Midwest teenagers (M)        male     14 to 18   \n",
       "64             Nancy: Caring & headstrong      female           20   \n",
       "65                  The Natural Scientist        male           50   \n",
       "66               Norman: a child molester        male     34 to 38   \n",
       "67              Pegasus: a factory worker        male  middle-aged   \n",
       "68                           Peruvian men        male     18 to 20   \n",
       "69                         Peruvian women      female     18 to 20   \n",
       "70                          Phil 1: teens        male     15 to 17   \n",
       "71                       Phil 2: late 20s        male           29   \n",
       "72                     Phil 3: retirement        male           62   \n",
       "73                       The Physiologist        male     22 to 43   \n",
       "74                  Ringo: from the 1960s        male           24   \n",
       "75         Robert Bosnak: A dream analyst        male           50   \n",
       "76                   Samantha: in her 20s      female           20   \n",
       "77                    Seventh grade girls      female     12 to 13   \n",
       "78        Swiss children, auf Deutsch (F)      female      9 to 14   \n",
       "79        Swiss children, auf Deutsch (M)        male      9 to 14   \n",
       "80          Toby: A friendly party animal        male           20   \n",
       "81                   Tom: An outgoing man        male           21   \n",
       "82                       UCSC women, 1996      female     18 to 24   \n",
       "83             Vickie: a 10-year-old girl      female           10   \n",
       "84      Vietnam Vet: 1970-2008 war dreams        male     21 to 59   \n",
       "85               Vietnam Vet: 2015 dreams        male           66   \n",
       "86            Vietnam Vet: 2016-17 dreams        male     67 to 68   \n",
       "87                         Wedding dreams      female            ?   \n",
       "88               West Coast teenage girls      female     11 to 18   \n",
       "\n",
       "            dream years  numbers of dreams  \\\n",
       "0             1985-1997                422   \n",
       "1                  1996                 48   \n",
       "2             1992-1998                212   \n",
       "3             1960-1997               3116   \n",
       "4             1997-2001               1138   \n",
       "5             1960-1999                250   \n",
       "6             1996-1997                234   \n",
       "7             1996-1997                154   \n",
       "8             2003-2005                223   \n",
       "9             2007-2010                 63   \n",
       "10            mid-1990s                238   \n",
       "11            mid-1990s                143   \n",
       "12                 1968                100   \n",
       "13            1991-1993                 75   \n",
       "14            1946-1950                681   \n",
       "15                    ?                 24   \n",
       "16            1990-1999                166   \n",
       "17            1949-2001               6100   \n",
       "18            1912-1965                900   \n",
       "19            1980-2002                143   \n",
       "20            1948-1949                 19   \n",
       "21                1999-               1707   \n",
       "22            1940-1998                 72   \n",
       "23            1949-1997               1221   \n",
       "24                 1998                110   \n",
       "25                1990s                397   \n",
       "26                1990s                140   \n",
       "27          1940s-1950s                490   \n",
       "28          1940s-1950s                491   \n",
       "29            2003-2016               4352   \n",
       "..                  ...                ...   \n",
       "59            1999-2000                315   \n",
       "60            1963-1965                171   \n",
       "61            1963-1965                274   \n",
       "62                 1998                111   \n",
       "63                 1998                 83   \n",
       "64                 1997                 44   \n",
       "65                 1939                234   \n",
       "66            1963-1967               1235   \n",
       "67            1949-1964               1093   \n",
       "68                 1970                384   \n",
       "69                 1970                382   \n",
       "70            1957-1959                106   \n",
       "71                 1971                220   \n",
       "72                 2004                180   \n",
       "73            1897-1918                 86   \n",
       "74                 1964                 16   \n",
       "75                    ?                 53   \n",
       "76            1992-1999                 63   \n",
       "77                 1996                 69   \n",
       "78            1989-1995                164   \n",
       "79            1989-1995                135   \n",
       "80            2003-2006                 33   \n",
       "81                1990s                 27   \n",
       "82                 1996                 81   \n",
       "83                 1995                 35   \n",
       "84            1970-2008                 98   \n",
       "85                 2015                 32   \n",
       "86            2016-2017                463   \n",
       "87  1940s-1950s & 1990s                 65   \n",
       "88            mid-1990s                 89   \n",
       "\n",
       "                                              summary  id  total_words  \n",
       "0   Alta is an adult woman who wrote down her drea...   1     166351.0  \n",
       "1   Angie is a college student whose dreams are of...   2       9754.0  \n",
       "2   Arlie is an older adult woman who wrote down h...   3      22022.0  \n",
       "3   Barb Sanders (not her real name) is a middle-a...   4     576351.0  \n",
       "4   1138 more dreams from Barb Sanders, written do...   5     217901.0  \n",
       "5   These 250 dreams are a representative sample o...   6      38588.0  \n",
       "6   The 388 dreams in this set were collected in N...   7      27521.0  \n",
       "7   The 388 dreams in this set were collected in N...   8      21712.0  \n",
       "8   Bea's vivid dream reports from age 14 to 16 pr...   9      28698.0  \n",
       "9                                          See Bea 1.  10      14128.0  \n",
       "10  These dreams were collected in the mid-1990s f...  11      35883.0  \n",
       "11  These dreams were collected in the mid-1990s f...  12      18701.0  \n",
       "12  Chris was a Wall Street businessman in his 50s...  13      14669.0  \n",
       "13  Chuck is a young Ph.D. researcher in one of th...  14      12538.0  \n",
       "14  These dreams were collected by Calvin Hall fro...  15     131374.0  \n",
       "15  This series of 24 dreams from a 21-year-old co...  16       2459.0  \n",
       "16  David is our code name for a young man in his ...  17      34582.0  \n",
       "17  This remarkable series of 6,100 dreams in Germ...  18     835138.0  \n",
       "18  Dorothea lived from 1887 to 1965. This series ...  19      68185.0  \n",
       "19  Ed was 57 when his wife Mary died of cancer af...  20      24562.0  \n",
       "20  Edna is a congenitally blind first-year colleg...  21       4454.0  \n",
       "21  Elizabeth first recorded a few of her dreams i...  22     552153.0  \n",
       "22  These dreams come from Emma's husband, who is ...  23      11912.0  \n",
       "23  Emma is an elderly woman who wrote down her dr...  24      88196.0  \n",
       "24  This series is unique in that it starts at age...  25       9549.0  \n",
       "25  These dream reports -- in German -- were colle...  26      41878.0  \n",
       "26  These dream reports -- in German -- were colle...  27      15519.0  \n",
       "27  This set contains the 500 dream reports on whi...  28      63757.0  \n",
       "28  This set contains the 500 dream reports on whi...  29      58325.0  \n",
       "29  This dream series consists of 4,352 dream repo...  30     593077.0  \n",
       "..                                                ...  ..          ...  \n",
       "59  Merri Anderson is an artist in her late 30s wh...  60     104661.0  \n",
       "60  The dream reports in this collection come for ...  61      41351.0  \n",
       "61  The dream reports in this collection come for ...  62      96449.0  \n",
       "62  These dreams from teenagers (ages 14-18) were ...  63      10227.0  \n",
       "63  These dreams from teenagers (ages 14-18) were ...  64       4994.0  \n",
       "64  Nancy is a bright, attractive, white working-c...  65       5665.0  \n",
       "65  The person we call \"The Natural Scientist\" was...  66      34101.0  \n",
       "66  Most of the dreams in this remarkable series w...  67      51340.0  \n",
       "67  Pegasus is a factory worker from the northern ...  68     135928.0  \n",
       "68  These dreams were collected from 48 male and 4...  69      43110.0  \n",
       "69  These dreams were collected from 48 male and 4...  70      54946.0  \n",
       "70  Phil is a retired humanities professor with no...  71      15933.0  \n",
       "71  Phil is a retired humanities professor with no...  72      41347.0  \n",
       "72  Phil is a retired humanities professor with no...  73      27882.0  \n",
       "73  The Physiologist, whose real name was Percy G....  74       9098.0  \n",
       "74  Ringo was 24 years old when he wrote down thes...  75       2017.0  \n",
       "75  Rob Bosnak is a well-known, Jungian-oriented d...  76       7808.0  \n",
       "76  Samantha is a college-educated woman in her tw...  77      20668.0  \n",
       "77  These dreams were collected at a middle school...  78       9995.0  \n",
       "78  This collection contains 299 dreams (164 girls...  79      26677.0  \n",
       "79  This collection contains 299 dreams (164 girls...  80      18171.0  \n",
       "80  Toby is a young man in his early 20s who atten...  81       7819.0  \n",
       "81  Tom was a 21-year-old graduating senior when h...  82       4688.0  \n",
       "82  These are Most Recent Dreams from women ages 1...  83      10854.0  \n",
       "83  These 35 dreams were collected over a six-week...  84       3530.0  \n",
       "84  There are three sets of dreams from this Vietn...  85      14755.0  \n",
       "85  There are three sets of dreams from this Vietn...  86       3618.0  \n",
       "86  There are three sets of dreams from this Vietn...  87      62311.0  \n",
       "87  This set consists of college women's dreams th...  88       7132.0  \n",
       "88  These dreams, from teenage girls ages 11-18, w...  89       9820.0  \n",
       "\n",
       "[89 rows x 8 columns]"
      ]
     },
     "execution_count": 11,
     "metadata": {},
     "output_type": "execute_result"
    }
   ],
   "source": [
    "summary"
   ]
  },
  {
   "cell_type": "code",
   "execution_count": 12,
   "metadata": {},
   "outputs": [
    {
     "name": "stdout",
     "output_type": "stream",
     "text": [
      "(43226, 5)\n",
      "(36202, 5)\n"
     ]
    }
   ],
   "source": [
    "dream = pd.read_csv('../data/dreams_clean.csv', sep=';')\n",
    "print(dream.shape)\n",
    "# Borro aquellos sueños que no tienen palabras y aquellos en aleman que son los del grupo con id 18, 26 y 27\n",
    "dream = dream.dropna(axis=0, subset=['words']).drop(dream.loc[dream['group_id'].isin([18, 26, 27, 79, 80])].index)\n",
    "print(dream.shape)\n"
   ]
  },
  {
   "cell_type": "code",
   "execution_count": 13,
   "metadata": {
    "scrolled": true
   },
   "outputs": [
    {
     "name": "stdout",
     "output_type": "stream",
     "text": [
      "(36202, 13)\n"
     ]
    }
   ],
   "source": [
    "df = pd.merge(dream, summary, left_on='group_id', right_on='id')\n",
    "print(df.shape)\n"
   ]
  },
  {
   "cell_type": "code",
   "execution_count": 14,
   "metadata": {},
   "outputs": [
    {
     "data": {
      "text/html": [
       "<div>\n",
       "<style scoped>\n",
       "    .dataframe tbody tr th:only-of-type {\n",
       "        vertical-align: middle;\n",
       "    }\n",
       "\n",
       "    .dataframe tbody tr th {\n",
       "        vertical-align: top;\n",
       "    }\n",
       "\n",
       "    .dataframe thead th {\n",
       "        text-align: right;\n",
       "    }\n",
       "</style>\n",
       "<table border=\"1\" class=\"dataframe\">\n",
       "  <thead>\n",
       "    <tr style=\"text-align: right;\">\n",
       "      <th></th>\n",
       "      <th>code</th>\n",
       "      <th>note</th>\n",
       "      <th>description</th>\n",
       "      <th>words</th>\n",
       "      <th>group_id</th>\n",
       "      <th>group</th>\n",
       "      <th>dreamer sex</th>\n",
       "      <th>dreamer age</th>\n",
       "      <th>dream years</th>\n",
       "      <th>numbers of dreams</th>\n",
       "      <th>summary</th>\n",
       "      <th>id</th>\n",
       "      <th>total_words</th>\n",
       "    </tr>\n",
       "  </thead>\n",
       "  <tbody>\n",
       "    <tr>\n",
       "      <th>0</th>\n",
       "      <td>1</td>\n",
       "      <td>1957</td>\n",
       "      <td>The one at the Meads's house, where it's bigge...</td>\n",
       "      <td>154.0</td>\n",
       "      <td>1</td>\n",
       "      <td>Alta: a detailed dreamer</td>\n",
       "      <td>female</td>\n",
       "      <td>adult</td>\n",
       "      <td>1985-1997</td>\n",
       "      <td>422</td>\n",
       "      <td>Alta is an adult woman who wrote down her drea...</td>\n",
       "      <td>1</td>\n",
       "      <td>166351.0</td>\n",
       "    </tr>\n",
       "    <tr>\n",
       "      <th>1</th>\n",
       "      <td>2</td>\n",
       "      <td>8/11/67</td>\n",
       "      <td>I'm at a family reunion in a large fine house ...</td>\n",
       "      <td>248.0</td>\n",
       "      <td>1</td>\n",
       "      <td>Alta: a detailed dreamer</td>\n",
       "      <td>female</td>\n",
       "      <td>adult</td>\n",
       "      <td>1985-1997</td>\n",
       "      <td>422</td>\n",
       "      <td>Alta is an adult woman who wrote down her drea...</td>\n",
       "      <td>1</td>\n",
       "      <td>166351.0</td>\n",
       "    </tr>\n",
       "    <tr>\n",
       "      <th>2</th>\n",
       "      <td>3</td>\n",
       "      <td>8/1/85</td>\n",
       "      <td>I watch a plane fly past and shortly realize i...</td>\n",
       "      <td>303.0</td>\n",
       "      <td>1</td>\n",
       "      <td>Alta: a detailed dreamer</td>\n",
       "      <td>female</td>\n",
       "      <td>adult</td>\n",
       "      <td>1985-1997</td>\n",
       "      <td>422</td>\n",
       "      <td>Alta is an adult woman who wrote down her drea...</td>\n",
       "      <td>1</td>\n",
       "      <td>166351.0</td>\n",
       "    </tr>\n",
       "    <tr>\n",
       "      <th>3</th>\n",
       "      <td>4</td>\n",
       "      <td>1985?</td>\n",
       "      <td>Me pulling the green leaves and berries off so...</td>\n",
       "      <td>468.0</td>\n",
       "      <td>1</td>\n",
       "      <td>Alta: a detailed dreamer</td>\n",
       "      <td>female</td>\n",
       "      <td>adult</td>\n",
       "      <td>1985-1997</td>\n",
       "      <td>422</td>\n",
       "      <td>Alta is an adult woman who wrote down her drea...</td>\n",
       "      <td>1</td>\n",
       "      <td>166351.0</td>\n",
       "    </tr>\n",
       "    <tr>\n",
       "      <th>4</th>\n",
       "      <td>5</td>\n",
       "      <td>1985?</td>\n",
       "      <td>I'm in a room that reminds me of (but definite...</td>\n",
       "      <td>561.0</td>\n",
       "      <td>1</td>\n",
       "      <td>Alta: a detailed dreamer</td>\n",
       "      <td>female</td>\n",
       "      <td>adult</td>\n",
       "      <td>1985-1997</td>\n",
       "      <td>422</td>\n",
       "      <td>Alta is an adult woman who wrote down her drea...</td>\n",
       "      <td>1</td>\n",
       "      <td>166351.0</td>\n",
       "    </tr>\n",
       "  </tbody>\n",
       "</table>\n",
       "</div>"
      ],
      "text/plain": [
       "  code     note                                        description  words  \\\n",
       "0    1     1957  The one at the Meads's house, where it's bigge...  154.0   \n",
       "1    2  8/11/67  I'm at a family reunion in a large fine house ...  248.0   \n",
       "2    3   8/1/85  I watch a plane fly past and shortly realize i...  303.0   \n",
       "3    4    1985?  Me pulling the green leaves and berries off so...  468.0   \n",
       "4    5    1985?  I'm in a room that reminds me of (but definite...  561.0   \n",
       "\n",
       "   group_id                     group dreamer sex dreamer age dream years  \\\n",
       "0         1  Alta: a detailed dreamer      female       adult   1985-1997   \n",
       "1         1  Alta: a detailed dreamer      female       adult   1985-1997   \n",
       "2         1  Alta: a detailed dreamer      female       adult   1985-1997   \n",
       "3         1  Alta: a detailed dreamer      female       adult   1985-1997   \n",
       "4         1  Alta: a detailed dreamer      female       adult   1985-1997   \n",
       "\n",
       "   numbers of dreams                                            summary  id  \\\n",
       "0                422  Alta is an adult woman who wrote down her drea...   1   \n",
       "1                422  Alta is an adult woman who wrote down her drea...   1   \n",
       "2                422  Alta is an adult woman who wrote down her drea...   1   \n",
       "3                422  Alta is an adult woman who wrote down her drea...   1   \n",
       "4                422  Alta is an adult woman who wrote down her drea...   1   \n",
       "\n",
       "   total_words  \n",
       "0     166351.0  \n",
       "1     166351.0  \n",
       "2     166351.0  \n",
       "3     166351.0  \n",
       "4     166351.0  "
      ]
     },
     "execution_count": 14,
     "metadata": {},
     "output_type": "execute_result"
    }
   ],
   "source": [
    "df.head()"
   ]
  },
  {
   "cell_type": "code",
   "execution_count": 15,
   "metadata": {},
   "outputs": [
    {
     "name": "stdout",
     "output_type": "stream",
     "text": [
      "Se cuenta con 593 sueños de Vietnam. El corpus tiene 80684 palabras.\n",
      "Se cuenta con 506 sueños de Phil, nuestro conjunto de control. El corpus tiene 85162 palabras.\n"
     ]
    }
   ],
   "source": [
    "df_vietnam = df.loc[df['group'].isin(['Vietnam Vet: 1970-2008 war dreams', 'Vietnam Vet: 2015 dreams', 'Vietnam Vet: 2016-17 dreams'])]\n",
    "df_phil = df.loc[df['group'].isin(['Phil 1: teens', 'Phil 2: late 20s', 'Phil 3: retirement'])]\n",
    "\n",
    "print(f\"Se cuenta con {len(df_vietnam)} sueños de Vietnam. El corpus tiene {int(df_vietnam['words'].sum())} palabras.\")\n",
    "print(f\"Se cuenta con {len(df_phil)} sueños de Phil, nuestro conjunto de control. El corpus tiene {int(df_phil['words'].sum())} palabras.\")\n"
   ]
  },
  {
   "cell_type": "code",
   "execution_count": 16,
   "metadata": {},
   "outputs": [],
   "source": [
    "stoplist = stopwords.words('english')\n",
    "def tokenize(one_document, stop_words=stopwords.words('english')):\n",
    "    one_document = one_document.lower()\n",
    "    return [\n",
    "        word for word in word_tokenize(one_document) if word not in stoplist\n",
    "        and word.isalpha() and len(word) > 1\n",
    "        ]\n",
    "\n",
    "texts = [tokenize(a_doc, stoplist) for a_doc in df['description']]"
   ]
  },
  {
   "cell_type": "code",
   "execution_count": 17,
   "metadata": {},
   "outputs": [
    {
     "name": "stdout",
     "output_type": "stream",
     "text": [
      "el corpus tiene 36202 oraciones y 2605429 palabras\n"
     ]
    }
   ],
   "source": [
    "print(\"el corpus tiene\",len(texts), \"oraciones y\",sum([len(x) for x in texts]),\"palabras\"   )"
   ]
  },
  {
   "cell_type": "code",
   "execution_count": 18,
   "metadata": {},
   "outputs": [],
   "source": [
    "collocations = Phrases(sentences=texts, min_count=10,threshold=0.5,scoring='npmi') # threshold: minimo score aceptado"
   ]
  },
  {
   "cell_type": "code",
   "execution_count": 19,
   "metadata": {},
   "outputs": [],
   "source": [
    "to_collocations = Phraser(collocations)"
   ]
  },
  {
   "cell_type": "code",
   "execution_count": 20,
   "metadata": {},
   "outputs": [
    {
     "data": {
      "text/plain": [
       "(53422, 2)"
      ]
     },
     "execution_count": 20,
     "metadata": {},
     "output_type": "execute_result"
    }
   ],
   "source": [
    "df_collocations =pd.DataFrame([x for x in collocations.export_phrases(texts)],columns=[\"bigram\",\"score\"])\n",
    "df_collocations.shape"
   ]
  },
  {
   "cell_type": "code",
   "execution_count": 21,
   "metadata": {
    "scrolled": true
   },
   "outputs": [
    {
     "data": {
      "text/html": [
       "<div>\n",
       "<style scoped>\n",
       "    .dataframe tbody tr th:only-of-type {\n",
       "        vertical-align: middle;\n",
       "    }\n",
       "\n",
       "    .dataframe tbody tr th {\n",
       "        vertical-align: top;\n",
       "    }\n",
       "\n",
       "    .dataframe thead th {\n",
       "        text-align: right;\n",
       "    }\n",
       "</style>\n",
       "<table border=\"1\" class=\"dataframe\">\n",
       "  <thead>\n",
       "    <tr style=\"text-align: right;\">\n",
       "      <th></th>\n",
       "      <th>bigram</th>\n",
       "      <th>score</th>\n",
       "    </tr>\n",
       "  </thead>\n",
       "  <tbody>\n",
       "    <tr>\n",
       "      <th>19558</th>\n",
       "      <td>b'alain delon'</td>\n",
       "      <td>1.000000</td>\n",
       "    </tr>\n",
       "    <tr>\n",
       "      <th>17708</th>\n",
       "      <td>b'battlestar galactica'</td>\n",
       "      <td>1.000000</td>\n",
       "    </tr>\n",
       "    <tr>\n",
       "      <th>18296</th>\n",
       "      <td>b'der beek'</td>\n",
       "      <td>0.997489</td>\n",
       "    </tr>\n",
       "    <tr>\n",
       "      <th>46139</th>\n",
       "      <td>b'tae kwon'</td>\n",
       "      <td>0.993486</td>\n",
       "    </tr>\n",
       "    <tr>\n",
       "      <th>7040</th>\n",
       "      <td>b'ping pong'</td>\n",
       "      <td>0.993486</td>\n",
       "    </tr>\n",
       "    <tr>\n",
       "      <th>1040</th>\n",
       "      <td>b'clint eastwood'</td>\n",
       "      <td>0.992357</td>\n",
       "    </tr>\n",
       "    <tr>\n",
       "      <th>2890</th>\n",
       "      <td>b'los angeles'</td>\n",
       "      <td>0.991539</td>\n",
       "    </tr>\n",
       "    <tr>\n",
       "      <th>16757</th>\n",
       "      <td>b'freaks geeks'</td>\n",
       "      <td>0.989074</td>\n",
       "    </tr>\n",
       "    <tr>\n",
       "      <th>14767</th>\n",
       "      <td>b'monty python'</td>\n",
       "      <td>0.988196</td>\n",
       "    </tr>\n",
       "    <tr>\n",
       "      <th>13351</th>\n",
       "      <td>b'notre dame'</td>\n",
       "      <td>0.985380</td>\n",
       "    </tr>\n",
       "    <tr>\n",
       "      <th>4955</th>\n",
       "      <td>b'las vegas'</td>\n",
       "      <td>0.982849</td>\n",
       "    </tr>\n",
       "    <tr>\n",
       "      <th>16223</th>\n",
       "      <td>b'elisha cuthbert'</td>\n",
       "      <td>0.981841</td>\n",
       "    </tr>\n",
       "    <tr>\n",
       "      <th>19286</th>\n",
       "      <td>b'joss whedon'</td>\n",
       "      <td>0.979288</td>\n",
       "    </tr>\n",
       "    <tr>\n",
       "      <th>14680</th>\n",
       "      <td>b'adrian edmondson'</td>\n",
       "      <td>0.978034</td>\n",
       "    </tr>\n",
       "    <tr>\n",
       "      <th>1785</th>\n",
       "      <td>b'marlon brando'</td>\n",
       "      <td>0.976703</td>\n",
       "    </tr>\n",
       "    <tr>\n",
       "      <th>14655</th>\n",
       "      <td>b'queer folk'</td>\n",
       "      <td>0.976162</td>\n",
       "    </tr>\n",
       "    <tr>\n",
       "      <th>16078</th>\n",
       "      <td>b'leighton meester'</td>\n",
       "      <td>0.974833</td>\n",
       "    </tr>\n",
       "    <tr>\n",
       "      <th>16025</th>\n",
       "      <td>b'malcolm mcdowell'</td>\n",
       "      <td>0.973426</td>\n",
       "    </tr>\n",
       "    <tr>\n",
       "      <th>15278</th>\n",
       "      <td>b'celine dion'</td>\n",
       "      <td>0.972700</td>\n",
       "    </tr>\n",
       "    <tr>\n",
       "      <th>13379</th>\n",
       "      <td>b'alma mater'</td>\n",
       "      <td>0.972577</td>\n",
       "    </tr>\n",
       "    <tr>\n",
       "      <th>15130</th>\n",
       "      <td>b'angelina jolie'</td>\n",
       "      <td>0.971955</td>\n",
       "    </tr>\n",
       "    <tr>\n",
       "      <th>39968</th>\n",
       "      <td>b'sonya nittles'</td>\n",
       "      <td>0.971655</td>\n",
       "    </tr>\n",
       "    <tr>\n",
       "      <th>19109</th>\n",
       "      <td>b'morena baccarin'</td>\n",
       "      <td>0.971400</td>\n",
       "    </tr>\n",
       "    <tr>\n",
       "      <th>15</th>\n",
       "      <td>b'gon na'</td>\n",
       "      <td>0.969819</td>\n",
       "    </tr>\n",
       "    <tr>\n",
       "      <th>32027</th>\n",
       "      <td>b'ticka ticka'</td>\n",
       "      <td>0.969777</td>\n",
       "    </tr>\n",
       "  </tbody>\n",
       "</table>\n",
       "</div>"
      ],
      "text/plain": [
       "                        bigram     score\n",
       "19558           b'alain delon'  1.000000\n",
       "17708  b'battlestar galactica'  1.000000\n",
       "18296              b'der beek'  0.997489\n",
       "46139              b'tae kwon'  0.993486\n",
       "7040              b'ping pong'  0.993486\n",
       "1040         b'clint eastwood'  0.992357\n",
       "2890            b'los angeles'  0.991539\n",
       "16757          b'freaks geeks'  0.989074\n",
       "14767          b'monty python'  0.988196\n",
       "13351            b'notre dame'  0.985380\n",
       "4955              b'las vegas'  0.982849\n",
       "16223       b'elisha cuthbert'  0.981841\n",
       "19286           b'joss whedon'  0.979288\n",
       "14680      b'adrian edmondson'  0.978034\n",
       "1785          b'marlon brando'  0.976703\n",
       "14655            b'queer folk'  0.976162\n",
       "16078      b'leighton meester'  0.974833\n",
       "16025      b'malcolm mcdowell'  0.973426\n",
       "15278           b'celine dion'  0.972700\n",
       "13379            b'alma mater'  0.972577\n",
       "15130        b'angelina jolie'  0.971955\n",
       "39968         b'sonya nittles'  0.971655\n",
       "19109       b'morena baccarin'  0.971400\n",
       "15                   b'gon na'  0.969819\n",
       "32027           b'ticka ticka'  0.969777"
      ]
     },
     "execution_count": 21,
     "metadata": {},
     "output_type": "execute_result"
    }
   ],
   "source": [
    "df_collocations.drop_duplicates().sort_values(by=\"score\",ascending=False).head(25)"
   ]
  },
  {
   "cell_type": "code",
   "execution_count": 22,
   "metadata": {},
   "outputs": [],
   "source": [
    "texts_ngrams = to_collocations[texts]"
   ]
  },
  {
   "cell_type": "code",
   "execution_count": 23,
   "metadata": {},
   "outputs": [
    {
     "name": "stdout",
     "output_type": "stream",
     "text": [
      "el corpus tiene 36202 oraciones y 2552007 palabras\n"
     ]
    }
   ],
   "source": [
    "print(\"el corpus tiene\",len(texts_ngrams), \"oraciones y\",sum([len(x) for x in texts_ngrams]),\"palabras\"   )"
   ]
  },
  {
   "cell_type": "code",
   "execution_count": null,
   "metadata": {},
   "outputs": [],
   "source": []
  },
  {
   "cell_type": "code",
   "execution_count": null,
   "metadata": {},
   "outputs": [],
   "source": []
  },
  {
   "cell_type": "markdown",
   "metadata": {},
   "source": [
    "## WordEmbedding Word2Vec"
   ]
  },
  {
   "cell_type": "code",
   "execution_count": 24,
   "metadata": {},
   "outputs": [],
   "source": [
    "# \"window\" es el tamaño de la ventana. windows = 10, usa 10 palabras a la izquierda y 10 palabras a la derecha\n",
    "# \"n_dim\" es la dimension (i.e. el largo) de los vectores de word2vec\n",
    "# \"workers\" es el numero de cores que usa en paralelo. Para aprobechar eso es necesario tener instalado Cython)\n",
    "# \"sample\": word2vec filtra palabras que aparecen una fraccion mayor que \"sample\"\n",
    "# \"min_count\": Word2vec filtra palabras con menos apariciones que  \"min_count\"\n",
    "# \"sg\": para correr el Skipgram model (sg = 1), para correr el CBOW (sg = 0)\n",
    "# para mas detalle ver: https://radimrehurek.com/gensim/models/word2vec.html\n",
    "\n",
    "w2v_model = Word2Vec(texts_ngrams, workers=4,size=20, min_count = 10, window = 10, sample = 1e-3,negative=10,sg=1)\n"
   ]
  },
  {
   "cell_type": "code",
   "execution_count": 25,
   "metadata": {},
   "outputs": [],
   "source": [
    "#w2v_model.most_similar(positive=[\"danger\"], negative=[], topn=25)"
   ]
  },
  {
   "cell_type": "code",
   "execution_count": 26,
   "metadata": {},
   "outputs": [
    {
     "data": {
      "text/plain": [
       "1.0"
      ]
     },
     "execution_count": 26,
     "metadata": {},
     "output_type": "execute_result"
    }
   ],
   "source": [
    "w2v_model.wv.n_similarity([\"year\"], [\"year\"])"
   ]
  },
  {
   "cell_type": "code",
   "execution_count": 27,
   "metadata": {},
   "outputs": [
    {
     "data": {
      "text/plain": [
       "0.29926366"
      ]
     },
     "execution_count": 27,
     "metadata": {},
     "output_type": "execute_result"
    }
   ],
   "source": [
    "w2v_model.wv.n_similarity([\"car\"], [\"year\"])"
   ]
  },
  {
   "cell_type": "code",
   "execution_count": 28,
   "metadata": {},
   "outputs": [
    {
     "data": {
      "text/plain": [
       "0.7867669"
      ]
     },
     "execution_count": 28,
     "metadata": {},
     "output_type": "execute_result"
    }
   ],
   "source": [
    "w2v_model.wv.n_similarity([\"sun\"], [\"sunny\"])"
   ]
  },
  {
   "cell_type": "code",
   "execution_count": 29,
   "metadata": {},
   "outputs": [
    {
     "data": {
      "text/plain": [
       "0.84544486"
      ]
     },
     "execution_count": 29,
     "metadata": {},
     "output_type": "execute_result"
    }
   ],
   "source": [
    "w2v_model.wv.n_similarity([\"girl\"], [\"girls\"])"
   ]
  },
  {
   "cell_type": "code",
   "execution_count": 30,
   "metadata": {},
   "outputs": [
    {
     "data": {
      "text/plain": [
       "0.903741"
      ]
     },
     "execution_count": 30,
     "metadata": {},
     "output_type": "execute_result"
    }
   ],
   "source": [
    "w2v_model.wv.n_similarity([\"boy\"], [\"girl\"])"
   ]
  },
  {
   "cell_type": "code",
   "execution_count": 31,
   "metadata": {},
   "outputs": [
    {
     "data": {
      "text/plain": [
       "<matplotlib.axes._subplots.AxesSubplot at 0x1cd1a188048>"
      ]
     },
     "execution_count": 31,
     "metadata": {},
     "output_type": "execute_result"
    },
    {
     "data": {
      "image/png": "[encoded data removed]",
      "text/plain": [
       "<Figure size 576x216 with 1 Axes>"
      ]
     },
     "metadata": {
      "needs_background": "light"
     },
     "output_type": "display_data"
    }
   ],
   "source": [
    "target_word=\"war\"\n",
    "places = [\"vietnam\",\"london\",\"england\",\"united_states\",\"mexico\",\"france\",\"japan\",\"russia\",\"cambodia\",\"ireland\",\"turkey\"]\n",
    "\n",
    "fun_score = []\n",
    "for place in places:\n",
    "    fun_score.append(w2v_model.wv.n_similarity([target_word], [place]))\n",
    "    \n",
    "pd.DataFrame(fun_score,index = places,columns=[target_word]).sort_values(by=target_word).plot(kind=\"bar\",figsize=(8,3), fontsize=10)"
   ]
  },
  {
   "cell_type": "markdown",
   "metadata": {},
   "source": [
    "## Document Vector : Vectores de los sueños"
   ]
  },
  {
   "cell_type": "code",
   "execution_count": 32,
   "metadata": {},
   "outputs": [],
   "source": [
    "# array con los WE de las palabras de un sueño\n",
    "def hacer_array_de_WEs(one_dream):\n",
    "    return [\n",
    "      w2v_model.wv[word] for word in  texts_ngrams[one_dream]  if word in w2v_model.wv.vocab    \n",
    "       ]\n"
   ]
  },
  {
   "cell_type": "code",
   "execution_count": 33,
   "metadata": {},
   "outputs": [],
   "source": [
    "def hacer_vectores_dreams(lista_series):\n",
    "    # lista_series: si quiero sobre todas las series , paso lista_series como una lista vacia \n",
    "    vectores_wes = [hacer_array_de_WEs(d) for d in list(range(len(df['description']))) if df['group'][d] in list(lista_series) or len(lista_series)==0]\n",
    "    vectores_dreams = [ np.mean(np.array(vectores_wes[d]), axis = 0) for d in list(range(len(vectores_wes)))]\n",
    "    return vectores_dreams"
   ]
  },
  {
   "cell_type": "code",
   "execution_count": 34,
   "metadata": {},
   "outputs": [],
   "source": [
    "# Armo una matriz de distancias en base a similaridad coseno de gensim\n",
    "def matriz_distancias(p_wes_dreams):\n",
    "    distancias=np.zeros((len(p_wes_dreams),len(p_wes_dreams))) #matriz cuadrada\n",
    "    for i,ti in enumerate(p_wes_dreams):\n",
    "        for j,tj in enumerate(p_wes_dreams):\n",
    "            distancias[i,j] = abs(1- w2v_model.wv.cosine_similarities(p_wes_dreams[i],p_wes_dreams[j:j+1])[0] )\n",
    "    print (distancias.shape)\n",
    "    return distancias"
   ]
  },
  {
   "cell_type": "markdown",
   "metadata": {},
   "source": [
    "## sobre todos los sueños"
   ]
  },
  {
   "cell_type": "code",
   "execution_count": 35,
   "metadata": {},
   "outputs": [],
   "source": [
    "#vectores_wes = [hacer_array_de_WEs(d) for d in list(range(len(df['description'])))]\n",
    "#wes_dreams = [ np.mean(np.array(vectores_wes[d]), axis = 0) for d in list(range(len(vectores_wes)))]\n",
    "\n",
    "lista_dreams=[]  #lista  vacia indica todas las series\n",
    "wes_dreams = hacer_vectores_dreams(lista_dreams)\n"
   ]
  },
  {
   "cell_type": "code",
   "execution_count": 36,
   "metadata": {},
   "outputs": [],
   "source": [
    "# Vectores de los 4 primeros sueños\n",
    "#print(np.array(wes_dreams[:4]))"
   ]
  },
  {
   "cell_type": "code",
   "execution_count": 37,
   "metadata": {},
   "outputs": [
    {
     "data": {
      "text/plain": [
       "36202"
      ]
     },
     "execution_count": 37,
     "metadata": {},
     "output_type": "execute_result"
    }
   ],
   "source": [
    "len(wes_dreams)"
   ]
  },
  {
   "cell_type": "code",
   "execution_count": 38,
   "metadata": {},
   "outputs": [
    {
     "name": "stdout",
     "output_type": "stream",
     "text": [
      "sueños similarity min y max: 0.8412772 1.0\n"
     ]
    }
   ],
   "source": [
    "# similaridad de un sueño con otros (los 200 que le siguen)\n",
    "w1=wes_dreams[1]\n",
    "vector_similaridades=w2v_model.wv.cosine_similarities(w1,wes_dreams[:200])\n",
    "#print(vector_similaridades)\n",
    "print (\"sueños similarity min y max:\",min(vector_similaridades), max(vector_similaridades))"
   ]
  },
  {
   "cell_type": "code",
   "execution_count": 39,
   "metadata": {},
   "outputs": [],
   "source": [
    "# distancias de 10 sueños entre sí\n",
    "#pd.DataFrame(data=matriz_distancias(wes_dreams[:10]))"
   ]
  },
  {
   "cell_type": "code",
   "execution_count": 40,
   "metadata": {},
   "outputs": [
    {
     "data": {
      "text/plain": [
       "[<matplotlib.lines.Line2D at 0x1cd1a28d470>]"
      ]
     },
     "execution_count": 40,
     "metadata": {},
     "output_type": "execute_result"
    },
    {
     "data": {
      "image/png": "[encoded data removed]",
      "text/plain": [
       "<Figure size 432x288 with 1 Axes>"
      ]
     },
     "metadata": {
      "needs_background": "light"
     },
     "output_type": "display_data"
    }
   ],
   "source": [
    "plt.plot(list(range(200)), vector_similaridades)"
   ]
  },
  {
   "cell_type": "markdown",
   "metadata": {},
   "source": [
    "## sobre Vet serie 1"
   ]
  },
  {
   "cell_type": "code",
   "execution_count": 41,
   "metadata": {},
   "outputs": [],
   "source": [
    "\n",
    "Vet_wes_dreams_s1 = hacer_vectores_dreams(['Vietnam Vet: 1970-2008 war dreams'])"
   ]
  },
  {
   "cell_type": "code",
   "execution_count": 42,
   "metadata": {},
   "outputs": [
    {
     "name": "stdout",
     "output_type": "stream",
     "text": [
      "98\n"
     ]
    }
   ],
   "source": [
    "print(len(Vet_wes_dreams_s1))"
   ]
  },
  {
   "cell_type": "code",
   "execution_count": 43,
   "metadata": {},
   "outputs": [
    {
     "name": "stdout",
     "output_type": "stream",
     "text": [
      "[1.0000001  0.9489716  0.9516208  0.96558845 0.9291225  0.928133\n",
      " 0.9628569  0.9782407  0.97879696 0.94672275 0.98194695 0.9374025\n",
      " 0.96950626 0.9565819  0.9344118  0.91788507 0.9450957  0.9384322\n",
      " 0.90891397 0.95734745 0.96360546 0.9660802  0.96379846 0.9718799\n",
      " 0.9541018  0.96148205 0.94739455 0.9281225  0.93300587 0.97229433\n",
      " 0.9750375  0.97040784 0.9240217  0.96866465 0.9581389  0.93520397\n",
      " 0.9380137  0.9149749  0.8827989  0.9463038  0.86551076 0.90357524\n",
      " 0.9515507  0.9619093  0.9320089  0.95745337 0.91567254 0.94480133\n",
      " 0.94084686 0.9589652  0.9496075  0.942942   0.8984297  0.9069412\n",
      " 0.92450523 0.9538857  0.95611537 0.9583413  0.92324156 0.94074816\n",
      " 0.963788   0.93223447 0.9512023  0.9587942  0.94666433 0.901291\n",
      " 0.9553269  0.9371804  0.94070435 0.8780109  0.85223675 0.95291317\n",
      " 0.8870591  0.804869   0.9631428  0.90998274 0.95517266 0.8943987\n",
      " 0.921165   0.9542989  0.9530977  0.89457345 0.9268769  0.93796283\n",
      " 0.908635   0.9589487  0.94788116 0.8662816  0.93802196 0.9510955\n",
      " 0.92558646 0.9555402  0.9362525  0.9224978  0.90107036 0.96781814\n",
      " 0.89863104 0.952823  ]\n",
      "sueños similarity: 0.804869 1.0000001\n"
     ]
    }
   ],
   "source": [
    "# similaridad de un sueño con los demás de la serie\n",
    "w1=Vet_wes_dreams_s1[0]\n",
    "vector_similaridades=w2v_model.wv.cosine_similarities(w1,Vet_wes_dreams_s1[:98])\n",
    "print(vector_similaridades)\n",
    "print (\"sueños similarity:\",min(vector_similaridades), max(vector_similaridades))"
   ]
  },
  {
   "cell_type": "code",
   "execution_count": 44,
   "metadata": {},
   "outputs": [
    {
     "data": {
      "text/html": [
       "<div>\n",
       "<style scoped>\n",
       "    .dataframe tbody tr th:only-of-type {\n",
       "        vertical-align: middle;\n",
       "    }\n",
       "\n",
       "    .dataframe tbody tr th {\n",
       "        vertical-align: top;\n",
       "    }\n",
       "\n",
       "    .dataframe thead th {\n",
       "        text-align: right;\n",
       "    }\n",
       "</style>\n",
       "<table border=\"1\" class=\"dataframe\">\n",
       "  <thead>\n",
       "    <tr style=\"text-align: right;\">\n",
       "      <th></th>\n",
       "      <th>similaridad</th>\n",
       "    </tr>\n",
       "  </thead>\n",
       "  <tbody>\n",
       "    <tr>\n",
       "      <th>73</th>\n",
       "      <td>0.804869</td>\n",
       "    </tr>\n",
       "    <tr>\n",
       "      <th>70</th>\n",
       "      <td>0.852237</td>\n",
       "    </tr>\n",
       "    <tr>\n",
       "      <th>40</th>\n",
       "      <td>0.865511</td>\n",
       "    </tr>\n",
       "    <tr>\n",
       "      <th>87</th>\n",
       "      <td>0.866282</td>\n",
       "    </tr>\n",
       "    <tr>\n",
       "      <th>69</th>\n",
       "      <td>0.878011</td>\n",
       "    </tr>\n",
       "    <tr>\n",
       "      <th>38</th>\n",
       "      <td>0.882799</td>\n",
       "    </tr>\n",
       "    <tr>\n",
       "      <th>72</th>\n",
       "      <td>0.887059</td>\n",
       "    </tr>\n",
       "    <tr>\n",
       "      <th>77</th>\n",
       "      <td>0.894399</td>\n",
       "    </tr>\n",
       "    <tr>\n",
       "      <th>81</th>\n",
       "      <td>0.894573</td>\n",
       "    </tr>\n",
       "    <tr>\n",
       "      <th>52</th>\n",
       "      <td>0.898430</td>\n",
       "    </tr>\n",
       "    <tr>\n",
       "      <th>96</th>\n",
       "      <td>0.898631</td>\n",
       "    </tr>\n",
       "    <tr>\n",
       "      <th>94</th>\n",
       "      <td>0.901070</td>\n",
       "    </tr>\n",
       "    <tr>\n",
       "      <th>65</th>\n",
       "      <td>0.901291</td>\n",
       "    </tr>\n",
       "    <tr>\n",
       "      <th>41</th>\n",
       "      <td>0.903575</td>\n",
       "    </tr>\n",
       "    <tr>\n",
       "      <th>53</th>\n",
       "      <td>0.906941</td>\n",
       "    </tr>\n",
       "    <tr>\n",
       "      <th>84</th>\n",
       "      <td>0.908635</td>\n",
       "    </tr>\n",
       "    <tr>\n",
       "      <th>18</th>\n",
       "      <td>0.908914</td>\n",
       "    </tr>\n",
       "    <tr>\n",
       "      <th>75</th>\n",
       "      <td>0.909983</td>\n",
       "    </tr>\n",
       "    <tr>\n",
       "      <th>37</th>\n",
       "      <td>0.914975</td>\n",
       "    </tr>\n",
       "    <tr>\n",
       "      <th>46</th>\n",
       "      <td>0.915673</td>\n",
       "    </tr>\n",
       "    <tr>\n",
       "      <th>15</th>\n",
       "      <td>0.917885</td>\n",
       "    </tr>\n",
       "    <tr>\n",
       "      <th>78</th>\n",
       "      <td>0.921165</td>\n",
       "    </tr>\n",
       "    <tr>\n",
       "      <th>93</th>\n",
       "      <td>0.922498</td>\n",
       "    </tr>\n",
       "    <tr>\n",
       "      <th>58</th>\n",
       "      <td>0.923242</td>\n",
       "    </tr>\n",
       "    <tr>\n",
       "      <th>32</th>\n",
       "      <td>0.924022</td>\n",
       "    </tr>\n",
       "    <tr>\n",
       "      <th>54</th>\n",
       "      <td>0.924505</td>\n",
       "    </tr>\n",
       "    <tr>\n",
       "      <th>90</th>\n",
       "      <td>0.925586</td>\n",
       "    </tr>\n",
       "    <tr>\n",
       "      <th>82</th>\n",
       "      <td>0.926877</td>\n",
       "    </tr>\n",
       "    <tr>\n",
       "      <th>27</th>\n",
       "      <td>0.928123</td>\n",
       "    </tr>\n",
       "    <tr>\n",
       "      <th>5</th>\n",
       "      <td>0.928133</td>\n",
       "    </tr>\n",
       "    <tr>\n",
       "      <th>...</th>\n",
       "      <td>...</td>\n",
       "    </tr>\n",
       "    <tr>\n",
       "      <th>91</th>\n",
       "      <td>0.955540</td>\n",
       "    </tr>\n",
       "    <tr>\n",
       "      <th>56</th>\n",
       "      <td>0.956115</td>\n",
       "    </tr>\n",
       "    <tr>\n",
       "      <th>13</th>\n",
       "      <td>0.956582</td>\n",
       "    </tr>\n",
       "    <tr>\n",
       "      <th>19</th>\n",
       "      <td>0.957347</td>\n",
       "    </tr>\n",
       "    <tr>\n",
       "      <th>45</th>\n",
       "      <td>0.957453</td>\n",
       "    </tr>\n",
       "    <tr>\n",
       "      <th>34</th>\n",
       "      <td>0.958139</td>\n",
       "    </tr>\n",
       "    <tr>\n",
       "      <th>57</th>\n",
       "      <td>0.958341</td>\n",
       "    </tr>\n",
       "    <tr>\n",
       "      <th>63</th>\n",
       "      <td>0.958794</td>\n",
       "    </tr>\n",
       "    <tr>\n",
       "      <th>85</th>\n",
       "      <td>0.958949</td>\n",
       "    </tr>\n",
       "    <tr>\n",
       "      <th>49</th>\n",
       "      <td>0.958965</td>\n",
       "    </tr>\n",
       "    <tr>\n",
       "      <th>25</th>\n",
       "      <td>0.961482</td>\n",
       "    </tr>\n",
       "    <tr>\n",
       "      <th>43</th>\n",
       "      <td>0.961909</td>\n",
       "    </tr>\n",
       "    <tr>\n",
       "      <th>6</th>\n",
       "      <td>0.962857</td>\n",
       "    </tr>\n",
       "    <tr>\n",
       "      <th>74</th>\n",
       "      <td>0.963143</td>\n",
       "    </tr>\n",
       "    <tr>\n",
       "      <th>20</th>\n",
       "      <td>0.963605</td>\n",
       "    </tr>\n",
       "    <tr>\n",
       "      <th>60</th>\n",
       "      <td>0.963788</td>\n",
       "    </tr>\n",
       "    <tr>\n",
       "      <th>22</th>\n",
       "      <td>0.963798</td>\n",
       "    </tr>\n",
       "    <tr>\n",
       "      <th>3</th>\n",
       "      <td>0.965588</td>\n",
       "    </tr>\n",
       "    <tr>\n",
       "      <th>21</th>\n",
       "      <td>0.966080</td>\n",
       "    </tr>\n",
       "    <tr>\n",
       "      <th>95</th>\n",
       "      <td>0.967818</td>\n",
       "    </tr>\n",
       "    <tr>\n",
       "      <th>33</th>\n",
       "      <td>0.968665</td>\n",
       "    </tr>\n",
       "    <tr>\n",
       "      <th>12</th>\n",
       "      <td>0.969506</td>\n",
       "    </tr>\n",
       "    <tr>\n",
       "      <th>31</th>\n",
       "      <td>0.970408</td>\n",
       "    </tr>\n",
       "    <tr>\n",
       "      <th>23</th>\n",
       "      <td>0.971880</td>\n",
       "    </tr>\n",
       "    <tr>\n",
       "      <th>29</th>\n",
       "      <td>0.972294</td>\n",
       "    </tr>\n",
       "    <tr>\n",
       "      <th>30</th>\n",
       "      <td>0.975038</td>\n",
       "    </tr>\n",
       "    <tr>\n",
       "      <th>7</th>\n",
       "      <td>0.978241</td>\n",
       "    </tr>\n",
       "    <tr>\n",
       "      <th>8</th>\n",
       "      <td>0.978797</td>\n",
       "    </tr>\n",
       "    <tr>\n",
       "      <th>10</th>\n",
       "      <td>0.981947</td>\n",
       "    </tr>\n",
       "    <tr>\n",
       "      <th>0</th>\n",
       "      <td>1.000000</td>\n",
       "    </tr>\n",
       "  </tbody>\n",
       "</table>\n",
       "<p>98 rows × 1 columns</p>\n",
       "</div>"
      ],
      "text/plain": [
       "    similaridad\n",
       "73     0.804869\n",
       "70     0.852237\n",
       "40     0.865511\n",
       "87     0.866282\n",
       "69     0.878011\n",
       "38     0.882799\n",
       "72     0.887059\n",
       "77     0.894399\n",
       "81     0.894573\n",
       "52     0.898430\n",
       "96     0.898631\n",
       "94     0.901070\n",
       "65     0.901291\n",
       "41     0.903575\n",
       "53     0.906941\n",
       "84     0.908635\n",
       "18     0.908914\n",
       "75     0.909983\n",
       "37     0.914975\n",
       "46     0.915673\n",
       "15     0.917885\n",
       "78     0.921165\n",
       "93     0.922498\n",
       "58     0.923242\n",
       "32     0.924022\n",
       "54     0.924505\n",
       "90     0.925586\n",
       "82     0.926877\n",
       "27     0.928123\n",
       "5      0.928133\n",
       "..          ...\n",
       "91     0.955540\n",
       "56     0.956115\n",
       "13     0.956582\n",
       "19     0.957347\n",
       "45     0.957453\n",
       "34     0.958139\n",
       "57     0.958341\n",
       "63     0.958794\n",
       "85     0.958949\n",
       "49     0.958965\n",
       "25     0.961482\n",
       "43     0.961909\n",
       "6      0.962857\n",
       "74     0.963143\n",
       "20     0.963605\n",
       "60     0.963788\n",
       "22     0.963798\n",
       "3      0.965588\n",
       "21     0.966080\n",
       "95     0.967818\n",
       "33     0.968665\n",
       "12     0.969506\n",
       "31     0.970408\n",
       "23     0.971880\n",
       "29     0.972294\n",
       "30     0.975038\n",
       "7      0.978241\n",
       "8      0.978797\n",
       "10     0.981947\n",
       "0      1.000000\n",
       "\n",
       "[98 rows x 1 columns]"
      ]
     },
     "execution_count": 44,
     "metadata": {},
     "output_type": "execute_result"
    }
   ],
   "source": [
    "df_s = pd.DataFrame(data=vector_similaridades,columns=['similaridad'])\n",
    "df_s.sort_values('similaridad')"
   ]
  },
  {
   "cell_type": "code",
   "execution_count": 45,
   "metadata": {},
   "outputs": [
    {
     "data": {
      "text/plain": [
       "[<matplotlib.lines.Line2D at 0x1cd16d18e10>]"
      ]
     },
     "execution_count": 45,
     "metadata": {},
     "output_type": "execute_result"
    },
    {
     "data": {
      "image/png": "[encoded data removed]",
      "text/plain": [
       "<Figure size 432x288 with 1 Axes>"
      ]
     },
     "metadata": {
      "needs_background": "light"
     },
     "output_type": "display_data"
    }
   ],
   "source": [
    "plt.plot(list(range(98)), vector_similaridades)"
   ]
  },
  {
   "cell_type": "code",
   "execution_count": 46,
   "metadata": {},
   "outputs": [
    {
     "name": "stdout",
     "output_type": "stream",
     "text": [
      "[0.80486894 0.82318574 0.9059943  0.8772305  0.7972681  0.9166915\n",
      " 0.82799953 0.87525403 0.825763   0.8971283  0.8378651  0.88707894\n",
      " 0.8400247  0.8829784  0.82462764 0.92777616 0.88420767 0.7806425\n",
      " 0.82215667 0.87089664 0.8561779  0.7718845  0.86348736 0.8697236\n",
      " 0.8221744  0.8746473  0.8731375  0.7794     0.92506623 0.8413622\n",
      " 0.86030906 0.8406786  0.8993555  0.8338182  0.85574806 0.88679475\n",
      " 0.8663554  0.81225556 0.8880452  0.85613054 0.86380994 0.81528825\n",
      " 0.89921945 0.872879   0.77105826 0.8406109  0.6974401  0.81529534\n",
      " 0.877231   0.84281415 0.78258353 0.81415486 0.8510537  0.7909362\n",
      " 0.90479463 0.843413   0.8618862  0.85811037 0.9288116  0.88094044\n",
      " 0.87928194 0.84654444 0.8260951  0.8288733  0.7719132  0.93416566\n",
      " 0.8336757  0.9295999  0.85772365 0.7738627  0.884661   0.88009584\n",
      " 0.84800833 1.         0.8786153  0.8967612  0.8401279  0.8028578\n",
      " 0.85539097 0.82482153 0.89249647 0.83368325 0.91231817 0.8836501\n",
      " 0.80374163 0.84986955 0.83598244 0.88123375 0.88544154 0.83039767\n",
      " 0.8777396  0.8509599  0.8244252  0.7983963  0.8961456  0.8319985\n",
      " 0.8421948  0.8467538 ]\n",
      "sueños similarity: 0.6974401 1.0\n"
     ]
    }
   ],
   "source": [
    "# ahora veo que pasa con el sueño 73 que dió mas diferente del primer sueño\n",
    "w1=Vet_wes_dreams_s1[73]\n",
    "vector_similaridades=w2v_model.wv.cosine_similarities(w1,Vet_wes_dreams_s1[:98])\n",
    "print(vector_similaridades)\n",
    "print (\"sueños similarity:\",min(vector_similaridades), max(vector_similaridades))"
   ]
  },
  {
   "cell_type": "code",
   "execution_count": 47,
   "metadata": {},
   "outputs": [
    {
     "data": {
      "text/plain": [
       "[<matplotlib.lines.Line2D at 0x1cd19f7cc18>]"
      ]
     },
     "execution_count": 47,
     "metadata": {},
     "output_type": "execute_result"
    },
    {
     "data": {
      "image/png": "[encoded data removed]",
      "text/plain": [
       "<Figure size 432x288 with 1 Axes>"
      ]
     },
     "metadata": {
      "needs_background": "light"
     },
     "output_type": "display_data"
    }
   ],
   "source": [
    "plt.plot(list(range(98)), vector_similaridades)"
   ]
  },
  {
   "cell_type": "markdown",
   "metadata": {},
   "source": [
    "## Clustering sobre los vectores de los sueños "
   ]
  },
  {
   "cell_type": "markdown",
   "metadata": {},
   "source": [
    "## Clustering jerarquico"
   ]
  },
  {
   "cell_type": "code",
   "execution_count": 48,
   "metadata": {},
   "outputs": [],
   "source": [
    "# Definicion Funcion de hopkins para evaluar tendencia al clustering\n",
    "def Hopkins(df,*args):\n",
    "    n = df.shape[0] # filas\n",
    "    d = df.shape[1] # columnas\n",
    "    if not args:\n",
    "        print(\"Numero de puntos al azar por defecto\")\n",
    "        m = int(0.1 * n) # cantidad de puntos al azar (default)\n",
    "    else:\n",
    "        m = args[0] # cantidad de puntos al azar\n",
    "\n",
    "    nbrs = NearestNeighbors(n_neighbors=1, algorithm='brute',metric='cosine').fit(df) # buscador de vecinos\n",
    "    \n",
    "    rand_ind = random.sample(range(0, n, 1), m) # indices al azar\n",
    "\n",
    "    ui = []\n",
    "    wi = []\n",
    "    for j in range(0, m):\n",
    "        u_dist, _ = nbrs.kneighbors(np.random.normal(size=(1, d)).reshape(1, -1), 2, return_distance=True) # distancia a los nuevos puntos\n",
    "        ui.append(u_dist[0][1])\n",
    "        w_dist, _ = nbrs.kneighbors(df[rand_ind[j]].reshape(1, -1), 2, return_distance=True) # distancia a los puntos al azar\n",
    "        wi.append(w_dist[0][1])\n",
    "\n",
    "    H = sum(wi) / (sum(ui) + sum(wi))\n",
    "    return H"
   ]
  },
  {
   "cell_type": "code",
   "execution_count": 49,
   "metadata": {},
   "outputs": [],
   "source": [
    "def expland_color_coef_sil(p_dreams_clusters,p_coef_sil):\n",
    "    coef_sil_dreams=pd.DataFrame(list(range(1,len(p_dreams_clusters)+1)) , columns=[\"dream\"])\n",
    "    coef_sil_dreams[\"cluster\"]=pd.DataFrame(p_dreams_clusters,columns=[\"cluster\"])\n",
    "    resultado=coef_sil_dreams.merge(p_coef_sil, right_index=True, left_on='cluster').sort_values(by=\"dream\")\n",
    "    return resultado"
   ]
  },
  {
   "cell_type": "code",
   "execution_count": 50,
   "metadata": {},
   "outputs": [],
   "source": [
    "# Estimar el coeficiente de Silhouette para cada cluster\n",
    "def hacer_silhouette(p_datos, p_clusters):\n",
    "    #sample_silhouette_values = silhouette_samples(matriz_distancias(p_datos), p_clusters, metric=\"precomputed\")\n",
    "    sample_silhouette_values = silhouette_samples(p_datos, p_clusters, metric=\"cosine\")\n",
    "    ########\n",
    "    #with open('vet_clusters_silh.txt', 'w') as filehandle:\n",
    "    #    for listitem in sample_silhouette_values:\n",
    "    #        filehandle.write('%f\\n' % round(listitem,2))\n",
    "    #########\n",
    "    cluster_labels = p_clusters\n",
    "    n_clusters=len(np.unique(cluster_labels))\n",
    "    ith_cluster_silhouette_avg = []\n",
    "    for i in range(n_clusters):\n",
    "        ith_cluster_silhouette_values = sample_silhouette_values[cluster_labels == i+1]\n",
    "        ith_cluster_silhouette_avg.append(np.mean(ith_cluster_silhouette_values)) \n",
    "    print(pd.DataFrame(ith_cluster_silhouette_avg,columns=['avg']).sort_values(by=\"avg\",ascending=False).head(15))\n",
    "    \n",
    "    fig, ax1 = plt.subplots(1, 1)\n",
    "    fig.set_size_inches(18, 7)\n",
    "\n",
    "    # The 1st subplot is the silhouette plot\n",
    "    # The silhouette coefficient can range from -1, 1 but in this example all\n",
    "    # lie within [-0.1, 1]\n",
    "    ax1.set_xlim([-0.1, 1])\n",
    "    # The (n_clusters+1)*10 is for inserting blank space between silhouette\n",
    "    # plots of individual clusters, to demarcate them clearly.\n",
    "    ax1.set_ylim([0, len(p_datos) + (n_clusters + 1) * 10])\n",
    "\n",
    "    y_lower = 10\n",
    "    for i in range(n_clusters):\n",
    "        ith_cluster_silhouette_values = sample_silhouette_values[cluster_labels == i+1]\n",
    "        ith_cluster_silhouette_values.sort()\n",
    "        size_cluster_i = ith_cluster_silhouette_values.shape[0]\n",
    "        y_upper = y_lower + size_cluster_i\n",
    "\n",
    "        color = cm.nipy_spectral(float(i) / n_clusters)\n",
    "        ax1.fill_betweenx(np.arange(y_lower, y_upper),\n",
    "                          0, ith_cluster_silhouette_values,\n",
    "                          facecolor=color, edgecolor=color, alpha=0.7)\n",
    "\n",
    "        # Label the silhouette plots with their cluster numbers at the middle\n",
    "        ax1.text(-0.05, y_lower + 0.5 * size_cluster_i, str(i+1))\n",
    "\n",
    "        # Compute the new y_lower for next plot\n",
    "        y_lower = y_upper + 10  # 10 for the 0 samples\n",
    "\n",
    "    ax1.set_xlabel(\"Coeficiente de silhouette\")\n",
    "    ax1.set_ylabel(\"Cluster label\")\n",
    "\n",
    "    # The vertical line for average silhouette score of all the values\n",
    "    silhouette_avg = silhouette_score(matriz_distancias(p_datos), p_clusters, metric=\"precomputed\")\n",
    "    ax1.axvline(x=silhouette_avg, color=\"red\", linestyle=\"--\")\n",
    "\n",
    "    ax1.set_yticks([])  # Clear the yaxis labels / ticks\n",
    "    ax1.set_xticks([-0.1, 0, 0.2, 0.4, 0.6, 0.8, 1])\n",
    "\n",
    "    plt.show()\n",
    "    p_coef_sil=pd.DataFrame(ith_cluster_silhouette_avg,columns=['avg'], index=list(range(1,n_clusters+1)))\n",
    "    p_coef_sil[\"color\"]=\"blue\"\n",
    "    p_coef_sil[\"color\"][p_coef_sil[\"avg\"]<0]=\"red\"\n",
    "    \n",
    "    resultado=expland_color_coef_sil(p_clusters,p_coef_sil)\n",
    "    return resultado"
   ]
  },
  {
   "cell_type": "code",
   "execution_count": 51,
   "metadata": {},
   "outputs": [],
   "source": [
    "def ClusterJerarq(p_datos, p, p_lista_dreams):\n",
    "    n = len(p_datos)\n",
    "    print('cantidad de sueños =',n)\n",
    "    #print('Tendencia al clustering Hopkins: ',Hopkins(pd.DataFrame.from_records(p_datos).values))\n",
    "    #print('Tendencia al clustering Hopkins: ',Hopkins(matriz_distancias(p_datos)))\n",
    "    \n",
    "    m_dist=matriz_distancias(p_datos)\n",
    "        \n",
    "    l = linkage(m_dist, method='average', metric='cosine',optimal_ordering=True)\n",
    "    #l = linkage(p_datos, method='complete', metric='euclidean',optimal_ordering=True)\n",
    "    #l = linkage( squareform(m_dist, force='tovector', checks=False), optimal_ordering=False)\n",
    "   \n",
    "\n",
    "    # calculate full dendrogram\n",
    "    plt.figure(figsize=(25, 10))\n",
    "    #plt.figure()\n",
    "    plt.title('Hierarchical Clustering Dendrogram')\n",
    "    plt.ylabel('distance')\n",
    "    plt.xlabel('dreams')\n",
    "\n",
    "    den=dendrogram(\n",
    "        l,\n",
    "        leaf_rotation=90.,  # rotates the x axis labels\n",
    "        leaf_font_size=16.,  # font size for the x axis labels\n",
    "        orientation='top',\n",
    "        truncate_mode='lastp',  # show only the last p merged clusters\n",
    "        p=50,  # show only the last p merged clusters\n",
    "        show_leaf_counts=True,  # otherwise numbers in brackets are counts\n",
    "        show_contracted=True,  # to get a distribution impression in truncated branches\n",
    "    )\n",
    "\n",
    "    ax = plt.gca()\n",
    "    bounds = ax.get_xbound()\n",
    "    ax.plot(bounds, [p, p], '--', c='k')\n",
    "    plt.show()\n",
    "    \n",
    "    #c, coph_dists = cophenet(l, pdist(p_datos))\n",
    "    #c, coph_dists = cophenet(l, squareform(m_dist, force='tovector', checks=False))\n",
    "    \n",
    "    #print('Coeficiente Cofenetico :  ',c)\n",
    "         \n",
    "    #clusters de sueños, depende a donde corto el dendograma, con p\n",
    "    f=fcluster(l, p, 'distance')\n",
    "    \n",
    "    return f"
   ]
  },
  {
   "cell_type": "code",
   "execution_count": 52,
   "metadata": {},
   "outputs": [],
   "source": [
    "def get_year(fecha):\n",
    "    if fecha.find(\"-\")==4:\n",
    "        year=fecha[:4]\n",
    "    else:\n",
    "        year=fecha[-4:]\n",
    "    return year"
   ]
  },
  {
   "cell_type": "code",
   "execution_count": 53,
   "metadata": {},
   "outputs": [],
   "source": [
    "def grafico_clusters_dreams(p_clusters, p_lista_dreams, p_colors):\n",
    "    n = len(p_clusters)\n",
    "    plt.figure(figsize=(18,6))\n",
    "  \n",
    "    sns.set(style=\"whitegrid\")\n",
    "    sns.set_color_codes(\"pastel\")\n",
    "\n",
    "    if len(p_colors)==0 :\n",
    "        plt.scatter(list(range(n)), p_clusters,c=\"blue\", s=20, alpha=0.4)\n",
    "    else:\n",
    "        plt.scatter(list(range(n)), p_clusters,c=p_colors,s=20, alpha=0.4)\n",
    "               \n",
    "    \n",
    "    plt.xlabel('Dream #')\n",
    "    plt.ylabel('Cluster #');\n",
    "    \n",
    "    sns.despine(left=True, bottom=True)\n",
    "    \n",
    "    #grafico los sueños en los clusters, marco donde empieza cada serie\n",
    "    ax = plt.gca()\n",
    "    if p_lista_dreams[0][:1]==\"V\":\n",
    "        ax.set_title(\"Series Vietnam Vet\", fontsize='x-large')\n",
    "    else:\n",
    "        ax.set_title(\"Series Phil\", fontsize='x-large')\n",
    "    bounds = ax.get_ybound()\n",
    "    pos_x=0\n",
    "    year_f=None\n",
    "    \n",
    "    for grupo in p_lista_dreams:\n",
    "        ax.plot([pos_x, pos_x],bounds, color='lightgreen',linewidth=5,linestyle='solid')\n",
    "                \n",
    "        fecha_i=df[df['group']==grupo][\"note\"].values[0] \n",
    "        year_i=get_year(fecha_i)\n",
    "        ax.annotate(year_i, xy=(pos_x+1, bounds[1]),fontsize='large')\n",
    "        if year_f!= None:\n",
    "            ax.annotate(year_f, xy=(pos_x-20, bounds[1]),fontsize='large') \n",
    "        cant_dreams=summary[summary['group']==grupo][\"numbers of dreams\"].values[0]\n",
    "        pos_x=pos_x+cant_dreams\n",
    "        ultimo=len(df[df['group']==grupo])-1\n",
    "        fecha_f=df[df['group']==grupo][\"note\"].values[ultimo]\n",
    "        year_f=get_year(fecha_f)\n",
    "        if cant_dreams < 50:\n",
    "            year_f=None\n",
    "        #print(pos_x)\n",
    "          \n",
    "    ax.plot([pos_x, pos_x],bounds, color='lightgreen',linewidth=5,linestyle='solid')\n",
    "    ax.annotate(year_f, xy=(pos_x-20, bounds[1]),fontsize='large')\n",
    "    ax.yaxis.set_ticks(np.arange(1,max(p_clusters)+1, 1))\n",
    "   \n",
    "    plt.savefig(\"clusters_dreams\"+p_lista_dreams[0][:1]+\".pdf\")\n",
    "    #plt.show()\n",
    "    \n",
    " \n",
    "    "
   ]
  },
  {
   "cell_type": "code",
   "execution_count": 54,
   "metadata": {},
   "outputs": [],
   "source": [
    "def grafico_histograma_clusters(p_clusters, p_lista_dreams):\n",
    "         \n",
    "    #histogramas\n",
    "    if len(p_lista_dreams)>0:\n",
    "        fig, axes = plt.subplots(1, 3, figsize=(15,5))\n",
    "        pos_i=0\n",
    "        pos_f=0\n",
    "        i=0\n",
    "        for axis in axes :\n",
    "                grupo=p_lista_dreams[i]\n",
    "                print(grupo)\n",
    "                n=summary[summary['group']==grupo][\"numbers of dreams\"].values[0]\n",
    "                pos_f=pos_i + n - 1\n",
    "                #print(pos_i, pos_f, n)\n",
    "                data = {grupo:p_clusters[pos_i:pos_f]}\n",
    "                pd.DataFrame(data).hist(ax=axis)\n",
    "                pos_i=pos_i + n\n",
    "                i= i + 1\n",
    "\n",
    "\n",
    "    "
   ]
  },
  {
   "cell_type": "code",
   "execution_count": 55,
   "metadata": {},
   "outputs": [],
   "source": [
    "# Para las listas de colores segun las emociones\n",
    "col         = 'Sentimiento'\n",
    "choices     = [ \"green\", 'black', 'pink','blue','red','yellow', 'brown','lightblue']\n"
   ]
  },
  {
   "cell_type": "code",
   "execution_count": 56,
   "metadata": {},
   "outputs": [
    {
     "name": "stdout",
     "output_type": "stream",
     "text": [
      "Negative    403\n",
      "Positive    190\n",
      "Name: Sentimiento, dtype: int64\n",
      "Fear            171\n",
      "Trust           159\n",
      "Sadness          87\n",
      "Joy              87\n",
      "Anger            47\n",
      "Anticipation     28\n",
      "Disgust          14\n",
      "Name: Sentimiento, dtype: int64\n"
     ]
    }
   ],
   "source": [
    "# Leo SA para Vet \n",
    "# Positivos y Negativos\n",
    "Vet_dominant_sent = pd.read_csv('../data/sa/vet_dominant_sent.txt', header=None ,names=['Sentimiento'])\n",
    "print(Vet_dominant_sent.iloc[:,-1].value_counts())\n",
    "Vet_dominant_sent['color']= np.where( Vet_dominant_sent[\"Sentimiento\"]==\"Negative\" , \"black\", \"blue\")\n",
    "Vet_dominant_sent_colors=list(Vet_dominant_sent['color'])\n",
    "# Emociones\n",
    "Vet_dominant_emot = pd.read_csv('../data/sa/vet_dominant_emot.txt', header=None ,names=['Sentimiento'])\n",
    "print(Vet_dominant_emot.iloc[:,-1].value_counts())\n",
    "Vet_conditions  = [ Vet_dominant_emot[col] ==\"Trust\",Vet_dominant_emot[col] ==\"Fear\",Vet_dominant_emot[col] ==\"Joy\",\n",
    "               Vet_dominant_emot[col] ==\"Sadness\", Vet_dominant_emot[col] ==\"Anger\",Vet_dominant_emot[col] ==\"Anticipation\",\n",
    "              Vet_dominant_emot[col] ==\"Disgust\",Vet_dominant_emot[col] ==\"Surprise\"]\n",
    "Vet_dominant_emot['color']= np.select( Vet_conditions, choices)\n",
    "Vet_dominant_emot_colors=list(Vet_dominant_emot['color'])\n",
    "# Topicos\n",
    "Vet_topics =list(pd.read_csv('../data/sa/vet_topics.txt', header=None, names=['Topico'] )['Topico'])\n",
    "#Vet_topics\n",
    "\n",
    "\n"
   ]
  },
  {
   "cell_type": "code",
   "execution_count": 57,
   "metadata": {},
   "outputs": [],
   "source": [
    "# Leo SA para  PHil\n",
    "\n",
    "# Positivos y Negativos\n",
    "Phil_dominant_sent = pd.read_csv('../data/sa/phil_dominant_sent.txt', header=None ,names=['Sentimiento'])\n",
    "#print(Phil_dominant_sent.iloc[:,-1].value_counts())\n",
    "Phil_dominant_sent['color']= np.where(Phil_dominant_sent[\"Sentimiento\"]==\"Negative\" , \"black\", \"blue\")\n",
    "Phil_dominant_sent_colors=list(Phil_dominant_sent['color'])\n",
    "\n",
    "# Emociones\n",
    "Phil_dominant_emot = pd.read_csv('../data/sa/phil_dominant_emot.txt', header=None ,names=['Sentimiento'])\n",
    "#print(Phil_dominant_emot.iloc[:,-1].value_counts())\n",
    "Phil_conditions  = [ Phil_dominant_emot[col] ==\"Trust\",Phil_dominant_emot[col] ==\"Fear\",Phil_dominant_emot[col] ==\"Joy\",\n",
    "               Phil_dominant_emot[col] ==\"Sadness\", Phil_dominant_emot[col] ==\"Anger\",Phil_dominant_emot[col] ==\"Anticipation\",\n",
    "              Phil_dominant_emot[col] ==\"Disgust\",Phil_dominant_emot[col] ==\"Surprise\"]\n",
    "Phil_dominant_emot['color']= np.select( Phil_conditions, choices)\n",
    "Phil_dominant_emot_colors=list(Phil_dominant_emot['color'])\n",
    "\n",
    "# topicos\n",
    "Phil_topics = list(pd.read_csv('../data/sa/phil_topics.txt', header=None, names=['Topico'] )['Topico'])\n",
    "#Phil_topics\n"
   ]
  },
  {
   "cell_type": "code",
   "execution_count": 58,
   "metadata": {},
   "outputs": [],
   "source": [
    "def grafico_heatmap(df_base, p_dream_clusters, p_col1, p_col2):\n",
    "    df_base.reset_index(drop=True, inplace=True)\n",
    "    df_clusters_dreams=pd.DataFrame(p_dream_clusters,columns=[p_col2])\n",
    "    df_base.head()\n",
    "    resultado=df_base.merge(df_clusters_dreams, right_index=True, left_index=True)\n",
    "    datos_summary=pd.DataFrame({'count':resultado.groupby([p_col1,p_col2]).size()}).reset_index()\n",
    "    \n",
    "    sns.set()\n",
    "    fig, ax = plt.subplots(figsize=(10,6))\n",
    "    \n",
    "    ax.set_yticklabels(ax.get_xticklabels(),rotation=0)\n",
    "    ax.set_xticklabels(ax.get_xticklabels(),rotation=0, fontsize=20)\n",
    "    ax = sns.heatmap(datos_summary.pivot( p_col1,p_col2, \"count\"), annot=True,cmap=\"Greens\",fmt=\".0f\",linewidths=0.1)\n",
    "    plt.title(\"Heatmap Vet_clusters_series\", fontsize=15)\n",
    "   \n",
    "    #plt.show()\n"
   ]
  },
  {
   "cell_type": "markdown",
   "metadata": {},
   "source": [
    "## Sobre Vet completo"
   ]
  },
  {
   "cell_type": "code",
   "execution_count": 59,
   "metadata": {},
   "outputs": [
    {
     "name": "stdout",
     "output_type": "stream",
     "text": [
      "cantidad de sueños = 593\n",
      "(593, 593)\n"
     ]
    },
    {
     "data": {
      "image/png": "[encoded data removed]",
      "text/plain": [
       "<Figure size 1800x720 with 1 Axes>"
      ]
     },
     "metadata": {
      "needs_background": "light"
     },
     "output_type": "display_data"
    }
   ],
   "source": [
    "Vet_lista_dreams=['Vietnam Vet: 1970-2008 war dreams', 'Vietnam Vet: 2015 dreams', 'Vietnam Vet: 2016-17 dreams']\n",
    "Vet_wes_dreams = hacer_vectores_dreams(Vet_lista_dreams)\n",
    "Vet_dreams_clusters_jerarq=ClusterJerarq(Vet_wes_dreams,0.055,Vet_lista_dreams) #0.055"
   ]
  },
  {
   "cell_type": "code",
   "execution_count": 60,
   "metadata": {},
   "outputs": [
    {
     "name": "stdout",
     "output_type": "stream",
     "text": [
      "        avg\n",
      "3  0.196157\n",
      "2  0.179602\n",
      "7  0.173820\n",
      "0  0.145561\n",
      "4  0.145177\n",
      "5  0.138348\n",
      "1  0.085525\n",
      "6  0.054362\n",
      "(593, 593)\n"
     ]
    },
    {
     "data": {
      "image/png": "[encoded data removed]",
      "text/plain": [
       "<Figure size 1296x504 with 1 Axes>"
      ]
     },
     "metadata": {
      "needs_background": "light"
     },
     "output_type": "display_data"
    },
    {
     "data": {
      "text/plain": [
       "array([0.08552469, 0.14517729, 0.05436191, 0.19615665, 0.13834798,\n",
       "       0.17960243, 0.17382   , 0.14556052])"
      ]
     },
     "execution_count": 60,
     "metadata": {},
     "output_type": "execute_result"
    }
   ],
   "source": [
    "## Sobre clusters de kmeans\n",
    "Vet_coef_sil=hacer_silhouette(Vet_wes_dreams, Vet_dreams_clusters_kmeans)\n",
    "#print('len',len(Vet_coef_sil))\n",
    "Vet_coef_sil[\"avg\"].unique()"
   ]
  },
  {
   "cell_type": "code",
   "execution_count": 61,
   "metadata": {},
   "outputs": [
    {
     "data": {
      "image/png": "[encoded data removed]",
      "text/plain": [
       "<Figure size 1296x432 with 1 Axes>"
      ]
     },
     "metadata": {
      "needs_background": "light"
     },
     "output_type": "display_data"
    }
   ],
   "source": [
    "#Opciones de colorear:\n",
    "# [] todos el mismo color\n",
    "# Vet_dominant_emot_colors\n",
    "# Vet_dominant_sent_colors\n",
    "# Vet_topics\n",
    "# list(Vet_coef_sil['color']) segun silhuette positivo y negativo\n",
    "\n",
    "grafico_clusters_dreams(Vet_dreams_clusters_kmeans,Vet_lista_dreams,[])\n",
    "\n",
    "#grafico_clusters_dreams(Vet_dreams_clusters_jerarq,Vet_lista_dreams, list(Vet_coef_sil['color']))\n",
    "#grafico_clusters_dreams(Vet_dreams_clusters_jerarq,Vet_lista_dreams,Vet_dominant_emot_colors)\n",
    "#grafico_clusters_dreams(Vet_dreams_clusters_kmeans,Vet_lista_dreams,Vet_dominant_emot_colors)\n",
    "\n",
    "#grafico_clusters_dreams(Vet_dreams_clusters_jerarq,Vet_lista_dreams,Vet_topics)\n",
    "#grafico_histograma_clusters(Vet_dreams_clusters_jerarq,Vet_lista_dreams)"
   ]
  },
  {
   "cell_type": "code",
   "execution_count": 62,
   "metadata": {},
   "outputs": [
    {
     "data": {
      "image/png": "[encoded data removed]",
      "text/plain": [
       "<Figure size 720x432 with 2 Axes>"
      ]
     },
     "metadata": {},
     "output_type": "display_data"
    },
    {
     "data": {
      "image/png": "[encoded data removed]",
      "text/plain": [
       "<Figure size 720x432 with 2 Axes>"
      ]
     },
     "metadata": {},
     "output_type": "display_data"
    }
   ],
   "source": [
    "\n",
    "\n",
    "#grafico_heatmap(df_vietnam, Vet_dreams_clusters_kmeans,\"group\",\"cluster\")\n",
    "grafico_heatmap(pd.DataFrame(Vet_dreams_clusters_kmeans, columns=[\"cluster\"]), Vet_topics,\"cluster\",\"topico\")\n",
    "plt.savefig(\"heatmap_Vet_topico.pdf\")\n",
    "grafico_heatmap(pd.DataFrame(Vet_dreams_clusters_kmeans, columns=[\"cluster\"]), np.array(Vet_dominant_sent[\"Sentimiento\"]),\"cluster\",\"Sentimiento\")\n",
    "plt.savefig(\"heatmap_Vet_sentim.pdf\")"
   ]
  },
  {
   "cell_type": "code",
   "execution_count": 322,
   "metadata": {},
   "outputs": [],
   "source": [
    "#with open('vet_clusters_jerarq_6.txt', 'w') as filehandle:\n",
    "#    for listitem in Vet_dreams_clusters_jerarq:\n",
    "#        filehandle.write('%d\\n' % listitem)"
   ]
  },
  {
   "cell_type": "markdown",
   "metadata": {},
   "source": [
    "## Sobre Phil\n"
   ]
  },
  {
   "cell_type": "code",
   "execution_count": 63,
   "metadata": {
    "scrolled": true
   },
   "outputs": [
    {
     "name": "stdout",
     "output_type": "stream",
     "text": [
      "cantidad de sueños = 506\n",
      "(506, 506)\n"
     ]
    },
    {
     "data": {
      "image/png": "[encoded data removed]",
      "text/plain": [
       "<Figure size 1800x720 with 1 Axes>"
      ]
     },
     "metadata": {},
     "output_type": "display_data"
    }
   ],
   "source": [
    "Phil_lista_dreams=['Phil 1: teens', 'Phil 2: late 20s', 'Phil 3: retirement']\n",
    "Phil_wes_dreams = hacer_vectores_dreams(Phil_lista_dreams)\n",
    "Phil_dreams_clusters_jerarq=ClusterJerarq(Phil_wes_dreams,0.04, Phil_lista_dreams) #0.04"
   ]
  },
  {
   "cell_type": "code",
   "execution_count": 64,
   "metadata": {},
   "outputs": [
    {
     "name": "stdout",
     "output_type": "stream",
     "text": [
      "        avg\n",
      "3  0.257601\n",
      "4  0.212100\n",
      "1  0.164255\n",
      "0  0.114979\n",
      "2  0.091741\n",
      "(506, 506)\n"
     ]
    },
    {
     "data": {
      "image/png": "[encoded data removed]",
      "text/plain": [
       "<Figure size 1296x504 with 1 Axes>"
      ]
     },
     "metadata": {},
     "output_type": "display_data"
    },
    {
     "data": {
      "text/plain": [
       "array([0.21210021, 0.25760135, 0.16425531, 0.09174148, 0.11497851])"
      ]
     },
     "execution_count": 64,
     "metadata": {},
     "output_type": "execute_result"
    }
   ],
   "source": [
    "# sobre clusters de kmeans\n",
    "Phil_coef_sil=hacer_silhouette(Phil_wes_dreams, Phil_dreams_clusters_kmeans)\n",
    "#print('len',len(Vet_coef_sil))\n",
    "Phil_coef_sil[\"avg\"].unique()"
   ]
  },
  {
   "cell_type": "code",
   "execution_count": 65,
   "metadata": {},
   "outputs": [],
   "source": [
    "#with open('phil_clusters_jerarq.txt', 'w') as filehandle:\n",
    "#    for listitem in Phil_dreams_clusters_jerarq:\n",
    "#        filehandle.write('%d\\n' % listitem)\n"
   ]
  },
  {
   "cell_type": "code",
   "execution_count": 67,
   "metadata": {},
   "outputs": [
    {
     "data": {
      "image/png": "[encoded data removed]",
      "text/plain": [
       "<Figure size 1296x432 with 1 Axes>"
      ]
     },
     "metadata": {},
     "output_type": "display_data"
    }
   ],
   "source": [
    "grafico_clusters_dreams(Phil_dreams_clusters_kmeans,Phil_lista_dreams,[])\n",
    "#grafico_clusters_dreams(Phil_dreams_clusters_jerarq,Phil_lista_dreams,Phil_dominant_sent_colors)\n",
    "#grafico_clusters_dreams(Phil_dreams_clusters_jerarq,Phil_lista_dreams,Phil_dominant_emot_colors)\n",
    "#grafico_clusters_dreams(Phil_dreams_clusters_jerarq,Phil_lista_dreams,Phil_topics)\n",
    "\n",
    "#grafico_histograma_clusters(Phil_dreams_clusters_jerarq,Phil_lista_dreams)"
   ]
  },
  {
   "cell_type": "code",
   "execution_count": 68,
   "metadata": {},
   "outputs": [
    {
     "data": {
      "image/png": "[encoded data removed]",
      "text/plain": [
       "<Figure size 720x432 with 2 Axes>"
      ]
     },
     "metadata": {},
     "output_type": "display_data"
    },
    {
     "data": {
      "image/png": "[encoded data removed]",
      "text/plain": [
       "<Figure size 720x432 with 2 Axes>"
      ]
     },
     "metadata": {},
     "output_type": "display_data"
    }
   ],
   "source": [
    "#grafico_heatmap(df_phil, Phil_dreams_clusters_kmeans,\"group\",\"cluster\")\n",
    "grafico_heatmap(pd.DataFrame(Phil_dreams_clusters_kmeans, columns=[\"cluster\"]), Phil_topics,\"cluster\",\"topico\")\n",
    "plt.savefig(\"heatmap_Phil_topico.pdf\")\n",
    "grafico_heatmap(pd.DataFrame(Phil_dreams_clusters_kmeans, columns=[\"cluster\"]), np.array(Phil_dominant_sent[\"Sentimiento\"]),\"cluster\",\"sentimiento\")\n",
    "plt.savefig(\"heatmap_Phil_sentim.pdf\")"
   ]
  },
  {
   "cell_type": "code",
   "execution_count": null,
   "metadata": {},
   "outputs": [],
   "source": []
  }
 ],
 "metadata": {
  "kernelspec": {
   "display_name": "Python 3",
   "language": "python",
   "name": "python3"
  },
  "language_info": {
   "codemirror_mode": {
    "name": "ipython",
    "version": 3
   },
   "file_extension": ".py",
   "mimetype": "text/x-python",
   "name": "python",
   "nbconvert_exporter": "python",
   "pygments_lexer": "ipython3",
   "version": "3.7.3"
  }
 },
 "nbformat": 4,
 "nbformat_minor": 2
}
