{
  "nbformat": 4,
  "nbformat_minor": 0,
  "metadata": {
    "kernelspec": {
      "display_name": "Python 3",
      "language": "python",
      "name": "python3"
    },
    "language_info": {
      "codemirror_mode": {
        "name": "ipython",
        "version": 3
      },
      "file_extension": ".py",
      "mimetype": "text/x-python",
      "name": "python",
      "nbconvert_exporter": "python",
      "pygments_lexer": "ipython3",
      "version": "3.7.2"
    },
    "colab": {
      "name": "2. Clasificacion de textos (Bayes).ipynb",
      "provenance": [],
      "collapsed_sections": [
        "Jl2rm838yjF3",
        "8SDbY0PTyjGB"
      ],
      "include_colab_link": true
    }
  },
  "cells": [
    {
      "cell_type": "markdown",
      "metadata": {
        "id": "view-in-github",
        "colab_type": "text"
      },
      "source": [
        "<a href=\"https://colab.research.google.com/github/juanknebel/text-mining-2020/blob/master/2_Clasificacion_de_textos_(Bayes).ipynb\" target=\"_parent\"><img src=\"https://colab.research.google.com/assets/colab-badge.svg\" alt=\"Open In Colab\"/></a>"
      ]
    },
    {
      "cell_type": "markdown",
      "metadata": {
        "id": "8-1ien5uyjFP",
        "colab_type": "text"
      },
      "source": [
        "# Clasificación de textos: Naive Bayes "
      ]
    },
    {
      "cell_type": "code",
      "metadata": {
        "id": "VSdkEOPJyjFQ",
        "colab_type": "code",
        "outputId": "89bd96c4-b6b7-4225-edfd-ab59e60e55a8",
        "colab": {
          "base_uri": "https://localhost:8080/",
          "height": 125
        }
      },
      "source": [
        "%matplotlib inline \n",
        "import matplotlib.pyplot as plt\n",
        "import pandas as pd\n",
        "import numpy as np\n",
        "import re\n",
        "import random\n",
        "\n",
        "from nltk import word_tokenize, sent_tokenize\n",
        "\n",
        "from sklearn.model_selection import train_test_split, cross_val_score, GridSearchCV,StratifiedKFold\n",
        "from sklearn.feature_extraction.text import CountVectorizer, TfidfVectorizer\n",
        "from sklearn.naive_bayes import MultinomialNB\n",
        "from sklearn.metrics import confusion_matrix, precision_recall_fscore_support, classification_report\n",
        "from sklearn.ensemble import RandomForestClassifier, GradientBoostingClassifier\n",
        "from sklearn.dummy import DummyClassifier\n",
        "import nltk\n",
        "nltk.download('movie_reviews')\n",
        "nltk.download('punkt')\n",
        "nltk.download('stopwords')\n",
        "from nltk.corpus import stopwords\n",
        "from nltk.corpus import movie_reviews"
      ],
      "execution_count": 1,
      "outputs": [
        {
          "output_type": "stream",
          "text": [
            "[nltk_data] Downloading package movie_reviews to /root/nltk_data...\n",
            "[nltk_data]   Unzipping corpora/movie_reviews.zip.\n",
            "[nltk_data] Downloading package punkt to /root/nltk_data...\n",
            "[nltk_data]   Unzipping tokenizers/punkt.zip.\n",
            "[nltk_data] Downloading package stopwords to /root/nltk_data...\n",
            "[nltk_data]   Unzipping corpora/stopwords.zip.\n"
          ],
          "name": "stdout"
        }
      ]
    },
    {
      "cell_type": "code",
      "metadata": {
        "id": "fd73GYAoAYi5",
        "colab_type": "code",
        "colab": {
          "base_uri": "https://localhost:8080/",
          "height": 35
        },
        "outputId": "db0cd50c-e089-4f5b-f39c-9b069de744eb"
      },
      "source": [
        "movie_reviews.categories()"
      ],
      "execution_count": 2,
      "outputs": [
        {
          "output_type": "execute_result",
          "data": {
            "text/plain": [
              "['neg', 'pos']"
            ]
          },
          "metadata": {
            "tags": []
          },
          "execution_count": 2
        }
      ]
    },
    {
      "cell_type": "code",
      "metadata": {
        "id": "zuAnRgkJAmd-",
        "colab_type": "code",
        "colab": {
          "base_uri": "https://localhost:8080/",
          "height": 197
        },
        "outputId": "17f9e3d1-8b26-44ec-98ac-20f540541106"
      },
      "source": [
        "neg_review_fileids = movie_reviews.fileids('neg')\n",
        "neg_review_fileids[:10]"
      ],
      "execution_count": 3,
      "outputs": [
        {
          "output_type": "execute_result",
          "data": {
            "text/plain": [
              "['neg/cv000_29416.txt',\n",
              " 'neg/cv001_19502.txt',\n",
              " 'neg/cv002_17424.txt',\n",
              " 'neg/cv003_12683.txt',\n",
              " 'neg/cv004_12641.txt',\n",
              " 'neg/cv005_29357.txt',\n",
              " 'neg/cv006_17022.txt',\n",
              " 'neg/cv007_4992.txt',\n",
              " 'neg/cv008_29326.txt',\n",
              " 'neg/cv009_29417.txt']"
            ]
          },
          "metadata": {
            "tags": []
          },
          "execution_count": 3
        }
      ]
    },
    {
      "cell_type": "code",
      "metadata": {
        "id": "-glkTf_J89sI",
        "colab_type": "code",
        "colab": {
          "base_uri": "https://localhost:8080/",
          "height": 469
        },
        "outputId": "1c2283a3-4fe9-42a9-d881-6de7d534cfe3"
      },
      "source": [
        "print(movie_reviews.raw(neg_review_fileids[2]))"
      ],
      "execution_count": 4,
      "outputs": [
        {
          "output_type": "stream",
          "text": [
            "it is movies like these that make a jaded movie viewer thankful for the invention of the timex indiglo watch . \n",
            "based on the late 1960's television show by the same name , the mod squad tells the tale of three reformed criminals under the employ of the police to go undercover . \n",
            "however , things go wrong as evidence gets stolen and they are immediately under suspicion . \n",
            "of course , the ads make it seem like so much more . \n",
            "quick cuts , cool music , claire dane's nice hair and cute outfits , car chases , stuff blowing up , and the like . \n",
            "sounds like a cool movie , does it not ? \n",
            "after the first fifteen minutes , it quickly becomes apparent that it is not . \n",
            "the mod squad is certainly a slick looking production , complete with nice hair and costumes , but that simply isn't enough . \n",
            "the film is best described as a cross between an hour-long cop show and a music video , both stretched out into the span of an hour and a half . \n",
            "and with it comes every single clich ? . \n",
            "it doesn't really matter that the film is based on a television show , as most of the plot elements have been recycled from everything we've already seen . \n",
            "the characters and acting is nothing spectacular , sometimes even bordering on wooden . \n",
            "claire danes and omar epps deliver their lines as if they are bored , which really transfers onto the audience . \n",
            "the only one to escape relatively unscathed is giovanni ribisi , who plays the resident crazy man , ultimately being the only thing worth watching . \n",
            "unfortunately , even he's not enough to save this convoluted mess , as all the characters don't do much apart from occupying screen time . \n",
            "with the young cast , cool clothes , nice hair , and hip soundtrack , it appears that the film is geared towards the teenage mindset . \n",
            "despite an american 'r' rating ( which the content does not justify ) , the film is way too juvenile for the older mindset . \n",
            "information on the characters is literally spoon-fed to the audience ( would it be that hard to show us instead of telling us ? ) , dialogue is poorly written , and the plot is extremely predictable . \n",
            "the way the film progresses , you likely won't even care if the heroes are in any jeopardy , because you'll know they aren't . \n",
            "basing the show on a 1960's television show that nobody remembers is of questionable wisdom , especially when one considers the target audience and the fact that the number of memorable films based on television shows can be counted on one hand ( even one that's missing a finger or two ) . \n",
            "the number of times that i checked my watch ( six ) is a clear indication that this film is not one of them . \n",
            "it is clear that the film is nothing more than an attempt to cash in on the teenage spending dollar , judging from the rash of really awful teen-flicks that we've been seeing as of late . \n",
            "avoid this film at all costs . \n",
            "\n"
          ],
          "name": "stdout"
        }
      ]
    },
    {
      "cell_type": "code",
      "metadata": {
        "id": "yTiYruP32H7A",
        "colab_type": "code",
        "colab": {}
      },
      "source": [
        "documents = []\n",
        " \n",
        "for category in movie_reviews.categories():\n",
        "    for fileid in movie_reviews.fileids(category):\n",
        "        documents.append((movie_reviews.raw(fileid), category))\n",
        "\n",
        "df = pd.DataFrame(documents, columns=['review', 'tag'])\n"
      ],
      "execution_count": 0,
      "outputs": []
    },
    {
      "cell_type": "code",
      "metadata": {
        "id": "D3bVVuTtyjFX",
        "colab_type": "code",
        "colab": {
          "base_uri": "https://localhost:8080/",
          "height": 204
        },
        "outputId": "f07bf79b-5494-4520-8408-98f4a5a8d0bc"
      },
      "source": [
        "df = df.sample(frac=1,random_state=0).reset_index(drop=True).copy()\n",
        "df.head()"
      ],
      "execution_count": 6,
      "outputs": [
        {
          "output_type": "execute_result",
          "data": {
            "text/html": [
              "<div>\n",
              "<style scoped>\n",
              "    .dataframe tbody tr th:only-of-type {\n",
              "        vertical-align: middle;\n",
              "    }\n",
              "\n",
              "    .dataframe tbody tr th {\n",
              "        vertical-align: top;\n",
              "    }\n",
              "\n",
              "    .dataframe thead th {\n",
              "        text-align: right;\n",
              "    }\n",
              "</style>\n",
              "<table border=\"1\" class=\"dataframe\">\n",
              "  <thead>\n",
              "    <tr style=\"text-align: right;\">\n",
              "      <th></th>\n",
              "      <th>review</th>\n",
              "      <th>tag</th>\n",
              "    </tr>\n",
              "  </thead>\n",
              "  <tbody>\n",
              "    <tr>\n",
              "      <th>0</th>\n",
              "      <td>arnold schwarzenegger has been an icon for act...</td>\n",
              "      <td>neg</td>\n",
              "    </tr>\n",
              "    <tr>\n",
              "      <th>1</th>\n",
              "      <td>good films are hard to find these days . \\ngre...</td>\n",
              "      <td>pos</td>\n",
              "    </tr>\n",
              "    <tr>\n",
              "      <th>2</th>\n",
              "      <td>quaid stars as a man who has taken up the prof...</td>\n",
              "      <td>pos</td>\n",
              "    </tr>\n",
              "    <tr>\n",
              "      <th>3</th>\n",
              "      <td>we could paraphrase michelle pfieffer's charac...</td>\n",
              "      <td>neg</td>\n",
              "    </tr>\n",
              "    <tr>\n",
              "      <th>4</th>\n",
              "      <td>kolya is one of the richest films i've seen in...</td>\n",
              "      <td>pos</td>\n",
              "    </tr>\n",
              "  </tbody>\n",
              "</table>\n",
              "</div>"
            ],
            "text/plain": [
              "                                              review  tag\n",
              "0  arnold schwarzenegger has been an icon for act...  neg\n",
              "1  good films are hard to find these days . \\ngre...  pos\n",
              "2  quaid stars as a man who has taken up the prof...  pos\n",
              "3  we could paraphrase michelle pfieffer's charac...  neg\n",
              "4  kolya is one of the richest films i've seen in...  pos"
            ]
          },
          "metadata": {
            "tags": []
          },
          "execution_count": 6
        }
      ]
    },
    {
      "cell_type": "code",
      "metadata": {
        "id": "URosYuw_yjFa",
        "colab_type": "code",
        "colab": {
          "base_uri": "https://localhost:8080/",
          "height": 71
        },
        "outputId": "87c7c443-3e05-43d5-f326-7714d1171d35"
      },
      "source": [
        "df.tag.value_counts()"
      ],
      "execution_count": 7,
      "outputs": [
        {
          "output_type": "execute_result",
          "data": {
            "text/plain": [
              "neg    1000\n",
              "pos    1000\n",
              "Name: tag, dtype: int64"
            ]
          },
          "metadata": {
            "tags": []
          },
          "execution_count": 7
        }
      ]
    },
    {
      "cell_type": "code",
      "metadata": {
        "id": "zBHyIXtLOUuJ",
        "colab_type": "code",
        "colab": {}
      },
      "source": [
        "train_test_split?\n"
      ],
      "execution_count": 0,
      "outputs": []
    },
    {
      "cell_type": "code",
      "metadata": {
        "id": "SPc8EwVeyjFd",
        "colab_type": "code",
        "colab": {}
      },
      "source": [
        "# separamos entre train y test sets\n",
        "X = df.review\n",
        "y = df.tag\n",
        "X_train_text, X_test_text, y_train, y_test = train_test_split(X,y,stratify=y, test_size=0.20, random_state=1234)"
      ],
      "execution_count": 0,
      "outputs": []
    },
    {
      "cell_type": "code",
      "metadata": {
        "id": "CmRBEf0eyjFf",
        "colab_type": "code",
        "colab": {
          "base_uri": "https://localhost:8080/",
          "height": 217
        },
        "outputId": "7049b839-8b0c-4c8b-b5a3-06b58a9f79c4"
      },
      "source": [
        "X_train_text.tolist()[:10]"
      ],
      "execution_count": 10,
      "outputs": [
        {
          "output_type": "execute_result",
          "data": {
            "text/plain": [
              "['wolfgang petersen\\'s latest , the perfect storm , is like a pineapple . \\nit only tastes good after arduous peeling and digging - if you try to eat the fruit , spikes and all , it\\'s going to hurt ? quite a bit . \\nok , maybe that was a confusing analogy , so here\\'s my main complaint about the latest man battles nature flick : there isn\\'t really much of a story to tell . \\nbasically , a massachusetts fishing crew goes out to sea on a small boat , called the andrea gail , and gets stuck in the middle of \" the storm of the century . \" \\nhow much time does it take for petersen to tell this story ? \\nnot nearly enough . \\nso he spends the majority of the film developing pointless side stories which all eventually become superfluous . \\naudiences want to see the storm , they want to see a fight for survival but what they get is a lot of cliched , maudlin drivel . \\nthe last quarter of the perfect storm is utterly perfect in every aspect , but just try lasting the first three-quarters . \\ni have yet to read sebastian junger\\'s the perfect storm , but from what i have heard it is an unforgettable tale . \\nbased on a true story , the book must have found some other way to introduce the characters because in the movie version , the approach is weak . \\nusing a wonderfully patriotic score by james horner , petersen almost hides the in-your-face banality . \\nright away the central characters are introduced : the gritty , determined captain ( george clooney ) , the ingenue ( mark wahlberg ) torn between his job and his girlfriend ( diane lane ) , the loving father ( john c . reilly ) , the comic relief who\\'s always trying to get laid ( john hawkes ) , the new guy ( william fichtner ) who immediately antagonizes a crewmate and the quiet , french guy ( allen payne ) . \\nso many problems strike the opening segment of the film that the remaining portions directly suffer . \\nit is not the all-star cast\\'s fault , just the characters designed for their portrayal . \\nallen payne\\'s character never speaks in the entire movie , not because he is mute , but because he\\'s never given any lines ! \\nare we supposed to root for a guy whose face and voice we are never given a chance to interact with ? \\nfichtner\\'s character is terribly underdeveloped - we don\\'t know what he\\'s doing there , where he\\'s from , or who he\\'s supposed to be . \\nthe remaining four fishermen are all cardboard stereotypes ( hawkes says to a female stranger in one scene \" you know what would look good on you ? \\nme ! \" \\nooooh real creative ) . \\nas the script advances and the andrea gail floats farther out into the waters , the crew continues to not feel human . \\nonly when the storm takes center stage does the movie jump out of its sleepwalk . \\nthe computer-generated images of gigantic waves crashing against a helpless boat are thunderously real . \\ni can only imagine if this was an imax film , this city kid would surely never go in the water again . \\nthis is loud , jolting entertainment - adjectives that completely negate the rest of the film . \\nthe perfect storm was unfortunately a disappointment . \\nthe maelstrom lived up to its potential but everything else failed to do so . \\ni guess i\\'ll stick to that other survival spectacle ? you know the one on cbs ? \\n',\n",
              " 'i have to admit that i disliked this film initially . \\nit certianly isn\\'t for every taste , and it\\'s sheer torture to sit through if you\\'re in a restless mood . \\nthat said , if you are in the right mood , it\\'s absolutely incredible . \\nthis was my second favorite movie of 1998 , and would have been a shoo-in for first in almost any other year . \\nperhaps the big turn-off for many was this film\\'s unconventionality . \\ni\\'d be hard-pressed to compare it to any other film that i\\'ve seen - it is very , very artsy , incredibly slow - and amazingly , it works beautifully . \\non my second viewing , i realized that the film follows the three act structure ( i didn\\'t think it had any sort of structure at all when i first saw it ) . \\nthe first act serves to set up the characters - sort of . \\nit exists even moreso to set a mood of tension and restlesness , and perhaps even feelings of boredom . \\nand then it is shattered by the intense violence of the second ( which encompasses most of the movie ) . \\nthe majority of the film is one extended battle scene , intercut with brief flashbacks and voice-overs . \\nthe artsier elements do not detract from the action , but add to it - they succeed in briefly letting the viewer peek into the minds of the soldiers , only to be suddenly yanked back into reality when the battle resumes . \\nthe battle scenes are amazing ( second only to \" saving private ryan \" in my opinion ) . \\nthey\\'re brutal , horrifying , and at times beautiful due to the amazing cinematography . \\nthe second act is as immersive , brilliant , and haunting as any film that i have ever seen . \\nthe only problems come during the first and third acts . \\nmalick takes a little too long to get the film started . \\nalthough the initial scenes - which consist of two soldiers\\' experiencing a near-eden-like paradise while going awol , and the preperations for battle - are effective and necessary , hints of pretentiousness sink in . \\nthe film is just a tad too artsy near the beginning , and a lot of people that disliked the movie probably gave up on it because of this . \\nthe final act is effective at winding the film down , but the problems from the first persist - it\\'s a bit too long , and comes over as pretentious at times . \\nthat said , there are two sequences ( one where a soldier gets a devastating note from his wife , and another where one of the main characters is killed ) that are nothing short of incredible . \\nthe performances are phenominal all around . \\nthe two standouts are nick nolte and newcomer jim caviezel , both of whom should have been nominated for oscars . \\nnolte is riveting and intense as the colonel in charge of the operation . \\nhis character is hard , mean , and somewhat reckless with the lives of his men , and yet nolte somehow manages to evoke sympathy for him . \\ncaviezel is forever questioning the nature of war , his place in it , and if there\\'s any deeper meaning to the hell that he\\'s going through . \\nhe is absolutely perfect - genuine , sympathetic , sincere , and yet strong when he needs to be . \\nalthough restricted to a relatively small role , sean penn is also very good as the company\\'s pessimistic seargent . \\nas to how it stacks up to \" saving private ryan \" - it was my second favorite movie of 1998 , \" ryan \" was my first . \\nit\\'s really hard to compare the two - they are so , so different - so i won\\'t , beyond saying that spielberg\\'s film had more of an impact on me . \\nhowever , the two are comparable from the standpoint of quality ( i can easily see why someone would \" the thin red line \" above \" ryan ) . \\ni highly recommend both of them , and consider them to be the two best war movies ever made . \\nall in all , \" the thin red line \" is filmmaking of an incredibly high order . \\nit\\'s slight faults are easily offset by the sheer brilliance of what is done right . \\nit\\'s a real shame that it tanked at the box office - films this unconventional , powerful , and thought-provoking don\\'t come along very often . \\n',\n",
              " 'it is an understood passion and an understood calm . \\nbud white walks into the home of lynn bracken , a prostitute \" cut to look like veronica lake . \" \\nhe\\'s one of l . a . \\'s finest investigating the murder of fellow cop , and one of the leads takes him to her home . \\nit\\'s understood that he is quiet thunder , a guy who\\'s calm voice is more powerful than his arms . \\nit\\'s understood that she\\'s supposed to be beautiful , but underneath her face is pain and scraped out lines that say her life could have been so much more . \\nyou know without having to be told . \\n \" you\\'re the first guy who hasn\\'t told me i look like veronicca lake in under a minute , \" she says . \\n \" you look ten times better . \" \\nhe says it without thinking . \\nlike he knows without her having to say anything . \\nwhite\\'s face doesn\\'t turn , it doesn\\'t blush . \\nyou see his eyes , and you believe him . \\nit\\'s a perfect moment in a near perfect movie . \\nl . a . confidential is the best movie of the year . \\nit is grace and poetry ; a richly layered work of pure entertainment . \\nit is a portrait of police and morality as it works it\\'s way through characters that are so real on screen that you believe that they might have a soul . \\nin a phrase , it is everything . \\nit is funny , it is exciting , has enough action and adventure and mystery and grace and suspense . \\nit is the pinnacle of a movie , a complete work , a flawless film . \\nit\\'s hard to tell you about the plot , because it\\'s about so much more than plot . \\nbesides , there\\'s too much to describe . \\nsure , it\\'s about police and searching for corruption and who fights for the right reasons and the definition of justice . \\nbut it\\'s also about what you feel when you look into the eyes of the characters in the film . \\ndirector curtis hanson has perfectly framed each character , letting you see into them , rooting for them one moment , doubting them the next . \\nthe actors work with their lines , but in this movie their most important weapon is their eyes . \\nyou can tell what each person is feeling just by looking into their eyes for one moment . \\nrussell crowe plays bud white , a muscle cop with a beef for wife beaters . \\nhis movements are fierce . \\nwhen he strikes , you jump , when he\\'s calm , you know it won\\'t be for long . \\nhis intensity oozes out of the screen . \\nyou follow his character through the movie afraid of him , but in sympathy of him , because you know how good his heart is . \\nhe\\'s looking for a way to solve crimes , you\\'re just never sure how he\\'s going to do it . \\nhis counter is ed exley , played with a chisselled face by guy pierce . \\nyou feel for him , for his character , because of all the cops in the movie he\\'s the one that\\'s actually trying to do the right thing by going by the book . \\nyou know that he must face the reality of breaking the book , and you love the way he gets there . \\ni\\'ve seen l . a confidential twice , immediately after it was over , i wanted to hit the rewind button and watch it again . \\ni didn\\'t want the theater experience to end . \\nit\\'s been a long time since i actually experienced a movie , feeling like i got something after i walked out . \\nthat\\'s why i love movies ; the great ones can be too rich and powerful to describe . \\nwatch l . a . confidential : after you leave the theater , you feel like you just watched a classic movie . \\nthat\\'s why la confidential stands as the best movie of the year . \\nl . a . confidential ( directed by curtis hanson . \\nstarring russell crowe , guy pierce , kevin spacey , james cromwell , and kim basinger . \\n',\n",
              " \"in the mid-1980s , following the splendid debut in hugh hudson's greystoke and relative success of first highlander film , it looked like christopher lambert's acting career might go somewhere . \\nbut , it wasn't meant to be , which became obvious following highlander ii . \\nin this decade christopher lambert became associated with films with low budgets and even lower quality . \\nvery often such films were science fiction , which meant that the fans of that genre learned the hard way what to evade anything starring christopher lambert . \\nwhether it was because of real lack of talent , terrible miscasting or simple bad luck isn't important - the end result was almost always horrible . \\nthe same can be said for fortress , 1993 science fiction film directed by stuart gordon , director who created cult following with his 1980s horror gorefests like reanimator and from beyond . \\nthe movie is set in 2018 . \\nfor some undisclosed reason , usa introduced strict population control and couples are barred from having more than one child . \\njake ( christopher lambert ) and karen brennick ( lori laughlin ) broke that law and are caught by authorities on the border . \\nsentenced to 31 years in prison , they are both thrown into fortress , privately owned correctional facility , equiped with state-of-the-art futuristic technology and run by computer called zed . \\nalthough equiped with gismos that regulate every aspect of inmates' lives and make any escape impossible , prison authorities often use violence . \\njake survives many ordeals and earns respect of some inmates which would help him when he begins planing the escape . \\nsuch escape should become necessity , because the warden poe ( kurtwood smith ) begins showing unhealthy interest in karen . \\nafter rather intriguing beginning and some interesting special effects that depict the futuristic settings of prison , this film soon starts sinking into mediocrity . \\nthe reason is in the screenplay that quickly degenerates into whole series of prison movie clich ? s and situations that are painfully predictable . \\nby the time brennick begins his escape from fortress , those situations not only begin to look predictable , but utterly implausible too . \\nof course , film never tried to explain why the country that lacks resources to support its present population happens to spend bucketloads of money on ultra-expensive supertechnology with sole intention of keeping alive most useless and dangerous members of the society . \\nthe initially interesting plot is done even more wrong by stereotyped characters , played by not too interested or talented actors . \\nlori laughlin , although physically attractive , shows the acting ability of sequoia . \\nkurtwood smith as prison warden is rather uninspired , capable of solid , yet forgettable performance . \\nlambert's performance is also good , but even the bigger talent couldn't help this film , destined to end in oblivion . \\n\",\n",
              " 'so , it\\'s thirty years later , and oscar and felix are together again . \\nthat might have been an exciting notion if it wasn\\'t for the fact that the \" odd couple \" of jack lemmon and walter matthau have been reunited in several recent movies : 1993\\'s \" grumpy old men , \" 1995\\'s \" grumpier old men , \" and 1997\\'s \" out to sea \" ( i . e . \\n \" grumpiest old men \" ) . \\nso , \" the odd couple ii \" ( i . e . \\n \" the grumpiest old men of all , really \" ) seems just another entry in a tired series . \\nthe plot is even similar to that of \" grumpy old men \" in that lemmon and matthau\\'s mismatched characters are brought together by a romance between their children . \\noscar\\'s son ( jonathan silverman ) and felix\\'s daughter ( lisa waltz ) are getting married , and former roommates felix ungar ( lemmon ) and oscar madison ( matthau ) meet at the airport and decide to share a car . \\n . \\n . \\nthen hilarity ensues . \\nwell , a few chuckles ensue anyway . \\nneil simon , the award-winning playwright who created oscar and felix , provides the screenplay , which is a shock , because the script is a piece of talentless hackwork from beginning to end . \\nunlike the original play/movie , \" odd couple ii \" doesn\\'t find its humor in the personality conflict of its characters . \\ninstead , it depends upon a series of humorous situations : oscar and felix lose the car over a cliff , are caught smuggling mexicans over the border , take up with two women on the run from their violent husbands ( the women are played by christine baranski of \" cybill \" and jean smart of \" designing women \" ) , and hitch a ride with a man who dies in the desert . \\nthe original 1968 movie \" the odd couple \" remains a classic comedy . \\nit introduced the motif of roommate-as-spouse that has provided gags for movies and sitcoms ever since . \\nit was the second outing for the lemmon/matthau team ( which debuted in 1966\\'s \" the fortune cookie \" ) , and they made a couple more worthwhile comedies , \" the front page \" ( 1974 ) and \" buddy buddy \" ( 1981 ) , before going their separate ways . \\nthe reunion of lemmon and matthau in \" grumpy old men \" six years ago was delightful , and its sequel seemed appropriate because it tied up some loose ends from the first movie . \\nbut \" out to sea \" and \" the odd couple ii \" are just beating a grumpy old horse . \\n ( you can add lemmon\\'s \" my fellow americans , \" i . e . \\n \" grumpy old presidents , \" to that list , too . ) \\nlet\\'s hope that hollywood offers these two actors something fresh to do . \\nlet\\'s hope also that we see neil simon\\'s name on movies that do it justice ( this is his first since 1993\\'s \" lost in yonkers \" ) . \\n',\n",
              " 'any movie that kills emilio estevez off in the first fifteen minutes has something going for it . \\nunfortunately , this and the familiar theme music are the only worthwhile things about mission impossible , directed by brian depalma . \\nthe first problem is that this film has absolutely no connection with the tv show whatsoever , aside from the music . \\nthe tv show was about an impossible mission force whose deft teamwork , orchestrated by jim phelps , allowed them to counfound evil dictators of mythic banana republics from inflicting their sordid schemes upon the world . \\nteamwork was the key . \\nthis film is set up as a cross between james bond and depalma\\'s \" blow out , \" where the john travolta character was the victim of real and imagined conspiracies from all directions . \\nit was travolta\\'s vulnerability that made that film so exciting and claustrophobic . \\nin this film , tom cruise is basically omniscient ( believe that ? ) and so there\\'s no fun going on here whatsoever . \\nthe story is about as contrived as contrived gets , and is full of holes . \\nthere are basically two memorable sequences : one involves breaking into a kubrickesque computer room -- a task that could have been made much easier had the characters a whit of common sense ( suffice it to say that the alarm system is disengaged when the computer operator is in the room ) ; the second involves a high-speed train , a helicopter , and the chunnel and does not have to be seen to be disbelieved . \\nthe actors are all miscast , especially emannuelle beart as jim phelps wife , who cannot act , and ving rhames as a computer hacker ( ! ) , who looks lost and embarrased to be in this movie . \\ntom cruise is no james bond , and jon voight looks more like bobby \" the brain \" heenan than jim phelps . \\nbrian depalma\\'s career has been bafflingly erratic . \\nat his best , he beats hitchcock at his own game ( \" blow out , \" \" carrie , \" \" body double \" ) but this is not his best . \\nthe screenplay was partly written by robert towne , who wrote the best scenario of the seventies in \" chinatown , \" but this script is perfunctory at best , and terrrible at worst . \\nthe cinematography has a comic book red/blue emphasis , which is nice to look at , but the suspense sequences are all telegraphed and this movie even features the old \" killer who talks too much before shooting thus giving the victim time to think of an escape \" trick . \\nplease don\\'t spend your money on this ; it\\'ll only encourage hollywood to make more . \\n',\n",
              " 'the general\\'s daughter is a heartless , absurd film , a movie so hopelessly dedicated to its inane plot that it forgets entirely about its own characters . \\ndirector simon west treats issues like rape and sexual fetish with ham-handed obscenity , creating a film that banks almost entirely on exploitation and offensive pseudo-depth . \\nwhat\\'s worse is that the movie is haphazardly glued together by two characters who are neither interesting nor sympathetic -- the ridiculous story requires them to do unbelievable things in the interest of reaching a dark conclusion in a sudden rain storm . \\njohn travolta finds himself in the middle of the mess , playing warrant officer paul brenner ; brenner is assigned to find the murderer and rape of captain elizabeth campbell ( leslie stefanson ) , daughter of general joe campbell ( james cromwell ) . \\nbrenner is teamed up with ex-spouse sarah sunderland ( madeline stowe ) , and they check out all the suspects on the base , including elizabeth\\'s mentor , colonel moore ( james woods ) . \\nsoon , it becomes apparent that elizabeth was into kinky sexual stuff , but the question comes down to why -- and , of course , who . \\nebert\\'s law of the economy of characters can be applied here ; one interesting thing i noted is that not only are all the characters suspects at some point ( including the two protagonists ) , but almost all of them end up directly intertwined with the story . \\nperhaps i should have issued a spoiler alert before mentioning that , but it\\'s painfully obvious from the beginning that everyone in the film is hiding something . \\non a story level , the general\\'s daughter is ineptly constructed . \\nthe film , adapted by christopher bertolini and william goldman from nelson demille\\'s novel ( which was apparently based on a true story ) , plods along to its conclusion , filling in the blanks with stale , unrealistic dialogue and \" shocking \" plot developments . \\nhaving not read the novel , it\\'s difficult to determine if these problems are the fault of the adapters or the original author , but i suppose they all are guilty to some degree . \\nscene after scene stumbles with pointless insincerity ; minutes after finding the dead young woman , brenner and sunderland engage in sarcastic dialogue , which includes endless strings of forced lines . \\n ( sunderland actually asks brenner , \" why was she killed ? \" \\nto which i would have answered , \" if i knew , then the movie would already be over . \" ) \\nonly after we\\'ve spent twenty minutes or so with these characters do we learn that they have a sordid history together ; this angle , though apparently present to develop their characters , is never explored . \\nnot that it really matters , since the characters consistently do ludicrous things for no other reason than to drive the plot . \\nin one scene , sunderland is attacked by a man in a mask . \\nshe sees one of his rings , and she and brenner find the man later that day based on the ring . \\ninstead of questioning him like as they would a real suspect , they take him to brenner\\'s houseboat , beat him up , and pour hot coffee in his lap . \\nthis scene really pushed me over the edge , not because it\\'s gratuitous and mean-spirited , but because it illustrates the film\\'s complete disregard for the characters and the audience . \\nit was impossible for me to feel anything for these people beyond this scene , mostly because nothing they do comes as a surprise . \\ni realized that these constructs on screen aren\\'t actually characters , but devices present only to serve the story . \\nthis would have been bad enough without the west\\'s need to hose his movie down in tasteless images of rape and sexual misconduct . \\ncompelling films about sexual crimes don\\'t spend a lot of time on rape flashbacks , and they certainly don\\'t show as much skin and sweat as a typical pornographic picture . \\nthese scenes are not the least bit powerful ; on the contrary , they\\'re intended simply to provide the audience with the necessary resentment for the villain , whomever that may turn out to be . \\nin addition , the movie treats sexual fetishes -- and sadomasochism in particular -- as if it\\'s a perversion of everything we know to be pure . \\nthis standpoint is certainly allowed , but only in accompaniment with well-developed themes to back it up . \\nas it is , the film forgets that a lot of people have sexual fetishes , and that putting on a pair of handcuffs does not make a person insane . \\nperhaps the only positive elements in the general\\'s daughter are a couple of the performances . \\njames woods has a few terrific scenes , and plays his role with sharp , witty subtlety . \\ni also liked james cromwell , mostly because he comes across as slightly sympathetic despite the obvious intent of west to make him villainous . \\nnonetheless , these performances are undermined entirely by the dreary , obligatory atmosphere and the senseless neglect of characterization . \\nthe general\\'s daughter is the worst kind of hollywood film -- it pretends to have a soul , to be of strict moral code , when in fact it has nothing more than a group of cardboard cut-outs force-feeding the audience a toxic landfill of plot contrivances and one-sided moral judgments . \\n',\n",
              " 'where do i begin ? \\nokay , how about with this : starship troopers is one of the worst movies to hit theaters in a long time . \\nin fact , it might even be the worst * major * release film to come out in years . . . \\nor even a decade . \\nthis is bad beyond belief . \\ni would * not * suggest paying money to see this . \\nthere\\'s a good chance you\\'ll regret it . \\nif you see it for free , you could still want to walk out . \\ngo right ahead . \\nthe movie starts off with cheesy 90210 scenes set in the future world of . . . buenos aires . \\nhere we meet the group of horrendously bad actors and actresses playing obnoxious , easy-to- * despise * -with-a-passion characters that have love triangles , love rectangles , and love hexagons screwing up their life . \\nbefore long they all go off and join the military , primarily in the interest of having sex with the other youngsters that joined . \\nthey train . \\nthey strut around nude for no reason whatsoever . \\nafter an hour of making the audience scream in agony , they start fighting bugs . \\nthe big bugs look nice , even though their design is only \" okay . \" \\nunfortunately , the fights are boring since we * want * all of the characters dead anyway . \\ncue more agony . \\nthen some characters have sex . \\nthen some more die . \\n * * * who cares ? ? ? * * * \\ncue more agony . \\nthe movie ends , the audience runs out to their cars , vomits over the pavement , and attempts to drive home . \\nunfortunately , after that torture , they can\\'t think straight , don\\'t pay attention to the road , and many are in ugly car wrecks . \\nyou remember how batman & robin was bad ? \\nwell , batman & robin kicked this movie\\'s sorry butt , people . \\nstarship troopers does not succeed as an action movie . \\nit does not succeed as a drama . \\nit does not succeed as a war movie . \\nit does not succeed as a comedy . \\nit does not succeed as a satire . \\nit does not succeed as a parody . \\nit succeeds as being horrible . \\nterrible . \\ngut-wrenchingly bad . \\ni wanted to run away from that movie every minute . \\nbut i paid my money and i owed it to others to see if the movie got any better . \\nso i stayed . \\nit never got better . \\nfrequently , it did the impossible , and got * worse * . \\nthe movie as written , acted , directed , and basically just feels as a whole like it\\'s about on the mental maturity level of a free willy 4 . the whole thing feels like a movie that only three-year-olds could enjoy . . . \\nexcept for the ridiculously gratuitous blood and gore , and pointless nudity . \\nit\\'s written for little children , but children should definitely * not * go anywhere near it . \\nof course , i recommend the same for everyone . \\ndon\\'t go anywhere near it . \\nverhoeven\\'s got a streak going now . \\nhis last movie was showgirls . \\nhe seems to be trying to see how bad his movies can get before people finally stop coming . \\nshowgirls was a failure , but it appears that , though it\\'ll be lucky to make near its budget , this movie will still do okay gross-wise . \\nis it really * all * bad ? \\nwell , no . \\ntroopers has about four or five lines of dialouge/short humorous scenes that are actually funny , mostly from the \" do you want to know more ? \" \\ncommercials that pop up throughout the story , promoting the joys of the joining the troopers . \\nso that adds up to about 30 seconds of entertainment and still about one hour , 59 minutes , and 30 seconds of miserable torture . \\ni\\'m totally confused as to the way that some people are really enjoying this movie . \\nbut i do admit it . \\nso , if you\\'re willing to possibly put yourself through torture , go ahead and see it , and decide for yourself if you love it or hate it . \\ni don\\'t know how anyone or any * thing * could love this movie , but hey , to each his own . \\nfeel free to give it a shot . \\nof course , in the interest of saving your souls , i don\\'t recommend it . \\nbut guess what ? \\nalien resurrection comes out november 26th , and , having already seen some of it and having read the script , i assure you that it will blow pretty much everyone away . \\nthough opinion on starship troopers is reasonably split , it\\'ll be difficult to find someone that * won\\'t * like alien resurrection when they\\'ve seen it . \\nthis is possibly the year\\'s best intense action film , or at least * one * of the best . \\nif you really want to see alien warfare that\\'s played out intelligently and seriously , see alien resurrection . \\nplease , avoid this . \\n',\n",
              " 'since their film debut in 1984 with the tightly wrought texas thriller \" blood simple , \" joel and ethan coen have been one of the most eclectic , original , and downright fascinating creative teams in modern hollywood . \\ntheir films are highly stylized , deeply embedded in a particular time and place , and their characters are more often than not everyday people who get caught up in highly unusual circumstances . \\nin \" the big lebowski , \" their first cinematic offering since the multiple academy award-winning \" fargo , \" the action takes place in los angeles during the gulf war , and the hero of the story is jeff lebowski , aka the dude . \\nthe dude is played by jeff bridges -- one of hollywood\\'s most underrated actors -- in the best stoned performance since sean penn stumbled through the halls of ridgemont high . \\nthe dude is a simple man who has never quite made it out of the sixties . \\nhe has shaggy , shoulder-length hair , a grizzled goatee badly in need of a trim , and he wears mostly stained tee-shirts , long shorts , and gellies without socks . \\nhe smokes a lot of pot , drinks a lot of white russians , and is more than content to spend the majority of his time bowling with his two buddies , a slightly psychotic vietnam vet named walter sobchak ( john goodman ) and donny ( steve buscemi ) , one of those guys who always wants to be part of the conversation , but never quite makes it in . \\none day , the dude is confused with another jeff lebowski ( david huddleston ) , this one being a millionaire philanthropist whose trophy wife , bunny ( tara reid ) , owes a lot of people a lot of money . \\nthe main plot and all its accompanying side-plots and coenesque diatribes are far too complicated to get into here . \\nsuffice to say that the dude becomes deeply involved with the big lebowski when bunny is kidnaped and the dude is asked to be a courier for the ransom money . \\nby the time all is said and done , walter has become deeply involved , as has the big lebowski\\'s daughter , maude ( julianne moore ) , a feminist performance artist , a pornographer named jackie treehorn ( ben gazzara ) , and a group of german nihilists led by peter stormare , who was so great as the silent but deadly kidnaper in \" fargo . \" \\n \" the big lebowski \" plays like an amalgam of all the coen brothers\\' earlier efforts . \\nit shares their previous films\\' strong sense of time and place , as well as their send-ups of movie genres and political and cultural ideologies . \\n \" lebowski \" has the same kind of crazed caricatures that made \" raising arizona \" such a hoot ; it has surrealistic dream sequences ( one of which involves a busby berkley-like dance number ) that characterized the ending of \" barton fink \" ; and it has the same kind of cartoonish look and feel that pervaded \" the hudsucker proxy . \" \\nthe film was shot by veteran cinematographer roger deakins , who has worked with the coens on three other films , \" barton fink , \" \" the hudsucker proxy , \" and \" fargo . \" \\ndeakins always gives the coens\\' films a distinctive visual style , and here he does a brilliant job of capturing the bright colors of seedy los angeles in the early nineties , whether that by the obnoxious blue bowling suit worn by the dude\\'s main competitor jesus quintana ( john turturro ) , or the strikingly manic dream sequences , one of which involves the dizzy spectacle of watching a strike from a bowling ball\\'s point of view . \\nif \" fargo \" was the coen brothers\\' most restrained effort in years , \" the big lebowski \" marks their return to over-the-edge filmmaking . \\nit is overflowing with style and attitude , which helps make up for the scattered plot fragments that never quite come together in the end . \\nthe coens fill the screen with lighting , set design , music , and hilarious performances from all the leads , especially bridges and the always reliable john goodman , who shows real comic timing in his untimely \\'nam-inspired outbursts and his intense dedication to his adopted judaism . \\nwith joel directing , ethan producing , and both writing , the coen brothers seem limitless in their capacity to turn our world inside out . \\ntheir talent lies not in their ability to reflect the norms of reality , but in their potential to dig out the darkest corners of life and bring them to light . \\nthe coens rejoice in the oddballs of the world , and they put them center-stage to show that it\\'s not just guys like the dude who are nuts , but the entire planet . \\n',\n",
              " 'this sunday afternoon i had the priviledge of attending a private screening at the sony astor cinema in new york city , of james cameron\\'s most heralded film , titanic . \\npostponed from last summer , with an escalated budget that makes it the most expensive movie in history , this was one film i was eager to preview . \\nso , is this movie going to sink or swim this holiday ? \\nmy best guess . . . . it will sink , though with many awards attatched to its hull . \\nno doubt , titanic is the most elaborate disaster movie ever made . \\nit boasts the most amazing effects that i have ever seen done to date . \\nto see a ship fall apart , with actual people running across the ship , flying across the deck , and falling to the water , is just amazing to look at . \\nthe effects are so stunningly realistic , you would swear you were looking at actual footage . \\nbut titanic is more than a disaster movie , and that\\'s where the problem lies . \\nthere is a love story attatched that nearly ruins the entire premise . \\ni\\'ll give a capsule summary of the story without spoiling anything for you : \\nthe film begins with a modern day excavation of sorts of the sunken titanic . \\nwe see actual footage of the sunken ship , as cammeron had set up special cameras to film the wreckage on the ocean floor . \\nbill paxton leads the expedition , in search of sunken treasure . \\nwhat he finds instead , leads him to a mysterious old woman who recounts her tale of the titanic voyage . \\nwe meet rose ( kate winslet ) , a young woman , who comes from an upper-class family . \\nrose is to be wed to a man she does not love . \\nwe meet jack ( leonardo dicaprio ) , a young man , who comes from a poor financial background , and wins a ticket aboard the titanic , in a poker game . \\nthe two meet under interesting circumstances , and the love story begins . \\nadd in a jealous fiance , and a not-so-nice law officer played by david warner , and you have a story that , well , gets a bit overplayed and oversappy . \\ni must add , at this point , that the most likeable character in the movie is played by kathy bates , as a woman with \" new money \" who is a lot less uptight than the other rich folk on the ship . \\nshe is a pleasure to see on screen . \\nwhen the ship does hit the iceberg at exactly 1 : 40 into the film , and eventually sinks , you never really feel for any of these characters . \\nthe film is just loaded with unlikeable rich snobs and other folk you never really get a grasp on . \\nthe effects are tremendous . \\nfrom the roars of gears and pumps in the engine room , to a doomed ship cracking at the seams , this is an effects picture that looks and sounds like no other . \\nwe saw titanic in dolby digital surround , and by far , it is the best sounding movie i have ever seen . \\nmy friend commented it was the best sound mix he has ever heard . \\nwhen people are in the water , at film\\'s end , you are surrounded by the voices of lost soles . \\ntitanic runs far too long . \\nthe movie is 3 hours and 15 minutes in length . \\nand , while most of the first 2 . 5 hours runs very fast and well-paced , the final 45 minutes almost comes to a sudden stop , and you realize that this sappy love story has to finish itself out before the movie finally ends . \\ndon\\'t get me wrong about titanic . . . . it\\'s \\nnot a bad as i am making it out to be . \\nit really is an exceptionaly well-made film . \\nthe costumes and sets are incredible , and true to the time period . \\nthe ship is painstakingly created exactly true to form , as we see actual pictures of the modern-day wreckage , transformed into the movie depiction . \\nthis film will certainly win on effects , costume , set design and sound . \\ncameron has certainly made his best film to date . \\nunfortunately , titanic is not a best picture candidate . \\nit just doesn\\'t have a strong supporting story . \\nit\\'s an exceptional disaster film with sappy filler inside . \\nit just doesn\\'t have the emotional impact that i suspect mr . cameron was shooting for . \\ni predict that titanic will open to likeable reviews . \\nit is a film worth seeing . \\ni predict that it will only do moderately well at the box office . \\nwith its extreme running time , and lack of enough robust to get substantial word-of-mouth , i expect that it will do even better on home video . \\nthis will certainly be the definitive ac3 movie for all you home theater enthusiasts . \\ntitanic opens december 19th , and is released by paramount pictures and twentieth century-fox . \\ni give titanic 3 stars ( . \\nthat\\'s not bad . \\nron epstein \\nriginally posted in home theater forum === \\n']"
            ]
          },
          "metadata": {
            "tags": []
          },
          "execution_count": 10
        }
      ]
    },
    {
      "cell_type": "code",
      "metadata": {
        "id": "v6zzBTrYyjFi",
        "colab_type": "code",
        "colab": {}
      },
      "source": [
        "# Limpieza del texto\n",
        "def clean_text(text):\n",
        "  # En este caso particular no hace falta limpiar los textos\n",
        "  return text.strip()"
      ],
      "execution_count": 0,
      "outputs": []
    },
    {
      "cell_type": "code",
      "metadata": {
        "id": "aERYr-AhyjFl",
        "colab_type": "code",
        "colab": {
          "base_uri": "https://localhost:8080/",
          "height": 197
        },
        "outputId": "dbc30c1c-b6fe-4227-a0b4-3051d654f6f9"
      },
      "source": [
        "def tokenizer(text):\n",
        "    #return [w for w in word_tokenize(text) if w.isalpha()] # si solo nos interesan palabras\n",
        "    return word_tokenize(text)\n",
        "tokenizer(clean_text(X_train_text.iloc[1]))[:10]"
      ],
      "execution_count": 12,
      "outputs": [
        {
          "output_type": "execute_result",
          "data": {
            "text/plain": [
              "['i',\n",
              " 'have',\n",
              " 'to',\n",
              " 'admit',\n",
              " 'that',\n",
              " 'i',\n",
              " 'disliked',\n",
              " 'this',\n",
              " 'film',\n",
              " 'initially']"
            ]
          },
          "metadata": {
            "tags": []
          },
          "execution_count": 12
        }
      ]
    },
    {
      "cell_type": "markdown",
      "metadata": {
        "id": "DzYVPvRoyjFn",
        "colab_type": "text"
      },
      "source": [
        "## extraccion de Features\n"
      ]
    },
    {
      "cell_type": "code",
      "metadata": {
        "id": "m_YJxrhQvHUy",
        "colab_type": "code",
        "colab": {}
      },
      "source": [
        "stoplist = stopwords.words(\"english\")"
      ],
      "execution_count": 0,
      "outputs": []
    },
    {
      "cell_type": "code",
      "metadata": {
        "id": "vpwupfW1vJ0j",
        "colab_type": "code",
        "colab": {
          "base_uri": "https://localhost:8080/",
          "height": 287
        },
        "outputId": "c409766d-750c-49bc-8b99-4c918382c7a4"
      },
      "source": [
        "stoplist[:15]"
      ],
      "execution_count": 14,
      "outputs": [
        {
          "output_type": "execute_result",
          "data": {
            "text/plain": [
              "['i',\n",
              " 'me',\n",
              " 'my',\n",
              " 'myself',\n",
              " 'we',\n",
              " 'our',\n",
              " 'ours',\n",
              " 'ourselves',\n",
              " 'you',\n",
              " \"you're\",\n",
              " \"you've\",\n",
              " \"you'll\",\n",
              " \"you'd\",\n",
              " 'your',\n",
              " 'yours']"
            ]
          },
          "metadata": {
            "tags": []
          },
          "execution_count": 14
        }
      ]
    },
    {
      "cell_type": "code",
      "metadata": {
        "id": "YNREn8HNvziD",
        "colab_type": "code",
        "colab": {}
      },
      "source": [
        "# tokenizo el stoplist con el mismo tokenizar que voy a usar en el corpus\n",
        "stoplist_tokenized = []\n",
        "for w in stoplist:\n",
        "    stoplist_tokenized = stoplist_tokenized + tokenizer(w)"
      ],
      "execution_count": 0,
      "outputs": []
    },
    {
      "cell_type": "code",
      "metadata": {
        "id": "j0m6bsiAwSsD",
        "colab_type": "code",
        "colab": {
          "base_uri": "https://localhost:8080/",
          "height": 287
        },
        "outputId": "bcfa624f-257b-4a4b-c54a-27eb89828a6c"
      },
      "source": [
        "stoplist_tokenized[:15]"
      ],
      "execution_count": 16,
      "outputs": [
        {
          "output_type": "execute_result",
          "data": {
            "text/plain": [
              "['i',\n",
              " 'me',\n",
              " 'my',\n",
              " 'myself',\n",
              " 'we',\n",
              " 'our',\n",
              " 'ours',\n",
              " 'ourselves',\n",
              " 'you',\n",
              " 'you',\n",
              " \"'re\",\n",
              " 'you',\n",
              " \"'ve\",\n",
              " 'you',\n",
              " \"'ll\"]"
            ]
          },
          "metadata": {
            "tags": []
          },
          "execution_count": 16
        }
      ]
    },
    {
      "cell_type": "code",
      "metadata": {
        "id": "LBhscObNyp2N",
        "colab_type": "code",
        "colab": {}
      },
      "source": [
        "# Armo una lista sin repeticiones\n",
        "stoplist_tokenized = list(set(stoplist_tokenized))"
      ],
      "execution_count": 0,
      "outputs": []
    },
    {
      "cell_type": "code",
      "metadata": {
        "id": "rsN2X11kyjFo",
        "colab_type": "code",
        "colab": {}
      },
      "source": [
        "?CountVectorizer"
      ],
      "execution_count": 0,
      "outputs": []
    },
    {
      "cell_type": "code",
      "metadata": {
        "id": "LXbPWPJ4yjFr",
        "colab_type": "code",
        "colab": {
          "base_uri": "https://localhost:8080/",
          "height": 53
        },
        "outputId": "9dbd3bf9-a745-4275-c42d-d7a5fc3b3acd"
      },
      "source": [
        "count_vect = CountVectorizer(preprocessor=clean_text, tokenizer=tokenizer, min_df=5,stop_words=stoplist_tokenized)\n",
        "X_train = count_vect.fit_transform(X_train_text) # cuenta frecuencia de tokens y define el diccionario\n",
        "X_test = count_vect.transform(X_test_text) # cuenta frecuencia de tokens existentes en el diccionario\n",
        "X_train"
      ],
      "execution_count": 19,
      "outputs": [
        {
          "output_type": "execute_result",
          "data": {
            "text/plain": [
              "<1600x11643 sparse matrix of type '<class 'numpy.int64'>'\n",
              "\twith 390362 stored elements in Compressed Sparse Row format>"
            ]
          },
          "metadata": {
            "tags": []
          },
          "execution_count": 19
        }
      ]
    },
    {
      "cell_type": "code",
      "metadata": {
        "id": "fsFFocLZQy0K",
        "colab_type": "code",
        "colab": {}
      },
      "source": [
        ""
      ],
      "execution_count": 0,
      "outputs": []
    },
    {
      "cell_type": "code",
      "metadata": {
        "id": "udEPCpqOyjFu",
        "colab_type": "code",
        "colab": {
          "base_uri": "https://localhost:8080/",
          "height": 377
        },
        "outputId": "09f4d00c-73bb-4c7f-a859-03a64dae9e36"
      },
      "source": [
        "count_vect.get_feature_names()[:20]"
      ],
      "execution_count": 20,
      "outputs": [
        {
          "output_type": "execute_result",
          "data": {
            "text/plain": [
              "['!',\n",
              " '#',\n",
              " '$',\n",
              " '%',\n",
              " '&',\n",
              " \"'\",\n",
              " \"''\",\n",
              " \"'60s\",\n",
              " \"'70s\",\n",
              " \"'80s\",\n",
              " \"'90s\",\n",
              " \"'97\",\n",
              " \"'cause\",\n",
              " \"'em\",\n",
              " \"'m\",\n",
              " \"'n\",\n",
              " \"'the\",\n",
              " '(',\n",
              " ')',\n",
              " '*']"
            ]
          },
          "metadata": {
            "tags": []
          },
          "execution_count": 20
        }
      ]
    },
    {
      "cell_type": "markdown",
      "metadata": {
        "id": "sOiwd-yLyjFw",
        "colab_type": "text"
      },
      "source": [
        "# Naive Bayes"
      ]
    },
    {
      "cell_type": "code",
      "metadata": {
        "id": "qTtGF6wByjFx",
        "colab_type": "code",
        "colab": {
          "base_uri": "https://localhost:8080/",
          "height": 53
        },
        "outputId": "a0dcc2a9-e0e6-4d28-a382-82ada56f5b2a"
      },
      "source": [
        "clf = MultinomialNB(alpha=1) # alpha es el smoothing parameter\n",
        "scores_cv_nb = cross_val_score(clf,X_train, y_train,cv = 10, scoring='f1_macro')\n",
        "scores_cv_nb\n"
      ],
      "execution_count": 21,
      "outputs": [
        {
          "output_type": "execute_result",
          "data": {
            "text/plain": [
              "array([0.79987492, 0.84300797, 0.81868626, 0.85597433, 0.8375    ,\n",
              "       0.74964794, 0.82431373, 0.81874292, 0.79987492, 0.8125    ])"
            ]
          },
          "metadata": {
            "tags": []
          },
          "execution_count": 21
        }
      ]
    },
    {
      "cell_type": "code",
      "metadata": {
        "id": "JkwvOqBzyjF0",
        "colab_type": "code",
        "colab": {
          "base_uri": "https://localhost:8080/",
          "height": 35
        },
        "outputId": "77186f20-9d1e-4894-e62e-30d1dd7bb62e"
      },
      "source": [
        "print(\"f-score=\",round(scores_cv_nb.mean(),4),\" ( sd =\",round(scores_cv_nb.std(),4),\")\")"
      ],
      "execution_count": 22,
      "outputs": [
        {
          "output_type": "stream",
          "text": [
            "f-score= 0.816  ( sd = 0.0279 )\n"
          ],
          "name": "stdout"
        }
      ]
    },
    {
      "cell_type": "markdown",
      "metadata": {
        "id": "Jl2rm838yjF3",
        "colab_type": "text"
      },
      "source": [
        "### Dummy"
      ]
    },
    {
      "cell_type": "code",
      "metadata": {
        "id": "4M5QdhS5yjF4",
        "colab_type": "code",
        "colab": {
          "base_uri": "https://localhost:8080/",
          "height": 109
        },
        "outputId": "331c603b-7890-4af5-a60c-4fa57287db33"
      },
      "source": [
        "clf_dummy = DummyClassifier()\n",
        "scores_dummy_cv = cross_val_score(clf_dummy,X_train, y_train,cv = 10, scoring='f1_macro')\n",
        "print(\"f-score=\",round(scores_dummy_cv.mean(),4),\" ( sd =\",round(scores_cv_nb.std(),4),\")\\n\")"
      ],
      "execution_count": 23,
      "outputs": [
        {
          "output_type": "stream",
          "text": [
            "f-score= 0.5131  ( sd = 0.0279 )\n",
            "\n"
          ],
          "name": "stdout"
        },
        {
          "output_type": "stream",
          "text": [
            "/usr/local/lib/python3.6/dist-packages/sklearn/dummy.py:132: FutureWarning: The default value of strategy will change from stratified to prior in 0.24.\n",
            "  \"stratified to prior in 0.24.\", FutureWarning)\n"
          ],
          "name": "stderr"
        }
      ]
    },
    {
      "cell_type": "markdown",
      "metadata": {
        "id": "lEqeD1EfyjF6",
        "colab_type": "text"
      },
      "source": [
        "## N-gramas"
      ]
    },
    {
      "cell_type": "code",
      "metadata": {
        "id": "JVCz6XuPyjF7",
        "colab_type": "code",
        "colab": {
          "base_uri": "https://localhost:8080/",
          "height": 53
        },
        "outputId": "83d49529-de34-4fea-9fae-f2457f2bb542"
      },
      "source": [
        "# incluyo bigramas (aclaracion:si aparece \"best friend\" tambien va a contar para \"best\" y para \"friend\")\n",
        "count_vect = CountVectorizer(preprocessor=clean_text, \n",
        "                             tokenizer=tokenizer, \n",
        "                             min_df=5,\n",
        "                             stop_words=stoplist_tokenized,\n",
        "                             ngram_range=(1,2))\n",
        "X_train_ngrams = count_vect.fit_transform(X_train_text) # cuenta frecuencia de tokens y define el diccionario\n",
        "print(\"numero de features=\",X_train_ngrams.shape[1])\n",
        "\n",
        "scores_cv_ngrams = cross_val_score(clf,X_train_ngrams, y_train,cv = 10, scoring='f1_macro')\n",
        "print(\"f-score=\",round(scores_cv_ngrams.mean(),4),\" ( sd =\",round(scores_cv_ngrams.std(),4),\")\")"
      ],
      "execution_count": 24,
      "outputs": [
        {
          "output_type": "stream",
          "text": [
            "numero de features= 26872\n",
            "f-score= 0.8161  ( sd = 0.0271 )\n"
          ],
          "name": "stdout"
        }
      ]
    },
    {
      "cell_type": "code",
      "metadata": {
        "id": "0rPCNpg1yjF-",
        "colab_type": "code",
        "colab": {
          "base_uri": "https://localhost:8080/",
          "height": 377
        },
        "outputId": "bb3586c6-fd1a-4d26-ea23-32089e09212a"
      },
      "source": [
        "count_vect.get_feature_names()[:20]"
      ],
      "execution_count": 25,
      "outputs": [
        {
          "output_type": "execute_result",
          "data": {
            "text/plain": [
              "['!',\n",
              " '! !',\n",
              " \"! '\",\n",
              " \"! 'm\",\n",
              " '! (',\n",
              " '! )',\n",
              " '! *',\n",
              " '! ,',\n",
              " '! .',\n",
              " '! ?',\n",
              " '! ``',\n",
              " '! also',\n",
              " '! even',\n",
              " '! film',\n",
              " '! joblo',\n",
              " '! know',\n",
              " '! like',\n",
              " '! movie',\n",
              " '! oh',\n",
              " '! one']"
            ]
          },
          "metadata": {
            "tags": []
          },
          "execution_count": 25
        }
      ]
    },
    {
      "cell_type": "markdown",
      "metadata": {
        "id": "8SDbY0PTyjGB",
        "colab_type": "text"
      },
      "source": [
        "### Pruebo otros parametros"
      ]
    },
    {
      "cell_type": "code",
      "metadata": {
        "id": "vrWSyqreyjGB",
        "colab_type": "code",
        "colab": {
          "base_uri": "https://localhost:8080/",
          "height": 53
        },
        "outputId": "4c40ecce-6bad-454f-c15e-64cb1d514088"
      },
      "source": [
        "# incluyo bigramas (aclaracion:si aparece \"best friend\" tambien va a contar para \"best\" y para \"friend\")\n",
        "count_vect = CountVectorizer(preprocessor=clean_text, \n",
        "                             tokenizer=tokenizer, \n",
        "                             min_df=30, \n",
        "                             stop_words=stoplist_tokenized,\n",
        "                             ngram_range=(1,2))\n",
        "X_train_ngrams = count_vect.fit_transform(X_train_text) # cuenta frecuencia de tokens y define el diccionario\n",
        "print(\"numero de features =\",X_train_ngrams.shape[1])\n",
        "\n",
        "clf = MultinomialNB(alpha=1)\n",
        "scores_cv_ngrams_v2 = cross_val_score(clf,X_train_ngrams, y_train,cv = 10, scoring='f1_macro')\n",
        "print(\"f-score =\",round(scores_cv_ngrams_v2.mean(),4),\" ( sd =\",round(scores_cv_ngrams_v2.std(),4),\")\")"
      ],
      "execution_count": 26,
      "outputs": [
        {
          "output_type": "stream",
          "text": [
            "numero de features = 3847\n",
            "f-score = 0.8142  ( sd = 0.0203 )\n"
          ],
          "name": "stdout"
        }
      ]
    },
    {
      "cell_type": "markdown",
      "metadata": {
        "id": "lYdfC9aJyjGG",
        "colab_type": "text"
      },
      "source": [
        "## Selecciono el mejor modelo"
      ]
    },
    {
      "cell_type": "code",
      "metadata": {
        "id": "ohvoqk2eRaZH",
        "colab_type": "code",
        "colab": {
          "base_uri": "https://localhost:8080/",
          "height": 89
        },
        "outputId": "7700d766-ca64-45e5-f2ec-0f9019d6afb4"
      },
      "source": [
        "pd.Series({'NB (min_df=5)':round(scores_cv_nb.mean(),3),'NB with ngrams (min_df=5)':round(scores_cv_ngrams.mean(),3),'NB with ngrams (min_df=30)':round(scores_cv_ngrams_v2.mean(),3)})"
      ],
      "execution_count": 28,
      "outputs": [
        {
          "output_type": "execute_result",
          "data": {
            "text/plain": [
              "NB (min_df=5)                 0.816\n",
              "NB with ngrams (min_df=5)     0.816\n",
              "NB with ngrams (min_df=30)    0.814\n",
              "dtype: float64"
            ]
          },
          "metadata": {
            "tags": []
          },
          "execution_count": 28
        }
      ]
    },
    {
      "cell_type": "code",
      "metadata": {
        "id": "i4br-uv8yjGH",
        "colab_type": "code",
        "colab": {
          "base_uri": "https://localhost:8080/",
          "height": 215
        },
        "outputId": "d8b95619-079a-415d-ee75-b23cea9a5c81"
      },
      "source": [
        "count_vect = CountVectorizer(preprocessor=clean_text, tokenizer=tokenizer, min_df=5,stop_words=\"english\",ngram_range=(1,1))\n",
        "X_train_ngrams = count_vect.fit_transform(X_train_text) # cuenta frecuencia de tokens y define el diccionario\n",
        "X_test_ngrams = count_vect.transform(X_test_text) # cuenta frecuencia de tokens existentes en el diccionario\n",
        "print(\"numero de features=\",X_train_ngrams.shape[1])\n",
        "# entreno el clasificador\n",
        "clf = MultinomialNB(alpha=1).fit(X_train_ngrams, y_train)\n",
        "# predigo en el set de testeo\n",
        "y_pred = clf.predict(X_test_ngrams)\n",
        "scores_ngrams = pd.Series(precision_recall_fscore_support(y_test, y_pred,average=\"macro\")[:3],index=[\"precision\",\"recall\",\"fscore\"])\n",
        "print(\"matriz de confusión\\n\",confusion_matrix(y_test, y_pred))\n",
        "\n",
        "print(\"\\nNgrams\\n\")\n",
        "print(scores_ngrams)"
      ],
      "execution_count": 29,
      "outputs": [
        {
          "output_type": "stream",
          "text": [
            "numero de features= 11495\n",
            "matriz de confusión\n",
            " [[170  30]\n",
            " [ 44 156]]\n",
            "\n",
            "Ngrams\n",
            "\n",
            "precision    0.816551\n",
            "recall       0.815000\n",
            "fscore       0.814773\n",
            "dtype: float64\n"
          ],
          "name": "stdout"
        }
      ]
    },
    {
      "cell_type": "code",
      "metadata": {
        "id": "IoR31oK5yjGM",
        "colab_type": "code",
        "colab": {}
      },
      "source": [
        ""
      ],
      "execution_count": 0,
      "outputs": []
    },
    {
      "cell_type": "markdown",
      "metadata": {
        "id": "mv3qN7CpyjGR",
        "colab_type": "text"
      },
      "source": [
        "##  Normalización"
      ]
    },
    {
      "cell_type": "code",
      "metadata": {
        "id": "Mu6ZdMwKyjGU",
        "colab_type": "code",
        "colab": {
          "base_uri": "https://localhost:8080/",
          "height": 35
        },
        "outputId": "e6a4e576-237f-4897-95e6-0e11b24337df"
      },
      "source": [
        "# Stemizacion: lleva una palabra a su raíz (la cual puede no ser una palabra) \n",
        "from nltk.stem import SnowballStemmer\n",
        "stemmer = SnowballStemmer(\"english\")\n",
        "stemmer.stem(\"explanation\")"
      ],
      "execution_count": 30,
      "outputs": [
        {
          "output_type": "execute_result",
          "data": {
            "text/plain": [
              "'explan'"
            ]
          },
          "metadata": {
            "tags": []
          },
          "execution_count": 30
        }
      ]
    },
    {
      "cell_type": "code",
      "metadata": {
        "id": "mWVZLcMnyjGX",
        "colab_type": "code",
        "colab": {
          "base_uri": "https://localhost:8080/",
          "height": 1000
        },
        "outputId": "6f6f9820-a263-4c40-ba3d-9d5f010deec0"
      },
      "source": [
        "[(w,stemmer.stem(w)) for w in word_tokenize(clean_text(X_train_text.iloc[0])) if w.isalpha()]"
      ],
      "execution_count": 31,
      "outputs": [
        {
          "output_type": "execute_result",
          "data": {
            "text/plain": [
              "[('wolfgang', 'wolfgang'),\n",
              " ('petersen', 'petersen'),\n",
              " ('latest', 'latest'),\n",
              " ('the', 'the'),\n",
              " ('perfect', 'perfect'),\n",
              " ('storm', 'storm'),\n",
              " ('is', 'is'),\n",
              " ('like', 'like'),\n",
              " ('a', 'a'),\n",
              " ('pineapple', 'pineappl'),\n",
              " ('it', 'it'),\n",
              " ('only', 'onli'),\n",
              " ('tastes', 'tast'),\n",
              " ('good', 'good'),\n",
              " ('after', 'after'),\n",
              " ('arduous', 'arduous'),\n",
              " ('peeling', 'peel'),\n",
              " ('and', 'and'),\n",
              " ('digging', 'dig'),\n",
              " ('if', 'if'),\n",
              " ('you', 'you'),\n",
              " ('try', 'tri'),\n",
              " ('to', 'to'),\n",
              " ('eat', 'eat'),\n",
              " ('the', 'the'),\n",
              " ('fruit', 'fruit'),\n",
              " ('spikes', 'spike'),\n",
              " ('and', 'and'),\n",
              " ('all', 'all'),\n",
              " ('it', 'it'),\n",
              " ('going', 'go'),\n",
              " ('to', 'to'),\n",
              " ('hurt', 'hurt'),\n",
              " ('quite', 'quit'),\n",
              " ('a', 'a'),\n",
              " ('bit', 'bit'),\n",
              " ('ok', 'ok'),\n",
              " ('maybe', 'mayb'),\n",
              " ('that', 'that'),\n",
              " ('was', 'was'),\n",
              " ('a', 'a'),\n",
              " ('confusing', 'confus'),\n",
              " ('analogy', 'analog'),\n",
              " ('so', 'so'),\n",
              " ('here', 'here'),\n",
              " ('my', 'my'),\n",
              " ('main', 'main'),\n",
              " ('complaint', 'complaint'),\n",
              " ('about', 'about'),\n",
              " ('the', 'the'),\n",
              " ('latest', 'latest'),\n",
              " ('man', 'man'),\n",
              " ('battles', 'battl'),\n",
              " ('nature', 'natur'),\n",
              " ('flick', 'flick'),\n",
              " ('there', 'there'),\n",
              " ('is', 'is'),\n",
              " ('really', 'realli'),\n",
              " ('much', 'much'),\n",
              " ('of', 'of'),\n",
              " ('a', 'a'),\n",
              " ('story', 'stori'),\n",
              " ('to', 'to'),\n",
              " ('tell', 'tell'),\n",
              " ('basically', 'basic'),\n",
              " ('a', 'a'),\n",
              " ('massachusetts', 'massachusett'),\n",
              " ('fishing', 'fish'),\n",
              " ('crew', 'crew'),\n",
              " ('goes', 'goe'),\n",
              " ('out', 'out'),\n",
              " ('to', 'to'),\n",
              " ('sea', 'sea'),\n",
              " ('on', 'on'),\n",
              " ('a', 'a'),\n",
              " ('small', 'small'),\n",
              " ('boat', 'boat'),\n",
              " ('called', 'call'),\n",
              " ('the', 'the'),\n",
              " ('andrea', 'andrea'),\n",
              " ('gail', 'gail'),\n",
              " ('and', 'and'),\n",
              " ('gets', 'get'),\n",
              " ('stuck', 'stuck'),\n",
              " ('in', 'in'),\n",
              " ('the', 'the'),\n",
              " ('middle', 'middl'),\n",
              " ('of', 'of'),\n",
              " ('the', 'the'),\n",
              " ('storm', 'storm'),\n",
              " ('of', 'of'),\n",
              " ('the', 'the'),\n",
              " ('century', 'centuri'),\n",
              " ('how', 'how'),\n",
              " ('much', 'much'),\n",
              " ('time', 'time'),\n",
              " ('does', 'doe'),\n",
              " ('it', 'it'),\n",
              " ('take', 'take'),\n",
              " ('for', 'for'),\n",
              " ('petersen', 'petersen'),\n",
              " ('to', 'to'),\n",
              " ('tell', 'tell'),\n",
              " ('this', 'this'),\n",
              " ('story', 'stori'),\n",
              " ('not', 'not'),\n",
              " ('nearly', 'near'),\n",
              " ('enough', 'enough'),\n",
              " ('so', 'so'),\n",
              " ('he', 'he'),\n",
              " ('spends', 'spend'),\n",
              " ('the', 'the'),\n",
              " ('majority', 'major'),\n",
              " ('of', 'of'),\n",
              " ('the', 'the'),\n",
              " ('film', 'film'),\n",
              " ('developing', 'develop'),\n",
              " ('pointless', 'pointless'),\n",
              " ('side', 'side'),\n",
              " ('stories', 'stori'),\n",
              " ('which', 'which'),\n",
              " ('all', 'all'),\n",
              " ('eventually', 'eventu'),\n",
              " ('become', 'becom'),\n",
              " ('superfluous', 'superflu'),\n",
              " ('audiences', 'audienc'),\n",
              " ('want', 'want'),\n",
              " ('to', 'to'),\n",
              " ('see', 'see'),\n",
              " ('the', 'the'),\n",
              " ('storm', 'storm'),\n",
              " ('they', 'they'),\n",
              " ('want', 'want'),\n",
              " ('to', 'to'),\n",
              " ('see', 'see'),\n",
              " ('a', 'a'),\n",
              " ('fight', 'fight'),\n",
              " ('for', 'for'),\n",
              " ('survival', 'surviv'),\n",
              " ('but', 'but'),\n",
              " ('what', 'what'),\n",
              " ('they', 'they'),\n",
              " ('get', 'get'),\n",
              " ('is', 'is'),\n",
              " ('a', 'a'),\n",
              " ('lot', 'lot'),\n",
              " ('of', 'of'),\n",
              " ('cliched', 'clich'),\n",
              " ('maudlin', 'maudlin'),\n",
              " ('drivel', 'drivel'),\n",
              " ('the', 'the'),\n",
              " ('last', 'last'),\n",
              " ('quarter', 'quarter'),\n",
              " ('of', 'of'),\n",
              " ('the', 'the'),\n",
              " ('perfect', 'perfect'),\n",
              " ('storm', 'storm'),\n",
              " ('is', 'is'),\n",
              " ('utterly', 'utter'),\n",
              " ('perfect', 'perfect'),\n",
              " ('in', 'in'),\n",
              " ('every', 'everi'),\n",
              " ('aspect', 'aspect'),\n",
              " ('but', 'but'),\n",
              " ('just', 'just'),\n",
              " ('try', 'tri'),\n",
              " ('lasting', 'last'),\n",
              " ('the', 'the'),\n",
              " ('first', 'first'),\n",
              " ('i', 'i'),\n",
              " ('have', 'have'),\n",
              " ('yet', 'yet'),\n",
              " ('to', 'to'),\n",
              " ('read', 'read'),\n",
              " ('sebastian', 'sebastian'),\n",
              " ('junger', 'junger'),\n",
              " ('the', 'the'),\n",
              " ('perfect', 'perfect'),\n",
              " ('storm', 'storm'),\n",
              " ('but', 'but'),\n",
              " ('from', 'from'),\n",
              " ('what', 'what'),\n",
              " ('i', 'i'),\n",
              " ('have', 'have'),\n",
              " ('heard', 'heard'),\n",
              " ('it', 'it'),\n",
              " ('is', 'is'),\n",
              " ('an', 'an'),\n",
              " ('unforgettable', 'unforgett'),\n",
              " ('tale', 'tale'),\n",
              " ('based', 'base'),\n",
              " ('on', 'on'),\n",
              " ('a', 'a'),\n",
              " ('true', 'true'),\n",
              " ('story', 'stori'),\n",
              " ('the', 'the'),\n",
              " ('book', 'book'),\n",
              " ('must', 'must'),\n",
              " ('have', 'have'),\n",
              " ('found', 'found'),\n",
              " ('some', 'some'),\n",
              " ('other', 'other'),\n",
              " ('way', 'way'),\n",
              " ('to', 'to'),\n",
              " ('introduce', 'introduc'),\n",
              " ('the', 'the'),\n",
              " ('characters', 'charact'),\n",
              " ('because', 'becaus'),\n",
              " ('in', 'in'),\n",
              " ('the', 'the'),\n",
              " ('movie', 'movi'),\n",
              " ('version', 'version'),\n",
              " ('the', 'the'),\n",
              " ('approach', 'approach'),\n",
              " ('is', 'is'),\n",
              " ('weak', 'weak'),\n",
              " ('using', 'use'),\n",
              " ('a', 'a'),\n",
              " ('wonderfully', 'wonder'),\n",
              " ('patriotic', 'patriot'),\n",
              " ('score', 'score'),\n",
              " ('by', 'by'),\n",
              " ('james', 'jame'),\n",
              " ('horner', 'horner'),\n",
              " ('petersen', 'petersen'),\n",
              " ('almost', 'almost'),\n",
              " ('hides', 'hide'),\n",
              " ('the', 'the'),\n",
              " ('banality', 'banal'),\n",
              " ('right', 'right'),\n",
              " ('away', 'away'),\n",
              " ('the', 'the'),\n",
              " ('central', 'central'),\n",
              " ('characters', 'charact'),\n",
              " ('are', 'are'),\n",
              " ('introduced', 'introduc'),\n",
              " ('the', 'the'),\n",
              " ('gritty', 'gritti'),\n",
              " ('determined', 'determin'),\n",
              " ('captain', 'captain'),\n",
              " ('george', 'georg'),\n",
              " ('clooney', 'clooney'),\n",
              " ('the', 'the'),\n",
              " ('ingenue', 'ingenu'),\n",
              " ('mark', 'mark'),\n",
              " ('wahlberg', 'wahlberg'),\n",
              " ('torn', 'torn'),\n",
              " ('between', 'between'),\n",
              " ('his', 'his'),\n",
              " ('job', 'job'),\n",
              " ('and', 'and'),\n",
              " ('his', 'his'),\n",
              " ('girlfriend', 'girlfriend'),\n",
              " ('diane', 'dian'),\n",
              " ('lane', 'lane'),\n",
              " ('the', 'the'),\n",
              " ('loving', 'love'),\n",
              " ('father', 'father'),\n",
              " ('john', 'john'),\n",
              " ('c', 'c'),\n",
              " ('reilly', 'reilli'),\n",
              " ('the', 'the'),\n",
              " ('comic', 'comic'),\n",
              " ('relief', 'relief'),\n",
              " ('who', 'who'),\n",
              " ('always', 'alway'),\n",
              " ('trying', 'tri'),\n",
              " ('to', 'to'),\n",
              " ('get', 'get'),\n",
              " ('laid', 'laid'),\n",
              " ('john', 'john'),\n",
              " ('hawkes', 'hawk'),\n",
              " ('the', 'the'),\n",
              " ('new', 'new'),\n",
              " ('guy', 'guy'),\n",
              " ('william', 'william'),\n",
              " ('fichtner', 'fichtner'),\n",
              " ('who', 'who'),\n",
              " ('immediately', 'immedi'),\n",
              " ('antagonizes', 'antagon'),\n",
              " ('a', 'a'),\n",
              " ('crewmate', 'crewmat'),\n",
              " ('and', 'and'),\n",
              " ('the', 'the'),\n",
              " ('quiet', 'quiet'),\n",
              " ('french', 'french'),\n",
              " ('guy', 'guy'),\n",
              " ('allen', 'allen'),\n",
              " ('payne', 'payn'),\n",
              " ('so', 'so'),\n",
              " ('many', 'mani'),\n",
              " ('problems', 'problem'),\n",
              " ('strike', 'strike'),\n",
              " ('the', 'the'),\n",
              " ('opening', 'open'),\n",
              " ('segment', 'segment'),\n",
              " ('of', 'of'),\n",
              " ('the', 'the'),\n",
              " ('film', 'film'),\n",
              " ('that', 'that'),\n",
              " ('the', 'the'),\n",
              " ('remaining', 'remain'),\n",
              " ('portions', 'portion'),\n",
              " ('directly', 'direct'),\n",
              " ('suffer', 'suffer'),\n",
              " ('it', 'it'),\n",
              " ('is', 'is'),\n",
              " ('not', 'not'),\n",
              " ('the', 'the'),\n",
              " ('cast', 'cast'),\n",
              " ('fault', 'fault'),\n",
              " ('just', 'just'),\n",
              " ('the', 'the'),\n",
              " ('characters', 'charact'),\n",
              " ('designed', 'design'),\n",
              " ('for', 'for'),\n",
              " ('their', 'their'),\n",
              " ('portrayal', 'portray'),\n",
              " ('allen', 'allen'),\n",
              " ('payne', 'payn'),\n",
              " ('character', 'charact'),\n",
              " ('never', 'never'),\n",
              " ('speaks', 'speak'),\n",
              " ('in', 'in'),\n",
              " ('the', 'the'),\n",
              " ('entire', 'entir'),\n",
              " ('movie', 'movi'),\n",
              " ('not', 'not'),\n",
              " ('because', 'becaus'),\n",
              " ('he', 'he'),\n",
              " ('is', 'is'),\n",
              " ('mute', 'mute'),\n",
              " ('but', 'but'),\n",
              " ('because', 'becaus'),\n",
              " ('he', 'he'),\n",
              " ('never', 'never'),\n",
              " ('given', 'given'),\n",
              " ('any', 'ani'),\n",
              " ('lines', 'line'),\n",
              " ('are', 'are'),\n",
              " ('we', 'we'),\n",
              " ('supposed', 'suppos'),\n",
              " ('to', 'to'),\n",
              " ('root', 'root'),\n",
              " ('for', 'for'),\n",
              " ('a', 'a'),\n",
              " ('guy', 'guy'),\n",
              " ('whose', 'whose'),\n",
              " ('face', 'face'),\n",
              " ('and', 'and'),\n",
              " ('voice', 'voic'),\n",
              " ('we', 'we'),\n",
              " ('are', 'are'),\n",
              " ('never', 'never'),\n",
              " ('given', 'given'),\n",
              " ('a', 'a'),\n",
              " ('chance', 'chanc'),\n",
              " ('to', 'to'),\n",
              " ('interact', 'interact'),\n",
              " ('with', 'with'),\n",
              " ('fichtner', 'fichtner'),\n",
              " ('character', 'charact'),\n",
              " ('is', 'is'),\n",
              " ('terribly', 'terribl'),\n",
              " ('underdeveloped', 'underdevelop'),\n",
              " ('we', 'we'),\n",
              " ('do', 'do'),\n",
              " ('know', 'know'),\n",
              " ('what', 'what'),\n",
              " ('he', 'he'),\n",
              " ('doing', 'do'),\n",
              " ('there', 'there'),\n",
              " ('where', 'where'),\n",
              " ('he', 'he'),\n",
              " ('from', 'from'),\n",
              " ('or', 'or'),\n",
              " ('who', 'who'),\n",
              " ('he', 'he'),\n",
              " ('supposed', 'suppos'),\n",
              " ('to', 'to'),\n",
              " ('be', 'be'),\n",
              " ('the', 'the'),\n",
              " ('remaining', 'remain'),\n",
              " ('four', 'four'),\n",
              " ('fishermen', 'fishermen'),\n",
              " ('are', 'are'),\n",
              " ('all', 'all'),\n",
              " ('cardboard', 'cardboard'),\n",
              " ('stereotypes', 'stereotyp'),\n",
              " ('hawkes', 'hawk'),\n",
              " ('says', 'say'),\n",
              " ('to', 'to'),\n",
              " ('a', 'a'),\n",
              " ('female', 'femal'),\n",
              " ('stranger', 'stranger'),\n",
              " ('in', 'in'),\n",
              " ('one', 'one'),\n",
              " ('scene', 'scene'),\n",
              " ('you', 'you'),\n",
              " ('know', 'know'),\n",
              " ('what', 'what'),\n",
              " ('would', 'would'),\n",
              " ('look', 'look'),\n",
              " ('good', 'good'),\n",
              " ('on', 'on'),\n",
              " ('you', 'you'),\n",
              " ('me', 'me'),\n",
              " ('ooooh', 'ooooh'),\n",
              " ('real', 'real'),\n",
              " ('creative', 'creativ'),\n",
              " ('as', 'as'),\n",
              " ('the', 'the'),\n",
              " ('script', 'script'),\n",
              " ('advances', 'advanc'),\n",
              " ('and', 'and'),\n",
              " ('the', 'the'),\n",
              " ('andrea', 'andrea'),\n",
              " ('gail', 'gail'),\n",
              " ('floats', 'float'),\n",
              " ('farther', 'farther'),\n",
              " ('out', 'out'),\n",
              " ('into', 'into'),\n",
              " ('the', 'the'),\n",
              " ('waters', 'water'),\n",
              " ('the', 'the'),\n",
              " ('crew', 'crew'),\n",
              " ('continues', 'continu'),\n",
              " ('to', 'to'),\n",
              " ('not', 'not'),\n",
              " ('feel', 'feel'),\n",
              " ('human', 'human'),\n",
              " ('only', 'onli'),\n",
              " ('when', 'when'),\n",
              " ('the', 'the'),\n",
              " ('storm', 'storm'),\n",
              " ('takes', 'take'),\n",
              " ('center', 'center'),\n",
              " ('stage', 'stage'),\n",
              " ('does', 'doe'),\n",
              " ('the', 'the'),\n",
              " ('movie', 'movi'),\n",
              " ('jump', 'jump'),\n",
              " ('out', 'out'),\n",
              " ('of', 'of'),\n",
              " ('its', 'it'),\n",
              " ('sleepwalk', 'sleepwalk'),\n",
              " ('the', 'the'),\n",
              " ('images', 'imag'),\n",
              " ('of', 'of'),\n",
              " ('gigantic', 'gigant'),\n",
              " ('waves', 'wave'),\n",
              " ('crashing', 'crash'),\n",
              " ('against', 'against'),\n",
              " ('a', 'a'),\n",
              " ('helpless', 'helpless'),\n",
              " ('boat', 'boat'),\n",
              " ('are', 'are'),\n",
              " ('thunderously', 'thunder'),\n",
              " ('real', 'real'),\n",
              " ('i', 'i'),\n",
              " ('can', 'can'),\n",
              " ('only', 'onli'),\n",
              " ('imagine', 'imagin'),\n",
              " ('if', 'if'),\n",
              " ('this', 'this'),\n",
              " ('was', 'was'),\n",
              " ('an', 'an'),\n",
              " ('imax', 'imax'),\n",
              " ('film', 'film'),\n",
              " ('this', 'this'),\n",
              " ('city', 'citi'),\n",
              " ('kid', 'kid'),\n",
              " ('would', 'would'),\n",
              " ('surely', 'sure'),\n",
              " ('never', 'never'),\n",
              " ('go', 'go'),\n",
              " ('in', 'in'),\n",
              " ('the', 'the'),\n",
              " ('water', 'water'),\n",
              " ('again', 'again'),\n",
              " ('this', 'this'),\n",
              " ('is', 'is'),\n",
              " ('loud', 'loud'),\n",
              " ('jolting', 'jolt'),\n",
              " ('entertainment', 'entertain'),\n",
              " ('adjectives', 'adject'),\n",
              " ('that', 'that'),\n",
              " ('completely', 'complet'),\n",
              " ('negate', 'negat'),\n",
              " ('the', 'the'),\n",
              " ('rest', 'rest'),\n",
              " ('of', 'of'),\n",
              " ('the', 'the'),\n",
              " ('film', 'film'),\n",
              " ('the', 'the'),\n",
              " ('perfect', 'perfect'),\n",
              " ('storm', 'storm'),\n",
              " ('was', 'was'),\n",
              " ('unfortunately', 'unfortun'),\n",
              " ('a', 'a'),\n",
              " ('disappointment', 'disappoint'),\n",
              " ('the', 'the'),\n",
              " ('maelstrom', 'maelstrom'),\n",
              " ('lived', 'live'),\n",
              " ('up', 'up'),\n",
              " ('to', 'to'),\n",
              " ('its', 'it'),\n",
              " ('potential', 'potenti'),\n",
              " ('but', 'but'),\n",
              " ('everything', 'everyth'),\n",
              " ('else', 'els'),\n",
              " ('failed', 'fail'),\n",
              " ('to', 'to'),\n",
              " ('do', 'do'),\n",
              " ('so', 'so'),\n",
              " ('i', 'i'),\n",
              " ('guess', 'guess'),\n",
              " ('i', 'i'),\n",
              " ('stick', 'stick'),\n",
              " ('to', 'to'),\n",
              " ('that', 'that'),\n",
              " ('other', 'other'),\n",
              " ('survival', 'surviv'),\n",
              " ('spectacle', 'spectacl'),\n",
              " ('you', 'you'),\n",
              " ('know', 'know'),\n",
              " ('the', 'the'),\n",
              " ('one', 'one'),\n",
              " ('on', 'on'),\n",
              " ('cbs', 'cbs')]"
            ]
          },
          "metadata": {
            "tags": []
          },
          "execution_count": 31
        }
      ]
    },
    {
      "cell_type": "markdown",
      "metadata": {
        "id": "ex0trRgkyjGZ",
        "colab_type": "text"
      },
      "source": [
        "#### notar que \"empathy\" y \"empathize\" no van a la misma raiz!"
      ]
    },
    {
      "cell_type": "code",
      "metadata": {
        "id": "UYJW0IvzyjGa",
        "colab_type": "code",
        "colab": {
          "base_uri": "https://localhost:8080/",
          "height": 53
        },
        "outputId": "eb9ed0ec-2622-4d49-abea-a6d26c025401"
      },
      "source": [
        "print(stemmer.stem(\"empathy\"))\n",
        "print(stemmer.stem(\"empathize\"))"
      ],
      "execution_count": 32,
      "outputs": [
        {
          "output_type": "stream",
          "text": [
            "empathi\n",
            "empath\n"
          ],
          "name": "stdout"
        }
      ]
    },
    {
      "cell_type": "code",
      "metadata": {
        "id": "_RZoFoVyyjGd",
        "colab_type": "code",
        "colab": {
          "base_uri": "https://localhost:8080/",
          "height": 107
        },
        "outputId": "600e86e8-eb63-4bc5-ed1b-31f39c086c11"
      },
      "source": [
        "# Lematizacion: lleva una palabra a su forma canónica\n",
        "from nltk import pos_tag\n",
        "from nltk.stem import WordNetLemmatizer\n",
        "from nltk.corpus import wordnet\n",
        "nltk.download('wordnet')\n",
        "nltk.download('averaged_perceptron_tagger')\n",
        "wnl = WordNetLemmatizer()"
      ],
      "execution_count": 33,
      "outputs": [
        {
          "output_type": "stream",
          "text": [
            "[nltk_data] Downloading package wordnet to /root/nltk_data...\n",
            "[nltk_data]   Unzipping corpora/wordnet.zip.\n",
            "[nltk_data] Downloading package averaged_perceptron_tagger to\n",
            "[nltk_data]     /root/nltk_data...\n",
            "[nltk_data]   Unzipping taggers/averaged_perceptron_tagger.zip.\n"
          ],
          "name": "stdout"
        }
      ]
    },
    {
      "cell_type": "code",
      "metadata": {
        "id": "vRvhh5kZyjGg",
        "colab_type": "code",
        "colab": {
          "base_uri": "https://localhost:8080/",
          "height": 35
        },
        "outputId": "7e36979a-88c8-4fb9-e0df-541e1247218b"
      },
      "source": [
        "# para lemmatizar es necesario dar la categoria gramatical(part-of-speach)\n",
        "# los POS validos son (\"a\",\"v\",\"n\",\"r\")(adjetivo,verbo,sustantivo,advervio)\n",
        "wnl.lemmatize(word=\"was\",pos=\"v\")"
      ],
      "execution_count": 34,
      "outputs": [
        {
          "output_type": "execute_result",
          "data": {
            "text/plain": [
              "'be'"
            ]
          },
          "metadata": {
            "tags": []
          },
          "execution_count": 34
        }
      ]
    },
    {
      "cell_type": "code",
      "metadata": {
        "id": "9kwvCij0iQfg",
        "colab_type": "code",
        "colab": {
          "base_uri": "https://localhost:8080/",
          "height": 35
        },
        "outputId": "2d3e55a7-dc07-4384-c34c-dabdf0d15cb1"
      },
      "source": [
        "#print(stemmer.stem(\"running\"))"
      ],
      "execution_count": 40,
      "outputs": [
        {
          "output_type": "stream",
          "text": [
            "run\n"
          ],
          "name": "stdout"
        }
      ]
    },
    {
      "cell_type": "code",
      "metadata": {
        "id": "Mhel3gblyjGj",
        "colab_type": "code",
        "colab": {
          "base_uri": "https://localhost:8080/",
          "height": 1000
        },
        "outputId": "1d18c431-33ce-4062-bca6-0048faf62c22"
      },
      "source": [
        "postags = pos_tag(word_tokenize(clean_text(X_train_text.iloc[1])))\n",
        "postags"
      ],
      "execution_count": 41,
      "outputs": [
        {
          "output_type": "execute_result",
          "data": {
            "text/plain": [
              "[('i', 'NNS'),\n",
              " ('have', 'VBP'),\n",
              " ('to', 'TO'),\n",
              " ('admit', 'VB'),\n",
              " ('that', 'IN'),\n",
              " ('i', 'NN'),\n",
              " ('disliked', 'VBD'),\n",
              " ('this', 'DT'),\n",
              " ('film', 'NN'),\n",
              " ('initially', 'RB'),\n",
              " ('.', '.'),\n",
              " ('it', 'PRP'),\n",
              " ('certianly', 'RB'),\n",
              " ('is', 'VBZ'),\n",
              " (\"n't\", 'RB'),\n",
              " ('for', 'IN'),\n",
              " ('every', 'DT'),\n",
              " ('taste', 'NN'),\n",
              " (',', ','),\n",
              " ('and', 'CC'),\n",
              " ('it', 'PRP'),\n",
              " (\"'s\", 'VBZ'),\n",
              " ('sheer', 'JJ'),\n",
              " ('torture', 'NN'),\n",
              " ('to', 'TO'),\n",
              " ('sit', 'VB'),\n",
              " ('through', 'IN'),\n",
              " ('if', 'IN'),\n",
              " ('you', 'PRP'),\n",
              " (\"'re\", 'VBP'),\n",
              " ('in', 'IN'),\n",
              " ('a', 'DT'),\n",
              " ('restless', 'JJ'),\n",
              " ('mood', 'NN'),\n",
              " ('.', '.'),\n",
              " ('that', 'WDT'),\n",
              " ('said', 'VBD'),\n",
              " (',', ','),\n",
              " ('if', 'IN'),\n",
              " ('you', 'PRP'),\n",
              " ('are', 'VBP'),\n",
              " ('in', 'IN'),\n",
              " ('the', 'DT'),\n",
              " ('right', 'JJ'),\n",
              " ('mood', 'NN'),\n",
              " (',', ','),\n",
              " ('it', 'PRP'),\n",
              " (\"'s\", 'VBZ'),\n",
              " ('absolutely', 'RB'),\n",
              " ('incredible', 'JJ'),\n",
              " ('.', '.'),\n",
              " ('this', 'DT'),\n",
              " ('was', 'VBD'),\n",
              " ('my', 'PRP$'),\n",
              " ('second', 'JJ'),\n",
              " ('favorite', 'JJ'),\n",
              " ('movie', 'NN'),\n",
              " ('of', 'IN'),\n",
              " ('1998', 'CD'),\n",
              " (',', ','),\n",
              " ('and', 'CC'),\n",
              " ('would', 'MD'),\n",
              " ('have', 'VB'),\n",
              " ('been', 'VBN'),\n",
              " ('a', 'DT'),\n",
              " ('shoo-in', 'NN'),\n",
              " ('for', 'IN'),\n",
              " ('first', 'JJ'),\n",
              " ('in', 'IN'),\n",
              " ('almost', 'RB'),\n",
              " ('any', 'DT'),\n",
              " ('other', 'JJ'),\n",
              " ('year', 'NN'),\n",
              " ('.', '.'),\n",
              " ('perhaps', 'RB'),\n",
              " ('the', 'DT'),\n",
              " ('big', 'JJ'),\n",
              " ('turn-off', 'NN'),\n",
              " ('for', 'IN'),\n",
              " ('many', 'JJ'),\n",
              " ('was', 'VBD'),\n",
              " ('this', 'DT'),\n",
              " ('film', 'NN'),\n",
              " (\"'s\", 'POS'),\n",
              " ('unconventionality', 'NN'),\n",
              " ('.', '.'),\n",
              " ('i', 'VB'),\n",
              " (\"'d\", 'MD'),\n",
              " ('be', 'VB'),\n",
              " ('hard-pressed', 'JJ'),\n",
              " ('to', 'TO'),\n",
              " ('compare', 'VB'),\n",
              " ('it', 'PRP'),\n",
              " ('to', 'TO'),\n",
              " ('any', 'DT'),\n",
              " ('other', 'JJ'),\n",
              " ('film', 'NN'),\n",
              " ('that', 'IN'),\n",
              " ('i', 'NN'),\n",
              " (\"'ve\", 'VBP'),\n",
              " ('seen', 'VBN'),\n",
              " ('-', ':'),\n",
              " ('it', 'PRP'),\n",
              " ('is', 'VBZ'),\n",
              " ('very', 'RB'),\n",
              " (',', ','),\n",
              " ('very', 'RB'),\n",
              " ('artsy', 'RB'),\n",
              " (',', ','),\n",
              " ('incredibly', 'RB'),\n",
              " ('slow', 'JJ'),\n",
              " ('-', ':'),\n",
              " ('and', 'CC'),\n",
              " ('amazingly', 'RB'),\n",
              " (',', ','),\n",
              " ('it', 'PRP'),\n",
              " ('works', 'VBZ'),\n",
              " ('beautifully', 'RB'),\n",
              " ('.', '.'),\n",
              " ('on', 'IN'),\n",
              " ('my', 'PRP$'),\n",
              " ('second', 'JJ'),\n",
              " ('viewing', 'NN'),\n",
              " (',', ','),\n",
              " ('i', 'VB'),\n",
              " ('realized', 'VBN'),\n",
              " ('that', 'IN'),\n",
              " ('the', 'DT'),\n",
              " ('film', 'NN'),\n",
              " ('follows', 'VBZ'),\n",
              " ('the', 'DT'),\n",
              " ('three', 'CD'),\n",
              " ('act', 'NN'),\n",
              " ('structure', 'NN'),\n",
              " ('(', '('),\n",
              " ('i', 'NN'),\n",
              " ('did', 'VBD'),\n",
              " (\"n't\", 'RB'),\n",
              " ('think', 'VB'),\n",
              " ('it', 'PRP'),\n",
              " ('had', 'VBD'),\n",
              " ('any', 'DT'),\n",
              " ('sort', 'NN'),\n",
              " ('of', 'IN'),\n",
              " ('structure', 'NN'),\n",
              " ('at', 'IN'),\n",
              " ('all', 'DT'),\n",
              " ('when', 'WRB'),\n",
              " ('i', 'NN'),\n",
              " ('first', 'RB'),\n",
              " ('saw', 'VBD'),\n",
              " ('it', 'PRP'),\n",
              " (')', ')'),\n",
              " ('.', '.'),\n",
              " ('the', 'DT'),\n",
              " ('first', 'JJ'),\n",
              " ('act', 'NN'),\n",
              " ('serves', 'NNS'),\n",
              " ('to', 'TO'),\n",
              " ('set', 'VB'),\n",
              " ('up', 'RP'),\n",
              " ('the', 'DT'),\n",
              " ('characters', 'NNS'),\n",
              " ('-', ':'),\n",
              " ('sort', 'NN'),\n",
              " ('of', 'IN'),\n",
              " ('.', '.'),\n",
              " ('it', 'PRP'),\n",
              " ('exists', 'VBZ'),\n",
              " ('even', 'RB'),\n",
              " ('moreso', 'NNS'),\n",
              " ('to', 'TO'),\n",
              " ('set', 'VB'),\n",
              " ('a', 'DT'),\n",
              " ('mood', 'NN'),\n",
              " ('of', 'IN'),\n",
              " ('tension', 'NN'),\n",
              " ('and', 'CC'),\n",
              " ('restlesness', 'NN'),\n",
              " (',', ','),\n",
              " ('and', 'CC'),\n",
              " ('perhaps', 'RB'),\n",
              " ('even', 'RB'),\n",
              " ('feelings', 'NNS'),\n",
              " ('of', 'IN'),\n",
              " ('boredom', 'NN'),\n",
              " ('.', '.'),\n",
              " ('and', 'CC'),\n",
              " ('then', 'RB'),\n",
              " ('it', 'PRP'),\n",
              " ('is', 'VBZ'),\n",
              " ('shattered', 'VBN'),\n",
              " ('by', 'IN'),\n",
              " ('the', 'DT'),\n",
              " ('intense', 'JJ'),\n",
              " ('violence', 'NN'),\n",
              " ('of', 'IN'),\n",
              " ('the', 'DT'),\n",
              " ('second', 'NN'),\n",
              " ('(', '('),\n",
              " ('which', 'WDT'),\n",
              " ('encompasses', 'VBZ'),\n",
              " ('most', 'JJS'),\n",
              " ('of', 'IN'),\n",
              " ('the', 'DT'),\n",
              " ('movie', 'NN'),\n",
              " (')', ')'),\n",
              " ('.', '.'),\n",
              " ('the', 'DT'),\n",
              " ('majority', 'NN'),\n",
              " ('of', 'IN'),\n",
              " ('the', 'DT'),\n",
              " ('film', 'NN'),\n",
              " ('is', 'VBZ'),\n",
              " ('one', 'CD'),\n",
              " ('extended', 'JJ'),\n",
              " ('battle', 'NN'),\n",
              " ('scene', 'NN'),\n",
              " (',', ','),\n",
              " ('intercut', 'NN'),\n",
              " ('with', 'IN'),\n",
              " ('brief', 'JJ'),\n",
              " ('flashbacks', 'NNS'),\n",
              " ('and', 'CC'),\n",
              " ('voice-overs', 'NNS'),\n",
              " ('.', '.'),\n",
              " ('the', 'DT'),\n",
              " ('artsier', 'JJ'),\n",
              " ('elements', 'NNS'),\n",
              " ('do', 'VBP'),\n",
              " ('not', 'RB'),\n",
              " ('detract', 'VB'),\n",
              " ('from', 'IN'),\n",
              " ('the', 'DT'),\n",
              " ('action', 'NN'),\n",
              " (',', ','),\n",
              " ('but', 'CC'),\n",
              " ('add', 'VBP'),\n",
              " ('to', 'TO'),\n",
              " ('it', 'PRP'),\n",
              " ('-', ':'),\n",
              " ('they', 'PRP'),\n",
              " ('succeed', 'VB'),\n",
              " ('in', 'IN'),\n",
              " ('briefly', 'NN'),\n",
              " ('letting', 'VBG'),\n",
              " ('the', 'DT'),\n",
              " ('viewer', 'NN'),\n",
              " ('peek', 'NN'),\n",
              " ('into', 'IN'),\n",
              " ('the', 'DT'),\n",
              " ('minds', 'NNS'),\n",
              " ('of', 'IN'),\n",
              " ('the', 'DT'),\n",
              " ('soldiers', 'NNS'),\n",
              " (',', ','),\n",
              " ('only', 'RB'),\n",
              " ('to', 'TO'),\n",
              " ('be', 'VB'),\n",
              " ('suddenly', 'RB'),\n",
              " ('yanked', 'VBN'),\n",
              " ('back', 'RB'),\n",
              " ('into', 'IN'),\n",
              " ('reality', 'NN'),\n",
              " ('when', 'WRB'),\n",
              " ('the', 'DT'),\n",
              " ('battle', 'NN'),\n",
              " ('resumes', 'VBZ'),\n",
              " ('.', '.'),\n",
              " ('the', 'DT'),\n",
              " ('battle', 'NN'),\n",
              " ('scenes', 'NNS'),\n",
              " ('are', 'VBP'),\n",
              " ('amazing', 'VBG'),\n",
              " ('(', '('),\n",
              " ('second', 'JJ'),\n",
              " ('only', 'RB'),\n",
              " ('to', 'TO'),\n",
              " ('``', '``'),\n",
              " ('saving', 'VBG'),\n",
              " ('private', 'JJ'),\n",
              " ('ryan', 'NN'),\n",
              " ('``', '``'),\n",
              " ('in', 'IN'),\n",
              " ('my', 'PRP$'),\n",
              " ('opinion', 'NN'),\n",
              " (')', ')'),\n",
              " ('.', '.'),\n",
              " ('they', 'PRP'),\n",
              " (\"'re\", 'VBP'),\n",
              " ('brutal', 'JJ'),\n",
              " (',', ','),\n",
              " ('horrifying', 'NN'),\n",
              " (',', ','),\n",
              " ('and', 'CC'),\n",
              " ('at', 'IN'),\n",
              " ('times', 'NNS'),\n",
              " ('beautiful', 'JJ'),\n",
              " ('due', 'JJ'),\n",
              " ('to', 'TO'),\n",
              " ('the', 'DT'),\n",
              " ('amazing', 'JJ'),\n",
              " ('cinematography', 'NN'),\n",
              " ('.', '.'),\n",
              " ('the', 'DT'),\n",
              " ('second', 'JJ'),\n",
              " ('act', 'NN'),\n",
              " ('is', 'VBZ'),\n",
              " ('as', 'IN'),\n",
              " ('immersive', 'JJ'),\n",
              " (',', ','),\n",
              " ('brilliant', 'JJ'),\n",
              " (',', ','),\n",
              " ('and', 'CC'),\n",
              " ('haunting', 'VBG'),\n",
              " ('as', 'IN'),\n",
              " ('any', 'DT'),\n",
              " ('film', 'NN'),\n",
              " ('that', 'IN'),\n",
              " ('i', 'NN'),\n",
              " ('have', 'VBP'),\n",
              " ('ever', 'RB'),\n",
              " ('seen', 'VBN'),\n",
              " ('.', '.'),\n",
              " ('the', 'DT'),\n",
              " ('only', 'JJ'),\n",
              " ('problems', 'NNS'),\n",
              " ('come', 'VBP'),\n",
              " ('during', 'IN'),\n",
              " ('the', 'DT'),\n",
              " ('first', 'JJ'),\n",
              " ('and', 'CC'),\n",
              " ('third', 'JJ'),\n",
              " ('acts', 'NNS'),\n",
              " ('.', '.'),\n",
              " ('malick', 'NN'),\n",
              " ('takes', 'VBZ'),\n",
              " ('a', 'DT'),\n",
              " ('little', 'JJ'),\n",
              " ('too', 'RB'),\n",
              " ('long', 'RB'),\n",
              " ('to', 'TO'),\n",
              " ('get', 'VB'),\n",
              " ('the', 'DT'),\n",
              " ('film', 'NN'),\n",
              " ('started', 'VBD'),\n",
              " ('.', '.'),\n",
              " ('although', 'IN'),\n",
              " ('the', 'DT'),\n",
              " ('initial', 'JJ'),\n",
              " ('scenes', 'NNS'),\n",
              " ('-', ':'),\n",
              " ('which', 'WDT'),\n",
              " ('consist', 'VBP'),\n",
              " ('of', 'IN'),\n",
              " ('two', 'CD'),\n",
              " ('soldiers', 'NNS'),\n",
              " (\"'\", 'POS'),\n",
              " ('experiencing', 'VBG'),\n",
              " ('a', 'DT'),\n",
              " ('near-eden-like', 'JJ'),\n",
              " ('paradise', 'NN'),\n",
              " ('while', 'IN'),\n",
              " ('going', 'VBG'),\n",
              " ('awol', 'NN'),\n",
              " (',', ','),\n",
              " ('and', 'CC'),\n",
              " ('the', 'DT'),\n",
              " ('preperations', 'NNS'),\n",
              " ('for', 'IN'),\n",
              " ('battle', 'NN'),\n",
              " ('-', ':'),\n",
              " ('are', 'VBP'),\n",
              " ('effective', 'JJ'),\n",
              " ('and', 'CC'),\n",
              " ('necessary', 'JJ'),\n",
              " (',', ','),\n",
              " ('hints', 'NNS'),\n",
              " ('of', 'IN'),\n",
              " ('pretentiousness', 'NN'),\n",
              " ('sink', 'NN'),\n",
              " ('in', 'IN'),\n",
              " ('.', '.'),\n",
              " ('the', 'DT'),\n",
              " ('film', 'NN'),\n",
              " ('is', 'VBZ'),\n",
              " ('just', 'RB'),\n",
              " ('a', 'DT'),\n",
              " ('tad', 'RB'),\n",
              " ('too', 'RB'),\n",
              " ('artsy', 'JJ'),\n",
              " ('near', 'IN'),\n",
              " ('the', 'DT'),\n",
              " ('beginning', 'NN'),\n",
              " (',', ','),\n",
              " ('and', 'CC'),\n",
              " ('a', 'DT'),\n",
              " ('lot', 'NN'),\n",
              " ('of', 'IN'),\n",
              " ('people', 'NNS'),\n",
              " ('that', 'WDT'),\n",
              " ('disliked', 'VBD'),\n",
              " ('the', 'DT'),\n",
              " ('movie', 'NN'),\n",
              " ('probably', 'RB'),\n",
              " ('gave', 'VBD'),\n",
              " ('up', 'RP'),\n",
              " ('on', 'IN'),\n",
              " ('it', 'PRP'),\n",
              " ('because', 'IN'),\n",
              " ('of', 'IN'),\n",
              " ('this', 'DT'),\n",
              " ('.', '.'),\n",
              " ('the', 'DT'),\n",
              " ('final', 'JJ'),\n",
              " ('act', 'NN'),\n",
              " ('is', 'VBZ'),\n",
              " ('effective', 'JJ'),\n",
              " ('at', 'IN'),\n",
              " ('winding', 'VBG'),\n",
              " ('the', 'DT'),\n",
              " ('film', 'NN'),\n",
              " ('down', 'RP'),\n",
              " (',', ','),\n",
              " ('but', 'CC'),\n",
              " ('the', 'DT'),\n",
              " ('problems', 'NNS'),\n",
              " ('from', 'IN'),\n",
              " ('the', 'DT'),\n",
              " ('first', 'JJ'),\n",
              " ('persist', 'NN'),\n",
              " ('-', ':'),\n",
              " ('it', 'PRP'),\n",
              " (\"'s\", 'VBZ'),\n",
              " ('a', 'DT'),\n",
              " ('bit', 'RB'),\n",
              " ('too', 'RB'),\n",
              " ('long', 'RB'),\n",
              " (',', ','),\n",
              " ('and', 'CC'),\n",
              " ('comes', 'VBZ'),\n",
              " ('over', 'RP'),\n",
              " ('as', 'IN'),\n",
              " ('pretentious', 'JJ'),\n",
              " ('at', 'IN'),\n",
              " ('times', 'NNS'),\n",
              " ('.', '.'),\n",
              " ('that', 'DT'),\n",
              " ('said', 'VBD'),\n",
              " (',', ','),\n",
              " ('there', 'EX'),\n",
              " ('are', 'VBP'),\n",
              " ('two', 'CD'),\n",
              " ('sequences', 'NNS'),\n",
              " ('(', '('),\n",
              " ('one', 'CD'),\n",
              " ('where', 'WRB'),\n",
              " ('a', 'DT'),\n",
              " ('soldier', 'JJR'),\n",
              " ('gets', 'VBZ'),\n",
              " ('a', 'DT'),\n",
              " ('devastating', 'JJ'),\n",
              " ('note', 'NN'),\n",
              " ('from', 'IN'),\n",
              " ('his', 'PRP$'),\n",
              " ('wife', 'NN'),\n",
              " (',', ','),\n",
              " ('and', 'CC'),\n",
              " ('another', 'DT'),\n",
              " ('where', 'WRB'),\n",
              " ('one', 'CD'),\n",
              " ('of', 'IN'),\n",
              " ('the', 'DT'),\n",
              " ('main', 'JJ'),\n",
              " ('characters', 'NNS'),\n",
              " ('is', 'VBZ'),\n",
              " ('killed', 'VBN'),\n",
              " (')', ')'),\n",
              " ('that', 'WDT'),\n",
              " ('are', 'VBP'),\n",
              " ('nothing', 'NN'),\n",
              " ('short', 'JJ'),\n",
              " ('of', 'IN'),\n",
              " ('incredible', 'JJ'),\n",
              " ('.', '.'),\n",
              " ('the', 'DT'),\n",
              " ('performances', 'NNS'),\n",
              " ('are', 'VBP'),\n",
              " ('phenominal', 'JJ'),\n",
              " ('all', 'DT'),\n",
              " ('around', 'RB'),\n",
              " ('.', '.'),\n",
              " ('the', 'DT'),\n",
              " ('two', 'CD'),\n",
              " ('standouts', 'NNS'),\n",
              " ('are', 'VBP'),\n",
              " ('nick', 'JJ'),\n",
              " ('nolte', 'NNS'),\n",
              " ('and', 'CC'),\n",
              " ('newcomer', 'JJ'),\n",
              " ('jim', 'NN'),\n",
              " ('caviezel', 'NN'),\n",
              " (',', ','),\n",
              " ('both', 'DT'),\n",
              " ('of', 'IN'),\n",
              " ('whom', 'WP'),\n",
              " ('should', 'MD'),\n",
              " ('have', 'VB'),\n",
              " ('been', 'VBN'),\n",
              " ('nominated', 'VBN'),\n",
              " ('for', 'IN'),\n",
              " ('oscars', 'NNS'),\n",
              " ('.', '.'),\n",
              " ('nolte', 'NN'),\n",
              " ('is', 'VBZ'),\n",
              " ('riveting', 'VBG'),\n",
              " ('and', 'CC'),\n",
              " ('intense', 'JJ'),\n",
              " ('as', 'IN'),\n",
              " ('the', 'DT'),\n",
              " ('colonel', 'NN'),\n",
              " ('in', 'IN'),\n",
              " ('charge', 'NN'),\n",
              " ('of', 'IN'),\n",
              " ('the', 'DT'),\n",
              " ('operation', 'NN'),\n",
              " ('.', '.'),\n",
              " ('his', 'PRP$'),\n",
              " ('character', 'NN'),\n",
              " ('is', 'VBZ'),\n",
              " ('hard', 'JJ'),\n",
              " (',', ','),\n",
              " ('mean', 'JJ'),\n",
              " (',', ','),\n",
              " ('and', 'CC'),\n",
              " ('somewhat', 'RB'),\n",
              " ('reckless', 'JJ'),\n",
              " ('with', 'IN'),\n",
              " ('the', 'DT'),\n",
              " ('lives', 'NNS'),\n",
              " ('of', 'IN'),\n",
              " ('his', 'PRP$'),\n",
              " ('men', 'NNS'),\n",
              " (',', ','),\n",
              " ('and', 'CC'),\n",
              " ('yet', 'RB'),\n",
              " ('nolte', 'JJ'),\n",
              " ('somehow', 'NN'),\n",
              " ('manages', 'VBZ'),\n",
              " ('to', 'TO'),\n",
              " ('evoke', 'VB'),\n",
              " ('sympathy', 'NN'),\n",
              " ('for', 'IN'),\n",
              " ('him', 'PRP'),\n",
              " ('.', '.'),\n",
              " ('caviezel', 'NN'),\n",
              " ('is', 'VBZ'),\n",
              " ('forever', 'RB'),\n",
              " ('questioning', 'VBG'),\n",
              " ('the', 'DT'),\n",
              " ('nature', 'NN'),\n",
              " ('of', 'IN'),\n",
              " ('war', 'NN'),\n",
              " (',', ','),\n",
              " ('his', 'PRP$'),\n",
              " ('place', 'NN'),\n",
              " ('in', 'IN'),\n",
              " ('it', 'PRP'),\n",
              " (',', ','),\n",
              " ('and', 'CC'),\n",
              " ('if', 'IN'),\n",
              " ('there', 'EX'),\n",
              " (\"'s\", 'VBZ'),\n",
              " ('any', 'DT'),\n",
              " ('deeper', 'JJ'),\n",
              " ('meaning', 'NN'),\n",
              " ('to', 'TO'),\n",
              " ('the', 'DT'),\n",
              " ('hell', 'NN'),\n",
              " ('that', 'IN'),\n",
              " ('he', 'PRP'),\n",
              " (\"'s\", 'VBZ'),\n",
              " ('going', 'VBG'),\n",
              " ('through', 'IN'),\n",
              " ('.', '.'),\n",
              " ('he', 'PRP'),\n",
              " ('is', 'VBZ'),\n",
              " ('absolutely', 'RB'),\n",
              " ('perfect', 'JJ'),\n",
              " ('-', ':'),\n",
              " ('genuine', 'NN'),\n",
              " (',', ','),\n",
              " ('sympathetic', 'JJ'),\n",
              " (',', ','),\n",
              " ('sincere', 'JJ'),\n",
              " (',', ','),\n",
              " ('and', 'CC'),\n",
              " ('yet', 'RB'),\n",
              " ('strong', 'JJ'),\n",
              " ('when', 'WRB'),\n",
              " ('he', 'PRP'),\n",
              " ('needs', 'VBZ'),\n",
              " ('to', 'TO'),\n",
              " ('be', 'VB'),\n",
              " ('.', '.'),\n",
              " ('although', 'IN'),\n",
              " ('restricted', 'VBN'),\n",
              " ('to', 'TO'),\n",
              " ('a', 'DT'),\n",
              " ('relatively', 'RB'),\n",
              " ('small', 'JJ'),\n",
              " ('role', 'NN'),\n",
              " (',', ','),\n",
              " ('sean', 'JJ'),\n",
              " ('penn', 'NN'),\n",
              " ('is', 'VBZ'),\n",
              " ('also', 'RB'),\n",
              " ('very', 'RB'),\n",
              " ('good', 'JJ'),\n",
              " ('as', 'IN'),\n",
              " ('the', 'DT'),\n",
              " ('company', 'NN'),\n",
              " (\"'s\", 'POS'),\n",
              " ('pessimistic', 'JJ'),\n",
              " ('seargent', 'NN'),\n",
              " ('.', '.'),\n",
              " ('as', 'IN'),\n",
              " ('to', 'TO'),\n",
              " ('how', 'WRB'),\n",
              " ('it', 'PRP'),\n",
              " ('stacks', 'VBZ'),\n",
              " ('up', 'RP'),\n",
              " ('to', 'TO'),\n",
              " ('``', '``'),\n",
              " ('saving', 'VBG'),\n",
              " ('private', 'JJ'),\n",
              " ('ryan', 'NN'),\n",
              " ('``', '``'),\n",
              " ('-', ':'),\n",
              " ('it', 'PRP'),\n",
              " ('was', 'VBD'),\n",
              " ('my', 'PRP$'),\n",
              " ('second', 'JJ'),\n",
              " ('favorite', 'JJ'),\n",
              " ('movie', 'NN'),\n",
              " ('of', 'IN'),\n",
              " ('1998', 'CD'),\n",
              " (',', ','),\n",
              " ('``', '``'),\n",
              " ('ryan', 'VB'),\n",
              " ('``', '``'),\n",
              " ('was', 'VBD'),\n",
              " ('my', 'PRP$'),\n",
              " ('first', 'JJ'),\n",
              " ('.', '.'),\n",
              " ('it', 'PRP'),\n",
              " (\"'s\", 'VBZ'),\n",
              " ('really', 'RB'),\n",
              " ('hard', 'JJ'),\n",
              " ('to', 'TO'),\n",
              " ('compare', 'VB'),\n",
              " ('the', 'DT'),\n",
              " ('two', 'CD'),\n",
              " ('-', ':'),\n",
              " ('they', 'PRP'),\n",
              " ('are', 'VBP'),\n",
              " ('so', 'RB'),\n",
              " (',', ','),\n",
              " ('so', 'IN'),\n",
              " ('different', 'JJ'),\n",
              " ('-', ':'),\n",
              " ('so', 'RB'),\n",
              " ('i', 'JJ'),\n",
              " ('wo', 'MD'),\n",
              " (\"n't\", 'RB'),\n",
              " (',', ','),\n",
              " ('beyond', 'IN'),\n",
              " ('saying', 'VBG'),\n",
              " ('that', 'IN'),\n",
              " ('spielberg', 'NN'),\n",
              " (\"'s\", 'POS'),\n",
              " ('film', 'NN'),\n",
              " ('had', 'VBD'),\n",
              " ('more', 'JJR'),\n",
              " ('of', 'IN'),\n",
              " ('an', 'DT'),\n",
              " ('impact', 'NN'),\n",
              " ('on', 'IN'),\n",
              " ('me', 'PRP'),\n",
              " ('.', '.'),\n",
              " ('however', 'RB'),\n",
              " (',', ','),\n",
              " ('the', 'DT'),\n",
              " ('two', 'CD'),\n",
              " ('are', 'VBP'),\n",
              " ('comparable', 'JJ'),\n",
              " ('from', 'IN'),\n",
              " ('the', 'DT'),\n",
              " ('standpoint', 'NN'),\n",
              " ('of', 'IN'),\n",
              " ('quality', 'NN'),\n",
              " ('(', '('),\n",
              " ('i', 'JJ'),\n",
              " ('can', 'MD'),\n",
              " ('easily', 'RB'),\n",
              " ('see', 'VB'),\n",
              " ('why', 'WRB'),\n",
              " ('someone', 'NN'),\n",
              " ('would', 'MD'),\n",
              " ('``', '``'),\n",
              " ('the', 'DT'),\n",
              " ('thin', 'JJ'),\n",
              " ('red', 'JJ'),\n",
              " ('line', 'NN'),\n",
              " ('``', '``'),\n",
              " ('above', 'IN'),\n",
              " ('``', '``'),\n",
              " ('ryan', 'NN'),\n",
              " (')', ')'),\n",
              " ('.', '.'),\n",
              " ('i', 'JJ'),\n",
              " ('highly', 'RB'),\n",
              " ('recommend', 'VBP'),\n",
              " ('both', 'DT'),\n",
              " ('of', 'IN'),\n",
              " ('them', 'PRP'),\n",
              " (',', ','),\n",
              " ('and', 'CC'),\n",
              " ('consider', 'VB'),\n",
              " ('them', 'PRP'),\n",
              " ('to', 'TO'),\n",
              " ('be', 'VB'),\n",
              " ('the', 'DT'),\n",
              " ('two', 'CD'),\n",
              " ('best', 'JJS'),\n",
              " ('war', 'NN'),\n",
              " ('movies', 'NNS'),\n",
              " ('ever', 'RB'),\n",
              " ('made', 'VBD'),\n",
              " ('.', '.'),\n",
              " ('all', 'DT'),\n",
              " ('in', 'IN'),\n",
              " ('all', 'DT'),\n",
              " (',', ','),\n",
              " ('``', '``'),\n",
              " ('the', 'DT'),\n",
              " ('thin', 'JJ'),\n",
              " ('red', 'JJ'),\n",
              " ('line', 'NN'),\n",
              " ('``', '``'),\n",
              " ('is', 'VBZ'),\n",
              " ('filmmaking', 'VBG'),\n",
              " ('of', 'IN'),\n",
              " ('an', 'DT'),\n",
              " ('incredibly', 'RB'),\n",
              " ('high', 'JJ'),\n",
              " ('order', 'NN'),\n",
              " ('.', '.'),\n",
              " ('it', 'PRP'),\n",
              " (\"'s\", 'VBZ'),\n",
              " ('slight', 'JJ'),\n",
              " ('faults', 'NNS'),\n",
              " ('are', 'VBP'),\n",
              " ('easily', 'RB'),\n",
              " ('offset', 'VBN'),\n",
              " ('by', 'IN'),\n",
              " ('the', 'DT'),\n",
              " ('sheer', 'NN'),\n",
              " ('brilliance', 'NN'),\n",
              " ('of', 'IN'),\n",
              " ('what', 'WP'),\n",
              " ('is', 'VBZ'),\n",
              " ('done', 'VBN'),\n",
              " ('right', 'RB'),\n",
              " ('.', '.'),\n",
              " ('it', 'PRP'),\n",
              " (\"'s\", 'VBZ'),\n",
              " ('a', 'DT'),\n",
              " ('real', 'JJ'),\n",
              " ('shame', 'NN'),\n",
              " ('that', 'IN'),\n",
              " ('it', 'PRP'),\n",
              " ('tanked', 'VBD'),\n",
              " ('at', 'IN'),\n",
              " ('the', 'DT'),\n",
              " ('box', 'NN'),\n",
              " ('office', 'NN'),\n",
              " ('-', ':'),\n",
              " ('films', 'NNS'),\n",
              " ('this', 'DT'),\n",
              " ('unconventional', 'JJ'),\n",
              " (',', ','),\n",
              " ('powerful', 'JJ'),\n",
              " (',', ','),\n",
              " ('and', 'CC'),\n",
              " ('thought-provoking', 'NN'),\n",
              " ('do', 'VBP'),\n",
              " (\"n't\", 'RB'),\n",
              " ('come', 'VB'),\n",
              " ('along', 'RB'),\n",
              " ('very', 'RB'),\n",
              " ('often', 'RB'),\n",
              " ('.', '.')]"
            ]
          },
          "metadata": {
            "tags": []
          },
          "execution_count": 41
        }
      ]
    },
    {
      "cell_type": "code",
      "metadata": {
        "id": "k9OmeWqtyjGl",
        "colab_type": "code",
        "colab": {}
      },
      "source": [
        "def word_pos_to_lemma(word,pos,wnl):\n",
        "    if pos.startswith('J'):\n",
        "        return wnl.lemmatize(word,wordnet.ADJ) # adjetivo\n",
        "    elif pos.startswith('V'):\n",
        "        return wnl.lemmatize(word,wordnet.VERB) # vervo\n",
        "    elif pos.startswith('N'):\n",
        "        return wnl.lemmatize(word,wordnet.NOUN)# sustantivo\n",
        "    elif pos.startswith('R'):\n",
        "        return wnl.lemmatize(word,wordnet.ADV) # advervio\n",
        "    else:\n",
        "        return wnl.lemmatize(word)"
      ],
      "execution_count": 0,
      "outputs": []
    },
    {
      "cell_type": "code",
      "metadata": {
        "id": "2LHvNNGayjGn",
        "colab_type": "code",
        "colab": {
          "base_uri": "https://localhost:8080/",
          "height": 467
        },
        "outputId": "70f687ff-dabc-405c-ae23-5e6301688a77"
      },
      "source": [
        "[(w,word_pos_to_lemma(w,pos,wnl) ) for w,pos in postags if w.isalpha()][:25]"
      ],
      "execution_count": 43,
      "outputs": [
        {
          "output_type": "execute_result",
          "data": {
            "text/plain": [
              "[('i', 'i'),\n",
              " ('have', 'have'),\n",
              " ('to', 'to'),\n",
              " ('admit', 'admit'),\n",
              " ('that', 'that'),\n",
              " ('i', 'i'),\n",
              " ('disliked', 'dislike'),\n",
              " ('this', 'this'),\n",
              " ('film', 'film'),\n",
              " ('initially', 'initially'),\n",
              " ('it', 'it'),\n",
              " ('certianly', 'certianly'),\n",
              " ('is', 'be'),\n",
              " ('for', 'for'),\n",
              " ('every', 'every'),\n",
              " ('taste', 'taste'),\n",
              " ('and', 'and'),\n",
              " ('it', 'it'),\n",
              " ('sheer', 'sheer'),\n",
              " ('torture', 'torture'),\n",
              " ('to', 'to'),\n",
              " ('sit', 'sit'),\n",
              " ('through', 'through'),\n",
              " ('if', 'if'),\n",
              " ('you', 'you')]"
            ]
          },
          "metadata": {
            "tags": []
          },
          "execution_count": 43
        }
      ]
    },
    {
      "cell_type": "markdown",
      "metadata": {
        "id": "U0o20WuRgzHz",
        "colab_type": "text"
      },
      "source": [
        "## Zipf's Law"
      ]
    },
    {
      "cell_type": "code",
      "metadata": {
        "id": "-t0jdzUUffRM",
        "colab_type": "code",
        "colab": {}
      },
      "source": [
        "# Serie con todas las palabras del corpus\n",
        "words_series = pd.Series([word for rev in df.review for word in word_tokenize(rev) if word.isalpha()])  "
      ],
      "execution_count": 0,
      "outputs": []
    },
    {
      "cell_type": "code",
      "metadata": {
        "id": "q_qZv5bBiGeb",
        "colab_type": "code",
        "colab": {
          "base_uri": "https://localhost:8080/",
          "height": 233
        },
        "outputId": "c9c9f067-b070-4ad7-f221-a9542a2154ee"
      },
      "source": [
        "# Frecuencia de cada palabra en el corpus\n",
        "word_freq = words_series.value_counts()\n",
        "word_freq"
      ],
      "execution_count": 45,
      "outputs": [
        {
          "output_type": "execute_result",
          "data": {
            "text/plain": [
              "the            76217\n",
              "a              37980\n",
              "and            35404\n",
              "of             33972\n",
              "to             31772\n",
              "               ...  \n",
              "amulet             1\n",
              "gruel              1\n",
              "kidnaping          1\n",
              "chet               1\n",
              "videophones        1\n",
              "Length: 38097, dtype: int64"
            ]
          },
          "metadata": {
            "tags": []
          },
          "execution_count": 45
        }
      ]
    },
    {
      "cell_type": "code",
      "metadata": {
        "id": "tPQ8DVyTiGhz",
        "colab_type": "code",
        "colab": {
          "base_uri": "https://localhost:8080/",
          "height": 283
        },
        "outputId": "af60c4f0-cb77-4d6b-b0ca-5c0342345142"
      },
      "source": [
        "# plot de frecuencia vs ranking (la palabra mas frecuente tiene rank=1, la segunda tiene rank=2, etc..)\n",
        "plt.plot(range(len(word_freq)),word_freq)\n",
        "plt.xlabel('rank');plt.ylabel('freq');\n"
      ],
      "execution_count": 46,
      "outputs": [
        {
          "output_type": "display_data",
          "data": {
            "image/png": "[encoded data removed]",
            "text/plain": [
              "<Figure size 432x288 with 1 Axes>"
            ]
          },
          "metadata": {
            "tags": [],
            "needs_background": "light"
          }
        }
      ]
    },
    {
      "cell_type": "code",
      "metadata": {
        "id": "t4-WgV_4gZ17",
        "colab_type": "code",
        "colab": {
          "base_uri": "https://localhost:8080/",
          "height": 284
        },
        "outputId": "0e539110-f618-4db7-cb14-aeb099cb3dee"
      },
      "source": [
        "# ahora en eje logaritmico\n",
        "plt.plot(range(len(word_freq)),word_freq)\n",
        "plt.xlabel('rank');plt.ylabel('freq')\n",
        "plt.xscale('log'); plt.yscale('log');"
      ],
      "execution_count": 47,
      "outputs": [
        {
          "output_type": "display_data",
          "data": {
            "image/png": "[encoded data removed]",
            "text/plain": [
              "<Figure size 432x288 with 1 Axes>"
            ]
          },
          "metadata": {
            "tags": [],
            "needs_background": "light"
          }
        }
      ]
    },
    {
      "cell_type": "code",
      "metadata": {
        "id": "aGB_fDHjhvBR",
        "colab_type": "code",
        "colab": {
          "base_uri": "https://localhost:8080/",
          "height": 35
        },
        "outputId": "6a18aade-c18d-4b5f-b265-302c2c9535f3"
      },
      "source": [
        "# palabras con 1 sola occurrencia\n",
        "sum(word_freq==1)/len(word_freq)"
      ],
      "execution_count": 48,
      "outputs": [
        {
          "output_type": "execute_result",
          "data": {
            "text/plain": [
              "0.3482688925637189"
            ]
          },
          "metadata": {
            "tags": []
          },
          "execution_count": 48
        }
      ]
    },
    {
      "cell_type": "markdown",
      "metadata": {
        "id": "Id7N1_8ryjGq",
        "colab_type": "text"
      },
      "source": [
        "# Ejercicio 1\n",
        "## Armar un clasificador que identifique si una review de IMDB es positivo (1) o negativo (0)\n",
        "## comparar varios modelos y seleccionar el que produzca un mejor 10-fold CV o un mejor performance en el dev set\n",
        "## predecir en el test set y calcular la matriz de confusion, precision, recall y F-score"
      ]
    },
    {
      "cell_type": "code",
      "metadata": {
        "id": "C2qzstytwb7t",
        "colab_type": "code",
        "colab": {}
      },
      "source": [
        "import tensorflow_datasets as tfds\n"
      ],
      "execution_count": 0,
      "outputs": []
    },
    {
      "cell_type": "code",
      "metadata": {
        "id": "qRIycFNqwb-o",
        "colab_type": "code",
        "colab": {}
      },
      "source": [
        "# Split the training set into 60% and 40%, so we'll end up with 15,000 examples\n",
        "# for training, 10,000 examples for validation and 25,000 examples for testing.\n",
        "train_validation_split = tfds.Split.TRAIN.subsplit([6, 4])\n",
        "\n",
        "(train_data, validation_data), test_data = tfds.load(\n",
        "    name=\"imdb_reviews\", \n",
        "    split=(train_validation_split, tfds.Split.TEST),\n",
        "    as_supervised=True)\n",
        "\n",
        "df_train = pd.DataFrame(list(tfds.as_numpy(train_data)),columns=['texto','clase'])\n",
        "df_dev = pd.DataFrame(list(tfds.as_numpy(validation_data)),columns=['texto','clase'])\n",
        "df_test = pd.DataFrame(list(tfds.as_numpy(test_data)),columns=['texto','clase'])"
      ],
      "execution_count": 0,
      "outputs": []
    },
    {
      "cell_type": "code",
      "metadata": {
        "id": "6XSlXSN-wb4k",
        "colab_type": "code",
        "colab": {}
      },
      "source": [
        "df_train.sample(5)"
      ],
      "execution_count": 0,
      "outputs": []
    },
    {
      "cell_type": "code",
      "metadata": {
        "id": "ikMYGyp2xQ16",
        "colab_type": "code",
        "colab": {}
      },
      "source": [
        "def b2str(b):\n",
        "  return b.decode('utf8')\n",
        "\n",
        "df_dev['texto'] = df_dev['texto'].apply(b2str)\n",
        "df_train['texto'] = df_train['texto'].apply(b2str)\n",
        "df_test['texto'] = df_test['texto'].apply(b2str)"
      ],
      "execution_count": 0,
      "outputs": []
    },
    {
      "cell_type": "code",
      "metadata": {
        "id": "HUNe-mLxyjGr",
        "colab_type": "code",
        "colab": {}
      },
      "source": [
        "df_train.sample(5)"
      ],
      "execution_count": 0,
      "outputs": []
    },
    {
      "cell_type": "code",
      "metadata": {
        "id": "3PEFKGLlyjGt",
        "colab_type": "code",
        "colab": {}
      },
      "source": [
        ""
      ],
      "execution_count": 0,
      "outputs": []
    }
  ]
}