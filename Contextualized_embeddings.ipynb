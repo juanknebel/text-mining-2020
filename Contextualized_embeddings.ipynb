{
  "nbformat": 4,
  "nbformat_minor": 0,
  "metadata": {
    "colab": {
      "name": "Copy of Contextualized_embeddings.ipynb",
      "provenance": [],
      "collapsed_sections": [],
      "toc_visible": true,
      "machine_shape": "hm",
      "include_colab_link": true
    },
    "kernelspec": {
      "name": "python3",
      "display_name": "Python 3"
    },
    "accelerator": "GPU",
    "widgets": {
      "application/vnd.jupyter.widget-state+json": {
        "f6ad284ea64e40e593d5bf8e11a2183c": {
          "model_module": "@jupyter-widgets/controls",
          "model_name": "HBoxModel",
          "state": {
            "_view_name": "HBoxView",
            "_dom_classes": [],
            "_model_name": "HBoxModel",
            "_view_module": "@jupyter-widgets/controls",
            "_model_module_version": "1.5.0",
            "_view_count": null,
            "_view_module_version": "1.5.0",
            "box_style": "",
            "layout": "IPY_MODEL_eccc654aebcb4c049fe8614313e586d2",
            "_model_module": "@jupyter-widgets/controls",
            "children": [
              "IPY_MODEL_802109f0879943378c92e07c1e3c2b86",
              "IPY_MODEL_8dd13556ddd340f6a0db9469934ef540"
            ]
          }
        },
        "eccc654aebcb4c049fe8614313e586d2": {
          "model_module": "@jupyter-widgets/base",
          "model_name": "LayoutModel",
          "state": {
            "_view_name": "LayoutView",
            "grid_template_rows": null,
            "right": null,
            "justify_content": null,
            "_view_module": "@jupyter-widgets/base",
            "overflow": null,
            "_model_module_version": "1.2.0",
            "_view_count": null,
            "flex_flow": null,
            "width": null,
            "min_width": null,
            "border": null,
            "align_items": null,
            "bottom": null,
            "_model_module": "@jupyter-widgets/base",
            "top": null,
            "grid_column": null,
            "overflow_y": null,
            "overflow_x": null,
            "grid_auto_flow": null,
            "grid_area": null,
            "grid_template_columns": null,
            "flex": null,
            "_model_name": "LayoutModel",
            "justify_items": null,
            "grid_row": null,
            "max_height": null,
            "align_content": null,
            "visibility": null,
            "align_self": null,
            "height": null,
            "min_height": null,
            "padding": null,
            "grid_auto_rows": null,
            "grid_gap": null,
            "max_width": null,
            "order": null,
            "_view_module_version": "1.2.0",
            "grid_template_areas": null,
            "object_position": null,
            "object_fit": null,
            "grid_auto_columns": null,
            "margin": null,
            "display": null,
            "left": null
          }
        },
        "802109f0879943378c92e07c1e3c2b86": {
          "model_module": "@jupyter-widgets/controls",
          "model_name": "FloatProgressModel",
          "state": {
            "_view_name": "ProgressView",
            "style": "IPY_MODEL_989c1dc45eaa48a793a444d9f3bbdfe1",
            "_dom_classes": [],
            "description": "Downloading: 100%",
            "_model_name": "FloatProgressModel",
            "bar_style": "success",
            "max": 231508,
            "_view_module": "@jupyter-widgets/controls",
            "_model_module_version": "1.5.0",
            "value": 231508,
            "_view_count": null,
            "_view_module_version": "1.5.0",
            "orientation": "horizontal",
            "min": 0,
            "description_tooltip": null,
            "_model_module": "@jupyter-widgets/controls",
            "layout": "IPY_MODEL_9577b427aa10453f8a5a20c1379e223d"
          }
        },
        "8dd13556ddd340f6a0db9469934ef540": {
          "model_module": "@jupyter-widgets/controls",
          "model_name": "HTMLModel",
          "state": {
            "_view_name": "HTMLView",
            "style": "IPY_MODEL_774bde1e44214f8c87200178cec8035a",
            "_dom_classes": [],
            "description": "",
            "_model_name": "HTMLModel",
            "placeholder": "​",
            "_view_module": "@jupyter-widgets/controls",
            "_model_module_version": "1.5.0",
            "value": " 232k/232k [00:00&lt;00:00, 1.65MB/s]",
            "_view_count": null,
            "_view_module_version": "1.5.0",
            "description_tooltip": null,
            "_model_module": "@jupyter-widgets/controls",
            "layout": "IPY_MODEL_66bc5a2248bb424ea912b037a48a3b0e"
          }
        },
        "989c1dc45eaa48a793a444d9f3bbdfe1": {
          "model_module": "@jupyter-widgets/controls",
          "model_name": "ProgressStyleModel",
          "state": {
            "_view_name": "StyleView",
            "_model_name": "ProgressStyleModel",
            "description_width": "initial",
            "_view_module": "@jupyter-widgets/base",
            "_model_module_version": "1.5.0",
            "_view_count": null,
            "_view_module_version": "1.2.0",
            "bar_color": null,
            "_model_module": "@jupyter-widgets/controls"
          }
        },
        "9577b427aa10453f8a5a20c1379e223d": {
          "model_module": "@jupyter-widgets/base",
          "model_name": "LayoutModel",
          "state": {
            "_view_name": "LayoutView",
            "grid_template_rows": null,
            "right": null,
            "justify_content": null,
            "_view_module": "@jupyter-widgets/base",
            "overflow": null,
            "_model_module_version": "1.2.0",
            "_view_count": null,
            "flex_flow": null,
            "width": null,
            "min_width": null,
            "border": null,
            "align_items": null,
            "bottom": null,
            "_model_module": "@jupyter-widgets/base",
            "top": null,
            "grid_column": null,
            "overflow_y": null,
            "overflow_x": null,
            "grid_auto_flow": null,
            "grid_area": null,
            "grid_template_columns": null,
            "flex": null,
            "_model_name": "LayoutModel",
            "justify_items": null,
            "grid_row": null,
            "max_height": null,
            "align_content": null,
            "visibility": null,
            "align_self": null,
            "height": null,
            "min_height": null,
            "padding": null,
            "grid_auto_rows": null,
            "grid_gap": null,
            "max_width": null,
            "order": null,
            "_view_module_version": "1.2.0",
            "grid_template_areas": null,
            "object_position": null,
            "object_fit": null,
            "grid_auto_columns": null,
            "margin": null,
            "display": null,
            "left": null
          }
        },
        "774bde1e44214f8c87200178cec8035a": {
          "model_module": "@jupyter-widgets/controls",
          "model_name": "DescriptionStyleModel",
          "state": {
            "_view_name": "StyleView",
            "_model_name": "DescriptionStyleModel",
            "description_width": "",
            "_view_module": "@jupyter-widgets/base",
            "_model_module_version": "1.5.0",
            "_view_count": null,
            "_view_module_version": "1.2.0",
            "_model_module": "@jupyter-widgets/controls"
          }
        },
        "66bc5a2248bb424ea912b037a48a3b0e": {
          "model_module": "@jupyter-widgets/base",
          "model_name": "LayoutModel",
          "state": {
            "_view_name": "LayoutView",
            "grid_template_rows": null,
            "right": null,
            "justify_content": null,
            "_view_module": "@jupyter-widgets/base",
            "overflow": null,
            "_model_module_version": "1.2.0",
            "_view_count": null,
            "flex_flow": null,
            "width": null,
            "min_width": null,
            "border": null,
            "align_items": null,
            "bottom": null,
            "_model_module": "@jupyter-widgets/base",
            "top": null,
            "grid_column": null,
            "overflow_y": null,
            "overflow_x": null,
            "grid_auto_flow": null,
            "grid_area": null,
            "grid_template_columns": null,
            "flex": null,
            "_model_name": "LayoutModel",
            "justify_items": null,
            "grid_row": null,
            "max_height": null,
            "align_content": null,
            "visibility": null,
            "align_self": null,
            "height": null,
            "min_height": null,
            "padding": null,
            "grid_auto_rows": null,
            "grid_gap": null,
            "max_width": null,
            "order": null,
            "_view_module_version": "1.2.0",
            "grid_template_areas": null,
            "object_position": null,
            "object_fit": null,
            "grid_auto_columns": null,
            "margin": null,
            "display": null,
            "left": null
          }
        },
        "ba37b44aa89a48eda8e94d6135c13515": {
          "model_module": "@jupyter-widgets/controls",
          "model_name": "HBoxModel",
          "state": {
            "_view_name": "HBoxView",
            "_dom_classes": [],
            "_model_name": "HBoxModel",
            "_view_module": "@jupyter-widgets/controls",
            "_model_module_version": "1.5.0",
            "_view_count": null,
            "_view_module_version": "1.5.0",
            "box_style": "",
            "layout": "IPY_MODEL_b9804d0e88964fe9a93b645c9d19e455",
            "_model_module": "@jupyter-widgets/controls",
            "children": [
              "IPY_MODEL_cff39183358342ed8dd0d41af16300f5",
              "IPY_MODEL_54529d9cc02d4b3a82e7b9179fe3ae3a"
            ]
          }
        },
        "b9804d0e88964fe9a93b645c9d19e455": {
          "model_module": "@jupyter-widgets/base",
          "model_name": "LayoutModel",
          "state": {
            "_view_name": "LayoutView",
            "grid_template_rows": null,
            "right": null,
            "justify_content": null,
            "_view_module": "@jupyter-widgets/base",
            "overflow": null,
            "_model_module_version": "1.2.0",
            "_view_count": null,
            "flex_flow": null,
            "width": null,
            "min_width": null,
            "border": null,
            "align_items": null,
            "bottom": null,
            "_model_module": "@jupyter-widgets/base",
            "top": null,
            "grid_column": null,
            "overflow_y": null,
            "overflow_x": null,
            "grid_auto_flow": null,
            "grid_area": null,
            "grid_template_columns": null,
            "flex": null,
            "_model_name": "LayoutModel",
            "justify_items": null,
            "grid_row": null,
            "max_height": null,
            "align_content": null,
            "visibility": null,
            "align_self": null,
            "height": null,
            "min_height": null,
            "padding": null,
            "grid_auto_rows": null,
            "grid_gap": null,
            "max_width": null,
            "order": null,
            "_view_module_version": "1.2.0",
            "grid_template_areas": null,
            "object_position": null,
            "object_fit": null,
            "grid_auto_columns": null,
            "margin": null,
            "display": null,
            "left": null
          }
        },
        "cff39183358342ed8dd0d41af16300f5": {
          "model_module": "@jupyter-widgets/controls",
          "model_name": "FloatProgressModel",
          "state": {
            "_view_name": "ProgressView",
            "style": "IPY_MODEL_bea3e764db0f44af9672ad7ad8bb1c55",
            "_dom_classes": [],
            "description": "Downloading: 100%",
            "_model_name": "FloatProgressModel",
            "bar_style": "success",
            "max": 433,
            "_view_module": "@jupyter-widgets/controls",
            "_model_module_version": "1.5.0",
            "value": 433,
            "_view_count": null,
            "_view_module_version": "1.5.0",
            "orientation": "horizontal",
            "min": 0,
            "description_tooltip": null,
            "_model_module": "@jupyter-widgets/controls",
            "layout": "IPY_MODEL_745f1f9a75254fffb46fb75a0994db03"
          }
        },
        "54529d9cc02d4b3a82e7b9179fe3ae3a": {
          "model_module": "@jupyter-widgets/controls",
          "model_name": "HTMLModel",
          "state": {
            "_view_name": "HTMLView",
            "style": "IPY_MODEL_6fe246f6cb03442c80190be5a0a70a1d",
            "_dom_classes": [],
            "description": "",
            "_model_name": "HTMLModel",
            "placeholder": "​",
            "_view_module": "@jupyter-widgets/controls",
            "_model_module_version": "1.5.0",
            "value": " 433/433 [00:00&lt;00:00, 1.40kB/s]",
            "_view_count": null,
            "_view_module_version": "1.5.0",
            "description_tooltip": null,
            "_model_module": "@jupyter-widgets/controls",
            "layout": "IPY_MODEL_d52a84c6502c443097fde84d99cc239e"
          }
        },
        "bea3e764db0f44af9672ad7ad8bb1c55": {
          "model_module": "@jupyter-widgets/controls",
          "model_name": "ProgressStyleModel",
          "state": {
            "_view_name": "StyleView",
            "_model_name": "ProgressStyleModel",
            "description_width": "initial",
            "_view_module": "@jupyter-widgets/base",
            "_model_module_version": "1.5.0",
            "_view_count": null,
            "_view_module_version": "1.2.0",
            "bar_color": null,
            "_model_module": "@jupyter-widgets/controls"
          }
        },
        "745f1f9a75254fffb46fb75a0994db03": {
          "model_module": "@jupyter-widgets/base",
          "model_name": "LayoutModel",
          "state": {
            "_view_name": "LayoutView",
            "grid_template_rows": null,
            "right": null,
            "justify_content": null,
            "_view_module": "@jupyter-widgets/base",
            "overflow": null,
            "_model_module_version": "1.2.0",
            "_view_count": null,
            "flex_flow": null,
            "width": null,
            "min_width": null,
            "border": null,
            "align_items": null,
            "bottom": null,
            "_model_module": "@jupyter-widgets/base",
            "top": null,
            "grid_column": null,
            "overflow_y": null,
            "overflow_x": null,
            "grid_auto_flow": null,
            "grid_area": null,
            "grid_template_columns": null,
            "flex": null,
            "_model_name": "LayoutModel",
            "justify_items": null,
            "grid_row": null,
            "max_height": null,
            "align_content": null,
            "visibility": null,
            "align_self": null,
            "height": null,
            "min_height": null,
            "padding": null,
            "grid_auto_rows": null,
            "grid_gap": null,
            "max_width": null,
            "order": null,
            "_view_module_version": "1.2.0",
            "grid_template_areas": null,
            "object_position": null,
            "object_fit": null,
            "grid_auto_columns": null,
            "margin": null,
            "display": null,
            "left": null
          }
        },
        "6fe246f6cb03442c80190be5a0a70a1d": {
          "model_module": "@jupyter-widgets/controls",
          "model_name": "DescriptionStyleModel",
          "state": {
            "_view_name": "StyleView",
            "_model_name": "DescriptionStyleModel",
            "description_width": "",
            "_view_module": "@jupyter-widgets/base",
            "_model_module_version": "1.5.0",
            "_view_count": null,
            "_view_module_version": "1.2.0",
            "_model_module": "@jupyter-widgets/controls"
          }
        },
        "d52a84c6502c443097fde84d99cc239e": {
          "model_module": "@jupyter-widgets/base",
          "model_name": "LayoutModel",
          "state": {
            "_view_name": "LayoutView",
            "grid_template_rows": null,
            "right": null,
            "justify_content": null,
            "_view_module": "@jupyter-widgets/base",
            "overflow": null,
            "_model_module_version": "1.2.0",
            "_view_count": null,
            "flex_flow": null,
            "width": null,
            "min_width": null,
            "border": null,
            "align_items": null,
            "bottom": null,
            "_model_module": "@jupyter-widgets/base",
            "top": null,
            "grid_column": null,
            "overflow_y": null,
            "overflow_x": null,
            "grid_auto_flow": null,
            "grid_area": null,
            "grid_template_columns": null,
            "flex": null,
            "_model_name": "LayoutModel",
            "justify_items": null,
            "grid_row": null,
            "max_height": null,
            "align_content": null,
            "visibility": null,
            "align_self": null,
            "height": null,
            "min_height": null,
            "padding": null,
            "grid_auto_rows": null,
            "grid_gap": null,
            "max_width": null,
            "order": null,
            "_view_module_version": "1.2.0",
            "grid_template_areas": null,
            "object_position": null,
            "object_fit": null,
            "grid_auto_columns": null,
            "margin": null,
            "display": null,
            "left": null
          }
        },
        "845b1101d46f4b97ba73bf624510ea8f": {
          "model_module": "@jupyter-widgets/controls",
          "model_name": "HBoxModel",
          "state": {
            "_view_name": "HBoxView",
            "_dom_classes": [],
            "_model_name": "HBoxModel",
            "_view_module": "@jupyter-widgets/controls",
            "_model_module_version": "1.5.0",
            "_view_count": null,
            "_view_module_version": "1.5.0",
            "box_style": "",
            "layout": "IPY_MODEL_bc227e60d397404f9eb8de5d4000d021",
            "_model_module": "@jupyter-widgets/controls",
            "children": [
              "IPY_MODEL_bae2e6da691d4b3ca4e1b2610dd93d22",
              "IPY_MODEL_5d402efabefd49c8829fb43069d448ea"
            ]
          }
        },
        "bc227e60d397404f9eb8de5d4000d021": {
          "model_module": "@jupyter-widgets/base",
          "model_name": "LayoutModel",
          "state": {
            "_view_name": "LayoutView",
            "grid_template_rows": null,
            "right": null,
            "justify_content": null,
            "_view_module": "@jupyter-widgets/base",
            "overflow": null,
            "_model_module_version": "1.2.0",
            "_view_count": null,
            "flex_flow": null,
            "width": null,
            "min_width": null,
            "border": null,
            "align_items": null,
            "bottom": null,
            "_model_module": "@jupyter-widgets/base",
            "top": null,
            "grid_column": null,
            "overflow_y": null,
            "overflow_x": null,
            "grid_auto_flow": null,
            "grid_area": null,
            "grid_template_columns": null,
            "flex": null,
            "_model_name": "LayoutModel",
            "justify_items": null,
            "grid_row": null,
            "max_height": null,
            "align_content": null,
            "visibility": null,
            "align_self": null,
            "height": null,
            "min_height": null,
            "padding": null,
            "grid_auto_rows": null,
            "grid_gap": null,
            "max_width": null,
            "order": null,
            "_view_module_version": "1.2.0",
            "grid_template_areas": null,
            "object_position": null,
            "object_fit": null,
            "grid_auto_columns": null,
            "margin": null,
            "display": null,
            "left": null
          }
        },
        "bae2e6da691d4b3ca4e1b2610dd93d22": {
          "model_module": "@jupyter-widgets/controls",
          "model_name": "FloatProgressModel",
          "state": {
            "_view_name": "ProgressView",
            "style": "IPY_MODEL_c18903fdc9004efbb147ccf5653c58d5",
            "_dom_classes": [],
            "description": "Downloading: 100%",
            "_model_name": "FloatProgressModel",
            "bar_style": "success",
            "max": 440473133,
            "_view_module": "@jupyter-widgets/controls",
            "_model_module_version": "1.5.0",
            "value": 440473133,
            "_view_count": null,
            "_view_module_version": "1.5.0",
            "orientation": "horizontal",
            "min": 0,
            "description_tooltip": null,
            "_model_module": "@jupyter-widgets/controls",
            "layout": "IPY_MODEL_0f067f11bcae4b79b8b46c83c066c5cc"
          }
        },
        "5d402efabefd49c8829fb43069d448ea": {
          "model_module": "@jupyter-widgets/controls",
          "model_name": "HTMLModel",
          "state": {
            "_view_name": "HTMLView",
            "style": "IPY_MODEL_28e5c57a72764bbbb4dd7743b7436397",
            "_dom_classes": [],
            "description": "",
            "_model_name": "HTMLModel",
            "placeholder": "​",
            "_view_module": "@jupyter-widgets/controls",
            "_model_module_version": "1.5.0",
            "value": " 440M/440M [00:37&lt;00:00, 11.9MB/s]",
            "_view_count": null,
            "_view_module_version": "1.5.0",
            "description_tooltip": null,
            "_model_module": "@jupyter-widgets/controls",
            "layout": "IPY_MODEL_0a71c252542047f29884262eb45e3b09"
          }
        },
        "c18903fdc9004efbb147ccf5653c58d5": {
          "model_module": "@jupyter-widgets/controls",
          "model_name": "ProgressStyleModel",
          "state": {
            "_view_name": "StyleView",
            "_model_name": "ProgressStyleModel",
            "description_width": "initial",
            "_view_module": "@jupyter-widgets/base",
            "_model_module_version": "1.5.0",
            "_view_count": null,
            "_view_module_version": "1.2.0",
            "bar_color": null,
            "_model_module": "@jupyter-widgets/controls"
          }
        },
        "0f067f11bcae4b79b8b46c83c066c5cc": {
          "model_module": "@jupyter-widgets/base",
          "model_name": "LayoutModel",
          "state": {
            "_view_name": "LayoutView",
            "grid_template_rows": null,
            "right": null,
            "justify_content": null,
            "_view_module": "@jupyter-widgets/base",
            "overflow": null,
            "_model_module_version": "1.2.0",
            "_view_count": null,
            "flex_flow": null,
            "width": null,
            "min_width": null,
            "border": null,
            "align_items": null,
            "bottom": null,
            "_model_module": "@jupyter-widgets/base",
            "top": null,
            "grid_column": null,
            "overflow_y": null,
            "overflow_x": null,
            "grid_auto_flow": null,
            "grid_area": null,
            "grid_template_columns": null,
            "flex": null,
            "_model_name": "LayoutModel",
            "justify_items": null,
            "grid_row": null,
            "max_height": null,
            "align_content": null,
            "visibility": null,
            "align_self": null,
            "height": null,
            "min_height": null,
            "padding": null,
            "grid_auto_rows": null,
            "grid_gap": null,
            "max_width": null,
            "order": null,
            "_view_module_version": "1.2.0",
            "grid_template_areas": null,
            "object_position": null,
            "object_fit": null,
            "grid_auto_columns": null,
            "margin": null,
            "display": null,
            "left": null
          }
        },
        "28e5c57a72764bbbb4dd7743b7436397": {
          "model_module": "@jupyter-widgets/controls",
          "model_name": "DescriptionStyleModel",
          "state": {
            "_view_name": "StyleView",
            "_model_name": "DescriptionStyleModel",
            "description_width": "",
            "_view_module": "@jupyter-widgets/base",
            "_model_module_version": "1.5.0",
            "_view_count": null,
            "_view_module_version": "1.2.0",
            "_model_module": "@jupyter-widgets/controls"
          }
        },
        "0a71c252542047f29884262eb45e3b09": {
          "model_module": "@jupyter-widgets/base",
          "model_name": "LayoutModel",
          "state": {
            "_view_name": "LayoutView",
            "grid_template_rows": null,
            "right": null,
            "justify_content": null,
            "_view_module": "@jupyter-widgets/base",
            "overflow": null,
            "_model_module_version": "1.2.0",
            "_view_count": null,
            "flex_flow": null,
            "width": null,
            "min_width": null,
            "border": null,
            "align_items": null,
            "bottom": null,
            "_model_module": "@jupyter-widgets/base",
            "top": null,
            "grid_column": null,
            "overflow_y": null,
            "overflow_x": null,
            "grid_auto_flow": null,
            "grid_area": null,
            "grid_template_columns": null,
            "flex": null,
            "_model_name": "LayoutModel",
            "justify_items": null,
            "grid_row": null,
            "max_height": null,
            "align_content": null,
            "visibility": null,
            "align_self": null,
            "height": null,
            "min_height": null,
            "padding": null,
            "grid_auto_rows": null,
            "grid_gap": null,
            "max_width": null,
            "order": null,
            "_view_module_version": "1.2.0",
            "grid_template_areas": null,
            "object_position": null,
            "object_fit": null,
            "grid_auto_columns": null,
            "margin": null,
            "display": null,
            "left": null
          }
        },
        "8e2ad1c549ed4befa2ddb867d10dc431": {
          "model_module": "@jupyter-widgets/controls",
          "model_name": "HBoxModel",
          "state": {
            "_view_name": "HBoxView",
            "_dom_classes": [],
            "_model_name": "HBoxModel",
            "_view_module": "@jupyter-widgets/controls",
            "_model_module_version": "1.5.0",
            "_view_count": null,
            "_view_module_version": "1.5.0",
            "box_style": "",
            "layout": "IPY_MODEL_18dc096e9fe64950868e97ddb8b1de65",
            "_model_module": "@jupyter-widgets/controls",
            "children": [
              "IPY_MODEL_b3ec24952e8f40db85286d30eafd30f3",
              "IPY_MODEL_6a2aef3643c942b1953ede1c72beb9d8"
            ]
          }
        },
        "18dc096e9fe64950868e97ddb8b1de65": {
          "model_module": "@jupyter-widgets/base",
          "model_name": "LayoutModel",
          "state": {
            "_view_name": "LayoutView",
            "grid_template_rows": null,
            "right": null,
            "justify_content": null,
            "_view_module": "@jupyter-widgets/base",
            "overflow": null,
            "_model_module_version": "1.2.0",
            "_view_count": null,
            "flex_flow": null,
            "width": null,
            "min_width": null,
            "border": null,
            "align_items": null,
            "bottom": null,
            "_model_module": "@jupyter-widgets/base",
            "top": null,
            "grid_column": null,
            "overflow_y": null,
            "overflow_x": null,
            "grid_auto_flow": null,
            "grid_area": null,
            "grid_template_columns": null,
            "flex": null,
            "_model_name": "LayoutModel",
            "justify_items": null,
            "grid_row": null,
            "max_height": null,
            "align_content": null,
            "visibility": null,
            "align_self": null,
            "height": null,
            "min_height": null,
            "padding": null,
            "grid_auto_rows": null,
            "grid_gap": null,
            "max_width": null,
            "order": null,
            "_view_module_version": "1.2.0",
            "grid_template_areas": null,
            "object_position": null,
            "object_fit": null,
            "grid_auto_columns": null,
            "margin": null,
            "display": null,
            "left": null
          }
        },
        "b3ec24952e8f40db85286d30eafd30f3": {
          "model_module": "@jupyter-widgets/controls",
          "model_name": "FloatProgressModel",
          "state": {
            "_view_name": "ProgressView",
            "style": "IPY_MODEL_64f651dc8dec4175a602629d2b1b035b",
            "_dom_classes": [],
            "description": "100%",
            "_model_name": "FloatProgressModel",
            "bar_style": "success",
            "max": 20000,
            "_view_module": "@jupyter-widgets/controls",
            "_model_module_version": "1.5.0",
            "value": 20000,
            "_view_count": null,
            "_view_module_version": "1.5.0",
            "orientation": "horizontal",
            "min": 0,
            "description_tooltip": null,
            "_model_module": "@jupyter-widgets/controls",
            "layout": "IPY_MODEL_245fe4d143094447b83c516f94d40cd9"
          }
        },
        "6a2aef3643c942b1953ede1c72beb9d8": {
          "model_module": "@jupyter-widgets/controls",
          "model_name": "HTMLModel",
          "state": {
            "_view_name": "HTMLView",
            "style": "IPY_MODEL_868d62c468c344dcafd1089d37109937",
            "_dom_classes": [],
            "description": "",
            "_model_name": "HTMLModel",
            "placeholder": "​",
            "_view_module": "@jupyter-widgets/controls",
            "_model_module_version": "1.5.0",
            "value": " 20000/20000 [00:03&lt;00:00, 6225.76it/s]",
            "_view_count": null,
            "_view_module_version": "1.5.0",
            "description_tooltip": null,
            "_model_module": "@jupyter-widgets/controls",
            "layout": "IPY_MODEL_ee9cb9bb572746e8867b39563ffcd1a8"
          }
        },
        "64f651dc8dec4175a602629d2b1b035b": {
          "model_module": "@jupyter-widgets/controls",
          "model_name": "ProgressStyleModel",
          "state": {
            "_view_name": "StyleView",
            "_model_name": "ProgressStyleModel",
            "description_width": "initial",
            "_view_module": "@jupyter-widgets/base",
            "_model_module_version": "1.5.0",
            "_view_count": null,
            "_view_module_version": "1.2.0",
            "bar_color": null,
            "_model_module": "@jupyter-widgets/controls"
          }
        },
        "245fe4d143094447b83c516f94d40cd9": {
          "model_module": "@jupyter-widgets/base",
          "model_name": "LayoutModel",
          "state": {
            "_view_name": "LayoutView",
            "grid_template_rows": null,
            "right": null,
            "justify_content": null,
            "_view_module": "@jupyter-widgets/base",
            "overflow": null,
            "_model_module_version": "1.2.0",
            "_view_count": null,
            "flex_flow": null,
            "width": null,
            "min_width": null,
            "border": null,
            "align_items": null,
            "bottom": null,
            "_model_module": "@jupyter-widgets/base",
            "top": null,
            "grid_column": null,
            "overflow_y": null,
            "overflow_x": null,
            "grid_auto_flow": null,
            "grid_area": null,
            "grid_template_columns": null,
            "flex": null,
            "_model_name": "LayoutModel",
            "justify_items": null,
            "grid_row": null,
            "max_height": null,
            "align_content": null,
            "visibility": null,
            "align_self": null,
            "height": null,
            "min_height": null,
            "padding": null,
            "grid_auto_rows": null,
            "grid_gap": null,
            "max_width": null,
            "order": null,
            "_view_module_version": "1.2.0",
            "grid_template_areas": null,
            "object_position": null,
            "object_fit": null,
            "grid_auto_columns": null,
            "margin": null,
            "display": null,
            "left": null
          }
        },
        "868d62c468c344dcafd1089d37109937": {
          "model_module": "@jupyter-widgets/controls",
          "model_name": "DescriptionStyleModel",
          "state": {
            "_view_name": "StyleView",
            "_model_name": "DescriptionStyleModel",
            "description_width": "",
            "_view_module": "@jupyter-widgets/base",
            "_model_module_version": "1.5.0",
            "_view_count": null,
            "_view_module_version": "1.2.0",
            "_model_module": "@jupyter-widgets/controls"
          }
        },
        "ee9cb9bb572746e8867b39563ffcd1a8": {
          "model_module": "@jupyter-widgets/base",
          "model_name": "LayoutModel",
          "state": {
            "_view_name": "LayoutView",
            "grid_template_rows": null,
            "right": null,
            "justify_content": null,
            "_view_module": "@jupyter-widgets/base",
            "overflow": null,
            "_model_module_version": "1.2.0",
            "_view_count": null,
            "flex_flow": null,
            "width": null,
            "min_width": null,
            "border": null,
            "align_items": null,
            "bottom": null,
            "_model_module": "@jupyter-widgets/base",
            "top": null,
            "grid_column": null,
            "overflow_y": null,
            "overflow_x": null,
            "grid_auto_flow": null,
            "grid_area": null,
            "grid_template_columns": null,
            "flex": null,
            "_model_name": "LayoutModel",
            "justify_items": null,
            "grid_row": null,
            "max_height": null,
            "align_content": null,
            "visibility": null,
            "align_self": null,
            "height": null,
            "min_height": null,
            "padding": null,
            "grid_auto_rows": null,
            "grid_gap": null,
            "max_width": null,
            "order": null,
            "_view_module_version": "1.2.0",
            "grid_template_areas": null,
            "object_position": null,
            "object_fit": null,
            "grid_auto_columns": null,
            "margin": null,
            "display": null,
            "left": null
          }
        },
        "febb9dbdfab44d6181176977e5f7298e": {
          "model_module": "@jupyter-widgets/controls",
          "model_name": "HBoxModel",
          "state": {
            "_view_name": "HBoxView",
            "_dom_classes": [],
            "_model_name": "HBoxModel",
            "_view_module": "@jupyter-widgets/controls",
            "_model_module_version": "1.5.0",
            "_view_count": null,
            "_view_module_version": "1.5.0",
            "box_style": "",
            "layout": "IPY_MODEL_d003c4b146c44802bd12f1ae032cc436",
            "_model_module": "@jupyter-widgets/controls",
            "children": [
              "IPY_MODEL_4def66e1e27e42178a76f7f2af0e83f5",
              "IPY_MODEL_92e8547f760f4ff2b3dd8d350ff2b2af"
            ]
          }
        },
        "d003c4b146c44802bd12f1ae032cc436": {
          "model_module": "@jupyter-widgets/base",
          "model_name": "LayoutModel",
          "state": {
            "_view_name": "LayoutView",
            "grid_template_rows": null,
            "right": null,
            "justify_content": null,
            "_view_module": "@jupyter-widgets/base",
            "overflow": null,
            "_model_module_version": "1.2.0",
            "_view_count": null,
            "flex_flow": null,
            "width": null,
            "min_width": null,
            "border": null,
            "align_items": null,
            "bottom": null,
            "_model_module": "@jupyter-widgets/base",
            "top": null,
            "grid_column": null,
            "overflow_y": null,
            "overflow_x": null,
            "grid_auto_flow": null,
            "grid_area": null,
            "grid_template_columns": null,
            "flex": null,
            "_model_name": "LayoutModel",
            "justify_items": null,
            "grid_row": null,
            "max_height": null,
            "align_content": null,
            "visibility": null,
            "align_self": null,
            "height": null,
            "min_height": null,
            "padding": null,
            "grid_auto_rows": null,
            "grid_gap": null,
            "max_width": null,
            "order": null,
            "_view_module_version": "1.2.0",
            "grid_template_areas": null,
            "object_position": null,
            "object_fit": null,
            "grid_auto_columns": null,
            "margin": null,
            "display": null,
            "left": null
          }
        },
        "4def66e1e27e42178a76f7f2af0e83f5": {
          "model_module": "@jupyter-widgets/controls",
          "model_name": "FloatProgressModel",
          "state": {
            "_view_name": "ProgressView",
            "style": "IPY_MODEL_c78d9df01420416eb63fbee6480280ba",
            "_dom_classes": [],
            "description": "Epoch: 100%",
            "_model_name": "FloatProgressModel",
            "bar_style": "success",
            "max": 1,
            "_view_module": "@jupyter-widgets/controls",
            "_model_module_version": "1.5.0",
            "value": 1,
            "_view_count": null,
            "_view_module_version": "1.5.0",
            "orientation": "horizontal",
            "min": 0,
            "description_tooltip": null,
            "_model_module": "@jupyter-widgets/controls",
            "layout": "IPY_MODEL_6432d55a5a3b4a57963c86a52d0c2394"
          }
        },
        "92e8547f760f4ff2b3dd8d350ff2b2af": {
          "model_module": "@jupyter-widgets/controls",
          "model_name": "HTMLModel",
          "state": {
            "_view_name": "HTMLView",
            "style": "IPY_MODEL_2439b02700c34118825578bae4c17f6b",
            "_dom_classes": [],
            "description": "",
            "_model_name": "HTMLModel",
            "placeholder": "​",
            "_view_module": "@jupyter-widgets/controls",
            "_model_module_version": "1.5.0",
            "value": " 1/1 [05:26&lt;00:00, 326.92s/it]",
            "_view_count": null,
            "_view_module_version": "1.5.0",
            "description_tooltip": null,
            "_model_module": "@jupyter-widgets/controls",
            "layout": "IPY_MODEL_a4b7674eb3e94d5db58555faf5b6a457"
          }
        },
        "c78d9df01420416eb63fbee6480280ba": {
          "model_module": "@jupyter-widgets/controls",
          "model_name": "ProgressStyleModel",
          "state": {
            "_view_name": "StyleView",
            "_model_name": "ProgressStyleModel",
            "description_width": "initial",
            "_view_module": "@jupyter-widgets/base",
            "_model_module_version": "1.5.0",
            "_view_count": null,
            "_view_module_version": "1.2.0",
            "bar_color": null,
            "_model_module": "@jupyter-widgets/controls"
          }
        },
        "6432d55a5a3b4a57963c86a52d0c2394": {
          "model_module": "@jupyter-widgets/base",
          "model_name": "LayoutModel",
          "state": {
            "_view_name": "LayoutView",
            "grid_template_rows": null,
            "right": null,
            "justify_content": null,
            "_view_module": "@jupyter-widgets/base",
            "overflow": null,
            "_model_module_version": "1.2.0",
            "_view_count": null,
            "flex_flow": null,
            "width": null,
            "min_width": null,
            "border": null,
            "align_items": null,
            "bottom": null,
            "_model_module": "@jupyter-widgets/base",
            "top": null,
            "grid_column": null,
            "overflow_y": null,
            "overflow_x": null,
            "grid_auto_flow": null,
            "grid_area": null,
            "grid_template_columns": null,
            "flex": null,
            "_model_name": "LayoutModel",
            "justify_items": null,
            "grid_row": null,
            "max_height": null,
            "align_content": null,
            "visibility": null,
            "align_self": null,
            "height": null,
            "min_height": null,
            "padding": null,
            "grid_auto_rows": null,
            "grid_gap": null,
            "max_width": null,
            "order": null,
            "_view_module_version": "1.2.0",
            "grid_template_areas": null,
            "object_position": null,
            "object_fit": null,
            "grid_auto_columns": null,
            "margin": null,
            "display": null,
            "left": null
          }
        },
        "2439b02700c34118825578bae4c17f6b": {
          "model_module": "@jupyter-widgets/controls",
          "model_name": "DescriptionStyleModel",
          "state": {
            "_view_name": "StyleView",
            "_model_name": "DescriptionStyleModel",
            "description_width": "",
            "_view_module": "@jupyter-widgets/base",
            "_model_module_version": "1.5.0",
            "_view_count": null,
            "_view_module_version": "1.2.0",
            "_model_module": "@jupyter-widgets/controls"
          }
        },
        "a4b7674eb3e94d5db58555faf5b6a457": {
          "model_module": "@jupyter-widgets/base",
          "model_name": "LayoutModel",
          "state": {
            "_view_name": "LayoutView",
            "grid_template_rows": null,
            "right": null,
            "justify_content": null,
            "_view_module": "@jupyter-widgets/base",
            "overflow": null,
            "_model_module_version": "1.2.0",
            "_view_count": null,
            "flex_flow": null,
            "width": null,
            "min_width": null,
            "border": null,
            "align_items": null,
            "bottom": null,
            "_model_module": "@jupyter-widgets/base",
            "top": null,
            "grid_column": null,
            "overflow_y": null,
            "overflow_x": null,
            "grid_auto_flow": null,
            "grid_area": null,
            "grid_template_columns": null,
            "flex": null,
            "_model_name": "LayoutModel",
            "justify_items": null,
            "grid_row": null,
            "max_height": null,
            "align_content": null,
            "visibility": null,
            "align_self": null,
            "height": null,
            "min_height": null,
            "padding": null,
            "grid_auto_rows": null,
            "grid_gap": null,
            "max_width": null,
            "order": null,
            "_view_module_version": "1.2.0",
            "grid_template_areas": null,
            "object_position": null,
            "object_fit": null,
            "grid_auto_columns": null,
            "margin": null,
            "display": null,
            "left": null
          }
        },
        "862e91c723204cb89dfda8e09361d1f4": {
          "model_module": "@jupyter-widgets/controls",
          "model_name": "HBoxModel",
          "state": {
            "_view_name": "HBoxView",
            "_dom_classes": [],
            "_model_name": "HBoxModel",
            "_view_module": "@jupyter-widgets/controls",
            "_model_module_version": "1.5.0",
            "_view_count": null,
            "_view_module_version": "1.5.0",
            "box_style": "",
            "layout": "IPY_MODEL_381b8fd21f7c4cb6a937e8b798dfe12b",
            "_model_module": "@jupyter-widgets/controls",
            "children": [
              "IPY_MODEL_066c76d0ee07434ab5fb4ab1c8c71374",
              "IPY_MODEL_4d3911c63d334321b60c7e860ce021d8"
            ]
          }
        },
        "381b8fd21f7c4cb6a937e8b798dfe12b": {
          "model_module": "@jupyter-widgets/base",
          "model_name": "LayoutModel",
          "state": {
            "_view_name": "LayoutView",
            "grid_template_rows": null,
            "right": null,
            "justify_content": null,
            "_view_module": "@jupyter-widgets/base",
            "overflow": null,
            "_model_module_version": "1.2.0",
            "_view_count": null,
            "flex_flow": null,
            "width": null,
            "min_width": null,
            "border": null,
            "align_items": null,
            "bottom": null,
            "_model_module": "@jupyter-widgets/base",
            "top": null,
            "grid_column": null,
            "overflow_y": null,
            "overflow_x": null,
            "grid_auto_flow": null,
            "grid_area": null,
            "grid_template_columns": null,
            "flex": null,
            "_model_name": "LayoutModel",
            "justify_items": null,
            "grid_row": null,
            "max_height": null,
            "align_content": null,
            "visibility": null,
            "align_self": null,
            "height": null,
            "min_height": null,
            "padding": null,
            "grid_auto_rows": null,
            "grid_gap": null,
            "max_width": null,
            "order": null,
            "_view_module_version": "1.2.0",
            "grid_template_areas": null,
            "object_position": null,
            "object_fit": null,
            "grid_auto_columns": null,
            "margin": null,
            "display": null,
            "left": null
          }
        },
        "066c76d0ee07434ab5fb4ab1c8c71374": {
          "model_module": "@jupyter-widgets/controls",
          "model_name": "FloatProgressModel",
          "state": {
            "_view_name": "ProgressView",
            "style": "IPY_MODEL_38e9f00a129a41e5b1a95b9be5d6d384",
            "_dom_classes": [],
            "description": "Current iteration: 100%",
            "_model_name": "FloatProgressModel",
            "bar_style": "success",
            "max": 2500,
            "_view_module": "@jupyter-widgets/controls",
            "_model_module_version": "1.5.0",
            "value": 2500,
            "_view_count": null,
            "_view_module_version": "1.5.0",
            "orientation": "horizontal",
            "min": 0,
            "description_tooltip": null,
            "_model_module": "@jupyter-widgets/controls",
            "layout": "IPY_MODEL_ea23b2ead9a14a95a84825b46ba93a02"
          }
        },
        "4d3911c63d334321b60c7e860ce021d8": {
          "model_module": "@jupyter-widgets/controls",
          "model_name": "HTMLModel",
          "state": {
            "_view_name": "HTMLView",
            "style": "IPY_MODEL_2823573d974b44708b39b2928e53ad00",
            "_dom_classes": [],
            "description": "",
            "_model_name": "HTMLModel",
            "placeholder": "​",
            "_view_module": "@jupyter-widgets/controls",
            "_model_module_version": "1.5.0",
            "value": " 2500/2500 [05:22&lt;00:00,  7.75it/s]",
            "_view_count": null,
            "_view_module_version": "1.5.0",
            "description_tooltip": null,
            "_model_module": "@jupyter-widgets/controls",
            "layout": "IPY_MODEL_d663f6a3ee4f49e080a96cbec7c199c6"
          }
        },
        "38e9f00a129a41e5b1a95b9be5d6d384": {
          "model_module": "@jupyter-widgets/controls",
          "model_name": "ProgressStyleModel",
          "state": {
            "_view_name": "StyleView",
            "_model_name": "ProgressStyleModel",
            "description_width": "initial",
            "_view_module": "@jupyter-widgets/base",
            "_model_module_version": "1.5.0",
            "_view_count": null,
            "_view_module_version": "1.2.0",
            "bar_color": null,
            "_model_module": "@jupyter-widgets/controls"
          }
        },
        "ea23b2ead9a14a95a84825b46ba93a02": {
          "model_module": "@jupyter-widgets/base",
          "model_name": "LayoutModel",
          "state": {
            "_view_name": "LayoutView",
            "grid_template_rows": null,
            "right": null,
            "justify_content": null,
            "_view_module": "@jupyter-widgets/base",
            "overflow": null,
            "_model_module_version": "1.2.0",
            "_view_count": null,
            "flex_flow": null,
            "width": null,
            "min_width": null,
            "border": null,
            "align_items": null,
            "bottom": null,
            "_model_module": "@jupyter-widgets/base",
            "top": null,
            "grid_column": null,
            "overflow_y": null,
            "overflow_x": null,
            "grid_auto_flow": null,
            "grid_area": null,
            "grid_template_columns": null,
            "flex": null,
            "_model_name": "LayoutModel",
            "justify_items": null,
            "grid_row": null,
            "max_height": null,
            "align_content": null,
            "visibility": null,
            "align_self": null,
            "height": null,
            "min_height": null,
            "padding": null,
            "grid_auto_rows": null,
            "grid_gap": null,
            "max_width": null,
            "order": null,
            "_view_module_version": "1.2.0",
            "grid_template_areas": null,
            "object_position": null,
            "object_fit": null,
            "grid_auto_columns": null,
            "margin": null,
            "display": null,
            "left": null
          }
        },
        "2823573d974b44708b39b2928e53ad00": {
          "model_module": "@jupyter-widgets/controls",
          "model_name": "DescriptionStyleModel",
          "state": {
            "_view_name": "StyleView",
            "_model_name": "DescriptionStyleModel",
            "description_width": "",
            "_view_module": "@jupyter-widgets/base",
            "_model_module_version": "1.5.0",
            "_view_count": null,
            "_view_module_version": "1.2.0",
            "_model_module": "@jupyter-widgets/controls"
          }
        },
        "d663f6a3ee4f49e080a96cbec7c199c6": {
          "model_module": "@jupyter-widgets/base",
          "model_name": "LayoutModel",
          "state": {
            "_view_name": "LayoutView",
            "grid_template_rows": null,
            "right": null,
            "justify_content": null,
            "_view_module": "@jupyter-widgets/base",
            "overflow": null,
            "_model_module_version": "1.2.0",
            "_view_count": null,
            "flex_flow": null,
            "width": null,
            "min_width": null,
            "border": null,
            "align_items": null,
            "bottom": null,
            "_model_module": "@jupyter-widgets/base",
            "top": null,
            "grid_column": null,
            "overflow_y": null,
            "overflow_x": null,
            "grid_auto_flow": null,
            "grid_area": null,
            "grid_template_columns": null,
            "flex": null,
            "_model_name": "LayoutModel",
            "justify_items": null,
            "grid_row": null,
            "max_height": null,
            "align_content": null,
            "visibility": null,
            "align_self": null,
            "height": null,
            "min_height": null,
            "padding": null,
            "grid_auto_rows": null,
            "grid_gap": null,
            "max_width": null,
            "order": null,
            "_view_module_version": "1.2.0",
            "grid_template_areas": null,
            "object_position": null,
            "object_fit": null,
            "grid_auto_columns": null,
            "margin": null,
            "display": null,
            "left": null
          }
        },
        "4cd53a82517c4ca1b4d119b0b8878df7": {
          "model_module": "@jupyter-widgets/controls",
          "model_name": "HBoxModel",
          "state": {
            "_view_name": "HBoxView",
            "_dom_classes": [],
            "_model_name": "HBoxModel",
            "_view_module": "@jupyter-widgets/controls",
            "_model_module_version": "1.5.0",
            "_view_count": null,
            "_view_module_version": "1.5.0",
            "box_style": "",
            "layout": "IPY_MODEL_aedef16d26d4400dbec8b046920c1e97",
            "_model_module": "@jupyter-widgets/controls",
            "children": [
              "IPY_MODEL_45e28569e30b41b7b148113e234eecdd",
              "IPY_MODEL_752f855ae0414991a3fa1795085375b5"
            ]
          }
        },
        "aedef16d26d4400dbec8b046920c1e97": {
          "model_module": "@jupyter-widgets/base",
          "model_name": "LayoutModel",
          "state": {
            "_view_name": "LayoutView",
            "grid_template_rows": null,
            "right": null,
            "justify_content": null,
            "_view_module": "@jupyter-widgets/base",
            "overflow": null,
            "_model_module_version": "1.2.0",
            "_view_count": null,
            "flex_flow": null,
            "width": null,
            "min_width": null,
            "border": null,
            "align_items": null,
            "bottom": null,
            "_model_module": "@jupyter-widgets/base",
            "top": null,
            "grid_column": null,
            "overflow_y": null,
            "overflow_x": null,
            "grid_auto_flow": null,
            "grid_area": null,
            "grid_template_columns": null,
            "flex": null,
            "_model_name": "LayoutModel",
            "justify_items": null,
            "grid_row": null,
            "max_height": null,
            "align_content": null,
            "visibility": null,
            "align_self": null,
            "height": null,
            "min_height": null,
            "padding": null,
            "grid_auto_rows": null,
            "grid_gap": null,
            "max_width": null,
            "order": null,
            "_view_module_version": "1.2.0",
            "grid_template_areas": null,
            "object_position": null,
            "object_fit": null,
            "grid_auto_columns": null,
            "margin": null,
            "display": null,
            "left": null
          }
        },
        "45e28569e30b41b7b148113e234eecdd": {
          "model_module": "@jupyter-widgets/controls",
          "model_name": "FloatProgressModel",
          "state": {
            "_view_name": "ProgressView",
            "style": "IPY_MODEL_d90c7518965f425dabe564928af5a52d",
            "_dom_classes": [],
            "description": "100%",
            "_model_name": "FloatProgressModel",
            "bar_style": "success",
            "max": 359,
            "_view_module": "@jupyter-widgets/controls",
            "_model_module_version": "1.5.0",
            "value": 359,
            "_view_count": null,
            "_view_module_version": "1.5.0",
            "orientation": "horizontal",
            "min": 0,
            "description_tooltip": null,
            "_model_module": "@jupyter-widgets/controls",
            "layout": "IPY_MODEL_20ee9a1734294e5fa849b2c018e7115b"
          }
        },
        "752f855ae0414991a3fa1795085375b5": {
          "model_module": "@jupyter-widgets/controls",
          "model_name": "HTMLModel",
          "state": {
            "_view_name": "HTMLView",
            "style": "IPY_MODEL_32dd986fd5ba432096d254459bac41c2",
            "_dom_classes": [],
            "description": "",
            "_model_name": "HTMLModel",
            "placeholder": "​",
            "_view_module": "@jupyter-widgets/controls",
            "_model_module_version": "1.5.0",
            "value": " 359/359 [00:06&lt;00:00, 53.67it/s]",
            "_view_count": null,
            "_view_module_version": "1.5.0",
            "description_tooltip": null,
            "_model_module": "@jupyter-widgets/controls",
            "layout": "IPY_MODEL_84e373c987a2406db56cb4bfb19ef284"
          }
        },
        "d90c7518965f425dabe564928af5a52d": {
          "model_module": "@jupyter-widgets/controls",
          "model_name": "ProgressStyleModel",
          "state": {
            "_view_name": "StyleView",
            "_model_name": "ProgressStyleModel",
            "description_width": "initial",
            "_view_module": "@jupyter-widgets/base",
            "_model_module_version": "1.5.0",
            "_view_count": null,
            "_view_module_version": "1.2.0",
            "bar_color": null,
            "_model_module": "@jupyter-widgets/controls"
          }
        },
        "20ee9a1734294e5fa849b2c018e7115b": {
          "model_module": "@jupyter-widgets/base",
          "model_name": "LayoutModel",
          "state": {
            "_view_name": "LayoutView",
            "grid_template_rows": null,
            "right": null,
            "justify_content": null,
            "_view_module": "@jupyter-widgets/base",
            "overflow": null,
            "_model_module_version": "1.2.0",
            "_view_count": null,
            "flex_flow": null,
            "width": null,
            "min_width": null,
            "border": null,
            "align_items": null,
            "bottom": null,
            "_model_module": "@jupyter-widgets/base",
            "top": null,
            "grid_column": null,
            "overflow_y": null,
            "overflow_x": null,
            "grid_auto_flow": null,
            "grid_area": null,
            "grid_template_columns": null,
            "flex": null,
            "_model_name": "LayoutModel",
            "justify_items": null,
            "grid_row": null,
            "max_height": null,
            "align_content": null,
            "visibility": null,
            "align_self": null,
            "height": null,
            "min_height": null,
            "padding": null,
            "grid_auto_rows": null,
            "grid_gap": null,
            "max_width": null,
            "order": null,
            "_view_module_version": "1.2.0",
            "grid_template_areas": null,
            "object_position": null,
            "object_fit": null,
            "grid_auto_columns": null,
            "margin": null,
            "display": null,
            "left": null
          }
        },
        "32dd986fd5ba432096d254459bac41c2": {
          "model_module": "@jupyter-widgets/controls",
          "model_name": "DescriptionStyleModel",
          "state": {
            "_view_name": "StyleView",
            "_model_name": "DescriptionStyleModel",
            "description_width": "",
            "_view_module": "@jupyter-widgets/base",
            "_model_module_version": "1.5.0",
            "_view_count": null,
            "_view_module_version": "1.2.0",
            "_model_module": "@jupyter-widgets/controls"
          }
        },
        "84e373c987a2406db56cb4bfb19ef284": {
          "model_module": "@jupyter-widgets/base",
          "model_name": "LayoutModel",
          "state": {
            "_view_name": "LayoutView",
            "grid_template_rows": null,
            "right": null,
            "justify_content": null,
            "_view_module": "@jupyter-widgets/base",
            "overflow": null,
            "_model_module_version": "1.2.0",
            "_view_count": null,
            "flex_flow": null,
            "width": null,
            "min_width": null,
            "border": null,
            "align_items": null,
            "bottom": null,
            "_model_module": "@jupyter-widgets/base",
            "top": null,
            "grid_column": null,
            "overflow_y": null,
            "overflow_x": null,
            "grid_auto_flow": null,
            "grid_area": null,
            "grid_template_columns": null,
            "flex": null,
            "_model_name": "LayoutModel",
            "justify_items": null,
            "grid_row": null,
            "max_height": null,
            "align_content": null,
            "visibility": null,
            "align_self": null,
            "height": null,
            "min_height": null,
            "padding": null,
            "grid_auto_rows": null,
            "grid_gap": null,
            "max_width": null,
            "order": null,
            "_view_module_version": "1.2.0",
            "grid_template_areas": null,
            "object_position": null,
            "object_fit": null,
            "grid_auto_columns": null,
            "margin": null,
            "display": null,
            "left": null
          }
        },
        "c247788470bc412b8de183cb2e64300e": {
          "model_module": "@jupyter-widgets/controls",
          "model_name": "HBoxModel",
          "state": {
            "_view_name": "HBoxView",
            "_dom_classes": [],
            "_model_name": "HBoxModel",
            "_view_module": "@jupyter-widgets/controls",
            "_model_module_version": "1.5.0",
            "_view_count": null,
            "_view_module_version": "1.5.0",
            "box_style": "",
            "layout": "IPY_MODEL_bd7b1f3fb9dd43c783dd23e93caadb29",
            "_model_module": "@jupyter-widgets/controls",
            "children": [
              "IPY_MODEL_81456339f5ad4507a7d442f222b2771f",
              "IPY_MODEL_4d9b337b82604c0095900829371fbc85"
            ]
          }
        },
        "bd7b1f3fb9dd43c783dd23e93caadb29": {
          "model_module": "@jupyter-widgets/base",
          "model_name": "LayoutModel",
          "state": {
            "_view_name": "LayoutView",
            "grid_template_rows": null,
            "right": null,
            "justify_content": null,
            "_view_module": "@jupyter-widgets/base",
            "overflow": null,
            "_model_module_version": "1.2.0",
            "_view_count": null,
            "flex_flow": null,
            "width": null,
            "min_width": null,
            "border": null,
            "align_items": null,
            "bottom": null,
            "_model_module": "@jupyter-widgets/base",
            "top": null,
            "grid_column": null,
            "overflow_y": null,
            "overflow_x": null,
            "grid_auto_flow": null,
            "grid_area": null,
            "grid_template_columns": null,
            "flex": null,
            "_model_name": "LayoutModel",
            "justify_items": null,
            "grid_row": null,
            "max_height": null,
            "align_content": null,
            "visibility": null,
            "align_self": null,
            "height": null,
            "min_height": null,
            "padding": null,
            "grid_auto_rows": null,
            "grid_gap": null,
            "max_width": null,
            "order": null,
            "_view_module_version": "1.2.0",
            "grid_template_areas": null,
            "object_position": null,
            "object_fit": null,
            "grid_auto_columns": null,
            "margin": null,
            "display": null,
            "left": null
          }
        },
        "81456339f5ad4507a7d442f222b2771f": {
          "model_module": "@jupyter-widgets/controls",
          "model_name": "FloatProgressModel",
          "state": {
            "_view_name": "ProgressView",
            "style": "IPY_MODEL_c28c333a41394fa6a0d124273dc16bb3",
            "_dom_classes": [],
            "description": "100%",
            "_model_name": "FloatProgressModel",
            "bar_style": "success",
            "max": 45,
            "_view_module": "@jupyter-widgets/controls",
            "_model_module_version": "1.5.0",
            "value": 45,
            "_view_count": null,
            "_view_module_version": "1.5.0",
            "orientation": "horizontal",
            "min": 0,
            "description_tooltip": null,
            "_model_module": "@jupyter-widgets/controls",
            "layout": "IPY_MODEL_0a3793b1c1e446f1a1b26e5f162ed607"
          }
        },
        "4d9b337b82604c0095900829371fbc85": {
          "model_module": "@jupyter-widgets/controls",
          "model_name": "HTMLModel",
          "state": {
            "_view_name": "HTMLView",
            "style": "IPY_MODEL_3d90af29e7e746cbbd19c73355fd190e",
            "_dom_classes": [],
            "description": "",
            "_model_name": "HTMLModel",
            "placeholder": "​",
            "_view_module": "@jupyter-widgets/controls",
            "_model_module_version": "1.5.0",
            "value": " 45/45 [00:06&lt;00:00,  7.13it/s]",
            "_view_count": null,
            "_view_module_version": "1.5.0",
            "description_tooltip": null,
            "_model_module": "@jupyter-widgets/controls",
            "layout": "IPY_MODEL_cb70368c62584005949fe20b8f5e8266"
          }
        },
        "c28c333a41394fa6a0d124273dc16bb3": {
          "model_module": "@jupyter-widgets/controls",
          "model_name": "ProgressStyleModel",
          "state": {
            "_view_name": "StyleView",
            "_model_name": "ProgressStyleModel",
            "description_width": "initial",
            "_view_module": "@jupyter-widgets/base",
            "_model_module_version": "1.5.0",
            "_view_count": null,
            "_view_module_version": "1.2.0",
            "bar_color": null,
            "_model_module": "@jupyter-widgets/controls"
          }
        },
        "0a3793b1c1e446f1a1b26e5f162ed607": {
          "model_module": "@jupyter-widgets/base",
          "model_name": "LayoutModel",
          "state": {
            "_view_name": "LayoutView",
            "grid_template_rows": null,
            "right": null,
            "justify_content": null,
            "_view_module": "@jupyter-widgets/base",
            "overflow": null,
            "_model_module_version": "1.2.0",
            "_view_count": null,
            "flex_flow": null,
            "width": null,
            "min_width": null,
            "border": null,
            "align_items": null,
            "bottom": null,
            "_model_module": "@jupyter-widgets/base",
            "top": null,
            "grid_column": null,
            "overflow_y": null,
            "overflow_x": null,
            "grid_auto_flow": null,
            "grid_area": null,
            "grid_template_columns": null,
            "flex": null,
            "_model_name": "LayoutModel",
            "justify_items": null,
            "grid_row": null,
            "max_height": null,
            "align_content": null,
            "visibility": null,
            "align_self": null,
            "height": null,
            "min_height": null,
            "padding": null,
            "grid_auto_rows": null,
            "grid_gap": null,
            "max_width": null,
            "order": null,
            "_view_module_version": "1.2.0",
            "grid_template_areas": null,
            "object_position": null,
            "object_fit": null,
            "grid_auto_columns": null,
            "margin": null,
            "display": null,
            "left": null
          }
        },
        "3d90af29e7e746cbbd19c73355fd190e": {
          "model_module": "@jupyter-widgets/controls",
          "model_name": "DescriptionStyleModel",
          "state": {
            "_view_name": "StyleView",
            "_model_name": "DescriptionStyleModel",
            "description_width": "",
            "_view_module": "@jupyter-widgets/base",
            "_model_module_version": "1.5.0",
            "_view_count": null,
            "_view_module_version": "1.2.0",
            "_model_module": "@jupyter-widgets/controls"
          }
        },
        "cb70368c62584005949fe20b8f5e8266": {
          "model_module": "@jupyter-widgets/base",
          "model_name": "LayoutModel",
          "state": {
            "_view_name": "LayoutView",
            "grid_template_rows": null,
            "right": null,
            "justify_content": null,
            "_view_module": "@jupyter-widgets/base",
            "overflow": null,
            "_model_module_version": "1.2.0",
            "_view_count": null,
            "flex_flow": null,
            "width": null,
            "min_width": null,
            "border": null,
            "align_items": null,
            "bottom": null,
            "_model_module": "@jupyter-widgets/base",
            "top": null,
            "grid_column": null,
            "overflow_y": null,
            "overflow_x": null,
            "grid_auto_flow": null,
            "grid_area": null,
            "grid_template_columns": null,
            "flex": null,
            "_model_name": "LayoutModel",
            "justify_items": null,
            "grid_row": null,
            "max_height": null,
            "align_content": null,
            "visibility": null,
            "align_self": null,
            "height": null,
            "min_height": null,
            "padding": null,
            "grid_auto_rows": null,
            "grid_gap": null,
            "max_width": null,
            "order": null,
            "_view_module_version": "1.2.0",
            "grid_template_areas": null,
            "object_position": null,
            "object_fit": null,
            "grid_auto_columns": null,
            "margin": null,
            "display": null,
            "left": null
          }
        },
        "58f044e932bd4ecebb4ce5ec9c4bef76": {
          "model_module": "@jupyter-widgets/controls",
          "model_name": "HBoxModel",
          "state": {
            "_view_name": "HBoxView",
            "_dom_classes": [],
            "_model_name": "HBoxModel",
            "_view_module": "@jupyter-widgets/controls",
            "_model_module_version": "1.5.0",
            "_view_count": null,
            "_view_module_version": "1.5.0",
            "box_style": "",
            "layout": "IPY_MODEL_52ef40ca5a964b84bf07455ca20d2616",
            "_model_module": "@jupyter-widgets/controls",
            "children": [
              "IPY_MODEL_1e317d3c113b4cd38715ba211e0567bb",
              "IPY_MODEL_d6ba5ff63cf84af2a36410942669f674"
            ]
          }
        },
        "52ef40ca5a964b84bf07455ca20d2616": {
          "model_module": "@jupyter-widgets/base",
          "model_name": "LayoutModel",
          "state": {
            "_view_name": "LayoutView",
            "grid_template_rows": null,
            "right": null,
            "justify_content": null,
            "_view_module": "@jupyter-widgets/base",
            "overflow": null,
            "_model_module_version": "1.2.0",
            "_view_count": null,
            "flex_flow": null,
            "width": null,
            "min_width": null,
            "border": null,
            "align_items": null,
            "bottom": null,
            "_model_module": "@jupyter-widgets/base",
            "top": null,
            "grid_column": null,
            "overflow_y": null,
            "overflow_x": null,
            "grid_auto_flow": null,
            "grid_area": null,
            "grid_template_columns": null,
            "flex": null,
            "_model_name": "LayoutModel",
            "justify_items": null,
            "grid_row": null,
            "max_height": null,
            "align_content": null,
            "visibility": null,
            "align_self": null,
            "height": null,
            "min_height": null,
            "padding": null,
            "grid_auto_rows": null,
            "grid_gap": null,
            "max_width": null,
            "order": null,
            "_view_module_version": "1.2.0",
            "grid_template_areas": null,
            "object_position": null,
            "object_fit": null,
            "grid_auto_columns": null,
            "margin": null,
            "display": null,
            "left": null
          }
        },
        "1e317d3c113b4cd38715ba211e0567bb": {
          "model_module": "@jupyter-widgets/controls",
          "model_name": "FloatProgressModel",
          "state": {
            "_view_name": "ProgressView",
            "style": "IPY_MODEL_89de468097624171a3c9b7dc37df403a",
            "_dom_classes": [],
            "description": "100%",
            "_model_name": "FloatProgressModel",
            "bar_style": "success",
            "max": 1,
            "_view_module": "@jupyter-widgets/controls",
            "_model_module_version": "1.5.0",
            "value": 1,
            "_view_count": null,
            "_view_module_version": "1.5.0",
            "orientation": "horizontal",
            "min": 0,
            "description_tooltip": null,
            "_model_module": "@jupyter-widgets/controls",
            "layout": "IPY_MODEL_487c0c1b2696471582627da619430f41"
          }
        },
        "d6ba5ff63cf84af2a36410942669f674": {
          "model_module": "@jupyter-widgets/controls",
          "model_name": "HTMLModel",
          "state": {
            "_view_name": "HTMLView",
            "style": "IPY_MODEL_c4d268efe402465188b474fd1f2539ca",
            "_dom_classes": [],
            "description": "",
            "_model_name": "HTMLModel",
            "placeholder": "​",
            "_view_module": "@jupyter-widgets/controls",
            "_model_module_version": "1.5.0",
            "value": " 1/1 [00:00&lt;00:00,  4.73it/s]",
            "_view_count": null,
            "_view_module_version": "1.5.0",
            "description_tooltip": null,
            "_model_module": "@jupyter-widgets/controls",
            "layout": "IPY_MODEL_f05359da37eb44beacdb4146c2b8203f"
          }
        },
        "89de468097624171a3c9b7dc37df403a": {
          "model_module": "@jupyter-widgets/controls",
          "model_name": "ProgressStyleModel",
          "state": {
            "_view_name": "StyleView",
            "_model_name": "ProgressStyleModel",
            "description_width": "initial",
            "_view_module": "@jupyter-widgets/base",
            "_model_module_version": "1.5.0",
            "_view_count": null,
            "_view_module_version": "1.2.0",
            "bar_color": null,
            "_model_module": "@jupyter-widgets/controls"
          }
        },
        "487c0c1b2696471582627da619430f41": {
          "model_module": "@jupyter-widgets/base",
          "model_name": "LayoutModel",
          "state": {
            "_view_name": "LayoutView",
            "grid_template_rows": null,
            "right": null,
            "justify_content": null,
            "_view_module": "@jupyter-widgets/base",
            "overflow": null,
            "_model_module_version": "1.2.0",
            "_view_count": null,
            "flex_flow": null,
            "width": null,
            "min_width": null,
            "border": null,
            "align_items": null,
            "bottom": null,
            "_model_module": "@jupyter-widgets/base",
            "top": null,
            "grid_column": null,
            "overflow_y": null,
            "overflow_x": null,
            "grid_auto_flow": null,
            "grid_area": null,
            "grid_template_columns": null,
            "flex": null,
            "_model_name": "LayoutModel",
            "justify_items": null,
            "grid_row": null,
            "max_height": null,
            "align_content": null,
            "visibility": null,
            "align_self": null,
            "height": null,
            "min_height": null,
            "padding": null,
            "grid_auto_rows": null,
            "grid_gap": null,
            "max_width": null,
            "order": null,
            "_view_module_version": "1.2.0",
            "grid_template_areas": null,
            "object_position": null,
            "object_fit": null,
            "grid_auto_columns": null,
            "margin": null,
            "display": null,
            "left": null
          }
        },
        "c4d268efe402465188b474fd1f2539ca": {
          "model_module": "@jupyter-widgets/controls",
          "model_name": "DescriptionStyleModel",
          "state": {
            "_view_name": "StyleView",
            "_model_name": "DescriptionStyleModel",
            "description_width": "",
            "_view_module": "@jupyter-widgets/base",
            "_model_module_version": "1.5.0",
            "_view_count": null,
            "_view_module_version": "1.2.0",
            "_model_module": "@jupyter-widgets/controls"
          }
        },
        "f05359da37eb44beacdb4146c2b8203f": {
          "model_module": "@jupyter-widgets/base",
          "model_name": "LayoutModel",
          "state": {
            "_view_name": "LayoutView",
            "grid_template_rows": null,
            "right": null,
            "justify_content": null,
            "_view_module": "@jupyter-widgets/base",
            "overflow": null,
            "_model_module_version": "1.2.0",
            "_view_count": null,
            "flex_flow": null,
            "width": null,
            "min_width": null,
            "border": null,
            "align_items": null,
            "bottom": null,
            "_model_module": "@jupyter-widgets/base",
            "top": null,
            "grid_column": null,
            "overflow_y": null,
            "overflow_x": null,
            "grid_auto_flow": null,
            "grid_area": null,
            "grid_template_columns": null,
            "flex": null,
            "_model_name": "LayoutModel",
            "justify_items": null,
            "grid_row": null,
            "max_height": null,
            "align_content": null,
            "visibility": null,
            "align_self": null,
            "height": null,
            "min_height": null,
            "padding": null,
            "grid_auto_rows": null,
            "grid_gap": null,
            "max_width": null,
            "order": null,
            "_view_module_version": "1.2.0",
            "grid_template_areas": null,
            "object_position": null,
            "object_fit": null,
            "grid_auto_columns": null,
            "margin": null,
            "display": null,
            "left": null
          }
        },
        "bd285b80eb8b4c1293517ae452486f74": {
          "model_module": "@jupyter-widgets/controls",
          "model_name": "HBoxModel",
          "state": {
            "_view_name": "HBoxView",
            "_dom_classes": [],
            "_model_name": "HBoxModel",
            "_view_module": "@jupyter-widgets/controls",
            "_model_module_version": "1.5.0",
            "_view_count": null,
            "_view_module_version": "1.5.0",
            "box_style": "",
            "layout": "IPY_MODEL_c289cea910bc4027add501bdfab1f639",
            "_model_module": "@jupyter-widgets/controls",
            "children": [
              "IPY_MODEL_ae24ab3dd8b645798c2837b0d2765cf7",
              "IPY_MODEL_cb842e82a089447283612d9a6b2d4cdc"
            ]
          }
        },
        "c289cea910bc4027add501bdfab1f639": {
          "model_module": "@jupyter-widgets/base",
          "model_name": "LayoutModel",
          "state": {
            "_view_name": "LayoutView",
            "grid_template_rows": null,
            "right": null,
            "justify_content": null,
            "_view_module": "@jupyter-widgets/base",
            "overflow": null,
            "_model_module_version": "1.2.0",
            "_view_count": null,
            "flex_flow": null,
            "width": null,
            "min_width": null,
            "border": null,
            "align_items": null,
            "bottom": null,
            "_model_module": "@jupyter-widgets/base",
            "top": null,
            "grid_column": null,
            "overflow_y": null,
            "overflow_x": null,
            "grid_auto_flow": null,
            "grid_area": null,
            "grid_template_columns": null,
            "flex": null,
            "_model_name": "LayoutModel",
            "justify_items": null,
            "grid_row": null,
            "max_height": null,
            "align_content": null,
            "visibility": null,
            "align_self": null,
            "height": null,
            "min_height": null,
            "padding": null,
            "grid_auto_rows": null,
            "grid_gap": null,
            "max_width": null,
            "order": null,
            "_view_module_version": "1.2.0",
            "grid_template_areas": null,
            "object_position": null,
            "object_fit": null,
            "grid_auto_columns": null,
            "margin": null,
            "display": null,
            "left": null
          }
        },
        "ae24ab3dd8b645798c2837b0d2765cf7": {
          "model_module": "@jupyter-widgets/controls",
          "model_name": "FloatProgressModel",
          "state": {
            "_view_name": "ProgressView",
            "style": "IPY_MODEL_d6e85d0508804413a5e492ec336fb37a",
            "_dom_classes": [],
            "description": "100%",
            "_model_name": "FloatProgressModel",
            "bar_style": "success",
            "max": 1,
            "_view_module": "@jupyter-widgets/controls",
            "_model_module_version": "1.5.0",
            "value": 1,
            "_view_count": null,
            "_view_module_version": "1.5.0",
            "orientation": "horizontal",
            "min": 0,
            "description_tooltip": null,
            "_model_module": "@jupyter-widgets/controls",
            "layout": "IPY_MODEL_f25b743da3264586a8a78c7006c5d5f4"
          }
        },
        "cb842e82a089447283612d9a6b2d4cdc": {
          "model_module": "@jupyter-widgets/controls",
          "model_name": "HTMLModel",
          "state": {
            "_view_name": "HTMLView",
            "style": "IPY_MODEL_48e0c209efef4307b21b25b72a98296f",
            "_dom_classes": [],
            "description": "",
            "_model_name": "HTMLModel",
            "placeholder": "​",
            "_view_module": "@jupyter-widgets/controls",
            "_model_module_version": "1.5.0",
            "value": " 1/1 [00:00&lt;00:00, 26.75it/s]",
            "_view_count": null,
            "_view_module_version": "1.5.0",
            "description_tooltip": null,
            "_model_module": "@jupyter-widgets/controls",
            "layout": "IPY_MODEL_dd55f3cae0784a40a3a515639b1f9562"
          }
        },
        "d6e85d0508804413a5e492ec336fb37a": {
          "model_module": "@jupyter-widgets/controls",
          "model_name": "ProgressStyleModel",
          "state": {
            "_view_name": "StyleView",
            "_model_name": "ProgressStyleModel",
            "description_width": "initial",
            "_view_module": "@jupyter-widgets/base",
            "_model_module_version": "1.5.0",
            "_view_count": null,
            "_view_module_version": "1.2.0",
            "bar_color": null,
            "_model_module": "@jupyter-widgets/controls"
          }
        },
        "f25b743da3264586a8a78c7006c5d5f4": {
          "model_module": "@jupyter-widgets/base",
          "model_name": "LayoutModel",
          "state": {
            "_view_name": "LayoutView",
            "grid_template_rows": null,
            "right": null,
            "justify_content": null,
            "_view_module": "@jupyter-widgets/base",
            "overflow": null,
            "_model_module_version": "1.2.0",
            "_view_count": null,
            "flex_flow": null,
            "width": null,
            "min_width": null,
            "border": null,
            "align_items": null,
            "bottom": null,
            "_model_module": "@jupyter-widgets/base",
            "top": null,
            "grid_column": null,
            "overflow_y": null,
            "overflow_x": null,
            "grid_auto_flow": null,
            "grid_area": null,
            "grid_template_columns": null,
            "flex": null,
            "_model_name": "LayoutModel",
            "justify_items": null,
            "grid_row": null,
            "max_height": null,
            "align_content": null,
            "visibility": null,
            "align_self": null,
            "height": null,
            "min_height": null,
            "padding": null,
            "grid_auto_rows": null,
            "grid_gap": null,
            "max_width": null,
            "order": null,
            "_view_module_version": "1.2.0",
            "grid_template_areas": null,
            "object_position": null,
            "object_fit": null,
            "grid_auto_columns": null,
            "margin": null,
            "display": null,
            "left": null
          }
        },
        "48e0c209efef4307b21b25b72a98296f": {
          "model_module": "@jupyter-widgets/controls",
          "model_name": "DescriptionStyleModel",
          "state": {
            "_view_name": "StyleView",
            "_model_name": "DescriptionStyleModel",
            "description_width": "",
            "_view_module": "@jupyter-widgets/base",
            "_model_module_version": "1.5.0",
            "_view_count": null,
            "_view_module_version": "1.2.0",
            "_model_module": "@jupyter-widgets/controls"
          }
        },
        "dd55f3cae0784a40a3a515639b1f9562": {
          "model_module": "@jupyter-widgets/base",
          "model_name": "LayoutModel",
          "state": {
            "_view_name": "LayoutView",
            "grid_template_rows": null,
            "right": null,
            "justify_content": null,
            "_view_module": "@jupyter-widgets/base",
            "overflow": null,
            "_model_module_version": "1.2.0",
            "_view_count": null,
            "flex_flow": null,
            "width": null,
            "min_width": null,
            "border": null,
            "align_items": null,
            "bottom": null,
            "_model_module": "@jupyter-widgets/base",
            "top": null,
            "grid_column": null,
            "overflow_y": null,
            "overflow_x": null,
            "grid_auto_flow": null,
            "grid_area": null,
            "grid_template_columns": null,
            "flex": null,
            "_model_name": "LayoutModel",
            "justify_items": null,
            "grid_row": null,
            "max_height": null,
            "align_content": null,
            "visibility": null,
            "align_self": null,
            "height": null,
            "min_height": null,
            "padding": null,
            "grid_auto_rows": null,
            "grid_gap": null,
            "max_width": null,
            "order": null,
            "_view_module_version": "1.2.0",
            "grid_template_areas": null,
            "object_position": null,
            "object_fit": null,
            "grid_auto_columns": null,
            "margin": null,
            "display": null,
            "left": null
          }
        }
      }
    }
  },
  "cells": [
    {
      "cell_type": "markdown",
      "metadata": {
        "id": "view-in-github",
        "colab_type": "text"
      },
      "source": [
        "<a href=\"https://colab.research.google.com/github/juanknebel/text-mining-2020/blob/master/Contextualized_embeddings.ipynb\" target=\"_parent\"><img src=\"https://colab.research.google.com/assets/colab-badge.svg\" alt=\"Open In Colab\"/></a>"
      ]
    },
    {
      "cell_type": "code",
      "metadata": {
        "id": "KZdaYW6P0a0v",
        "colab_type": "code",
        "cellView": "form",
        "colab": {}
      },
      "source": [
        "#@title Instalar dependencias e importarlas\n",
        "!pip install transformers\n",
        "!pip install simpletransformers\n",
        "import torch\n",
        "import transformers\n",
        "import sys\n",
        "import seaborn as sns\n",
        "import numpy as np\n",
        "import pandas as pd\n",
        "import tqdm\n",
        "\n",
        "from simpletransformers.classification import ClassificationModel\n",
        "\n",
        "#!git clone https://github.com/NVIDIA/apex\n",
        "#%cd apex\n",
        "#!pip uninstall apex # repeat until you're sure it's gone\n",
        "#!pip install -v --no-cache-dir --global-option=\"--cpp_ext\" --global-option=\"--cuda_ext\" ./\n",
        "#%cd .."
      ],
      "execution_count": 0,
      "outputs": []
    },
    {
      "cell_type": "markdown",
      "metadata": {
        "id": "xqX1rX4z4R_S",
        "colab_type": "text"
      },
      "source": [
        "Primero vamos a observar como tokeniza BERT los textos de entrada. Recordemos que usa WordPieces, por ende, puede representar palabras como una secuencia de sub-palabras:"
      ]
    },
    {
      "cell_type": "code",
      "metadata": {
        "id": "aDbe83DR2hTx",
        "colab_type": "code",
        "outputId": "14b7d73c-8cee-4010-8a80-0cbc2474a27d",
        "colab": {
          "base_uri": "https://localhost:8080/",
          "height": 102,
          "referenced_widgets": [
            "f6ad284ea64e40e593d5bf8e11a2183c",
            "eccc654aebcb4c049fe8614313e586d2",
            "802109f0879943378c92e07c1e3c2b86",
            "8dd13556ddd340f6a0db9469934ef540",
            "989c1dc45eaa48a793a444d9f3bbdfe1",
            "9577b427aa10453f8a5a20c1379e223d",
            "774bde1e44214f8c87200178cec8035a",
            "66bc5a2248bb424ea912b037a48a3b0e"
          ]
        }
      },
      "source": [
        "tokenizer = transformers.BertTokenizer.from_pretrained('bert-base-uncased')\n",
        "test_text = \"BERT is a pretrained language model that achieves state of the art results in many natural language processing tasks\"\n",
        "tokenized_text = tokenizer.tokenize(test_text)\n",
        "print(tokenized_text)"
      ],
      "execution_count": 0,
      "outputs": [
        {
          "output_type": "display_data",
          "data": {
            "application/vnd.jupyter.widget-view+json": {
              "model_id": "f6ad284ea64e40e593d5bf8e11a2183c",
              "version_minor": 0,
              "version_major": 2
            },
            "text/plain": [
              "HBox(children=(FloatProgress(value=0.0, description='Downloading', max=231508.0, style=ProgressStyle(descripti…"
            ]
          },
          "metadata": {
            "tags": []
          }
        },
        {
          "output_type": "stream",
          "text": [
            "\n",
            "['bert', 'is', 'a', 'pre', '##train', '##ed', 'language', 'model', 'that', 'achieve', '##s', 'state', 'of', 'the', 'art', 'results', 'in', 'many', 'natural', 'language', 'processing', 'tasks']\n"
          ],
          "name": "stdout"
        }
      ]
    },
    {
      "cell_type": "markdown",
      "metadata": {
        "id": "NFilzwJINKrF",
        "colab_type": "text"
      },
      "source": [
        "Efectivamente \"pretrained\" fue descompuesto en 3 sub-palabras: \"pre\", \"train\" y \"ed\", lo cual tiene mucho sentido. Del mismo modo, \"achieves\" fue descompuesto en \"achieve\" y \"s\".\n",
        "\n",
        "A su vez, debemos manejar los tokens especiales de BERT ([CLS], [SEP] y [MASK]):"
      ]
    },
    {
      "cell_type": "code",
      "metadata": {
        "id": "_9lF4USrTivZ",
        "colab_type": "code",
        "colab": {}
      },
      "source": [
        "def encode_bert_sentence(sentence, tokenizer):\n",
        "  if '[MASK]' in sentence:\n",
        "    unmasked_subsentences = sentence.split('[MASK]')\n",
        "    unmasked_tokens = []\n",
        "    for subsentence in unmasked_subsentences:\n",
        "      unmasked_tokens = unmasked_tokens + tokenizer.tokenize(subsentence) + ['[MASK]']\n",
        "    unmasked_tokens.pop(-1)\n",
        "  else:\n",
        "    unmasked_tokens = tokenizer.tokenize(sentence)\n",
        "\n",
        "  return unmasked_tokens\n",
        "\n",
        "def prepare_bert_input_tokens(text, tokenizer):\n",
        "  sentence_tokens = []\n",
        "  sentences = text.split('[SEP]')\n",
        "  for sentence in sentences:\n",
        "    if sentence != '':\n",
        "      encoded_sentence = encode_bert_sentence(sentence, tokenizer)\n",
        "      sentence_tokens = sentence_tokens + encoded_sentence + ['[SEP]']\n",
        "  sentence_tokens.insert(0,'[CLS]')\n",
        "  return sentence_tokens"
      ],
      "execution_count": 0,
      "outputs": []
    },
    {
      "cell_type": "code",
      "metadata": {
        "id": "U8QHbdy0WBGh",
        "colab_type": "code",
        "outputId": "a831d4af-79dd-4615-cac5-9497d55d6917",
        "colab": {
          "base_uri": "https://localhost:8080/",
          "height": 54
        }
      },
      "source": [
        "tokenized_test_text = prepare_bert_input_tokens(test_text, tokenizer)\n",
        "print(tokenized_test_text)"
      ],
      "execution_count": 0,
      "outputs": [
        {
          "output_type": "stream",
          "text": [
            "['[CLS]', 'bert', 'is', 'a', 'pre', '##train', '##ed', 'language', 'model', 'that', 'achieve', '##s', 'state', 'of', 'the', 'art', 'results', 'in', 'many', 'natural', 'language', 'processing', 'tasks', '[SEP]']\n"
          ],
          "name": "stdout"
        }
      ]
    },
    {
      "cell_type": "markdown",
      "metadata": {
        "id": "-LG9-opL4qqA",
        "colab_type": "text"
      },
      "source": [
        "A continuación vamos a jugar con BERT de varias maneras:\n",
        "\n"
      ]
    },
    {
      "cell_type": "markdown",
      "metadata": {
        "id": "g1x_NIJK5vnm",
        "colab_type": "text"
      },
      "source": [
        "# Modelo de lenguaje enmascarado\n",
        "\n",
        "Lo primero que vamos a hacer es testear a BERT en una de las tareas con las que fue entrenado de manera no supervisada: predecir la palabra enmascarada (con el token [MASK]).\n",
        "\n",
        "Primero enmascaramos la palabra \"language\""
      ]
    },
    {
      "cell_type": "code",
      "metadata": {
        "id": "A9OGG-wt2tT-",
        "colab_type": "code",
        "outputId": "77e04e43-997d-4bef-a36b-095bdb47f1c0",
        "colab": {
          "base_uri": "https://localhost:8080/",
          "height": 54
        }
      },
      "source": [
        "masked_index = 7\n",
        "tokenized_test_text[masked_index] = '[MASK]'\n",
        "print(tokenized_test_text)"
      ],
      "execution_count": 0,
      "outputs": [
        {
          "output_type": "stream",
          "text": [
            "['[CLS]', 'bert', 'is', 'a', 'pre', '##train', '##ed', '[MASK]', 'model', 'that', 'achieve', '##s', 'state', 'of', 'the', 'art', 'results', 'in', 'many', 'natural', 'language', 'processing', 'tasks', '[SEP]']\n"
          ],
          "name": "stdout"
        }
      ]
    },
    {
      "cell_type": "markdown",
      "metadata": {
        "id": "hpNYWBh368Js",
        "colab_type": "text"
      },
      "source": [
        "Ahora tenemos que codificar cada token. Podemos ver cada palabra que id tiene accediendo al diccionario vocab del tokenizer:"
      ]
    },
    {
      "cell_type": "code",
      "metadata": {
        "id": "bkjk1xSl7KfF",
        "colab_type": "code",
        "outputId": "d9ac8533-ba07-4352-d065-6481c8de12b1",
        "colab": {
          "base_uri": "https://localhost:8080/",
          "height": 34
        }
      },
      "source": [
        "tokenizer.vocab['art']"
      ],
      "execution_count": 0,
      "outputs": [
        {
          "output_type": "execute_result",
          "data": {
            "text/plain": [
              "2396"
            ]
          },
          "metadata": {
            "tags": []
          },
          "execution_count": 6
        }
      ]
    },
    {
      "cell_type": "markdown",
      "metadata": {
        "id": "VuiPaBKX8EUH",
        "colab_type": "text"
      },
      "source": [
        "Luego podemos encodear la frase completa."
      ]
    },
    {
      "cell_type": "code",
      "metadata": {
        "id": "cls7ddzO2mEl",
        "colab_type": "code",
        "outputId": "32d6e673-5a4f-45b3-91ed-c9edbf8d2fc5",
        "colab": {
          "base_uri": "https://localhost:8080/",
          "height": 54
        }
      },
      "source": [
        "indexed_tokens = tokenizer.convert_tokens_to_ids(tokenized_test_text)\n",
        "print(indexed_tokens)"
      ],
      "execution_count": 0,
      "outputs": [
        {
          "output_type": "stream",
          "text": [
            "[101, 14324, 2003, 1037, 3653, 23654, 2098, 103, 2944, 2008, 6162, 2015, 2110, 1997, 1996, 2396, 3463, 1999, 2116, 3019, 2653, 6364, 8518, 102]\n"
          ],
          "name": "stdout"
        }
      ]
    },
    {
      "cell_type": "markdown",
      "metadata": {
        "id": "13iPXwpd8TO2",
        "colab_type": "text"
      },
      "source": [
        "A su vez, recordemos que BERT también aprende sentence embeddings de entrada, los cuales se suman al embedding posicional y al embedding de cada palabra, por ende debemos armar un vector que indique para cada palabra si pertenece a la primer oración o a la segunda."
      ]
    },
    {
      "cell_type": "code",
      "metadata": {
        "id": "b18WRvpS2u66",
        "colab_type": "code",
        "outputId": "7703add5-aa34-4437-98cb-cc9e0028bd50",
        "colab": {
          "base_uri": "https://localhost:8080/",
          "height": 34
        }
      },
      "source": [
        "def get_sentence_ids(tokens):\n",
        "  if \"[SEP]\" in tokens:\n",
        "    sep_idxs = [i for i,token in enumerate(tokens) if token == \"[SEP]\"]\n",
        "    sentence_ids = [0,]*(sep_idxs[0]+1) + [1,]*(len(tokens)-(sep_idxs[0]+1))\n",
        "  else:\n",
        "    sentence_ids = [0,]*len(tokens)\n",
        "\n",
        "  return sentence_ids\n",
        "\n",
        "sentence_ids = get_sentence_ids(tokenized_test_text)\n",
        "print(sentence_ids)"
      ],
      "execution_count": 0,
      "outputs": [
        {
          "output_type": "stream",
          "text": [
            "[0, 0, 0, 0, 0, 0, 0, 0, 0, 0, 0, 0, 0, 0, 0, 0, 0, 0, 0, 0, 0, 0, 0, 0]\n"
          ],
          "name": "stdout"
        }
      ]
    },
    {
      "cell_type": "markdown",
      "metadata": {
        "id": "N1T4wLjKBEsj",
        "colab_type": "text"
      },
      "source": [
        "Armamos tensores de PyTorch"
      ]
    },
    {
      "cell_type": "code",
      "metadata": {
        "id": "DnYRVrhx6jP3",
        "colab_type": "code",
        "colab": {}
      },
      "source": [
        "tokens_tensor = torch.tensor([indexed_tokens])\n",
        "segments_tensors = torch.tensor([sentence_ids])"
      ],
      "execution_count": 0,
      "outputs": []
    },
    {
      "cell_type": "markdown",
      "metadata": {
        "id": "Zq5rFQM9By0O",
        "colab_type": "text"
      },
      "source": [
        "Abrimos el modelo de lenguaje enmascarado:"
      ]
    },
    {
      "cell_type": "code",
      "metadata": {
        "id": "jXEuvKK__Ls6",
        "colab_type": "code",
        "outputId": "bb3cc0c5-8d67-48b9-a6f7-3d11d44d2fe5",
        "colab": {
          "base_uri": "https://localhost:8080/",
          "height": 114,
          "referenced_widgets": [
            "ba37b44aa89a48eda8e94d6135c13515",
            "b9804d0e88964fe9a93b645c9d19e455",
            "cff39183358342ed8dd0d41af16300f5",
            "54529d9cc02d4b3a82e7b9179fe3ae3a",
            "bea3e764db0f44af9672ad7ad8bb1c55",
            "745f1f9a75254fffb46fb75a0994db03",
            "6fe246f6cb03442c80190be5a0a70a1d",
            "d52a84c6502c443097fde84d99cc239e",
            "845b1101d46f4b97ba73bf624510ea8f",
            "bc227e60d397404f9eb8de5d4000d021",
            "bae2e6da691d4b3ca4e1b2610dd93d22",
            "5d402efabefd49c8829fb43069d448ea",
            "c18903fdc9004efbb147ccf5653c58d5",
            "0f067f11bcae4b79b8b46c83c066c5cc",
            "28e5c57a72764bbbb4dd7743b7436397",
            "0a71c252542047f29884262eb45e3b09"
          ]
        }
      },
      "source": [
        "# Load pre-trained model (weights)\n",
        "masked_model = transformers.BertForMaskedLM.from_pretrained('bert-base-uncased',output_attentions=True)\n",
        "masked_model.eval()\n",
        "\n",
        "# If you have a GPU, put everything on cuda\n",
        "tokens_tensor = tokens_tensor.to('cuda')\n",
        "segments_tensors = segments_tensors.to('cuda')\n",
        "masked_model.to('cuda')\n",
        "\n",
        "# Predict all tokens\n",
        "with torch.no_grad():\n",
        "    predictions = masked_model(tokens_tensor, segments_tensors)"
      ],
      "execution_count": 0,
      "outputs": [
        {
          "output_type": "display_data",
          "data": {
            "application/vnd.jupyter.widget-view+json": {
              "model_id": "ba37b44aa89a48eda8e94d6135c13515",
              "version_minor": 0,
              "version_major": 2
            },
            "text/plain": [
              "HBox(children=(FloatProgress(value=0.0, description='Downloading', max=433.0, style=ProgressStyle(description_…"
            ]
          },
          "metadata": {
            "tags": []
          }
        },
        {
          "output_type": "stream",
          "text": [
            "\n"
          ],
          "name": "stdout"
        },
        {
          "output_type": "display_data",
          "data": {
            "application/vnd.jupyter.widget-view+json": {
              "model_id": "845b1101d46f4b97ba73bf624510ea8f",
              "version_minor": 0,
              "version_major": 2
            },
            "text/plain": [
              "HBox(children=(FloatProgress(value=0.0, description='Downloading', max=440473133.0, style=ProgressStyle(descri…"
            ]
          },
          "metadata": {
            "tags": []
          }
        },
        {
          "output_type": "stream",
          "text": [
            "\n"
          ],
          "name": "stdout"
        }
      ]
    },
    {
      "cell_type": "markdown",
      "metadata": {
        "id": "YvQyXObbFdq8",
        "colab_type": "text"
      },
      "source": [
        "Lo que obtuvimos (prediction) es una tupla (logits,pesos de atencion). Ahora vamos a ver para el índice que enmascaramos cuáles son las palabras más probables según el modelo de lenguaje enmascarado de BERT."
      ]
    },
    {
      "cell_type": "code",
      "metadata": {
        "id": "zn3LrxKXADiy",
        "colab_type": "code",
        "outputId": "2a2d06de-9654-4fe2-a846-c51399c2c212",
        "colab": {
          "base_uri": "https://localhost:8080/",
          "height": 185
        }
      },
      "source": [
        "v, k = predictions[0][0,masked_index,:].topk(10)\n",
        "predicted_tokens = tokenizer.convert_ids_to_tokens(k.flatten().tolist())\n",
        "predicted_tokens"
      ],
      "execution_count": 0,
      "outputs": [
        {
          "output_type": "execute_result",
          "data": {
            "text/plain": [
              "['learning',\n",
              " 'language',\n",
              " 'cognitive',\n",
              " 'programming',\n",
              " 'ai',\n",
              " 'computational',\n",
              " 'computer',\n",
              " 'software',\n",
              " 'linguistic',\n",
              " 'mathematical']"
            ]
          },
          "metadata": {
            "tags": []
          },
          "execution_count": 11
        }
      ]
    },
    {
      "cell_type": "markdown",
      "metadata": {
        "id": "MnxWNCXnGbjV",
        "colab_type": "text"
      },
      "source": [
        "Bastante bien! \"Language\" aparece segundo, y las demás palabras tienen sentido en el contexto. Sobre todo teniendo en cuenta que el corpus con el que se entrenó BERT no tenía a la BERT asociada al modelo de lenguaje sino que al personaje de plaza sésamo. Entonces podríamos hacer un pequeño experimento:\n"
      ]
    },
    {
      "cell_type": "code",
      "metadata": {
        "id": "lYmeL8jeCtC8",
        "colab_type": "code",
        "colab": {}
      },
      "source": [
        "def bert_predict(text,tokenizer,model):\n",
        "  tokenized_text = prepare_bert_input_tokens(text, tokenizer)\n",
        "  if '[MASK]' in tokenized_text:\n",
        "    mask_idx = tokenized_text.index('[MASK]')\n",
        "  \n",
        "  indexed_tokens = tokenizer.convert_tokens_to_ids(tokenized_text)\n",
        "  sentence_ids = get_sentence_ids(tokenized_text)\n",
        "\n",
        "  tokens_tensor = torch.tensor([indexed_tokens])\n",
        "  segments_tensors = torch.tensor([sentence_ids])\n",
        "\n",
        "  model.eval()\n",
        "\n",
        "  tokens_tensor = tokens_tensor.to('cuda')\n",
        "  segments_tensors = segments_tensors.to('cuda')\n",
        "\n",
        "  model.to('cuda')\n",
        "\n",
        "  with torch.no_grad():\n",
        "    predictions = model(tokens_tensor)\n",
        "\n",
        "  return predictions, tokenized_text\n",
        "\n",
        "def get_top_bert_predictions(text,tokenizer,model,top_k=10):\n",
        "\n",
        "  predictions, tokenized_text = bert_predict(text,tokenizer,model)\n",
        "\n",
        "  if '[MASK]' in tokenized_text:\n",
        "    mask_idx = tokenized_text.index('[MASK]')\n",
        "    v, k = predictions[0][0,mask_idx,:].topk(top_k)\n",
        "    predicted_tokens = tokenizer.convert_ids_to_tokens(k.flatten().tolist())\n",
        "  else:\n",
        "    predicted_tokens = None\n",
        "\n",
        "  return tokenized_text,predicted_tokens,predictions\n"
      ],
      "execution_count": 0,
      "outputs": []
    },
    {
      "cell_type": "code",
      "metadata": {
        "id": "DIDXC9E1DYiB",
        "colab_type": "code",
        "outputId": "7fe5e237-c0f5-4667-a0b8-b39afbef7445",
        "colab": {
          "base_uri": "https://localhost:8080/",
          "height": 185
        }
      },
      "source": [
        "new_text = \"Word2vec is a pretrained [MASK] model that achieves state of the art results in many natural language processing tasks\"\n",
        "tokenized_text,predicted,predictions = get_top_bert_predictions(new_text,tokenizer,masked_model)\n",
        "predicted"
      ],
      "execution_count": 0,
      "outputs": [
        {
          "output_type": "execute_result",
          "data": {
            "text/plain": [
              "['language',\n",
              " 'learning',\n",
              " 'programming',\n",
              " 'computer',\n",
              " 'linguistic',\n",
              " 'cognitive',\n",
              " 'software',\n",
              " 'communication',\n",
              " 'neural',\n",
              " 'computational']"
            ]
          },
          "metadata": {
            "tags": []
          },
          "execution_count": 13
        }
      ]
    },
    {
      "cell_type": "markdown",
      "metadata": {
        "id": "x83PCrn-I9Cq",
        "colab_type": "text"
      },
      "source": [
        "Efectivamente, Word2VEC estaba dentro del corpus usado para entrenar a BERT, y este gigantesco modelo pudo incorporar el conocimiento de que es un modelo de lenguaje (todo esto es una hipótesis muy dificil de probar :p)\n",
        "\n",
        "¿Qué más podemos hacer con BERT?"
      ]
    },
    {
      "cell_type": "code",
      "metadata": {
        "id": "BODEQkC6TYZT",
        "colab_type": "code",
        "cellView": "both",
        "outputId": "683da1c7-2f56-4933-efff-619c34a13b0d",
        "colab": {
          "base_uri": "https://localhost:8080/",
          "height": 318
        }
      },
      "source": [
        "#@title Visualización de los pesos de atención\n",
        "\n",
        "text = \"Hinton is the god of deep learning [SEP] His research enabled the training of very large neural networks\" #@param {type:\"string\"}\n",
        "attention_head = 2 #@param {type:\"slider\", min:1, max:12, step:1}\n",
        "layer = 1 #@param {type:\"slider\", min:1, max:12, step:1}\n",
        "\n",
        "tokenized_text,_,predictions = get_top_bert_predictions(text,tokenizer,masked_model)\n",
        "\n",
        "attention_head = predictions[1][layer-1][0,attention_head-1,:,:].cpu().numpy()\n",
        "sns.heatmap(attention_head,xticklabels=tokenized_text,yticklabels=tokenized_text)\n"
      ],
      "execution_count": 0,
      "outputs": [
        {
          "output_type": "execute_result",
          "data": {
            "text/plain": [
              "<matplotlib.axes._subplots.AxesSubplot at 0x7f499cc18898>"
            ]
          },
          "metadata": {
            "tags": []
          },
          "execution_count": 30
        },
        {
          "output_type": "display_data",
          "data": {
            "image/png": "[encoded data removed]",
            "text/plain": [
              "<Figure size 432x288 with 2 Axes>"
            ]
          },
          "metadata": {
            "tags": [],
            "needs_background": "light"
          }
        }
      ]
    },
    {
      "cell_type": "markdown",
      "metadata": {
        "id": "4iaGRRuzkWoU",
        "colab_type": "text"
      },
      "source": [
        "Se puede ver que cada cabeza de atención capta distintas relaciones. Algunas aprenden patrones en diagonal (se prestan atención a si mismas y no contextualizan. Otras toman diagonales con algunos elementos cercanos (contextos cortos). Otras aprenden coreferencias. La que está ploteada es interesante: \"neural\" es asociado a \"networks\", \"training\", \"research\", \"deep\" y \"learning\""
      ]
    },
    {
      "cell_type": "markdown",
      "metadata": {
        "id": "2GfycB1fJ87S",
        "colab_type": "text"
      },
      "source": [
        "# Clasificación de texto\n",
        "## Sentiment140"
      ]
    },
    {
      "cell_type": "markdown",
      "metadata": {
        "id": "xTWUcWVb3jOK",
        "colab_type": "text"
      },
      "source": [
        "Vamos a usar el dataset Sentiment140 para hacer sentiment analysis. Lo descargamos y extraemos.\n",
        "\n"
      ]
    },
    {
      "cell_type": "code",
      "metadata": {
        "id": "kh-KPl0vyTj2",
        "colab_type": "code",
        "outputId": "211f3ec2-c01b-49b4-817e-aff8a97f45ad",
        "colab": {
          "base_uri": "https://localhost:8080/",
          "height": 319
        }
      },
      "source": [
        "!wget http://cs.stanford.edu/people/alecmgo/trainingandtestdata.zip\n",
        "!unzip trainingandtestdata.zip"
      ],
      "execution_count": 0,
      "outputs": [
        {
          "output_type": "stream",
          "text": [
            "--2020-05-31 20:11:04--  http://cs.stanford.edu/people/alecmgo/trainingandtestdata.zip\n",
            "Resolving cs.stanford.edu (cs.stanford.edu)... 171.64.64.64\n",
            "Connecting to cs.stanford.edu (cs.stanford.edu)|171.64.64.64|:80... connected.\n",
            "HTTP request sent, awaiting response... 301 Moved Permanently\n",
            "Location: https://cs.stanford.edu/people/alecmgo/trainingandtestdata.zip [following]\n",
            "--2020-05-31 20:11:05--  https://cs.stanford.edu/people/alecmgo/trainingandtestdata.zip\n",
            "Connecting to cs.stanford.edu (cs.stanford.edu)|171.64.64.64|:443... connected.\n",
            "HTTP request sent, awaiting response... 200 OK\n",
            "Length: 81363704 (78M) [application/zip]\n",
            "Saving to: ‘trainingandtestdata.zip’\n",
            "\n",
            "\rtrainingandtestdata   0%[                    ]       0  --.-KB/s               \rtrainingandtestdata   0%[                    ] 664.00K  3.24MB/s               \rtrainingandtestdata  11%[=>                  ]   8.95M  22.3MB/s               \rtrainingandtestdata  29%[====>               ]  23.10M  38.5MB/s               \rtrainingandtestdata  47%[========>           ]  36.96M  46.2MB/s               \rtrainingandtestdata  67%[============>       ]  52.10M  52.1MB/s               \rtrainingandtestdata  84%[===============>    ]  65.57M  54.6MB/s               \rtrainingandtestdata 100%[===================>]  77.59M  56.5MB/s    in 1.4s    \n",
            "\n",
            "2020-05-31 20:11:06 (56.5 MB/s) - ‘trainingandtestdata.zip’ saved [81363704/81363704]\n",
            "\n",
            "Archive:  trainingandtestdata.zip\n",
            "  inflating: testdata.manual.2009.06.14.csv  \n",
            "  inflating: training.1600000.processed.noemoticon.csv  \n"
          ],
          "name": "stdout"
        }
      ]
    },
    {
      "cell_type": "code",
      "metadata": {
        "id": "8rWTtG-r2hi-",
        "colab_type": "code",
        "outputId": "bc3d72eb-cf2d-4635-b592-19249f7c9a1a",
        "colab": {
          "base_uri": "https://localhost:8080/",
          "height": 195
        }
      },
      "source": [
        "training_set = pd.read_csv('training.1600000.processed.noemoticon.csv',encoding = \"ISO-8859-1\",header=None,names=['Polarity','id','Date','Query','User','Text'])\n",
        "training_set.head()"
      ],
      "execution_count": 0,
      "outputs": [
        {
          "output_type": "execute_result",
          "data": {
            "text/html": [
              "<div>\n",
              "<style scoped>\n",
              "    .dataframe tbody tr th:only-of-type {\n",
              "        vertical-align: middle;\n",
              "    }\n",
              "\n",
              "    .dataframe tbody tr th {\n",
              "        vertical-align: top;\n",
              "    }\n",
              "\n",
              "    .dataframe thead th {\n",
              "        text-align: right;\n",
              "    }\n",
              "</style>\n",
              "<table border=\"1\" class=\"dataframe\">\n",
              "  <thead>\n",
              "    <tr style=\"text-align: right;\">\n",
              "      <th></th>\n",
              "      <th>Polarity</th>\n",
              "      <th>id</th>\n",
              "      <th>Date</th>\n",
              "      <th>Query</th>\n",
              "      <th>User</th>\n",
              "      <th>Text</th>\n",
              "    </tr>\n",
              "  </thead>\n",
              "  <tbody>\n",
              "    <tr>\n",
              "      <th>0</th>\n",
              "      <td>0</td>\n",
              "      <td>1467810369</td>\n",
              "      <td>Mon Apr 06 22:19:45 PDT 2009</td>\n",
              "      <td>NO_QUERY</td>\n",
              "      <td>_TheSpecialOne_</td>\n",
              "      <td>@switchfoot http://twitpic.com/2y1zl - Awww, t...</td>\n",
              "    </tr>\n",
              "    <tr>\n",
              "      <th>1</th>\n",
              "      <td>0</td>\n",
              "      <td>1467810672</td>\n",
              "      <td>Mon Apr 06 22:19:49 PDT 2009</td>\n",
              "      <td>NO_QUERY</td>\n",
              "      <td>scotthamilton</td>\n",
              "      <td>is upset that he can't update his Facebook by ...</td>\n",
              "    </tr>\n",
              "    <tr>\n",
              "      <th>2</th>\n",
              "      <td>0</td>\n",
              "      <td>1467810917</td>\n",
              "      <td>Mon Apr 06 22:19:53 PDT 2009</td>\n",
              "      <td>NO_QUERY</td>\n",
              "      <td>mattycus</td>\n",
              "      <td>@Kenichan I dived many times for the ball. Man...</td>\n",
              "    </tr>\n",
              "    <tr>\n",
              "      <th>3</th>\n",
              "      <td>0</td>\n",
              "      <td>1467811184</td>\n",
              "      <td>Mon Apr 06 22:19:57 PDT 2009</td>\n",
              "      <td>NO_QUERY</td>\n",
              "      <td>ElleCTF</td>\n",
              "      <td>my whole body feels itchy and like its on fire</td>\n",
              "    </tr>\n",
              "    <tr>\n",
              "      <th>4</th>\n",
              "      <td>0</td>\n",
              "      <td>1467811193</td>\n",
              "      <td>Mon Apr 06 22:19:57 PDT 2009</td>\n",
              "      <td>NO_QUERY</td>\n",
              "      <td>Karoli</td>\n",
              "      <td>@nationwideclass no, it's not behaving at all....</td>\n",
              "    </tr>\n",
              "  </tbody>\n",
              "</table>\n",
              "</div>"
            ],
            "text/plain": [
              "   Polarity  ...                                               Text\n",
              "0         0  ...  @switchfoot http://twitpic.com/2y1zl - Awww, t...\n",
              "1         0  ...  is upset that he can't update his Facebook by ...\n",
              "2         0  ...  @Kenichan I dived many times for the ball. Man...\n",
              "3         0  ...    my whole body feels itchy and like its on fire \n",
              "4         0  ...  @nationwideclass no, it's not behaving at all....\n",
              "\n",
              "[5 rows x 6 columns]"
            ]
          },
          "metadata": {
            "tags": []
          },
          "execution_count": 32
        }
      ]
    },
    {
      "cell_type": "markdown",
      "metadata": {
        "id": "8c_Pj5eguBgB",
        "colab_type": "text"
      },
      "source": [
        "What is the format of the training data?\n",
        "The data is a CSV with emoticons removed. Data file format has 6 fields:\n",
        "\n",
        "* 0 - the polarity of the tweet (0 = negative, 2 = neutral, 4 = positive)\n",
        "* 1 - the id of the tweet (2087)\n",
        "* 2 - the date of the tweet (Sat May 16 23:58:44 UTC 2009)\n",
        "* 3 - the query (lyx). If there is no query, then this value is NO_QUERY.\n",
        "* 4 - the user that tweeted (robotickilldozr)\n",
        "* 5 - the text of the tweet (Lyx is cool)"
      ]
    },
    {
      "cell_type": "markdown",
      "metadata": {
        "id": "SYMACwUV5db8",
        "colab_type": "text"
      },
      "source": [
        "Analicemos el balance de clases:"
      ]
    },
    {
      "cell_type": "code",
      "metadata": {
        "id": "S1xmKhtq2vjD",
        "colab_type": "code",
        "outputId": "75d5e87a-83eb-45de-f901-1e8eb418d988",
        "colab": {
          "base_uri": "https://localhost:8080/",
          "height": 67
        }
      },
      "source": [
        "training_set['Polarity'].value_counts()"
      ],
      "execution_count": 0,
      "outputs": [
        {
          "output_type": "execute_result",
          "data": {
            "text/plain": [
              "4    800000\n",
              "0    800000\n",
              "Name: Polarity, dtype: int64"
            ]
          },
          "metadata": {
            "tags": []
          },
          "execution_count": 33
        }
      ]
    },
    {
      "cell_type": "markdown",
      "metadata": {
        "id": "czoEutkA510L",
        "colab_type": "text"
      },
      "source": [
        "Solamente hay positivo (4) y negativo (0). El dataset está balanceado.\n",
        "\n",
        "Vamos a trabajar con un subset más chico (10000 muestras positivas y 10000 negativas):"
      ]
    },
    {
      "cell_type": "code",
      "metadata": {
        "id": "jhcCzMJS4Nti",
        "colab_type": "code",
        "colab": {}
      },
      "source": [
        "positive_samples = training_set[training_set['Polarity'] == 4].sample(10000)\n",
        "negative_samples = training_set[training_set['Polarity'] == 0].sample(10000)\n",
        "training_subset = pd.concat([positive_samples,negative_samples],axis=0)\n",
        "\n",
        "training_subset = training_subset.drop(columns=['id','Date','Query','User'])\n",
        "\n",
        "mapping_dict = {0:0, 4:1}\n",
        "training_subset['Polarity'] = training_subset['Polarity'].apply(lambda x : mapping_dict[x])\n",
        "training_subset = training_subset.rename({'Polarity':'labels','Text':'text'},axis=1)"
      ],
      "execution_count": 0,
      "outputs": []
    },
    {
      "cell_type": "markdown",
      "metadata": {
        "id": "8sdDv_MQDRGe",
        "colab_type": "text"
      },
      "source": [
        "También vamos a cargar los datos de evaluación. Es interesante que, a diferencia de en el set de entrenamiento, posee también un label \"neutro\". Como no estaba esta categoría en el set de entrenamiento vamos a omitirla:"
      ]
    },
    {
      "cell_type": "code",
      "metadata": {
        "id": "chLgrwVabrZz",
        "colab_type": "code",
        "colab": {}
      },
      "source": [
        "eval_set = pd.read_csv('testdata.manual.2009.06.14.csv',encoding = \"ISO-8859-1\",header=None,names=['Polarity','id','Date','Query','User','Text'])\n",
        "eval_set.head()\n",
        "\n",
        "mapping_dict = {0:0, 2:-1, 4:1}\n",
        "eval_set['Polarity'] = eval_set['Polarity'].apply(lambda x : mapping_dict[x])\n",
        "eval_set = eval_set.rename({'Polarity':'labels','Text':'text'},axis=1)\n",
        "eval_set = eval_set.drop(columns=['id','Date','Query','User'])\n",
        "eval_set = eval_set[eval_set['labels'] != -1]\n"
      ],
      "execution_count": 0,
      "outputs": []
    },
    {
      "cell_type": "markdown",
      "metadata": {
        "id": "KUvfWz_RDJHO",
        "colab_type": "text"
      },
      "source": [
        "## Baseline FastText + GRUs"
      ]
    },
    {
      "cell_type": "code",
      "metadata": {
        "id": "my0mRMTPEc2B",
        "colab_type": "code",
        "outputId": "0fddb099-5b00-4314-a62b-2f35e9f225ec",
        "colab": {
          "base_uri": "https://localhost:8080/",
          "height": 255
        }
      },
      "source": [
        "!pip install fasttext"
      ],
      "execution_count": 0,
      "outputs": [
        {
          "output_type": "stream",
          "text": [
            "Collecting fasttext\n",
            "\u001b[?25l  Downloading https://files.pythonhosted.org/packages/f8/85/e2b368ab6d3528827b147fdb814f8189acc981a4bc2f99ab894650e05c40/fasttext-0.9.2.tar.gz (68kB)\n",
            "\r\u001b[K     |████▊                           | 10kB 26.9MB/s eta 0:00:01\r\u001b[K     |█████████▌                      | 20kB 2.1MB/s eta 0:00:01\r\u001b[K     |██████████████▎                 | 30kB 2.8MB/s eta 0:00:01\r\u001b[K     |███████████████████             | 40kB 3.1MB/s eta 0:00:01\r\u001b[K     |███████████████████████▉        | 51kB 2.6MB/s eta 0:00:01\r\u001b[K     |████████████████████████████▋   | 61kB 2.8MB/s eta 0:00:01\r\u001b[K     |████████████████████████████████| 71kB 2.5MB/s \n",
            "\u001b[?25hRequirement already satisfied: pybind11>=2.2 in /usr/local/lib/python3.6/dist-packages (from fasttext) (2.5.0)\n",
            "Requirement already satisfied: setuptools>=0.7.0 in /usr/local/lib/python3.6/dist-packages (from fasttext) (46.4.0)\n",
            "Requirement already satisfied: numpy in /usr/local/lib/python3.6/dist-packages (from fasttext) (1.18.4)\n",
            "Building wheels for collected packages: fasttext\n",
            "  Building wheel for fasttext (setup.py) ... \u001b[?25l\u001b[?25hdone\n",
            "  Created wheel for fasttext: filename=fasttext-0.9.2-cp36-cp36m-linux_x86_64.whl size=3018080 sha256=7c39d841bc05735d22e56a9c8d24ad3b6a5951c54e7796a42351f6f1b582104e\n",
            "  Stored in directory: /root/.cache/pip/wheels/98/ba/7f/b154944a1cf5a8cee91c154b75231136cc3a3321ab0e30f592\n",
            "Successfully built fasttext\n",
            "Installing collected packages: fasttext\n",
            "Successfully installed fasttext-0.9.2\n"
          ],
          "name": "stdout"
        }
      ]
    },
    {
      "cell_type": "markdown",
      "metadata": {
        "id": "HS461BeCEeye",
        "colab_type": "text"
      },
      "source": [
        "Descargamos el modelo de FastText preentrenado en CommonCrawl:"
      ]
    },
    {
      "cell_type": "code",
      "metadata": {
        "id": "mM4aQscInFDV",
        "colab_type": "code",
        "outputId": "a5a0d78c-8623-4345-a53d-132dfb1a3343",
        "colab": {
          "base_uri": "https://localhost:8080/",
          "height": 252
        }
      },
      "source": [
        "!wget https://dl.fbaipublicfiles.com/fasttext/vectors-english/crawl-300d-2M-subword.zip\n",
        "!unzip crawl-300d-2M-subword.zip"
      ],
      "execution_count": 0,
      "outputs": [
        {
          "output_type": "stream",
          "text": [
            "--2020-05-31 20:12:45--  https://dl.fbaipublicfiles.com/fasttext/vectors-english/crawl-300d-2M-subword.zip\n",
            "Resolving dl.fbaipublicfiles.com (dl.fbaipublicfiles.com)... 104.22.75.142, 104.22.74.142, 2606:4700:10::6816:4b8e, ...\n",
            "Connecting to dl.fbaipublicfiles.com (dl.fbaipublicfiles.com)|104.22.75.142|:443... connected.\n",
            "HTTP request sent, awaiting response... 200 OK\n",
            "Length: 5828358084 (5.4G) [application/zip]\n",
            "Saving to: ‘crawl-300d-2M-subword.zip’\n",
            "\n",
            "crawl-300d-2M-subwo 100%[===================>]   5.43G  25.0MB/s    in 3m 42s  \n",
            "\n",
            "2020-05-31 20:16:28 (25.0 MB/s) - ‘crawl-300d-2M-subword.zip’ saved [5828358084/5828358084]\n",
            "\n",
            "Archive:  crawl-300d-2M-subword.zip\n",
            "  inflating: crawl-300d-2M-subword.vec  \n",
            "  inflating: crawl-300d-2M-subword.bin  \n"
          ],
          "name": "stdout"
        }
      ]
    },
    {
      "cell_type": "code",
      "metadata": {
        "id": "VE14DeAu22cG",
        "colab_type": "code",
        "colab": {}
      },
      "source": [
        "import fasttext\n",
        "import numpy as np\n",
        "import tensorflow as tf"
      ],
      "execution_count": 0,
      "outputs": []
    },
    {
      "cell_type": "code",
      "metadata": {
        "id": "UtIeVZRX24Xe",
        "colab_type": "code",
        "outputId": "72aa59fa-68d4-495b-fea2-81f8c60b583e",
        "colab": {
          "base_uri": "https://localhost:8080/",
          "height": 54
        }
      },
      "source": [
        "ft_model = fasttext.load_model('crawl-300d-2M-subword.bin')"
      ],
      "execution_count": 0,
      "outputs": [
        {
          "output_type": "stream",
          "text": [
            "Warning : `load_model` does not return WordVectorModel or SupervisedModel any more, but a `FastText` object which is very similar.\n"
          ],
          "name": "stderr"
        }
      ]
    },
    {
      "cell_type": "markdown",
      "metadata": {
        "id": "BBWnF7X_Exhv",
        "colab_type": "text"
      },
      "source": [
        "Pasamos el dataframe a arrays de numpy para armar los datasets:"
      ]
    },
    {
      "cell_type": "code",
      "metadata": {
        "id": "rcpFU2dD3c6J",
        "colab_type": "code",
        "outputId": "2850827b-7c11-4f1c-ac1e-03fc48d551a7",
        "colab": {
          "base_uri": "https://localhost:8080/",
          "height": 50
        }
      },
      "source": [
        "def df_to_np(df):\n",
        "  x = []\n",
        "  y = []\n",
        "  for logid, row in tqdm.tqdm(df.iterrows()):\n",
        "    ft_embeddings = np.expand_dims(np.array([ft_model.get_word_vector(word) for word in row['text'].lower().split()]),axis=0)\n",
        "    x.append(ft_embeddings)\n",
        "    y.append(row['labels'])\n",
        "\n",
        "  return x,y\n",
        "\n",
        "x_train, y_train = df_to_np(training_subset)\n",
        "x_eval, y_eval = df_to_np(eval_set)"
      ],
      "execution_count": 0,
      "outputs": [
        {
          "output_type": "stream",
          "text": [
            "20000it [00:04, 4089.25it/s]\n",
            "359it [00:00, 3843.33it/s]\n"
          ],
          "name": "stderr"
        }
      ]
    },
    {
      "cell_type": "markdown",
      "metadata": {
        "id": "jny8vu4KE4he",
        "colab_type": "text"
      },
      "source": [
        "Esto es un generador, nos permite trabajar con datasets muy grandes sin estar limitados por la RAM. También nos permite definir procesamientos on the fly como podría ser data-augmentation o en este caso hacer padding de las secuencias para que todas tengan un mismo largo"
      ]
    },
    {
      "cell_type": "code",
      "metadata": {
        "id": "u94Pe7fy9kfB",
        "colab_type": "code",
        "colab": {}
      },
      "source": [
        "class train_generator(tf.keras.utils.Sequence):\n",
        "  def __init__(self, x, y, batch_size, max_seq_len,shuffle):\n",
        "    self.x = x\n",
        "    self.y = y\n",
        "    self.batch_size = batch_size\n",
        "    self.max_seq_len = max_seq_len\n",
        "    self.ids = np.arange(len(x))\n",
        "    self.shuffle = shuffle\n",
        "    self.steps_per_epoch = int(np.ceil(len(self.ids) / batch_size))\n",
        "    self.on_epoch_end()\n",
        "\n",
        "  def __len__(self):\n",
        "    return self.steps_per_epoch\n",
        "\n",
        "  def on_epoch_end(self):\n",
        "    if self.shuffle:\n",
        "      self.ids = np.random.permutation(self.ids)\n",
        "\n",
        "  def batch_index_to_samples(self, index):\n",
        "    # Generate indexes of the batch\n",
        "    indices = np.arange(index * self.batch_size, (index + 1) * self.batch_size)\n",
        "    list_ids = np.take(self.ids, indices, mode='wrap')\n",
        "\n",
        "    return list_ids.astype(int)\n",
        "\n",
        "  def __getitem__(self, index):\n",
        "    sample_ids = self.batch_index_to_samples(index)\n",
        "    x_batch = np.concatenate([np.pad(self.x[idx],((0,0),(0,self.max_seq_len - self.x[idx].shape[1]),(0,0))) if self.x[idx].shape[1]<=self.max_seq_len else self.x[idx][:,:self.max_seq_len,:] for idx in sample_ids],axis=0)\n",
        "    y_batch = np.expand_dims(np.array([0 if self.y[idx] == 0 else 1 for idx in sample_ids]),axis=1)\n",
        "\n",
        "    return x_batch, y_batch\n",
        "\n",
        "train_gen = train_generator(x_train,y_train,128,35,True)\n",
        "eval_gen = train_generator(x_eval,y_eval,128,35,False)"
      ],
      "execution_count": 0,
      "outputs": []
    },
    {
      "cell_type": "markdown",
      "metadata": {
        "id": "RDjbEg2aFdhO",
        "colab_type": "text"
      },
      "source": [
        "A continuación armamos un modelo sencillo de secuencia a label: arrancamos con los embeddings de FastText, y las capas GRU modelan las relaciones entre los elementos de la secuencia (palabras). En cierto modo, partimos de embeddings no contextualizados y la red aprende a contextualizarlos para luego devolver la probabilidad de sentiment positivo."
      ]
    },
    {
      "cell_type": "code",
      "metadata": {
        "id": "aEe87y48GT84",
        "colab_type": "code",
        "outputId": "749b7421-3791-46fd-e22f-c8c7c04cd2b1",
        "colab": {
          "base_uri": "https://localhost:8080/",
          "height": 586
        }
      },
      "source": [
        "wv_inputs = tf.keras.Input(shape=(35,300), name='fasttext_embeddings')\n",
        "x = tf.keras.layers.Masking()(wv_inputs)\n",
        "x = tf.keras.layers.GRU(128, activation='relu',return_sequences = True)(x)\n",
        "x = tf.keras.layers.GRU(64, activation='relu')(x)\n",
        "outputs = tf.keras.layers.Dense(1,activation='sigmoid')(x)\n",
        "\n",
        "model = tf.keras.Model(inputs=wv_inputs, outputs=outputs, name='lstm_model')\n",
        "\n",
        "tf.keras.utils.plot_model(model, show_shapes=True)"
      ],
      "execution_count": 0,
      "outputs": [
        {
          "output_type": "stream",
          "text": [
            "WARNING:tensorflow:Layer gru will not use cuDNN kernel since it doesn't meet the cuDNN kernel criteria. It will use generic GPU kernel as fallback when running on GPU\n",
            "WARNING:tensorflow:Layer gru_1 will not use cuDNN kernel since it doesn't meet the cuDNN kernel criteria. It will use generic GPU kernel as fallback when running on GPU\n"
          ],
          "name": "stdout"
        },
        {
          "output_type": "execute_result",
          "data": {
            "image/png": "[encoded data removed]",
            "text/plain": [
              "<IPython.core.display.Image object>"
            ]
          },
          "metadata": {
            "tags": []
          },
          "execution_count": 42
        }
      ]
    },
    {
      "cell_type": "code",
      "metadata": {
        "id": "K56YbOD2IOc8",
        "colab_type": "code",
        "outputId": "c0bdacb5-3a48-4875-d3fd-caa0fedecea7",
        "colab": {
          "base_uri": "https://localhost:8080/",
          "height": 591
        }
      },
      "source": [
        "model.compile(loss='binary_crossentropy',\n",
        "              optimizer=tf.keras.optimizers.Adam(learning_rate=0.001,clipnorm=0.5),\n",
        "              metrics=['accuracy'])\n",
        "\n",
        "history = model.fit_generator(train_gen,\n",
        "                  epochs=15,validation_data=eval_gen)"
      ],
      "execution_count": 0,
      "outputs": [
        {
          "output_type": "stream",
          "text": [
            "WARNING:tensorflow:From <ipython-input-43-be8d783aa44e>:6: Model.fit_generator (from tensorflow.python.keras.engine.training) is deprecated and will be removed in a future version.\n",
            "Instructions for updating:\n",
            "Please use Model.fit, which supports generators.\n",
            "Epoch 1/15\n",
            "157/157 [==============================] - 22s 137ms/step - loss: 0.6104 - accuracy: 0.6627 - val_loss: 0.5513 - val_accuracy: 0.7240\n",
            "Epoch 2/15\n",
            "157/157 [==============================] - 21s 135ms/step - loss: 0.5198 - accuracy: 0.7496 - val_loss: 0.5135 - val_accuracy: 0.7474\n",
            "Epoch 3/15\n",
            "157/157 [==============================] - 21s 136ms/step - loss: 0.4897 - accuracy: 0.7672 - val_loss: 0.5167 - val_accuracy: 0.7578\n",
            "Epoch 4/15\n",
            "157/157 [==============================] - 21s 135ms/step - loss: 0.4718 - accuracy: 0.7782 - val_loss: 0.5170 - val_accuracy: 0.7552\n",
            "Epoch 5/15\n",
            "157/157 [==============================] - 21s 135ms/step - loss: 0.4531 - accuracy: 0.7902 - val_loss: 0.5082 - val_accuracy: 0.7656\n",
            "Epoch 6/15\n",
            "157/157 [==============================] - 21s 133ms/step - loss: 0.4343 - accuracy: 0.8000 - val_loss: 0.5024 - val_accuracy: 0.7552\n",
            "Epoch 7/15\n",
            "157/157 [==============================] - 21s 133ms/step - loss: 0.4209 - accuracy: 0.8088 - val_loss: 0.5158 - val_accuracy: 0.7552\n",
            "Epoch 8/15\n",
            "157/157 [==============================] - 21s 133ms/step - loss: 0.4058 - accuracy: 0.8173 - val_loss: 0.5257 - val_accuracy: 0.7396\n",
            "Epoch 9/15\n",
            "157/157 [==============================] - 21s 133ms/step - loss: 0.3899 - accuracy: 0.8247 - val_loss: 0.5449 - val_accuracy: 0.7604\n",
            "Epoch 10/15\n",
            "157/157 [==============================] - 21s 133ms/step - loss: 0.3830 - accuracy: 0.8303 - val_loss: 0.5459 - val_accuracy: 0.7370\n",
            "Epoch 11/15\n",
            "157/157 [==============================] - 21s 133ms/step - loss: 0.3633 - accuracy: 0.8385 - val_loss: 0.5494 - val_accuracy: 0.7552\n",
            "Epoch 12/15\n",
            "157/157 [==============================] - 21s 131ms/step - loss: 0.3418 - accuracy: 0.8517 - val_loss: 0.5946 - val_accuracy: 0.7344\n",
            "Epoch 13/15\n",
            "157/157 [==============================] - 21s 132ms/step - loss: 0.3322 - accuracy: 0.8585 - val_loss: 0.6068 - val_accuracy: 0.7188\n",
            "Epoch 14/15\n",
            "157/157 [==============================] - 21s 133ms/step - loss: 0.3134 - accuracy: 0.8666 - val_loss: 0.7337 - val_accuracy: 0.7031\n",
            "Epoch 15/15\n",
            "157/157 [==============================] - 21s 133ms/step - loss: 0.2960 - accuracy: 0.8736 - val_loss: 0.6748 - val_accuracy: 0.7292\n"
          ],
          "name": "stdout"
        }
      ]
    },
    {
      "cell_type": "markdown",
      "metadata": {
        "id": "cVodc2ZlDsA_",
        "colab_type": "text"
      },
      "source": [
        "## Bert Finetuning"
      ]
    },
    {
      "cell_type": "code",
      "metadata": {
        "id": "moAQlLtqMbFm",
        "colab_type": "code",
        "colab": {}
      },
      "source": [
        "bert_model_finetune = ClassificationModel('bert','bert-base-uncased',args={'fp16':False})"
      ],
      "execution_count": 0,
      "outputs": []
    },
    {
      "cell_type": "code",
      "metadata": {
        "id": "a3Ove83-OP0M",
        "colab_type": "code",
        "outputId": "0670b745-8415-4094-9243-429a4c346e7a",
        "colab": {
          "base_uri": "https://localhost:8080/",
          "height": 250,
          "referenced_widgets": [
            "8e2ad1c549ed4befa2ddb867d10dc431",
            "18dc096e9fe64950868e97ddb8b1de65",
            "b3ec24952e8f40db85286d30eafd30f3",
            "6a2aef3643c942b1953ede1c72beb9d8",
            "64f651dc8dec4175a602629d2b1b035b",
            "245fe4d143094447b83c516f94d40cd9",
            "868d62c468c344dcafd1089d37109937",
            "ee9cb9bb572746e8867b39563ffcd1a8",
            "febb9dbdfab44d6181176977e5f7298e",
            "d003c4b146c44802bd12f1ae032cc436",
            "4def66e1e27e42178a76f7f2af0e83f5",
            "92e8547f760f4ff2b3dd8d350ff2b2af",
            "c78d9df01420416eb63fbee6480280ba",
            "6432d55a5a3b4a57963c86a52d0c2394",
            "2439b02700c34118825578bae4c17f6b",
            "a4b7674eb3e94d5db58555faf5b6a457",
            "862e91c723204cb89dfda8e09361d1f4",
            "381b8fd21f7c4cb6a937e8b798dfe12b",
            "066c76d0ee07434ab5fb4ab1c8c71374",
            "4d3911c63d334321b60c7e860ce021d8",
            "38e9f00a129a41e5b1a95b9be5d6d384",
            "ea23b2ead9a14a95a84825b46ba93a02",
            "2823573d974b44708b39b2928e53ad00",
            "d663f6a3ee4f49e080a96cbec7c199c6"
          ]
        }
      },
      "source": [
        "bert_model_finetune.train_model(training_subset,output_dir='bert')"
      ],
      "execution_count": 0,
      "outputs": [
        {
          "output_type": "display_data",
          "data": {
            "application/vnd.jupyter.widget-view+json": {
              "model_id": "8e2ad1c549ed4befa2ddb867d10dc431",
              "version_minor": 0,
              "version_major": 2
            },
            "text/plain": [
              "HBox(children=(FloatProgress(value=0.0, max=20000.0), HTML(value='')))"
            ]
          },
          "metadata": {
            "tags": []
          }
        },
        {
          "output_type": "stream",
          "text": [
            "\n"
          ],
          "name": "stdout"
        },
        {
          "output_type": "display_data",
          "data": {
            "application/vnd.jupyter.widget-view+json": {
              "model_id": "febb9dbdfab44d6181176977e5f7298e",
              "version_minor": 0,
              "version_major": 2
            },
            "text/plain": [
              "HBox(children=(FloatProgress(value=0.0, description='Epoch', max=1.0, style=ProgressStyle(description_width='i…"
            ]
          },
          "metadata": {
            "tags": []
          }
        },
        {
          "output_type": "display_data",
          "data": {
            "application/vnd.jupyter.widget-view+json": {
              "model_id": "862e91c723204cb89dfda8e09361d1f4",
              "version_minor": 0,
              "version_major": 2
            },
            "text/plain": [
              "HBox(children=(FloatProgress(value=0.0, description='Current iteration', max=2500.0, style=ProgressStyle(descr…"
            ]
          },
          "metadata": {
            "tags": []
          }
        },
        {
          "output_type": "stream",
          "text": [
            "Running loss: 0.665434"
          ],
          "name": "stdout"
        },
        {
          "output_type": "stream",
          "text": [
            "/usr/local/lib/python3.6/dist-packages/torch/optim/lr_scheduler.py:231: UserWarning: To get the last learning rate computed by the scheduler, please use `get_last_lr()`.\n",
            "  warnings.warn(\"To get the last learning rate computed by the scheduler, \"\n"
          ],
          "name": "stderr"
        },
        {
          "output_type": "stream",
          "text": [
            "Running loss: 0.530247"
          ],
          "name": "stdout"
        },
        {
          "output_type": "stream",
          "text": [
            "/usr/local/lib/python3.6/dist-packages/torch/optim/lr_scheduler.py:200: UserWarning: Please also save or load the state of the optimzer when saving or loading the scheduler.\n",
            "  warnings.warn(SAVE_STATE_WARNING, UserWarning)\n"
          ],
          "name": "stderr"
        },
        {
          "output_type": "stream",
          "text": [
            "Running loss: 0.415688\n",
            "\n"
          ],
          "name": "stdout"
        }
      ]
    },
    {
      "cell_type": "code",
      "metadata": {
        "id": "rWdOmTHwc-PG",
        "colab_type": "code",
        "outputId": "12c28030-4a09-434a-d210-e926c5719702",
        "colab": {
          "base_uri": "https://localhost:8080/",
          "height": 114,
          "referenced_widgets": [
            "4cd53a82517c4ca1b4d119b0b8878df7",
            "aedef16d26d4400dbec8b046920c1e97",
            "45e28569e30b41b7b148113e234eecdd",
            "752f855ae0414991a3fa1795085375b5",
            "d90c7518965f425dabe564928af5a52d",
            "20ee9a1734294e5fa849b2c018e7115b",
            "32dd986fd5ba432096d254459bac41c2",
            "84e373c987a2406db56cb4bfb19ef284",
            "c247788470bc412b8de183cb2e64300e",
            "bd7b1f3fb9dd43c783dd23e93caadb29",
            "81456339f5ad4507a7d442f222b2771f",
            "4d9b337b82604c0095900829371fbc85",
            "c28c333a41394fa6a0d124273dc16bb3",
            "0a3793b1c1e446f1a1b26e5f162ed607",
            "3d90af29e7e746cbbd19c73355fd190e",
            "cb70368c62584005949fe20b8f5e8266"
          ]
        }
      },
      "source": [
        "result, model_outputs, wrong_predictions = bert_model_finetune.eval_model(eval_set)"
      ],
      "execution_count": 0,
      "outputs": [
        {
          "output_type": "display_data",
          "data": {
            "application/vnd.jupyter.widget-view+json": {
              "model_id": "4cd53a82517c4ca1b4d119b0b8878df7",
              "version_minor": 0,
              "version_major": 2
            },
            "text/plain": [
              "HBox(children=(FloatProgress(value=0.0, max=359.0), HTML(value='')))"
            ]
          },
          "metadata": {
            "tags": []
          }
        },
        {
          "output_type": "stream",
          "text": [
            "\n"
          ],
          "name": "stdout"
        },
        {
          "output_type": "display_data",
          "data": {
            "application/vnd.jupyter.widget-view+json": {
              "model_id": "c247788470bc412b8de183cb2e64300e",
              "version_minor": 0,
              "version_major": 2
            },
            "text/plain": [
              "HBox(children=(FloatProgress(value=0.0, max=45.0), HTML(value='')))"
            ]
          },
          "metadata": {
            "tags": []
          }
        },
        {
          "output_type": "stream",
          "text": [
            "\n"
          ],
          "name": "stdout"
        }
      ]
    },
    {
      "cell_type": "code",
      "metadata": {
        "id": "qLr2q5oCdMV9",
        "colab_type": "code",
        "outputId": "b1b4ebfb-9c9c-4196-9ef1-a3c16a2589d5",
        "colab": {
          "base_uri": "https://localhost:8080/",
          "height": 363
        }
      },
      "source": [
        "accuracy = (result['tn'] + result['tp'])/(result['tn'] + result['tp'] + result['fn'] + result['fp'])\n",
        "precision = result['tp']/(result['tp']+result['fp'])\n",
        "recall = result['tp']/(result['tp']+result['fn'])\n",
        "\n",
        "confusion_matrix = np.array([[result['tn'],result['fp']],[result['fn'],result['tp']]])\n",
        "ax = sns.heatmap(confusion_matrix/np.sum(confusion_matrix),cmap='Blues', annot=True)\n",
        "ax.set(xlabel='Predicted',ylabel='Ground truth')\n",
        "\n",
        "print(\"Accuracy: {:.2f}\\nPrecision: {:.2f}\\nRecall: {:.2f}\\n\\n\".format(accuracy,precision,recall))"
      ],
      "execution_count": 0,
      "outputs": [
        {
          "output_type": "stream",
          "text": [
            "Accuracy: 0.80\n",
            "Precision: 0.79\n",
            "Recall: 0.83\n",
            "\n",
            "\n"
          ],
          "name": "stdout"
        },
        {
          "output_type": "display_data",
          "data": {
            "image/png": "[encoded data removed]",
            "text/plain": [
              "<Figure size 432x288 with 2 Axes>"
            ]
          },
          "metadata": {
            "tags": [],
            "needs_background": "light"
          }
        }
      ]
    },
    {
      "cell_type": "code",
      "metadata": {
        "id": "rEyj0kmsfOg6",
        "colab_type": "code",
        "cellView": "form",
        "outputId": "b9265c26-6322-445b-d57f-d9d4d3b839fa",
        "colab": {
          "base_uri": "https://localhost:8080/",
          "height": 131,
          "referenced_widgets": [
            "58f044e932bd4ecebb4ce5ec9c4bef76",
            "52ef40ca5a964b84bf07455ca20d2616",
            "1e317d3c113b4cd38715ba211e0567bb",
            "d6ba5ff63cf84af2a36410942669f674",
            "89de468097624171a3c9b7dc37df403a",
            "487c0c1b2696471582627da619430f41",
            "c4d268efe402465188b474fd1f2539ca",
            "f05359da37eb44beacdb4146c2b8203f",
            "bd285b80eb8b4c1293517ae452486f74",
            "c289cea910bc4027add501bdfab1f639",
            "ae24ab3dd8b645798c2837b0d2765cf7",
            "cb842e82a089447283612d9a6b2d4cdc",
            "d6e85d0508804413a5e492ec336fb37a",
            "f25b743da3264586a8a78c7006c5d5f4",
            "48e0c209efef4307b21b25b72a98296f",
            "dd55f3cae0784a40a3a515639b1f9562"
          ]
        }
      },
      "source": [
        "#@title Poniendolo a prueba\n",
        "test_text = \"It is a stormy day\" #@param {type:\"string\"}\n",
        "\n",
        "\n",
        "predictions, raw_outputs = bert_model_finetune.predict([test_text])\n",
        "\n",
        "if predictions[0] == 1:\n",
        "  print(\"Positivo: {}\".format(1.0/(1.0 + np.exp(-raw_outputs[0][1]))))\n",
        "else:\n",
        "  print(\"Negativo: {}\".format(1.0/(1.0 + np.exp(-raw_outputs[0][0]))))\n"
      ],
      "execution_count": 0,
      "outputs": [
        {
          "output_type": "display_data",
          "data": {
            "application/vnd.jupyter.widget-view+json": {
              "model_id": "58f044e932bd4ecebb4ce5ec9c4bef76",
              "version_minor": 0,
              "version_major": 2
            },
            "text/plain": [
              "HBox(children=(FloatProgress(value=0.0, max=1.0), HTML(value='')))"
            ]
          },
          "metadata": {
            "tags": []
          }
        },
        {
          "output_type": "stream",
          "text": [
            "\n"
          ],
          "name": "stdout"
        },
        {
          "output_type": "display_data",
          "data": {
            "application/vnd.jupyter.widget-view+json": {
              "model_id": "bd285b80eb8b4c1293517ae452486f74",
              "version_minor": 0,
              "version_major": 2
            },
            "text/plain": [
              "HBox(children=(FloatProgress(value=0.0, max=1.0), HTML(value='')))"
            ]
          },
          "metadata": {
            "tags": []
          }
        },
        {
          "output_type": "stream",
          "text": [
            "\n",
            "Negativo: 0.8676336914471965\n"
          ],
          "name": "stdout"
        }
      ]
    }
  ]
}