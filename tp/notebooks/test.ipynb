{
 "cells": [
  {
   "cell_type": "code",
   "execution_count": 4,
   "metadata": {},
   "outputs": [],
   "source": [
    "import pandas as pd\n",
    "import numpy as np"
   ]
  },
  {
   "cell_type": "code",
   "execution_count": 5,
   "metadata": {},
   "outputs": [],
   "source": [
    "dream = pd.read_csv('../data/dreams_clean.csv', sep=';')\n",
    "dream = dream.dropna(axis=0, subset=['words']).drop(dream.loc[dream['group_id'].isin([18, 26, 27, 79, 80])].index)\n",
    "\n",
    "summary = pd.read_csv('../data/dreamers_summary.csv', sep='|')"
   ]
  },
  {
   "cell_type": "code",
   "execution_count": 6,
   "metadata": {},
   "outputs": [
    {
     "output_type": "execute_result",
     "data": {
      "text/plain": "(36202, 5)"
     },
     "metadata": {},
     "execution_count": 6
    }
   ],
   "source": [
    "dream.shape"
   ]
  },
  {
   "cell_type": "code",
   "execution_count": null,
   "metadata": {},
   "outputs": [],
   "source": [
    "topics25 = pd.read_csv('../data/lda_topic_example_25_exp_4.csv', sep=';')\n",
    "topics100 = pd.read_csv('../data/lda_topic_example_100_exp_4.csv', sep=';')\n",
    "topics200 = pd.read_csv('../data/lda_topic_example_200_exp_4.csv', sep=';')\n"
   ]
  },
  {
   "cell_type": "code",
   "execution_count": null,
   "metadata": {},
   "outputs": [],
   "source": [
    "36202 - sum(topics25['Dominant_Topic'].value_counts())"
   ]
  },
  {
   "cell_type": "code",
   "execution_count": null,
   "metadata": {},
   "outputs": [],
   "source": [
    "36202 - sum(topics200['Dominant_Topic'].value_counts())"
   ]
  },
  {
   "cell_type": "code",
   "execution_count": null,
   "metadata": {},
   "outputs": [],
   "source": [
    "36202 - sum(topics100['Dominant_Topic'].value_counts())"
   ]
  },
  {
   "cell_type": "code",
   "execution_count": 7,
   "metadata": {},
   "outputs": [
    {
     "output_type": "execute_result",
     "data": {
      "text/plain": "0"
     },
     "metadata": {},
     "execution_count": 7
    }
   ],
   "source": [
    "topics50 = pd.read_csv('../data/lda_topic_example_50_exp_5.csv', sep=';')\n",
    "36202 - sum(topics50['Dominant_Topic'].value_counts())"
   ]
  },
  {
   "cell_type": "code",
   "execution_count": 15,
   "metadata": {},
   "outputs": [
    {
     "output_type": "stream",
     "name": "stdout",
     "text": "Sueños sin clasificar 0\nTopicos clasificados 20\n4.0     4136\n7.0     3955\n2.0     3699\n15.0    3487\n8.0     3352\n3.0     3161\n13.0    2546\n12.0    2444\n0.0     1845\n16.0    1427\n18.0    1170\n17.0    1153\n14.0    1092\n6.0      708\n1.0      656\n9.0      406\n11.0     386\n10.0     213\n5.0      213\n19.0     153\nName: Dominant_Topic, dtype: int64\n"
    }
   ],
   "source": [
    "topics = pd.read_csv(f'../data/lda_topic_example_20_exp_8.csv', sep=';')\n",
    "print(f\"Sueños sin clasificar {36202 - sum(topics['Dominant_Topic'].value_counts())}\")\n",
    "print(f\"Topicos clasificados {len(topics['Dominant_Topic'].value_counts())}\")\n",
    "print(topics['Dominant_Topic'].value_counts())"
   ]
  },
  {
   "cell_type": "code",
   "execution_count": 14,
   "metadata": {},
   "outputs": [
    {
     "output_type": "stream",
     "name": "stdout",
     "text": "Topico numero 20\nSueños sin clasificar 0\nTopicos clasificados 20\n15.0    3620\n4.0     3363\n8.0     3221\n13.0    3143\n2.0     2951\n7.0     2906\n12.0    2827\n3.0     2718\n0.0     1913\n18.0    1568\n17.0    1379\n1.0     1213\n14.0    1070\n16.0    1043\n10.0     776\n9.0      669\n11.0     609\n6.0      476\n5.0      448\n19.0     289\nName: Dominant_Topic, dtype: int64\nTopico numero 25\nSueños sin clasificar 0\nTopicos clasificados 25\n2.0     4277\n8.0     3474\n13.0    3119\n7.0     2580\n3.0     2555\n12.0    2443\n4.0     2427\n0.0     1823\n20.0    1752\n21.0    1307\n17.0    1241\n18.0    1175\n24.0    1090\n16.0    1034\n6.0      911\n1.0      887\n9.0      596\n10.0     535\n14.0     511\n19.0     507\n11.0     502\n23.0     485\n15.0     403\n5.0      366\n22.0     202\nName: Dominant_Topic, dtype: int64\nTopico numero 30\nSueños sin clasificar 0\nTopicos clasificados 30\n8.0     3707\n7.0     2794\n20.0    2685\n29.0    2413\n13.0    2378\n4.0     2374\n12.0    2310\n18.0    1746\n23.0    1449\n24.0    1309\n28.0    1223\n17.0    1172\n21.0    1040\n14.0    1033\n19.0     970\n26.0     763\n3.0      740\n9.0      737\n0.0      720\n2.0      637\n1.0      616\n27.0     518\n6.0      499\n11.0     496\n15.0     399\n22.0     379\n5.0      340\n25.0     289\n10.0     253\n16.0     213\nName: Dominant_Topic, dtype: int64\nTopico numero 40\nSueños sin clasificar 0\nTopicos clasificados 40\n14.0    4835\n12.0    2352\n35.0    1893\n4.0     1729\n3.0     1667\n36.0    1619\n7.0     1605\n29.0    1584\n1.0     1462\n13.0    1363\n31.0    1289\n28.0    1282\n37.0    1235\n32.0    1187\n17.0     970\n23.0     925\n9.0      907\n24.0     827\n34.0     809\n26.0     593\n20.0     537\n8.0      500\n19.0     494\n18.0     460\n16.0     391\n33.0     381\n38.0     372\n0.0      354\n21.0     327\n6.0      297\n22.0     271\n11.0     262\n15.0     244\n5.0      224\n27.0     220\n25.0     186\n30.0     173\n10.0     146\n2.0      119\n39.0     111\nName: Dominant_Topic, dtype: int64\nTopico numero 50\nSueños sin clasificar 0\nTopicos clasificados 50\n21.0    2704\n4.0     2637\n42.0    2127\n12.0    2112\n8.0     2001\n35.0    1915\n13.0    1891\n48.0    1839\n37.0    1461\n47.0    1398\n45.0    1290\n28.0    1258\n41.0     926\n19.0     917\n32.0     857\n33.0     716\n36.0     691\n24.0     690\n43.0     656\n0.0      652\n17.0     636\n31.0     582\n7.0      550\n9.0      486\n46.0     337\n20.0     318\n25.0     305\n40.0     299\n26.0     286\n22.0     285\n1.0      274\n49.0     256\n16.0     248\n30.0     245\n34.0     243\n11.0     237\n38.0     205\n14.0     201\n18.0     197\n44.0     196\n27.0     180\n3.0      142\n6.0      127\n15.0     124\n23.0      99\n5.0       95\n39.0      91\n29.0      90\n2.0       69\n10.0      61\nName: Dominant_Topic, dtype: int64\n"
    }
   ],
   "source": [
    "for num_topics in [20,25,30,40,50]:\n",
    "    print(f\"Topico numero {num_topics}\")\n",
    "    if num_topics == 30:\n",
    "        topics = pd.read_csv(f'../data/lda_topic_example_{num_topics}_exp_6.csv', sep=';')\n",
    "    else:\n",
    "        topics = pd.read_csv(f'../data/lda_topic_example_{num_topics}_exp_7.csv', sep=';')\n",
    "    print(f\"Sueños sin clasificar {36202 - sum(topics['Dominant_Topic'].value_counts())}\")\n",
    "    print(f\"Topicos clasificados {len(topics['Dominant_Topic'].value_counts())}\")\n",
    "    print(topics['Dominant_Topic'].value_counts())\n"
   ]
  },
  {
   "cell_type": "code",
   "execution_count": null,
   "metadata": {},
   "outputs": [],
   "source": []
  },
  {
   "cell_type": "code",
   "execution_count": null,
   "metadata": {},
   "outputs": [],
   "source": []
  },
  {
   "cell_type": "code",
   "execution_count": null,
   "metadata": {},
   "outputs": [],
   "source": []
  }
 ],
 "metadata": {
  "language_info": {
   "codemirror_mode": {
    "name": "ipython",
    "version": 3
   },
   "file_extension": ".py",
   "mimetype": "text/x-python",
   "name": "python",
   "nbconvert_exporter": "python",
   "pygments_lexer": "ipython3",
   "version": "3.7.7-final"
  },
  "orig_nbformat": 2,
  "kernelspec": {
   "name": "python3",
   "display_name": "Python 3"
  }
 },
 "nbformat": 4,
 "nbformat_minor": 2
}