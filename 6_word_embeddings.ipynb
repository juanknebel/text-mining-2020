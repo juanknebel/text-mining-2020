{
  "nbformat": 4,
  "nbformat_minor": 0,
  "metadata": {
    "kernelspec": {
      "display_name": "Python 3",
      "language": "python",
      "name": "python3"
    },
    "language_info": {
      "codemirror_mode": {
        "name": "ipython",
        "version": 3
      },
      "file_extension": ".py",
      "mimetype": "text/x-python",
      "name": "python",
      "nbconvert_exporter": "python",
      "pygments_lexer": "ipython3",
      "version": "3.7.2"
    },
    "colab": {
      "name": "6.word-embeddings.ipynb",
      "provenance": [],
      "collapsed_sections": [],
      "include_colab_link": true
    },
    "accelerator": "GPU",
    "widgets": {
      "application/vnd.jupyter.widget-state+json": {
        "fe322a93c31a4066ad662e2ebc2b431d": {
          "model_module": "@jupyter-widgets/controls",
          "model_name": "HBoxModel",
          "state": {
            "_view_name": "HBoxView",
            "_dom_classes": [],
            "_model_name": "HBoxModel",
            "_view_module": "@jupyter-widgets/controls",
            "_model_module_version": "1.5.0",
            "_view_count": null,
            "_view_module_version": "1.5.0",
            "box_style": "",
            "layout": "IPY_MODEL_8c73cc358388415494b5380b6f899c51",
            "_model_module": "@jupyter-widgets/controls",
            "children": [
              "IPY_MODEL_90863187485248a6badd356accee8db2",
              "IPY_MODEL_ecbb30cfdd8e41999bd9544805a47a9b"
            ]
          }
        },
        "8c73cc358388415494b5380b6f899c51": {
          "model_module": "@jupyter-widgets/base",
          "model_name": "LayoutModel",
          "state": {
            "_view_name": "LayoutView",
            "grid_template_rows": null,
            "right": null,
            "justify_content": null,
            "_view_module": "@jupyter-widgets/base",
            "overflow": null,
            "_model_module_version": "1.2.0",
            "_view_count": null,
            "flex_flow": null,
            "width": null,
            "min_width": null,
            "border": null,
            "align_items": null,
            "bottom": null,
            "_model_module": "@jupyter-widgets/base",
            "top": null,
            "grid_column": null,
            "overflow_y": null,
            "overflow_x": null,
            "grid_auto_flow": null,
            "grid_area": null,
            "grid_template_columns": null,
            "flex": null,
            "_model_name": "LayoutModel",
            "justify_items": null,
            "grid_row": null,
            "max_height": null,
            "align_content": null,
            "visibility": null,
            "align_self": null,
            "height": null,
            "min_height": null,
            "padding": null,
            "grid_auto_rows": null,
            "grid_gap": null,
            "max_width": null,
            "order": null,
            "_view_module_version": "1.2.0",
            "grid_template_areas": null,
            "object_position": null,
            "object_fit": null,
            "grid_auto_columns": null,
            "margin": null,
            "display": null,
            "left": null
          }
        },
        "90863187485248a6badd356accee8db2": {
          "model_module": "@jupyter-widgets/controls",
          "model_name": "IntProgressModel",
          "state": {
            "_view_name": "ProgressView",
            "style": "IPY_MODEL_ffc2e654f0a74a2c9214afb288ea35e4",
            "_dom_classes": [],
            "description": "Dl Completed...: 100%",
            "_model_name": "IntProgressModel",
            "bar_style": "success",
            "max": 1,
            "_view_module": "@jupyter-widgets/controls",
            "_model_module_version": "1.5.0",
            "value": 1,
            "_view_count": null,
            "_view_module_version": "1.5.0",
            "orientation": "horizontal",
            "min": 0,
            "description_tooltip": null,
            "_model_module": "@jupyter-widgets/controls",
            "layout": "IPY_MODEL_01f48ea5c0884108bf9fcdf5a68cd681"
          }
        },
        "ecbb30cfdd8e41999bd9544805a47a9b": {
          "model_module": "@jupyter-widgets/controls",
          "model_name": "HTMLModel",
          "state": {
            "_view_name": "HTMLView",
            "style": "IPY_MODEL_880ec85a977e44b9bd53ab322b1421e7",
            "_dom_classes": [],
            "description": "",
            "_model_name": "HTMLModel",
            "placeholder": "​",
            "_view_module": "@jupyter-widgets/controls",
            "_model_module_version": "1.5.0",
            "value": " 1/1 [00:09&lt;00:00,  9.55s/ url]",
            "_view_count": null,
            "_view_module_version": "1.5.0",
            "description_tooltip": null,
            "_model_module": "@jupyter-widgets/controls",
            "layout": "IPY_MODEL_ffbeb42d101b433e98bc904c1d5cce91"
          }
        },
        "ffc2e654f0a74a2c9214afb288ea35e4": {
          "model_module": "@jupyter-widgets/controls",
          "model_name": "ProgressStyleModel",
          "state": {
            "_view_name": "StyleView",
            "_model_name": "ProgressStyleModel",
            "description_width": "initial",
            "_view_module": "@jupyter-widgets/base",
            "_model_module_version": "1.5.0",
            "_view_count": null,
            "_view_module_version": "1.2.0",
            "bar_color": null,
            "_model_module": "@jupyter-widgets/controls"
          }
        },
        "01f48ea5c0884108bf9fcdf5a68cd681": {
          "model_module": "@jupyter-widgets/base",
          "model_name": "LayoutModel",
          "state": {
            "_view_name": "LayoutView",
            "grid_template_rows": null,
            "right": null,
            "justify_content": null,
            "_view_module": "@jupyter-widgets/base",
            "overflow": null,
            "_model_module_version": "1.2.0",
            "_view_count": null,
            "flex_flow": null,
            "width": null,
            "min_width": null,
            "border": null,
            "align_items": null,
            "bottom": null,
            "_model_module": "@jupyter-widgets/base",
            "top": null,
            "grid_column": null,
            "overflow_y": null,
            "overflow_x": null,
            "grid_auto_flow": null,
            "grid_area": null,
            "grid_template_columns": null,
            "flex": null,
            "_model_name": "LayoutModel",
            "justify_items": null,
            "grid_row": null,
            "max_height": null,
            "align_content": null,
            "visibility": null,
            "align_self": null,
            "height": null,
            "min_height": null,
            "padding": null,
            "grid_auto_rows": null,
            "grid_gap": null,
            "max_width": null,
            "order": null,
            "_view_module_version": "1.2.0",
            "grid_template_areas": null,
            "object_position": null,
            "object_fit": null,
            "grid_auto_columns": null,
            "margin": null,
            "display": null,
            "left": null
          }
        },
        "880ec85a977e44b9bd53ab322b1421e7": {
          "model_module": "@jupyter-widgets/controls",
          "model_name": "DescriptionStyleModel",
          "state": {
            "_view_name": "StyleView",
            "_model_name": "DescriptionStyleModel",
            "description_width": "",
            "_view_module": "@jupyter-widgets/base",
            "_model_module_version": "1.5.0",
            "_view_count": null,
            "_view_module_version": "1.2.0",
            "_model_module": "@jupyter-widgets/controls"
          }
        },
        "ffbeb42d101b433e98bc904c1d5cce91": {
          "model_module": "@jupyter-widgets/base",
          "model_name": "LayoutModel",
          "state": {
            "_view_name": "LayoutView",
            "grid_template_rows": null,
            "right": null,
            "justify_content": null,
            "_view_module": "@jupyter-widgets/base",
            "overflow": null,
            "_model_module_version": "1.2.0",
            "_view_count": null,
            "flex_flow": null,
            "width": null,
            "min_width": null,
            "border": null,
            "align_items": null,
            "bottom": null,
            "_model_module": "@jupyter-widgets/base",
            "top": null,
            "grid_column": null,
            "overflow_y": null,
            "overflow_x": null,
            "grid_auto_flow": null,
            "grid_area": null,
            "grid_template_columns": null,
            "flex": null,
            "_model_name": "LayoutModel",
            "justify_items": null,
            "grid_row": null,
            "max_height": null,
            "align_content": null,
            "visibility": null,
            "align_self": null,
            "height": null,
            "min_height": null,
            "padding": null,
            "grid_auto_rows": null,
            "grid_gap": null,
            "max_width": null,
            "order": null,
            "_view_module_version": "1.2.0",
            "grid_template_areas": null,
            "object_position": null,
            "object_fit": null,
            "grid_auto_columns": null,
            "margin": null,
            "display": null,
            "left": null
          }
        },
        "2181dfd6e3fc4e10ab85907981c4968f": {
          "model_module": "@jupyter-widgets/controls",
          "model_name": "HBoxModel",
          "state": {
            "_view_name": "HBoxView",
            "_dom_classes": [],
            "_model_name": "HBoxModel",
            "_view_module": "@jupyter-widgets/controls",
            "_model_module_version": "1.5.0",
            "_view_count": null,
            "_view_module_version": "1.5.0",
            "box_style": "",
            "layout": "IPY_MODEL_669168d9ba174530952d369430666a94",
            "_model_module": "@jupyter-widgets/controls",
            "children": [
              "IPY_MODEL_65b134156ad247288c03843d39ef112c",
              "IPY_MODEL_814b40f604294326ae81183481a9ddff"
            ]
          }
        },
        "669168d9ba174530952d369430666a94": {
          "model_module": "@jupyter-widgets/base",
          "model_name": "LayoutModel",
          "state": {
            "_view_name": "LayoutView",
            "grid_template_rows": null,
            "right": null,
            "justify_content": null,
            "_view_module": "@jupyter-widgets/base",
            "overflow": null,
            "_model_module_version": "1.2.0",
            "_view_count": null,
            "flex_flow": null,
            "width": null,
            "min_width": null,
            "border": null,
            "align_items": null,
            "bottom": null,
            "_model_module": "@jupyter-widgets/base",
            "top": null,
            "grid_column": null,
            "overflow_y": null,
            "overflow_x": null,
            "grid_auto_flow": null,
            "grid_area": null,
            "grid_template_columns": null,
            "flex": null,
            "_model_name": "LayoutModel",
            "justify_items": null,
            "grid_row": null,
            "max_height": null,
            "align_content": null,
            "visibility": null,
            "align_self": null,
            "height": null,
            "min_height": null,
            "padding": null,
            "grid_auto_rows": null,
            "grid_gap": null,
            "max_width": null,
            "order": null,
            "_view_module_version": "1.2.0",
            "grid_template_areas": null,
            "object_position": null,
            "object_fit": null,
            "grid_auto_columns": null,
            "margin": null,
            "display": null,
            "left": null
          }
        },
        "65b134156ad247288c03843d39ef112c": {
          "model_module": "@jupyter-widgets/controls",
          "model_name": "IntProgressModel",
          "state": {
            "_view_name": "ProgressView",
            "style": "IPY_MODEL_f80869a9f8a646f9a5dcc677fd99f651",
            "_dom_classes": [],
            "description": "Dl Size...: 100%",
            "_model_name": "IntProgressModel",
            "bar_style": "success",
            "max": 1,
            "_view_module": "@jupyter-widgets/controls",
            "_model_module_version": "1.5.0",
            "value": 1,
            "_view_count": null,
            "_view_module_version": "1.5.0",
            "orientation": "horizontal",
            "min": 0,
            "description_tooltip": null,
            "_model_module": "@jupyter-widgets/controls",
            "layout": "IPY_MODEL_bb8794c4dcd74b3cbf16b2fdf3accb54"
          }
        },
        "814b40f604294326ae81183481a9ddff": {
          "model_module": "@jupyter-widgets/controls",
          "model_name": "HTMLModel",
          "state": {
            "_view_name": "HTMLView",
            "style": "IPY_MODEL_dc0039c2f7c345acb220c34084010850",
            "_dom_classes": [],
            "description": "",
            "_model_name": "HTMLModel",
            "placeholder": "​",
            "_view_module": "@jupyter-widgets/controls",
            "_model_module_version": "1.5.0",
            "value": " 80/80 [00:09&lt;00:00,  8.40 MiB/s]",
            "_view_count": null,
            "_view_module_version": "1.5.0",
            "description_tooltip": null,
            "_model_module": "@jupyter-widgets/controls",
            "layout": "IPY_MODEL_b9699cbede7445b1ba7c8220325e799f"
          }
        },
        "f80869a9f8a646f9a5dcc677fd99f651": {
          "model_module": "@jupyter-widgets/controls",
          "model_name": "ProgressStyleModel",
          "state": {
            "_view_name": "StyleView",
            "_model_name": "ProgressStyleModel",
            "description_width": "initial",
            "_view_module": "@jupyter-widgets/base",
            "_model_module_version": "1.5.0",
            "_view_count": null,
            "_view_module_version": "1.2.0",
            "bar_color": null,
            "_model_module": "@jupyter-widgets/controls"
          }
        },
        "bb8794c4dcd74b3cbf16b2fdf3accb54": {
          "model_module": "@jupyter-widgets/base",
          "model_name": "LayoutModel",
          "state": {
            "_view_name": "LayoutView",
            "grid_template_rows": null,
            "right": null,
            "justify_content": null,
            "_view_module": "@jupyter-widgets/base",
            "overflow": null,
            "_model_module_version": "1.2.0",
            "_view_count": null,
            "flex_flow": null,
            "width": null,
            "min_width": null,
            "border": null,
            "align_items": null,
            "bottom": null,
            "_model_module": "@jupyter-widgets/base",
            "top": null,
            "grid_column": null,
            "overflow_y": null,
            "overflow_x": null,
            "grid_auto_flow": null,
            "grid_area": null,
            "grid_template_columns": null,
            "flex": null,
            "_model_name": "LayoutModel",
            "justify_items": null,
            "grid_row": null,
            "max_height": null,
            "align_content": null,
            "visibility": null,
            "align_self": null,
            "height": null,
            "min_height": null,
            "padding": null,
            "grid_auto_rows": null,
            "grid_gap": null,
            "max_width": null,
            "order": null,
            "_view_module_version": "1.2.0",
            "grid_template_areas": null,
            "object_position": null,
            "object_fit": null,
            "grid_auto_columns": null,
            "margin": null,
            "display": null,
            "left": null
          }
        },
        "dc0039c2f7c345acb220c34084010850": {
          "model_module": "@jupyter-widgets/controls",
          "model_name": "DescriptionStyleModel",
          "state": {
            "_view_name": "StyleView",
            "_model_name": "DescriptionStyleModel",
            "description_width": "",
            "_view_module": "@jupyter-widgets/base",
            "_model_module_version": "1.5.0",
            "_view_count": null,
            "_view_module_version": "1.2.0",
            "_model_module": "@jupyter-widgets/controls"
          }
        },
        "b9699cbede7445b1ba7c8220325e799f": {
          "model_module": "@jupyter-widgets/base",
          "model_name": "LayoutModel",
          "state": {
            "_view_name": "LayoutView",
            "grid_template_rows": null,
            "right": null,
            "justify_content": null,
            "_view_module": "@jupyter-widgets/base",
            "overflow": null,
            "_model_module_version": "1.2.0",
            "_view_count": null,
            "flex_flow": null,
            "width": null,
            "min_width": null,
            "border": null,
            "align_items": null,
            "bottom": null,
            "_model_module": "@jupyter-widgets/base",
            "top": null,
            "grid_column": null,
            "overflow_y": null,
            "overflow_x": null,
            "grid_auto_flow": null,
            "grid_area": null,
            "grid_template_columns": null,
            "flex": null,
            "_model_name": "LayoutModel",
            "justify_items": null,
            "grid_row": null,
            "max_height": null,
            "align_content": null,
            "visibility": null,
            "align_self": null,
            "height": null,
            "min_height": null,
            "padding": null,
            "grid_auto_rows": null,
            "grid_gap": null,
            "max_width": null,
            "order": null,
            "_view_module_version": "1.2.0",
            "grid_template_areas": null,
            "object_position": null,
            "object_fit": null,
            "grid_auto_columns": null,
            "margin": null,
            "display": null,
            "left": null
          }
        },
        "c646f866a8024c2ba02a02a47953e195": {
          "model_module": "@jupyter-widgets/controls",
          "model_name": "HBoxModel",
          "state": {
            "_view_name": "HBoxView",
            "_dom_classes": [],
            "_model_name": "HBoxModel",
            "_view_module": "@jupyter-widgets/controls",
            "_model_module_version": "1.5.0",
            "_view_count": null,
            "_view_module_version": "1.5.0",
            "box_style": "",
            "layout": "IPY_MODEL_6cf0f08f0f8b4f76bbeff4cee12f3c54",
            "_model_module": "@jupyter-widgets/controls",
            "children": [
              "IPY_MODEL_4e441cfed2e444d6bb47a7d568cf08e9",
              "IPY_MODEL_4af06cdf2def434083d538be6efb1153"
            ]
          }
        },
        "6cf0f08f0f8b4f76bbeff4cee12f3c54": {
          "model_module": "@jupyter-widgets/base",
          "model_name": "LayoutModel",
          "state": {
            "_view_name": "LayoutView",
            "grid_template_rows": null,
            "right": null,
            "justify_content": null,
            "_view_module": "@jupyter-widgets/base",
            "overflow": null,
            "_model_module_version": "1.2.0",
            "_view_count": null,
            "flex_flow": null,
            "width": null,
            "min_width": null,
            "border": null,
            "align_items": null,
            "bottom": null,
            "_model_module": "@jupyter-widgets/base",
            "top": null,
            "grid_column": null,
            "overflow_y": null,
            "overflow_x": null,
            "grid_auto_flow": null,
            "grid_area": null,
            "grid_template_columns": null,
            "flex": null,
            "_model_name": "LayoutModel",
            "justify_items": null,
            "grid_row": null,
            "max_height": null,
            "align_content": null,
            "visibility": null,
            "align_self": null,
            "height": null,
            "min_height": null,
            "padding": null,
            "grid_auto_rows": null,
            "grid_gap": null,
            "max_width": null,
            "order": null,
            "_view_module_version": "1.2.0",
            "grid_template_areas": null,
            "object_position": null,
            "object_fit": null,
            "grid_auto_columns": null,
            "margin": null,
            "display": null,
            "left": null
          }
        },
        "4e441cfed2e444d6bb47a7d568cf08e9": {
          "model_module": "@jupyter-widgets/controls",
          "model_name": "IntProgressModel",
          "state": {
            "_view_name": "ProgressView",
            "style": "IPY_MODEL_f0641f148096459f99d99f57148a1188",
            "_dom_classes": [],
            "description": "",
            "_model_name": "IntProgressModel",
            "bar_style": "info",
            "max": 1,
            "_view_module": "@jupyter-widgets/controls",
            "_model_module_version": "1.5.0",
            "value": 1,
            "_view_count": null,
            "_view_module_version": "1.5.0",
            "orientation": "horizontal",
            "min": 0,
            "description_tooltip": null,
            "_model_module": "@jupyter-widgets/controls",
            "layout": "IPY_MODEL_c53ea09ae6bd49ca905515b77ac3cfe4"
          }
        },
        "4af06cdf2def434083d538be6efb1153": {
          "model_module": "@jupyter-widgets/controls",
          "model_name": "HTMLModel",
          "state": {
            "_view_name": "HTMLView",
            "style": "IPY_MODEL_b3b0167e973f4e47841eaeb490e34909",
            "_dom_classes": [],
            "description": "",
            "_model_name": "HTMLModel",
            "placeholder": "​",
            "_view_module": "@jupyter-widgets/controls",
            "_model_module_version": "1.5.0",
            "value": " 25000/0 [00:17&lt;00:00, 2399.62 examples/s]",
            "_view_count": null,
            "_view_module_version": "1.5.0",
            "description_tooltip": null,
            "_model_module": "@jupyter-widgets/controls",
            "layout": "IPY_MODEL_1d3f7f645b0040358351581c7058f0c6"
          }
        },
        "f0641f148096459f99d99f57148a1188": {
          "model_module": "@jupyter-widgets/controls",
          "model_name": "ProgressStyleModel",
          "state": {
            "_view_name": "StyleView",
            "_model_name": "ProgressStyleModel",
            "description_width": "initial",
            "_view_module": "@jupyter-widgets/base",
            "_model_module_version": "1.5.0",
            "_view_count": null,
            "_view_module_version": "1.2.0",
            "bar_color": null,
            "_model_module": "@jupyter-widgets/controls"
          }
        },
        "c53ea09ae6bd49ca905515b77ac3cfe4": {
          "model_module": "@jupyter-widgets/base",
          "model_name": "LayoutModel",
          "state": {
            "_view_name": "LayoutView",
            "grid_template_rows": null,
            "right": null,
            "justify_content": null,
            "_view_module": "@jupyter-widgets/base",
            "overflow": null,
            "_model_module_version": "1.2.0",
            "_view_count": null,
            "flex_flow": null,
            "width": null,
            "min_width": null,
            "border": null,
            "align_items": null,
            "bottom": null,
            "_model_module": "@jupyter-widgets/base",
            "top": null,
            "grid_column": null,
            "overflow_y": null,
            "overflow_x": null,
            "grid_auto_flow": null,
            "grid_area": null,
            "grid_template_columns": null,
            "flex": null,
            "_model_name": "LayoutModel",
            "justify_items": null,
            "grid_row": null,
            "max_height": null,
            "align_content": null,
            "visibility": null,
            "align_self": null,
            "height": null,
            "min_height": null,
            "padding": null,
            "grid_auto_rows": null,
            "grid_gap": null,
            "max_width": null,
            "order": null,
            "_view_module_version": "1.2.0",
            "grid_template_areas": null,
            "object_position": null,
            "object_fit": null,
            "grid_auto_columns": null,
            "margin": null,
            "display": null,
            "left": null
          }
        },
        "b3b0167e973f4e47841eaeb490e34909": {
          "model_module": "@jupyter-widgets/controls",
          "model_name": "DescriptionStyleModel",
          "state": {
            "_view_name": "StyleView",
            "_model_name": "DescriptionStyleModel",
            "description_width": "",
            "_view_module": "@jupyter-widgets/base",
            "_model_module_version": "1.5.0",
            "_view_count": null,
            "_view_module_version": "1.2.0",
            "_model_module": "@jupyter-widgets/controls"
          }
        },
        "1d3f7f645b0040358351581c7058f0c6": {
          "model_module": "@jupyter-widgets/base",
          "model_name": "LayoutModel",
          "state": {
            "_view_name": "LayoutView",
            "grid_template_rows": null,
            "right": null,
            "justify_content": null,
            "_view_module": "@jupyter-widgets/base",
            "overflow": null,
            "_model_module_version": "1.2.0",
            "_view_count": null,
            "flex_flow": null,
            "width": null,
            "min_width": null,
            "border": null,
            "align_items": null,
            "bottom": null,
            "_model_module": "@jupyter-widgets/base",
            "top": null,
            "grid_column": null,
            "overflow_y": null,
            "overflow_x": null,
            "grid_auto_flow": null,
            "grid_area": null,
            "grid_template_columns": null,
            "flex": null,
            "_model_name": "LayoutModel",
            "justify_items": null,
            "grid_row": null,
            "max_height": null,
            "align_content": null,
            "visibility": null,
            "align_self": null,
            "height": null,
            "min_height": null,
            "padding": null,
            "grid_auto_rows": null,
            "grid_gap": null,
            "max_width": null,
            "order": null,
            "_view_module_version": "1.2.0",
            "grid_template_areas": null,
            "object_position": null,
            "object_fit": null,
            "grid_auto_columns": null,
            "margin": null,
            "display": null,
            "left": null
          }
        },
        "d3f9951a2d5f49ecb37394d675a52c22": {
          "model_module": "@jupyter-widgets/controls",
          "model_name": "HBoxModel",
          "state": {
            "_view_name": "HBoxView",
            "_dom_classes": [],
            "_model_name": "HBoxModel",
            "_view_module": "@jupyter-widgets/controls",
            "_model_module_version": "1.5.0",
            "_view_count": null,
            "_view_module_version": "1.5.0",
            "box_style": "",
            "layout": "IPY_MODEL_61002647ac764a1aa8424b1922f9254e",
            "_model_module": "@jupyter-widgets/controls",
            "children": [
              "IPY_MODEL_4042ecdfc2f54368ab199651058bf0b6",
              "IPY_MODEL_96647d46e45441ba8f1a78be47a565f3"
            ]
          }
        },
        "61002647ac764a1aa8424b1922f9254e": {
          "model_module": "@jupyter-widgets/base",
          "model_name": "LayoutModel",
          "state": {
            "_view_name": "LayoutView",
            "grid_template_rows": null,
            "right": null,
            "justify_content": null,
            "_view_module": "@jupyter-widgets/base",
            "overflow": null,
            "_model_module_version": "1.2.0",
            "_view_count": null,
            "flex_flow": null,
            "width": null,
            "min_width": null,
            "border": null,
            "align_items": null,
            "bottom": null,
            "_model_module": "@jupyter-widgets/base",
            "top": null,
            "grid_column": null,
            "overflow_y": null,
            "overflow_x": null,
            "grid_auto_flow": null,
            "grid_area": null,
            "grid_template_columns": null,
            "flex": null,
            "_model_name": "LayoutModel",
            "justify_items": null,
            "grid_row": null,
            "max_height": null,
            "align_content": null,
            "visibility": null,
            "align_self": null,
            "height": null,
            "min_height": null,
            "padding": null,
            "grid_auto_rows": null,
            "grid_gap": null,
            "max_width": null,
            "order": null,
            "_view_module_version": "1.2.0",
            "grid_template_areas": null,
            "object_position": null,
            "object_fit": null,
            "grid_auto_columns": null,
            "margin": null,
            "display": null,
            "left": null
          }
        },
        "4042ecdfc2f54368ab199651058bf0b6": {
          "model_module": "@jupyter-widgets/controls",
          "model_name": "IntProgressModel",
          "state": {
            "_view_name": "ProgressView",
            "style": "IPY_MODEL_fa92c6dd60ea40feb39e31cdca90cb75",
            "_dom_classes": [],
            "description": " 24%",
            "_model_name": "IntProgressModel",
            "bar_style": "danger",
            "max": 25000,
            "_view_module": "@jupyter-widgets/controls",
            "_model_module_version": "1.5.0",
            "value": 5997,
            "_view_count": null,
            "_view_module_version": "1.5.0",
            "orientation": "horizontal",
            "min": 0,
            "description_tooltip": null,
            "_model_module": "@jupyter-widgets/controls",
            "layout": "IPY_MODEL_a26b306f79614aa397a74b6dfdddc0b6"
          }
        },
        "96647d46e45441ba8f1a78be47a565f3": {
          "model_module": "@jupyter-widgets/controls",
          "model_name": "HTMLModel",
          "state": {
            "_view_name": "HTMLView",
            "style": "IPY_MODEL_b20a386510ce4c7987085349fe1cb96b",
            "_dom_classes": [],
            "description": "",
            "_model_name": "HTMLModel",
            "placeholder": "​",
            "_view_module": "@jupyter-widgets/controls",
            "_model_module_version": "1.5.0",
            "value": " 5997/25000 [00:00&lt;00:00, 59963.91 examples/s]",
            "_view_count": null,
            "_view_module_version": "1.5.0",
            "description_tooltip": null,
            "_model_module": "@jupyter-widgets/controls",
            "layout": "IPY_MODEL_f2df4178f01a43bdbbadc0e449616c85"
          }
        },
        "fa92c6dd60ea40feb39e31cdca90cb75": {
          "model_module": "@jupyter-widgets/controls",
          "model_name": "ProgressStyleModel",
          "state": {
            "_view_name": "StyleView",
            "_model_name": "ProgressStyleModel",
            "description_width": "initial",
            "_view_module": "@jupyter-widgets/base",
            "_model_module_version": "1.5.0",
            "_view_count": null,
            "_view_module_version": "1.2.0",
            "bar_color": null,
            "_model_module": "@jupyter-widgets/controls"
          }
        },
        "a26b306f79614aa397a74b6dfdddc0b6": {
          "model_module": "@jupyter-widgets/base",
          "model_name": "LayoutModel",
          "state": {
            "_view_name": "LayoutView",
            "grid_template_rows": null,
            "right": null,
            "justify_content": null,
            "_view_module": "@jupyter-widgets/base",
            "overflow": null,
            "_model_module_version": "1.2.0",
            "_view_count": null,
            "flex_flow": null,
            "width": null,
            "min_width": null,
            "border": null,
            "align_items": null,
            "bottom": null,
            "_model_module": "@jupyter-widgets/base",
            "top": null,
            "grid_column": null,
            "overflow_y": null,
            "overflow_x": null,
            "grid_auto_flow": null,
            "grid_area": null,
            "grid_template_columns": null,
            "flex": null,
            "_model_name": "LayoutModel",
            "justify_items": null,
            "grid_row": null,
            "max_height": null,
            "align_content": null,
            "visibility": null,
            "align_self": null,
            "height": null,
            "min_height": null,
            "padding": null,
            "grid_auto_rows": null,
            "grid_gap": null,
            "max_width": null,
            "order": null,
            "_view_module_version": "1.2.0",
            "grid_template_areas": null,
            "object_position": null,
            "object_fit": null,
            "grid_auto_columns": null,
            "margin": null,
            "display": null,
            "left": null
          }
        },
        "b20a386510ce4c7987085349fe1cb96b": {
          "model_module": "@jupyter-widgets/controls",
          "model_name": "DescriptionStyleModel",
          "state": {
            "_view_name": "StyleView",
            "_model_name": "DescriptionStyleModel",
            "description_width": "",
            "_view_module": "@jupyter-widgets/base",
            "_model_module_version": "1.5.0",
            "_view_count": null,
            "_view_module_version": "1.2.0",
            "_model_module": "@jupyter-widgets/controls"
          }
        },
        "f2df4178f01a43bdbbadc0e449616c85": {
          "model_module": "@jupyter-widgets/base",
          "model_name": "LayoutModel",
          "state": {
            "_view_name": "LayoutView",
            "grid_template_rows": null,
            "right": null,
            "justify_content": null,
            "_view_module": "@jupyter-widgets/base",
            "overflow": null,
            "_model_module_version": "1.2.0",
            "_view_count": null,
            "flex_flow": null,
            "width": null,
            "min_width": null,
            "border": null,
            "align_items": null,
            "bottom": null,
            "_model_module": "@jupyter-widgets/base",
            "top": null,
            "grid_column": null,
            "overflow_y": null,
            "overflow_x": null,
            "grid_auto_flow": null,
            "grid_area": null,
            "grid_template_columns": null,
            "flex": null,
            "_model_name": "LayoutModel",
            "justify_items": null,
            "grid_row": null,
            "max_height": null,
            "align_content": null,
            "visibility": null,
            "align_self": null,
            "height": null,
            "min_height": null,
            "padding": null,
            "grid_auto_rows": null,
            "grid_gap": null,
            "max_width": null,
            "order": null,
            "_view_module_version": "1.2.0",
            "grid_template_areas": null,
            "object_position": null,
            "object_fit": null,
            "grid_auto_columns": null,
            "margin": null,
            "display": null,
            "left": null
          }
        },
        "611834472e66441e916913eed10f860a": {
          "model_module": "@jupyter-widgets/controls",
          "model_name": "HBoxModel",
          "state": {
            "_view_name": "HBoxView",
            "_dom_classes": [],
            "_model_name": "HBoxModel",
            "_view_module": "@jupyter-widgets/controls",
            "_model_module_version": "1.5.0",
            "_view_count": null,
            "_view_module_version": "1.5.0",
            "box_style": "",
            "layout": "IPY_MODEL_276162cf075e4a8a9489de566e54043c",
            "_model_module": "@jupyter-widgets/controls",
            "children": [
              "IPY_MODEL_f9b9e0385e3b4b68ba49e132386fbd47",
              "IPY_MODEL_3dabae7a4bba44ebba4a44fac84d9fbd"
            ]
          }
        },
        "276162cf075e4a8a9489de566e54043c": {
          "model_module": "@jupyter-widgets/base",
          "model_name": "LayoutModel",
          "state": {
            "_view_name": "LayoutView",
            "grid_template_rows": null,
            "right": null,
            "justify_content": null,
            "_view_module": "@jupyter-widgets/base",
            "overflow": null,
            "_model_module_version": "1.2.0",
            "_view_count": null,
            "flex_flow": null,
            "width": null,
            "min_width": null,
            "border": null,
            "align_items": null,
            "bottom": null,
            "_model_module": "@jupyter-widgets/base",
            "top": null,
            "grid_column": null,
            "overflow_y": null,
            "overflow_x": null,
            "grid_auto_flow": null,
            "grid_area": null,
            "grid_template_columns": null,
            "flex": null,
            "_model_name": "LayoutModel",
            "justify_items": null,
            "grid_row": null,
            "max_height": null,
            "align_content": null,
            "visibility": null,
            "align_self": null,
            "height": null,
            "min_height": null,
            "padding": null,
            "grid_auto_rows": null,
            "grid_gap": null,
            "max_width": null,
            "order": null,
            "_view_module_version": "1.2.0",
            "grid_template_areas": null,
            "object_position": null,
            "object_fit": null,
            "grid_auto_columns": null,
            "margin": null,
            "display": null,
            "left": null
          }
        },
        "f9b9e0385e3b4b68ba49e132386fbd47": {
          "model_module": "@jupyter-widgets/controls",
          "model_name": "IntProgressModel",
          "state": {
            "_view_name": "ProgressView",
            "style": "IPY_MODEL_bb89eb3d6b3f4ef5b9af4e7cc32e0f78",
            "_dom_classes": [],
            "description": "",
            "_model_name": "IntProgressModel",
            "bar_style": "info",
            "max": 1,
            "_view_module": "@jupyter-widgets/controls",
            "_model_module_version": "1.5.0",
            "value": 1,
            "_view_count": null,
            "_view_module_version": "1.5.0",
            "orientation": "horizontal",
            "min": 0,
            "description_tooltip": null,
            "_model_module": "@jupyter-widgets/controls",
            "layout": "IPY_MODEL_57aa9aaf92eb45fc816f692fac880328"
          }
        },
        "3dabae7a4bba44ebba4a44fac84d9fbd": {
          "model_module": "@jupyter-widgets/controls",
          "model_name": "HTMLModel",
          "state": {
            "_view_name": "HTMLView",
            "style": "IPY_MODEL_19319f660a4e49c28e15240b719f31fc",
            "_dom_classes": [],
            "description": "",
            "_model_name": "HTMLModel",
            "placeholder": "​",
            "_view_module": "@jupyter-widgets/controls",
            "_model_module_version": "1.5.0",
            "value": " 25000/0 [00:17&lt;00:00, 2272.66 examples/s]",
            "_view_count": null,
            "_view_module_version": "1.5.0",
            "description_tooltip": null,
            "_model_module": "@jupyter-widgets/controls",
            "layout": "IPY_MODEL_8815c6b733d846129c080260fd83aa22"
          }
        },
        "bb89eb3d6b3f4ef5b9af4e7cc32e0f78": {
          "model_module": "@jupyter-widgets/controls",
          "model_name": "ProgressStyleModel",
          "state": {
            "_view_name": "StyleView",
            "_model_name": "ProgressStyleModel",
            "description_width": "initial",
            "_view_module": "@jupyter-widgets/base",
            "_model_module_version": "1.5.0",
            "_view_count": null,
            "_view_module_version": "1.2.0",
            "bar_color": null,
            "_model_module": "@jupyter-widgets/controls"
          }
        },
        "57aa9aaf92eb45fc816f692fac880328": {
          "model_module": "@jupyter-widgets/base",
          "model_name": "LayoutModel",
          "state": {
            "_view_name": "LayoutView",
            "grid_template_rows": null,
            "right": null,
            "justify_content": null,
            "_view_module": "@jupyter-widgets/base",
            "overflow": null,
            "_model_module_version": "1.2.0",
            "_view_count": null,
            "flex_flow": null,
            "width": null,
            "min_width": null,
            "border": null,
            "align_items": null,
            "bottom": null,
            "_model_module": "@jupyter-widgets/base",
            "top": null,
            "grid_column": null,
            "overflow_y": null,
            "overflow_x": null,
            "grid_auto_flow": null,
            "grid_area": null,
            "grid_template_columns": null,
            "flex": null,
            "_model_name": "LayoutModel",
            "justify_items": null,
            "grid_row": null,
            "max_height": null,
            "align_content": null,
            "visibility": null,
            "align_self": null,
            "height": null,
            "min_height": null,
            "padding": null,
            "grid_auto_rows": null,
            "grid_gap": null,
            "max_width": null,
            "order": null,
            "_view_module_version": "1.2.0",
            "grid_template_areas": null,
            "object_position": null,
            "object_fit": null,
            "grid_auto_columns": null,
            "margin": null,
            "display": null,
            "left": null
          }
        },
        "19319f660a4e49c28e15240b719f31fc": {
          "model_module": "@jupyter-widgets/controls",
          "model_name": "DescriptionStyleModel",
          "state": {
            "_view_name": "StyleView",
            "_model_name": "DescriptionStyleModel",
            "description_width": "",
            "_view_module": "@jupyter-widgets/base",
            "_model_module_version": "1.5.0",
            "_view_count": null,
            "_view_module_version": "1.2.0",
            "_model_module": "@jupyter-widgets/controls"
          }
        },
        "8815c6b733d846129c080260fd83aa22": {
          "model_module": "@jupyter-widgets/base",
          "model_name": "LayoutModel",
          "state": {
            "_view_name": "LayoutView",
            "grid_template_rows": null,
            "right": null,
            "justify_content": null,
            "_view_module": "@jupyter-widgets/base",
            "overflow": null,
            "_model_module_version": "1.2.0",
            "_view_count": null,
            "flex_flow": null,
            "width": null,
            "min_width": null,
            "border": null,
            "align_items": null,
            "bottom": null,
            "_model_module": "@jupyter-widgets/base",
            "top": null,
            "grid_column": null,
            "overflow_y": null,
            "overflow_x": null,
            "grid_auto_flow": null,
            "grid_area": null,
            "grid_template_columns": null,
            "flex": null,
            "_model_name": "LayoutModel",
            "justify_items": null,
            "grid_row": null,
            "max_height": null,
            "align_content": null,
            "visibility": null,
            "align_self": null,
            "height": null,
            "min_height": null,
            "padding": null,
            "grid_auto_rows": null,
            "grid_gap": null,
            "max_width": null,
            "order": null,
            "_view_module_version": "1.2.0",
            "grid_template_areas": null,
            "object_position": null,
            "object_fit": null,
            "grid_auto_columns": null,
            "margin": null,
            "display": null,
            "left": null
          }
        },
        "52e9677665314203bb7ec6dc0c999f38": {
          "model_module": "@jupyter-widgets/controls",
          "model_name": "HBoxModel",
          "state": {
            "_view_name": "HBoxView",
            "_dom_classes": [],
            "_model_name": "HBoxModel",
            "_view_module": "@jupyter-widgets/controls",
            "_model_module_version": "1.5.0",
            "_view_count": null,
            "_view_module_version": "1.5.0",
            "box_style": "",
            "layout": "IPY_MODEL_da38bde9c9a448c3b1f65a46b9d4667b",
            "_model_module": "@jupyter-widgets/controls",
            "children": [
              "IPY_MODEL_771aeeb67bf64fe7bda4d3cf88a76a35",
              "IPY_MODEL_5b08f5ca7c22457f9f1586543690eb00"
            ]
          }
        },
        "da38bde9c9a448c3b1f65a46b9d4667b": {
          "model_module": "@jupyter-widgets/base",
          "model_name": "LayoutModel",
          "state": {
            "_view_name": "LayoutView",
            "grid_template_rows": null,
            "right": null,
            "justify_content": null,
            "_view_module": "@jupyter-widgets/base",
            "overflow": null,
            "_model_module_version": "1.2.0",
            "_view_count": null,
            "flex_flow": null,
            "width": null,
            "min_width": null,
            "border": null,
            "align_items": null,
            "bottom": null,
            "_model_module": "@jupyter-widgets/base",
            "top": null,
            "grid_column": null,
            "overflow_y": null,
            "overflow_x": null,
            "grid_auto_flow": null,
            "grid_area": null,
            "grid_template_columns": null,
            "flex": null,
            "_model_name": "LayoutModel",
            "justify_items": null,
            "grid_row": null,
            "max_height": null,
            "align_content": null,
            "visibility": null,
            "align_self": null,
            "height": null,
            "min_height": null,
            "padding": null,
            "grid_auto_rows": null,
            "grid_gap": null,
            "max_width": null,
            "order": null,
            "_view_module_version": "1.2.0",
            "grid_template_areas": null,
            "object_position": null,
            "object_fit": null,
            "grid_auto_columns": null,
            "margin": null,
            "display": null,
            "left": null
          }
        },
        "771aeeb67bf64fe7bda4d3cf88a76a35": {
          "model_module": "@jupyter-widgets/controls",
          "model_name": "IntProgressModel",
          "state": {
            "_view_name": "ProgressView",
            "style": "IPY_MODEL_e9bf8e7d9bd444b5a71406e901c6e348",
            "_dom_classes": [],
            "description": " 93%",
            "_model_name": "IntProgressModel",
            "bar_style": "danger",
            "max": 25000,
            "_view_module": "@jupyter-widgets/controls",
            "_model_module_version": "1.5.0",
            "value": 23141,
            "_view_count": null,
            "_view_module_version": "1.5.0",
            "orientation": "horizontal",
            "min": 0,
            "description_tooltip": null,
            "_model_module": "@jupyter-widgets/controls",
            "layout": "IPY_MODEL_3f67d6f325c84281933e2a170c52d028"
          }
        },
        "5b08f5ca7c22457f9f1586543690eb00": {
          "model_module": "@jupyter-widgets/controls",
          "model_name": "HTMLModel",
          "state": {
            "_view_name": "HTMLView",
            "style": "IPY_MODEL_e843aae190b748a48480f37cf6ca225b",
            "_dom_classes": [],
            "description": "",
            "_model_name": "HTMLModel",
            "placeholder": "​",
            "_view_module": "@jupyter-widgets/controls",
            "_model_module_version": "1.5.0",
            "value": " 23141/25000 [00:00&lt;00:00, 46171.10 examples/s]",
            "_view_count": null,
            "_view_module_version": "1.5.0",
            "description_tooltip": null,
            "_model_module": "@jupyter-widgets/controls",
            "layout": "IPY_MODEL_adbc6088b1ed404e91a9956a5cf505c7"
          }
        },
        "e9bf8e7d9bd444b5a71406e901c6e348": {
          "model_module": "@jupyter-widgets/controls",
          "model_name": "ProgressStyleModel",
          "state": {
            "_view_name": "StyleView",
            "_model_name": "ProgressStyleModel",
            "description_width": "initial",
            "_view_module": "@jupyter-widgets/base",
            "_model_module_version": "1.5.0",
            "_view_count": null,
            "_view_module_version": "1.2.0",
            "bar_color": null,
            "_model_module": "@jupyter-widgets/controls"
          }
        },
        "3f67d6f325c84281933e2a170c52d028": {
          "model_module": "@jupyter-widgets/base",
          "model_name": "LayoutModel",
          "state": {
            "_view_name": "LayoutView",
            "grid_template_rows": null,
            "right": null,
            "justify_content": null,
            "_view_module": "@jupyter-widgets/base",
            "overflow": null,
            "_model_module_version": "1.2.0",
            "_view_count": null,
            "flex_flow": null,
            "width": null,
            "min_width": null,
            "border": null,
            "align_items": null,
            "bottom": null,
            "_model_module": "@jupyter-widgets/base",
            "top": null,
            "grid_column": null,
            "overflow_y": null,
            "overflow_x": null,
            "grid_auto_flow": null,
            "grid_area": null,
            "grid_template_columns": null,
            "flex": null,
            "_model_name": "LayoutModel",
            "justify_items": null,
            "grid_row": null,
            "max_height": null,
            "align_content": null,
            "visibility": null,
            "align_self": null,
            "height": null,
            "min_height": null,
            "padding": null,
            "grid_auto_rows": null,
            "grid_gap": null,
            "max_width": null,
            "order": null,
            "_view_module_version": "1.2.0",
            "grid_template_areas": null,
            "object_position": null,
            "object_fit": null,
            "grid_auto_columns": null,
            "margin": null,
            "display": null,
            "left": null
          }
        },
        "e843aae190b748a48480f37cf6ca225b": {
          "model_module": "@jupyter-widgets/controls",
          "model_name": "DescriptionStyleModel",
          "state": {
            "_view_name": "StyleView",
            "_model_name": "DescriptionStyleModel",
            "description_width": "",
            "_view_module": "@jupyter-widgets/base",
            "_model_module_version": "1.5.0",
            "_view_count": null,
            "_view_module_version": "1.2.0",
            "_model_module": "@jupyter-widgets/controls"
          }
        },
        "adbc6088b1ed404e91a9956a5cf505c7": {
          "model_module": "@jupyter-widgets/base",
          "model_name": "LayoutModel",
          "state": {
            "_view_name": "LayoutView",
            "grid_template_rows": null,
            "right": null,
            "justify_content": null,
            "_view_module": "@jupyter-widgets/base",
            "overflow": null,
            "_model_module_version": "1.2.0",
            "_view_count": null,
            "flex_flow": null,
            "width": null,
            "min_width": null,
            "border": null,
            "align_items": null,
            "bottom": null,
            "_model_module": "@jupyter-widgets/base",
            "top": null,
            "grid_column": null,
            "overflow_y": null,
            "overflow_x": null,
            "grid_auto_flow": null,
            "grid_area": null,
            "grid_template_columns": null,
            "flex": null,
            "_model_name": "LayoutModel",
            "justify_items": null,
            "grid_row": null,
            "max_height": null,
            "align_content": null,
            "visibility": null,
            "align_self": null,
            "height": null,
            "min_height": null,
            "padding": null,
            "grid_auto_rows": null,
            "grid_gap": null,
            "max_width": null,
            "order": null,
            "_view_module_version": "1.2.0",
            "grid_template_areas": null,
            "object_position": null,
            "object_fit": null,
            "grid_auto_columns": null,
            "margin": null,
            "display": null,
            "left": null
          }
        },
        "59fe7db6d7e9473087c5c18a9ef5b592": {
          "model_module": "@jupyter-widgets/controls",
          "model_name": "HBoxModel",
          "state": {
            "_view_name": "HBoxView",
            "_dom_classes": [],
            "_model_name": "HBoxModel",
            "_view_module": "@jupyter-widgets/controls",
            "_model_module_version": "1.5.0",
            "_view_count": null,
            "_view_module_version": "1.5.0",
            "box_style": "",
            "layout": "IPY_MODEL_e562c5f363d74731a0f28ce624296429",
            "_model_module": "@jupyter-widgets/controls",
            "children": [
              "IPY_MODEL_3929f034174f405195cc8ae572e0e29c",
              "IPY_MODEL_538aed09fd3f46aaaa558ac9bc399d69"
            ]
          }
        },
        "e562c5f363d74731a0f28ce624296429": {
          "model_module": "@jupyter-widgets/base",
          "model_name": "LayoutModel",
          "state": {
            "_view_name": "LayoutView",
            "grid_template_rows": null,
            "right": null,
            "justify_content": null,
            "_view_module": "@jupyter-widgets/base",
            "overflow": null,
            "_model_module_version": "1.2.0",
            "_view_count": null,
            "flex_flow": null,
            "width": null,
            "min_width": null,
            "border": null,
            "align_items": null,
            "bottom": null,
            "_model_module": "@jupyter-widgets/base",
            "top": null,
            "grid_column": null,
            "overflow_y": null,
            "overflow_x": null,
            "grid_auto_flow": null,
            "grid_area": null,
            "grid_template_columns": null,
            "flex": null,
            "_model_name": "LayoutModel",
            "justify_items": null,
            "grid_row": null,
            "max_height": null,
            "align_content": null,
            "visibility": null,
            "align_self": null,
            "height": null,
            "min_height": null,
            "padding": null,
            "grid_auto_rows": null,
            "grid_gap": null,
            "max_width": null,
            "order": null,
            "_view_module_version": "1.2.0",
            "grid_template_areas": null,
            "object_position": null,
            "object_fit": null,
            "grid_auto_columns": null,
            "margin": null,
            "display": null,
            "left": null
          }
        },
        "3929f034174f405195cc8ae572e0e29c": {
          "model_module": "@jupyter-widgets/controls",
          "model_name": "IntProgressModel",
          "state": {
            "_view_name": "ProgressView",
            "style": "IPY_MODEL_e1008f1fe48542409662e6c756f18da4",
            "_dom_classes": [],
            "description": "",
            "_model_name": "IntProgressModel",
            "bar_style": "info",
            "max": 1,
            "_view_module": "@jupyter-widgets/controls",
            "_model_module_version": "1.5.0",
            "value": 1,
            "_view_count": null,
            "_view_module_version": "1.5.0",
            "orientation": "horizontal",
            "min": 0,
            "description_tooltip": null,
            "_model_module": "@jupyter-widgets/controls",
            "layout": "IPY_MODEL_777d32d4d12b4a3ab3b6df6704a7ae76"
          }
        },
        "538aed09fd3f46aaaa558ac9bc399d69": {
          "model_module": "@jupyter-widgets/controls",
          "model_name": "HTMLModel",
          "state": {
            "_view_name": "HTMLView",
            "style": "IPY_MODEL_0b5251d8e58f44e49b2100b2eaa414af",
            "_dom_classes": [],
            "description": "",
            "_model_name": "HTMLModel",
            "placeholder": "​",
            "_view_module": "@jupyter-widgets/controls",
            "_model_module_version": "1.5.0",
            "value": " 50000/0 [00:25&lt;00:00, 2354.71 examples/s]",
            "_view_count": null,
            "_view_module_version": "1.5.0",
            "description_tooltip": null,
            "_model_module": "@jupyter-widgets/controls",
            "layout": "IPY_MODEL_f026b2297fc149e9bed605eec6b884ab"
          }
        },
        "e1008f1fe48542409662e6c756f18da4": {
          "model_module": "@jupyter-widgets/controls",
          "model_name": "ProgressStyleModel",
          "state": {
            "_view_name": "StyleView",
            "_model_name": "ProgressStyleModel",
            "description_width": "initial",
            "_view_module": "@jupyter-widgets/base",
            "_model_module_version": "1.5.0",
            "_view_count": null,
            "_view_module_version": "1.2.0",
            "bar_color": null,
            "_model_module": "@jupyter-widgets/controls"
          }
        },
        "777d32d4d12b4a3ab3b6df6704a7ae76": {
          "model_module": "@jupyter-widgets/base",
          "model_name": "LayoutModel",
          "state": {
            "_view_name": "LayoutView",
            "grid_template_rows": null,
            "right": null,
            "justify_content": null,
            "_view_module": "@jupyter-widgets/base",
            "overflow": null,
            "_model_module_version": "1.2.0",
            "_view_count": null,
            "flex_flow": null,
            "width": null,
            "min_width": null,
            "border": null,
            "align_items": null,
            "bottom": null,
            "_model_module": "@jupyter-widgets/base",
            "top": null,
            "grid_column": null,
            "overflow_y": null,
            "overflow_x": null,
            "grid_auto_flow": null,
            "grid_area": null,
            "grid_template_columns": null,
            "flex": null,
            "_model_name": "LayoutModel",
            "justify_items": null,
            "grid_row": null,
            "max_height": null,
            "align_content": null,
            "visibility": null,
            "align_self": null,
            "height": null,
            "min_height": null,
            "padding": null,
            "grid_auto_rows": null,
            "grid_gap": null,
            "max_width": null,
            "order": null,
            "_view_module_version": "1.2.0",
            "grid_template_areas": null,
            "object_position": null,
            "object_fit": null,
            "grid_auto_columns": null,
            "margin": null,
            "display": null,
            "left": null
          }
        },
        "0b5251d8e58f44e49b2100b2eaa414af": {
          "model_module": "@jupyter-widgets/controls",
          "model_name": "DescriptionStyleModel",
          "state": {
            "_view_name": "StyleView",
            "_model_name": "DescriptionStyleModel",
            "description_width": "",
            "_view_module": "@jupyter-widgets/base",
            "_model_module_version": "1.5.0",
            "_view_count": null,
            "_view_module_version": "1.2.0",
            "_model_module": "@jupyter-widgets/controls"
          }
        },
        "f026b2297fc149e9bed605eec6b884ab": {
          "model_module": "@jupyter-widgets/base",
          "model_name": "LayoutModel",
          "state": {
            "_view_name": "LayoutView",
            "grid_template_rows": null,
            "right": null,
            "justify_content": null,
            "_view_module": "@jupyter-widgets/base",
            "overflow": null,
            "_model_module_version": "1.2.0",
            "_view_count": null,
            "flex_flow": null,
            "width": null,
            "min_width": null,
            "border": null,
            "align_items": null,
            "bottom": null,
            "_model_module": "@jupyter-widgets/base",
            "top": null,
            "grid_column": null,
            "overflow_y": null,
            "overflow_x": null,
            "grid_auto_flow": null,
            "grid_area": null,
            "grid_template_columns": null,
            "flex": null,
            "_model_name": "LayoutModel",
            "justify_items": null,
            "grid_row": null,
            "max_height": null,
            "align_content": null,
            "visibility": null,
            "align_self": null,
            "height": null,
            "min_height": null,
            "padding": null,
            "grid_auto_rows": null,
            "grid_gap": null,
            "max_width": null,
            "order": null,
            "_view_module_version": "1.2.0",
            "grid_template_areas": null,
            "object_position": null,
            "object_fit": null,
            "grid_auto_columns": null,
            "margin": null,
            "display": null,
            "left": null
          }
        },
        "59e665cc860642288ab461e0d5c1daad": {
          "model_module": "@jupyter-widgets/controls",
          "model_name": "HBoxModel",
          "state": {
            "_view_name": "HBoxView",
            "_dom_classes": [],
            "_model_name": "HBoxModel",
            "_view_module": "@jupyter-widgets/controls",
            "_model_module_version": "1.5.0",
            "_view_count": null,
            "_view_module_version": "1.5.0",
            "box_style": "",
            "layout": "IPY_MODEL_24c4df548bd2423298654cdd01ef37b9",
            "_model_module": "@jupyter-widgets/controls",
            "children": [
              "IPY_MODEL_0dd09d7a2554461d8880a130a6079789",
              "IPY_MODEL_de7407c0261a4afa952a5050dc52573e"
            ]
          }
        },
        "24c4df548bd2423298654cdd01ef37b9": {
          "model_module": "@jupyter-widgets/base",
          "model_name": "LayoutModel",
          "state": {
            "_view_name": "LayoutView",
            "grid_template_rows": null,
            "right": null,
            "justify_content": null,
            "_view_module": "@jupyter-widgets/base",
            "overflow": null,
            "_model_module_version": "1.2.0",
            "_view_count": null,
            "flex_flow": null,
            "width": null,
            "min_width": null,
            "border": null,
            "align_items": null,
            "bottom": null,
            "_model_module": "@jupyter-widgets/base",
            "top": null,
            "grid_column": null,
            "overflow_y": null,
            "overflow_x": null,
            "grid_auto_flow": null,
            "grid_area": null,
            "grid_template_columns": null,
            "flex": null,
            "_model_name": "LayoutModel",
            "justify_items": null,
            "grid_row": null,
            "max_height": null,
            "align_content": null,
            "visibility": null,
            "align_self": null,
            "height": null,
            "min_height": null,
            "padding": null,
            "grid_auto_rows": null,
            "grid_gap": null,
            "max_width": null,
            "order": null,
            "_view_module_version": "1.2.0",
            "grid_template_areas": null,
            "object_position": null,
            "object_fit": null,
            "grid_auto_columns": null,
            "margin": null,
            "display": null,
            "left": null
          }
        },
        "0dd09d7a2554461d8880a130a6079789": {
          "model_module": "@jupyter-widgets/controls",
          "model_name": "IntProgressModel",
          "state": {
            "_view_name": "ProgressView",
            "style": "IPY_MODEL_cc55394344cd4cc7aadfebc5e301dbb0",
            "_dom_classes": [],
            "description": " 78%",
            "_model_name": "IntProgressModel",
            "bar_style": "danger",
            "max": 50000,
            "_view_module": "@jupyter-widgets/controls",
            "_model_module_version": "1.5.0",
            "value": 39050,
            "_view_count": null,
            "_view_module_version": "1.5.0",
            "orientation": "horizontal",
            "min": 0,
            "description_tooltip": null,
            "_model_module": "@jupyter-widgets/controls",
            "layout": "IPY_MODEL_e9f82b3a7398405da35a44b394c1c23e"
          }
        },
        "de7407c0261a4afa952a5050dc52573e": {
          "model_module": "@jupyter-widgets/controls",
          "model_name": "HTMLModel",
          "state": {
            "_view_name": "HTMLView",
            "style": "IPY_MODEL_1acdcf423c0e448980f9f342563f337f",
            "_dom_classes": [],
            "description": "",
            "_model_name": "HTMLModel",
            "placeholder": "​",
            "_view_module": "@jupyter-widgets/controls",
            "_model_module_version": "1.5.0",
            "value": " 39050/50000 [00:08&lt;00:00, 29571.63 examples/s]",
            "_view_count": null,
            "_view_module_version": "1.5.0",
            "description_tooltip": null,
            "_model_module": "@jupyter-widgets/controls",
            "layout": "IPY_MODEL_e133d2fb7fce4049afb32d6f6a497242"
          }
        },
        "cc55394344cd4cc7aadfebc5e301dbb0": {
          "model_module": "@jupyter-widgets/controls",
          "model_name": "ProgressStyleModel",
          "state": {
            "_view_name": "StyleView",
            "_model_name": "ProgressStyleModel",
            "description_width": "initial",
            "_view_module": "@jupyter-widgets/base",
            "_model_module_version": "1.5.0",
            "_view_count": null,
            "_view_module_version": "1.2.0",
            "bar_color": null,
            "_model_module": "@jupyter-widgets/controls"
          }
        },
        "e9f82b3a7398405da35a44b394c1c23e": {
          "model_module": "@jupyter-widgets/base",
          "model_name": "LayoutModel",
          "state": {
            "_view_name": "LayoutView",
            "grid_template_rows": null,
            "right": null,
            "justify_content": null,
            "_view_module": "@jupyter-widgets/base",
            "overflow": null,
            "_model_module_version": "1.2.0",
            "_view_count": null,
            "flex_flow": null,
            "width": null,
            "min_width": null,
            "border": null,
            "align_items": null,
            "bottom": null,
            "_model_module": "@jupyter-widgets/base",
            "top": null,
            "grid_column": null,
            "overflow_y": null,
            "overflow_x": null,
            "grid_auto_flow": null,
            "grid_area": null,
            "grid_template_columns": null,
            "flex": null,
            "_model_name": "LayoutModel",
            "justify_items": null,
            "grid_row": null,
            "max_height": null,
            "align_content": null,
            "visibility": null,
            "align_self": null,
            "height": null,
            "min_height": null,
            "padding": null,
            "grid_auto_rows": null,
            "grid_gap": null,
            "max_width": null,
            "order": null,
            "_view_module_version": "1.2.0",
            "grid_template_areas": null,
            "object_position": null,
            "object_fit": null,
            "grid_auto_columns": null,
            "margin": null,
            "display": null,
            "left": null
          }
        },
        "1acdcf423c0e448980f9f342563f337f": {
          "model_module": "@jupyter-widgets/controls",
          "model_name": "DescriptionStyleModel",
          "state": {
            "_view_name": "StyleView",
            "_model_name": "DescriptionStyleModel",
            "description_width": "",
            "_view_module": "@jupyter-widgets/base",
            "_model_module_version": "1.5.0",
            "_view_count": null,
            "_view_module_version": "1.2.0",
            "_model_module": "@jupyter-widgets/controls"
          }
        },
        "e133d2fb7fce4049afb32d6f6a497242": {
          "model_module": "@jupyter-widgets/base",
          "model_name": "LayoutModel",
          "state": {
            "_view_name": "LayoutView",
            "grid_template_rows": null,
            "right": null,
            "justify_content": null,
            "_view_module": "@jupyter-widgets/base",
            "overflow": null,
            "_model_module_version": "1.2.0",
            "_view_count": null,
            "flex_flow": null,
            "width": null,
            "min_width": null,
            "border": null,
            "align_items": null,
            "bottom": null,
            "_model_module": "@jupyter-widgets/base",
            "top": null,
            "grid_column": null,
            "overflow_y": null,
            "overflow_x": null,
            "grid_auto_flow": null,
            "grid_area": null,
            "grid_template_columns": null,
            "flex": null,
            "_model_name": "LayoutModel",
            "justify_items": null,
            "grid_row": null,
            "max_height": null,
            "align_content": null,
            "visibility": null,
            "align_self": null,
            "height": null,
            "min_height": null,
            "padding": null,
            "grid_auto_rows": null,
            "grid_gap": null,
            "max_width": null,
            "order": null,
            "_view_module_version": "1.2.0",
            "grid_template_areas": null,
            "object_position": null,
            "object_fit": null,
            "grid_auto_columns": null,
            "margin": null,
            "display": null,
            "left": null
          }
        }
      }
    }
  },
  "cells": [
    {
      "cell_type": "markdown",
      "metadata": {
        "id": "view-in-github",
        "colab_type": "text"
      },
      "source": [
        "<a href=\"https://colab.research.google.com/github/juanknebel/text-mining-2020/blob/master/6_word_embeddings.ipynb\" target=\"_parent\"><img src=\"https://colab.research.google.com/assets/colab-badge.svg\" alt=\"Open In Colab\"/></a>"
      ]
    },
    {
      "cell_type": "code",
      "metadata": {
        "id": "R2UljDWum97h",
        "colab_type": "code",
        "outputId": "a7c67843-feb0-45d2-c393-d103b9a8caaa",
        "colab": {
          "base_uri": "https://localhost:8080/",
          "height": 126
        }
      },
      "source": [
        "%matplotlib inline \n",
        "%load_ext autoreload\n",
        "%autoreload 2\n",
        "from collections import defaultdict\n",
        "import re\n",
        "import os\n",
        "import matplotlib.pyplot as plt\n",
        "import numpy as np\n",
        "import pandas as pd   \n",
        "from gensim import corpora, models, similarities, matutils\n",
        "from gensim.models.word2vec import Word2Vec\n",
        "from gensim.models import KeyedVectors\n",
        "from gensim.matutils import cossim\n",
        "from gensim.models.phrases import Phrases, Phraser\n",
        "from nltk.corpus import stopwords\n",
        "from nltk import word_tokenize, sent_tokenize\n",
        "import nltk\n",
        "nltk.download('punkt')\n",
        "nltk.download('stopwords')\n",
        "import pickle\n",
        "import random\n",
        "import sys\n",
        "from tqdm import tqdm\n",
        "from sklearn import manifold\n",
        "import tensorflow_datasets as tfds\n"
      ],
      "execution_count": 0,
      "outputs": [
        {
          "output_type": "stream",
          "text": [
            "The autoreload extension is already loaded. To reload it, use:\n",
            "  %reload_ext autoreload\n",
            "[nltk_data] Downloading package punkt to /root/nltk_data...\n",
            "[nltk_data]   Package punkt is already up-to-date!\n",
            "[nltk_data] Downloading package stopwords to /root/nltk_data...\n",
            "[nltk_data]   Package stopwords is already up-to-date!\n"
          ],
          "name": "stdout"
        }
      ]
    },
    {
      "cell_type": "markdown",
      "metadata": {
        "id": "63h_9SPfm97m",
        "colab_type": "text"
      },
      "source": [
        "# Word2vec tutorial\n",
        "## Corpus Cleaning"
      ]
    },
    {
      "cell_type": "code",
      "metadata": {
        "id": "qRzcpwBMif_y",
        "colab_type": "code",
        "outputId": "11d061a7-7756-4c31-d2e2-095e0b62fc20",
        "colab": {
          "base_uri": "https://localhost:8080/",
          "height": 361,
          "referenced_widgets": [
            "fe322a93c31a4066ad662e2ebc2b431d",
            "8c73cc358388415494b5380b6f899c51",
            "90863187485248a6badd356accee8db2",
            "ecbb30cfdd8e41999bd9544805a47a9b",
            "ffc2e654f0a74a2c9214afb288ea35e4",
            "01f48ea5c0884108bf9fcdf5a68cd681",
            "880ec85a977e44b9bd53ab322b1421e7",
            "ffbeb42d101b433e98bc904c1d5cce91",
            "2181dfd6e3fc4e10ab85907981c4968f",
            "669168d9ba174530952d369430666a94",
            "65b134156ad247288c03843d39ef112c",
            "814b40f604294326ae81183481a9ddff",
            "f80869a9f8a646f9a5dcc677fd99f651",
            "bb8794c4dcd74b3cbf16b2fdf3accb54",
            "dc0039c2f7c345acb220c34084010850",
            "b9699cbede7445b1ba7c8220325e799f",
            "c646f866a8024c2ba02a02a47953e195",
            "6cf0f08f0f8b4f76bbeff4cee12f3c54",
            "4e441cfed2e444d6bb47a7d568cf08e9",
            "4af06cdf2def434083d538be6efb1153",
            "f0641f148096459f99d99f57148a1188",
            "c53ea09ae6bd49ca905515b77ac3cfe4",
            "b3b0167e973f4e47841eaeb490e34909",
            "1d3f7f645b0040358351581c7058f0c6",
            "d3f9951a2d5f49ecb37394d675a52c22",
            "61002647ac764a1aa8424b1922f9254e",
            "4042ecdfc2f54368ab199651058bf0b6",
            "96647d46e45441ba8f1a78be47a565f3",
            "fa92c6dd60ea40feb39e31cdca90cb75",
            "a26b306f79614aa397a74b6dfdddc0b6",
            "b20a386510ce4c7987085349fe1cb96b",
            "f2df4178f01a43bdbbadc0e449616c85",
            "611834472e66441e916913eed10f860a",
            "276162cf075e4a8a9489de566e54043c",
            "f9b9e0385e3b4b68ba49e132386fbd47",
            "3dabae7a4bba44ebba4a44fac84d9fbd",
            "bb89eb3d6b3f4ef5b9af4e7cc32e0f78",
            "57aa9aaf92eb45fc816f692fac880328",
            "19319f660a4e49c28e15240b719f31fc",
            "8815c6b733d846129c080260fd83aa22",
            "52e9677665314203bb7ec6dc0c999f38",
            "da38bde9c9a448c3b1f65a46b9d4667b",
            "771aeeb67bf64fe7bda4d3cf88a76a35",
            "5b08f5ca7c22457f9f1586543690eb00",
            "e9bf8e7d9bd444b5a71406e901c6e348",
            "3f67d6f325c84281933e2a170c52d028",
            "e843aae190b748a48480f37cf6ca225b",
            "adbc6088b1ed404e91a9956a5cf505c7",
            "59fe7db6d7e9473087c5c18a9ef5b592",
            "e562c5f363d74731a0f28ce624296429",
            "3929f034174f405195cc8ae572e0e29c",
            "538aed09fd3f46aaaa558ac9bc399d69",
            "e1008f1fe48542409662e6c756f18da4",
            "777d32d4d12b4a3ab3b6df6704a7ae76",
            "0b5251d8e58f44e49b2100b2eaa414af",
            "f026b2297fc149e9bed605eec6b884ab",
            "59e665cc860642288ab461e0d5c1daad",
            "24c4df548bd2423298654cdd01ef37b9",
            "0dd09d7a2554461d8880a130a6079789",
            "de7407c0261a4afa952a5050dc52573e",
            "cc55394344cd4cc7aadfebc5e301dbb0",
            "e9f82b3a7398405da35a44b394c1c23e",
            "1acdcf423c0e448980f9f342563f337f",
            "e133d2fb7fce4049afb32d6f6a497242"
          ]
        }
      },
      "source": [
        "# Split the training set into 60% and 40%, so we'll end up with 15,000 examples\n",
        "# for training, 10,000 examples for validation and 25,000 examples for testing.\n",
        "train_data, validation_data, test_data = tfds.load(\n",
        "    name=\"imdb_reviews\", \n",
        "    split=('train[:60%]', 'train[60%:]', 'test'),\n",
        "    as_supervised=True)"
      ],
      "execution_count": 0,
      "outputs": [
        {
          "output_type": "stream",
          "text": [
            "\u001b[1mDownloading and preparing dataset imdb_reviews/plain_text/1.0.0 (download: 80.23 MiB, generated: Unknown size, total: 80.23 MiB) to /root/tensorflow_datasets/imdb_reviews/plain_text/1.0.0...\u001b[0m\n"
          ],
          "name": "stdout"
        },
        {
          "output_type": "display_data",
          "data": {
            "application/vnd.jupyter.widget-view+json": {
              "model_id": "fe322a93c31a4066ad662e2ebc2b431d",
              "version_minor": 0,
              "version_major": 2
            },
            "text/plain": [
              "HBox(children=(IntProgress(value=1, bar_style='info', description='Dl Completed...', max=1, style=ProgressStyl…"
            ]
          },
          "metadata": {
            "tags": []
          }
        },
        {
          "output_type": "display_data",
          "data": {
            "application/vnd.jupyter.widget-view+json": {
              "model_id": "2181dfd6e3fc4e10ab85907981c4968f",
              "version_minor": 0,
              "version_major": 2
            },
            "text/plain": [
              "HBox(children=(IntProgress(value=1, bar_style='info', description='Dl Size...', max=1, style=ProgressStyle(des…"
            ]
          },
          "metadata": {
            "tags": []
          }
        },
        {
          "output_type": "stream",
          "text": [
            "\n",
            "\n",
            "\n",
            "\n"
          ],
          "name": "stdout"
        },
        {
          "output_type": "display_data",
          "data": {
            "application/vnd.jupyter.widget-view+json": {
              "model_id": "c646f866a8024c2ba02a02a47953e195",
              "version_minor": 0,
              "version_major": 2
            },
            "text/plain": [
              "HBox(children=(IntProgress(value=1, bar_style='info', max=1), HTML(value='')))"
            ]
          },
          "metadata": {
            "tags": []
          }
        },
        {
          "output_type": "stream",
          "text": [
            "\rShuffling and writing examples to /root/tensorflow_datasets/imdb_reviews/plain_text/1.0.0.incomplete0BR4GB/imdb_reviews-train.tfrecord\n"
          ],
          "name": "stdout"
        },
        {
          "output_type": "display_data",
          "data": {
            "application/vnd.jupyter.widget-view+json": {
              "model_id": "d3f9951a2d5f49ecb37394d675a52c22",
              "version_minor": 0,
              "version_major": 2
            },
            "text/plain": [
              "HBox(children=(IntProgress(value=0, max=25000), HTML(value='')))"
            ]
          },
          "metadata": {
            "tags": []
          }
        },
        {
          "output_type": "stream",
          "text": [
            "\r"
          ],
          "name": "stdout"
        },
        {
          "output_type": "display_data",
          "data": {
            "application/vnd.jupyter.widget-view+json": {
              "model_id": "611834472e66441e916913eed10f860a",
              "version_minor": 0,
              "version_major": 2
            },
            "text/plain": [
              "HBox(children=(IntProgress(value=1, bar_style='info', max=1), HTML(value='')))"
            ]
          },
          "metadata": {
            "tags": []
          }
        },
        {
          "output_type": "stream",
          "text": [
            "\rShuffling and writing examples to /root/tensorflow_datasets/imdb_reviews/plain_text/1.0.0.incomplete0BR4GB/imdb_reviews-test.tfrecord\n"
          ],
          "name": "stdout"
        },
        {
          "output_type": "display_data",
          "data": {
            "application/vnd.jupyter.widget-view+json": {
              "model_id": "52e9677665314203bb7ec6dc0c999f38",
              "version_minor": 0,
              "version_major": 2
            },
            "text/plain": [
              "HBox(children=(IntProgress(value=0, max=25000), HTML(value='')))"
            ]
          },
          "metadata": {
            "tags": []
          }
        },
        {
          "output_type": "stream",
          "text": [
            "\r"
          ],
          "name": "stdout"
        },
        {
          "output_type": "display_data",
          "data": {
            "application/vnd.jupyter.widget-view+json": {
              "model_id": "59fe7db6d7e9473087c5c18a9ef5b592",
              "version_minor": 0,
              "version_major": 2
            },
            "text/plain": [
              "HBox(children=(IntProgress(value=1, bar_style='info', max=1), HTML(value='')))"
            ]
          },
          "metadata": {
            "tags": []
          }
        },
        {
          "output_type": "stream",
          "text": [
            "\rShuffling and writing examples to /root/tensorflow_datasets/imdb_reviews/plain_text/1.0.0.incomplete0BR4GB/imdb_reviews-unsupervised.tfrecord\n"
          ],
          "name": "stdout"
        },
        {
          "output_type": "display_data",
          "data": {
            "application/vnd.jupyter.widget-view+json": {
              "model_id": "59e665cc860642288ab461e0d5c1daad",
              "version_minor": 0,
              "version_major": 2
            },
            "text/plain": [
              "HBox(children=(IntProgress(value=0, max=50000), HTML(value='')))"
            ]
          },
          "metadata": {
            "tags": []
          }
        },
        {
          "output_type": "stream",
          "text": [
            "\u001b[1mDataset imdb_reviews downloaded and prepared to /root/tensorflow_datasets/imdb_reviews/plain_text/1.0.0. Subsequent calls will reuse this data.\u001b[0m\n"
          ],
          "name": "stdout"
        }
      ]
    },
    {
      "cell_type": "code",
      "metadata": {
        "id": "vij9B8UWjr_h",
        "colab_type": "code",
        "colab": {}
      },
      "source": [
        "df_train = pd.DataFrame(list(tfds.as_numpy(train_data)),columns=['texto','clase'])\n",
        "df_dev = pd.DataFrame(list(tfds.as_numpy(validation_data)),columns=['texto','clase'])\n",
        "df_test = pd.DataFrame(list(tfds.as_numpy(test_data)),columns=['texto','clase'])"
      ],
      "execution_count": 0,
      "outputs": []
    },
    {
      "cell_type": "code",
      "metadata": {
        "id": "CVhphY2_CuMW",
        "colab_type": "code",
        "outputId": "8baa214d-09bc-4512-8452-f6f98bbb1b1d",
        "colab": {
          "base_uri": "https://localhost:8080/",
          "height": 55
        }
      },
      "source": [
        "df_train.texto[0]"
      ],
      "execution_count": 0,
      "outputs": [
        {
          "output_type": "execute_result",
          "data": {
            "text/plain": [
              "b\"This was an absolutely terrible movie. Don't be lured in by Christopher Walken or Michael Ironside. Both are great actors, but this must simply be their worst role in history. Even their great acting could not redeem this movie's ridiculous storyline. This movie is an early nineties US propaganda piece. The most pathetic scenes were those when the Columbian rebels were making their cases for revolutions. Maria Conchita Alonso appeared phony, and her pseudo-love affair with Walken was nothing but a pathetic emotional plug in a movie that was devoid of any real meaning. I am disappointed that there are movies like this, ruining actor's like Christopher Walken's good name. I could barely sit through it.\""
            ]
          },
          "metadata": {
            "tags": []
          },
          "execution_count": 10
        }
      ]
    },
    {
      "cell_type": "code",
      "metadata": {
        "id": "GNarKiJ__7Ib",
        "colab_type": "code",
        "colab": {}
      },
      "source": [
        "trainset = []\n",
        "for rev in df_train.texto:\n",
        "  rev = rev.decode('utf-8').lower()\n",
        "  # clean review\n",
        "  rev = re.sub('<.*?>',' ',rev)\n",
        "  #split by sentence\n",
        "  sentences = sent_tokenize(rev)\n",
        "  for sent in sentences:\n",
        "    # word tokenize and append the sentence as a list of words\n",
        "    trainset.append([word for word in word_tokenize(sent) if word.isalpha()])"
      ],
      "execution_count": 0,
      "outputs": []
    },
    {
      "cell_type": "code",
      "metadata": {
        "id": "my4dbzYDB3kZ",
        "colab_type": "code",
        "outputId": "46b9f3f4-bf24-4020-b0da-52348130c999",
        "colab": {
          "base_uri": "https://localhost:8080/",
          "height": 472
        }
      },
      "source": [
        "trainset[:3]"
      ],
      "execution_count": 0,
      "outputs": [
        {
          "output_type": "execute_result",
          "data": {
            "text/plain": [
              "[['this', 'was', 'an', 'absolutely', 'terrible', 'movie'],\n",
              " ['do',\n",
              "  'be',\n",
              "  'lured',\n",
              "  'in',\n",
              "  'by',\n",
              "  'christopher',\n",
              "  'walken',\n",
              "  'or',\n",
              "  'michael',\n",
              "  'ironside'],\n",
              " ['both',\n",
              "  'are',\n",
              "  'great',\n",
              "  'actors',\n",
              "  'but',\n",
              "  'this',\n",
              "  'must',\n",
              "  'simply',\n",
              "  'be',\n",
              "  'their',\n",
              "  'worst',\n",
              "  'role',\n",
              "  'in',\n",
              "  'history']]"
            ]
          },
          "metadata": {
            "tags": []
          },
          "execution_count": 13
        }
      ]
    },
    {
      "cell_type": "code",
      "metadata": {
        "id": "HwATy5rwm971",
        "colab_type": "code",
        "outputId": "0a88f152-7e92-4d86-e9fa-b5d6fffee2f2",
        "colab": {
          "base_uri": "https://localhost:8080/",
          "height": 35
        }
      },
      "source": [
        "print(\"el corpus tiene\",len(trainset), \"oraciones y\",sum([len(x) for x in trainset]),\"palabras\"   )"
      ],
      "execution_count": 0,
      "outputs": [
        {
          "output_type": "stream",
          "text": [
            "el corpus tiene 184206 oraciones y 3402851 palabras\n"
          ],
          "name": "stdout"
        }
      ]
    },
    {
      "cell_type": "code",
      "metadata": {
        "id": "StXZH1zWPzuq",
        "colab_type": "code",
        "colab": {}
      },
      "source": [
        "collocations = Phrases(sentences=trainset, min_count=10,threshold=0.5,scoring='npmi') # threshold: minimo score aceptado"
      ],
      "execution_count": 0,
      "outputs": []
    },
    {
      "cell_type": "code",
      "metadata": {
        "id": "VoeeJVZtQe37",
        "colab_type": "code",
        "colab": {}
      },
      "source": [
        "to_collocations = Phraser(collocations)"
      ],
      "execution_count": 0,
      "outputs": []
    },
    {
      "cell_type": "code",
      "metadata": {
        "id": "uMcicaVvQwTF",
        "colab_type": "code",
        "outputId": "9a0cd0a5-3b2d-4179-e60b-6d201e360297",
        "colab": {
          "base_uri": "https://localhost:8080/",
          "height": 35
        }
      },
      "source": [
        "df_collocations =pd.DataFrame([x for x in collocations.export_phrases(trainset)],columns=[\"bigram\",\"score\"])\n",
        "df_collocations.shape"
      ],
      "execution_count": 0,
      "outputs": [
        {
          "output_type": "execute_result",
          "data": {
            "text/plain": [
              "(74168, 2)"
            ]
          },
          "metadata": {
            "tags": []
          },
          "execution_count": 17
        }
      ]
    },
    {
      "cell_type": "code",
      "metadata": {
        "id": "eK86uCR1RgRD",
        "colab_type": "code",
        "outputId": "a3779fe0-27dd-400b-e22f-37f0fdc8bf3c",
        "colab": {
          "base_uri": "https://localhost:8080/",
          "height": 1000
        }
      },
      "source": [
        "df_collocations.drop_duplicates().sort_values(by=\"score\",ascending=False).head(50)"
      ],
      "execution_count": 0,
      "outputs": [
        {
          "output_type": "execute_result",
          "data": {
            "text/html": [
              "<div>\n",
              "<style scoped>\n",
              "    .dataframe tbody tr th:only-of-type {\n",
              "        vertical-align: middle;\n",
              "    }\n",
              "\n",
              "    .dataframe tbody tr th {\n",
              "        vertical-align: top;\n",
              "    }\n",
              "\n",
              "    .dataframe thead th {\n",
              "        text-align: right;\n",
              "    }\n",
              "</style>\n",
              "<table border=\"1\" class=\"dataframe\">\n",
              "  <thead>\n",
              "    <tr style=\"text-align: right;\">\n",
              "      <th></th>\n",
              "      <th>bigram</th>\n",
              "      <th>score</th>\n",
              "    </tr>\n",
              "  </thead>\n",
              "  <tbody>\n",
              "    <tr>\n",
              "      <th>6308</th>\n",
              "      <td>b'mardi gras'</td>\n",
              "      <td>1.000000</td>\n",
              "    </tr>\n",
              "    <tr>\n",
              "      <th>3208</th>\n",
              "      <td>b'tel aviv'</td>\n",
              "      <td>1.000000</td>\n",
              "    </tr>\n",
              "    <tr>\n",
              "      <th>1379</th>\n",
              "      <td>b'sci fi'</td>\n",
              "      <td>0.996087</td>\n",
              "    </tr>\n",
              "    <tr>\n",
              "      <th>1826</th>\n",
              "      <td>b'dalai lama'</td>\n",
              "      <td>0.993117</td>\n",
              "    </tr>\n",
              "    <tr>\n",
              "      <th>2035</th>\n",
              "      <td>b'nisha kothari'</td>\n",
              "      <td>0.993117</td>\n",
              "    </tr>\n",
              "    <tr>\n",
              "      <th>2067</th>\n",
              "      <td>b'anchors aweigh'</td>\n",
              "      <td>0.988910</td>\n",
              "    </tr>\n",
              "    <tr>\n",
              "      <th>15728</th>\n",
              "      <td>b'rosalba neri'</td>\n",
              "      <td>0.985035</td>\n",
              "    </tr>\n",
              "    <tr>\n",
              "      <th>4799</th>\n",
              "      <td>b'alfre woodard'</td>\n",
              "      <td>0.983669</td>\n",
              "    </tr>\n",
              "    <tr>\n",
              "      <th>19233</th>\n",
              "      <td>b'ettore scola'</td>\n",
              "      <td>0.979402</td>\n",
              "    </tr>\n",
              "    <tr>\n",
              "      <th>7921</th>\n",
              "      <td>b'cloris leachman'</td>\n",
              "      <td>0.978204</td>\n",
              "    </tr>\n",
              "    <tr>\n",
              "      <th>6526</th>\n",
              "      <td>b'scatman crothers'</td>\n",
              "      <td>0.978204</td>\n",
              "    </tr>\n",
              "    <tr>\n",
              "      <th>3310</th>\n",
              "      <td>b'los angeles'</td>\n",
              "      <td>0.976958</td>\n",
              "    </tr>\n",
              "    <tr>\n",
              "      <th>9101</th>\n",
              "      <td>b'angelina jolie'</td>\n",
              "      <td>0.975803</td>\n",
              "    </tr>\n",
              "    <tr>\n",
              "      <th>6257</th>\n",
              "      <td>b'shia labeouf'</td>\n",
              "      <td>0.974041</td>\n",
              "    </tr>\n",
              "    <tr>\n",
              "      <th>2941</th>\n",
              "      <td>b'olympia dukakis'</td>\n",
              "      <td>0.973578</td>\n",
              "    </tr>\n",
              "    <tr>\n",
              "      <th>1743</th>\n",
              "      <td>b'kung fu'</td>\n",
              "      <td>0.973519</td>\n",
              "    </tr>\n",
              "    <tr>\n",
              "      <th>890</th>\n",
              "      <td>b'las vegas'</td>\n",
              "      <td>0.973090</td>\n",
              "    </tr>\n",
              "    <tr>\n",
              "      <th>2534</th>\n",
              "      <td>b'rajpal yadav'</td>\n",
              "      <td>0.971885</td>\n",
              "    </tr>\n",
              "    <tr>\n",
              "      <th>94</th>\n",
              "      <td>b'nana patekar'</td>\n",
              "      <td>0.970711</td>\n",
              "    </tr>\n",
              "    <tr>\n",
              "      <th>2514</th>\n",
              "      <td>b'boman irani'</td>\n",
              "      <td>0.970682</td>\n",
              "    </tr>\n",
              "    <tr>\n",
              "      <th>2485</th>\n",
              "      <td>b'femme fatale'</td>\n",
              "      <td>0.970302</td>\n",
              "    </tr>\n",
              "    <tr>\n",
              "      <th>12281</th>\n",
              "      <td>b'bon jovi'</td>\n",
              "      <td>0.969734</td>\n",
              "    </tr>\n",
              "    <tr>\n",
              "      <th>1368</th>\n",
              "      <td>b'gunga din'</td>\n",
              "      <td>0.969450</td>\n",
              "    </tr>\n",
              "    <tr>\n",
              "      <th>3357</th>\n",
              "      <td>b'sybil danning'</td>\n",
              "      <td>0.967170</td>\n",
              "    </tr>\n",
              "    <tr>\n",
              "      <th>712</th>\n",
              "      <td>b'hong kong'</td>\n",
              "      <td>0.967077</td>\n",
              "    </tr>\n",
              "    <tr>\n",
              "      <th>2033</th>\n",
              "      <td>b'ajay devgan'</td>\n",
              "      <td>0.966388</td>\n",
              "    </tr>\n",
              "    <tr>\n",
              "      <th>7340</th>\n",
              "      <td>b'ava gardner'</td>\n",
              "      <td>0.965883</td>\n",
              "    </tr>\n",
              "    <tr>\n",
              "      <th>5505</th>\n",
              "      <td>b'grady harp'</td>\n",
              "      <td>0.961923</td>\n",
              "    </tr>\n",
              "    <tr>\n",
              "      <th>296</th>\n",
              "      <td>b'monty python'</td>\n",
              "      <td>0.961793</td>\n",
              "    </tr>\n",
              "    <tr>\n",
              "      <th>1160</th>\n",
              "      <td>b'martial arts'</td>\n",
              "      <td>0.961051</td>\n",
              "    </tr>\n",
              "    <tr>\n",
              "      <th>2063</th>\n",
              "      <td>b'marisa tomei'</td>\n",
              "      <td>0.960786</td>\n",
              "    </tr>\n",
              "    <tr>\n",
              "      <th>52041</th>\n",
              "      <td>b'ling choi'</td>\n",
              "      <td>0.960685</td>\n",
              "    </tr>\n",
              "    <tr>\n",
              "      <th>1010</th>\n",
              "      <td>b'akshay kumar'</td>\n",
              "      <td>0.958160</td>\n",
              "    </tr>\n",
              "    <tr>\n",
              "      <th>4939</th>\n",
              "      <td>b'gena rowlands'</td>\n",
              "      <td>0.958099</td>\n",
              "    </tr>\n",
              "    <tr>\n",
              "      <th>10292</th>\n",
              "      <td>b'tsui hark'</td>\n",
              "      <td>0.957926</td>\n",
              "    </tr>\n",
              "    <tr>\n",
              "      <th>206</th>\n",
              "      <td>b'roller coaster'</td>\n",
              "      <td>0.957757</td>\n",
              "    </tr>\n",
              "    <tr>\n",
              "      <th>4702</th>\n",
              "      <td>b'humphrey bogart'</td>\n",
              "      <td>0.956248</td>\n",
              "    </tr>\n",
              "    <tr>\n",
              "      <th>362</th>\n",
              "      <td>b'gon na'</td>\n",
              "      <td>0.955617</td>\n",
              "    </tr>\n",
              "    <tr>\n",
              "      <th>6717</th>\n",
              "      <td>b'paz vega'</td>\n",
              "      <td>0.954513</td>\n",
              "    </tr>\n",
              "    <tr>\n",
              "      <th>6473</th>\n",
              "      <td>b'helena bonham'</td>\n",
              "      <td>0.954440</td>\n",
              "    </tr>\n",
              "    <tr>\n",
              "      <th>22794</th>\n",
              "      <td>b'judi dench'</td>\n",
              "      <td>0.954159</td>\n",
              "    </tr>\n",
              "    <tr>\n",
              "      <th>9799</th>\n",
              "      <td>b'dario argento'</td>\n",
              "      <td>0.953854</td>\n",
              "    </tr>\n",
              "    <tr>\n",
              "      <th>9853</th>\n",
              "      <td>b'myrna loy'</td>\n",
              "      <td>0.952462</td>\n",
              "    </tr>\n",
              "    <tr>\n",
              "      <th>7728</th>\n",
              "      <td>b'goldie hawn'</td>\n",
              "      <td>0.949940</td>\n",
              "    </tr>\n",
              "    <tr>\n",
              "      <th>13463</th>\n",
              "      <td>b'jeroen krabb\\xc3\\xa9'</td>\n",
              "      <td>0.949345</td>\n",
              "    </tr>\n",
              "    <tr>\n",
              "      <th>659</th>\n",
              "      <td>b'spinal tap'</td>\n",
              "      <td>0.949097</td>\n",
              "    </tr>\n",
              "    <tr>\n",
              "      <th>10695</th>\n",
              "      <td>b'dom deluise'</td>\n",
              "      <td>0.947570</td>\n",
              "    </tr>\n",
              "    <tr>\n",
              "      <th>6541</th>\n",
              "      <td>b'scooby doo'</td>\n",
              "      <td>0.946865</td>\n",
              "    </tr>\n",
              "    <tr>\n",
              "      <th>2642</th>\n",
              "      <td>b'wyatt earp'</td>\n",
              "      <td>0.946613</td>\n",
              "    </tr>\n",
              "    <tr>\n",
              "      <th>2417</th>\n",
              "      <td>b'uwe boll'</td>\n",
              "      <td>0.944490</td>\n",
              "    </tr>\n",
              "  </tbody>\n",
              "</table>\n",
              "</div>"
            ],
            "text/plain": [
              "                        bigram     score\n",
              "6308             b'mardi gras'  1.000000\n",
              "3208               b'tel aviv'  1.000000\n",
              "1379                 b'sci fi'  0.996087\n",
              "1826             b'dalai lama'  0.993117\n",
              "2035          b'nisha kothari'  0.993117\n",
              "2067         b'anchors aweigh'  0.988910\n",
              "15728          b'rosalba neri'  0.985035\n",
              "4799          b'alfre woodard'  0.983669\n",
              "19233          b'ettore scola'  0.979402\n",
              "7921        b'cloris leachman'  0.978204\n",
              "6526       b'scatman crothers'  0.978204\n",
              "3310            b'los angeles'  0.976958\n",
              "9101         b'angelina jolie'  0.975803\n",
              "6257           b'shia labeouf'  0.974041\n",
              "2941        b'olympia dukakis'  0.973578\n",
              "1743                b'kung fu'  0.973519\n",
              "890               b'las vegas'  0.973090\n",
              "2534           b'rajpal yadav'  0.971885\n",
              "94             b'nana patekar'  0.970711\n",
              "2514            b'boman irani'  0.970682\n",
              "2485           b'femme fatale'  0.970302\n",
              "12281              b'bon jovi'  0.969734\n",
              "1368              b'gunga din'  0.969450\n",
              "3357          b'sybil danning'  0.967170\n",
              "712               b'hong kong'  0.967077\n",
              "2033            b'ajay devgan'  0.966388\n",
              "7340            b'ava gardner'  0.965883\n",
              "5505             b'grady harp'  0.961923\n",
              "296            b'monty python'  0.961793\n",
              "1160           b'martial arts'  0.961051\n",
              "2063           b'marisa tomei'  0.960786\n",
              "52041             b'ling choi'  0.960685\n",
              "1010           b'akshay kumar'  0.958160\n",
              "4939          b'gena rowlands'  0.958099\n",
              "10292             b'tsui hark'  0.957926\n",
              "206          b'roller coaster'  0.957757\n",
              "4702        b'humphrey bogart'  0.956248\n",
              "362                  b'gon na'  0.955617\n",
              "6717               b'paz vega'  0.954513\n",
              "6473          b'helena bonham'  0.954440\n",
              "22794            b'judi dench'  0.954159\n",
              "9799          b'dario argento'  0.953854\n",
              "9853              b'myrna loy'  0.952462\n",
              "7728            b'goldie hawn'  0.949940\n",
              "13463  b'jeroen krabb\\xc3\\xa9'  0.949345\n",
              "659              b'spinal tap'  0.949097\n",
              "10695           b'dom deluise'  0.947570\n",
              "6541             b'scooby doo'  0.946865\n",
              "2642             b'wyatt earp'  0.946613\n",
              "2417               b'uwe boll'  0.944490"
            ]
          },
          "metadata": {
            "tags": []
          },
          "execution_count": 18
        }
      ]
    },
    {
      "cell_type": "code",
      "metadata": {
        "id": "IuiuZtUgRpOv",
        "colab_type": "code",
        "colab": {}
      },
      "source": [
        "trainset_ngrams = to_collocations[trainset]"
      ],
      "execution_count": 0,
      "outputs": []
    },
    {
      "cell_type": "code",
      "metadata": {
        "id": "5-bUh4M-Rz30",
        "colab_type": "code",
        "colab": {}
      },
      "source": [
        ""
      ],
      "execution_count": 0,
      "outputs": []
    },
    {
      "cell_type": "code",
      "metadata": {
        "id": "lvYifl8Rm977",
        "colab_type": "code",
        "colab": {}
      },
      "source": [
        "# \"window\" es el tamaño de la ventana. windows = 10, usa 10 palabras a la izquierda y 10 palabras a la derecha\n",
        "# \"n_dim\" es la dimension (i.e. el largo) de los vectores de word2vec\n",
        "# \"workers\" es el numero de cores que usa en paralelo. Para aprobechar eso es necesario tener instalado Cython)\n",
        "# \"sample\": word2vec filtra palabras que aparecen una fraccion mayor que \"sample\"\n",
        "# \"min_count\": Word2vec filtra palabras con menos apariciones que  \"min_count\"\n",
        "# \"sg\": para correr el Skipgram model (sg = 1), para correr el CBOW (sg = 0)\n",
        "# para mas detalle ver: https://radimrehurek.com/gensim/models/word2vec.html\n",
        "\n",
        "w2v_model = Word2Vec(trainset_ngrams, workers=4,size=20, min_count = 10, window = 10, sample = 1e-3,negative=5,sg=1)\n",
        "#w2v_model.save(\"word2vec_20dim\")  # save model\n",
        "#w2v_model = Word2Vec.load(\"word2vec_20dim\")  # load model"
      ],
      "execution_count": 0,
      "outputs": []
    },
    {
      "cell_type": "code",
      "metadata": {
        "id": "cHk-nT34m98B",
        "colab_type": "code",
        "outputId": "a8752a19-82f6-4d81-8fe1-1bb6d8432bca",
        "colab": {
          "base_uri": "https://localhost:8080/",
          "height": 108
        }
      },
      "source": [
        "# the output of a word2vec representation is a numpy array \n",
        "w2v_model.wv[\"awesome\"]"
      ],
      "execution_count": 0,
      "outputs": [
        {
          "output_type": "execute_result",
          "data": {
            "text/plain": [
              "array([ 0.2620795 ,  0.4830236 ,  0.53839695,  0.2710216 ,  0.46225742,\n",
              "        0.5061365 , -0.699001  , -0.62614924,  0.31715915,  0.5340142 ,\n",
              "        0.31863233,  0.06658423,  0.10042374,  0.24016327, -0.6524647 ,\n",
              "        0.08854325, -0.16921522,  0.6151717 , -0.38816532, -0.34975246],\n",
              "      dtype=float32)"
            ]
          },
          "metadata": {
            "tags": []
          },
          "execution_count": 21
        }
      ]
    },
    {
      "cell_type": "code",
      "metadata": {
        "id": "iD9c1VO6atQg",
        "colab_type": "code",
        "outputId": "d7601797-beaa-4767-e769-2bdb6afbf516",
        "colab": {
          "base_uri": "https://localhost:8080/",
          "height": 92
        }
      },
      "source": [
        "w2v_model.wv.n_similarity([\"jim_carrey\"], [\"awesome\"])"
      ],
      "execution_count": 0,
      "outputs": [
        {
          "output_type": "stream",
          "text": [
            "/usr/local/lib/python3.6/dist-packages/gensim/matutils.py:737: FutureWarning: Conversion of the second argument of issubdtype from `int` to `np.signedinteger` is deprecated. In future, it will be treated as `np.int64 == np.dtype(int).type`.\n",
            "  if np.issubdtype(vec.dtype, np.int):\n"
          ],
          "name": "stderr"
        },
        {
          "output_type": "execute_result",
          "data": {
            "text/plain": [
              "0.71393156"
            ]
          },
          "metadata": {
            "tags": []
          },
          "execution_count": 22
        }
      ]
    },
    {
      "cell_type": "code",
      "metadata": {
        "id": "75KNSo61m98E",
        "colab_type": "code",
        "outputId": "da6f2e67-9a9a-4900-ed6a-882fe529d0d9",
        "colab": {
          "base_uri": "https://localhost:8080/",
          "height": 219
        }
      },
      "source": [
        "print (\"morgan_freeman-god similarity:\",w2v_model.wv.n_similarity([\"morgan_freeman\"], [\"god\"]))\n",
        "print (\"jim_carrey-god similarity:\",w2v_model.wv.n_similarity([\"jim_carrey\"], [\"god\"]) )\n",
        "\n",
        "print (\"\\n\")\n",
        "\n",
        "print (\"morgan_freeman-silly similarity:\",w2v_model.wv.n_similarity([\"morgan_freeman\"], [\"silly\"]))\n",
        "print (\"jim_carrey-silly similarity:\",w2v_model.wv.n_similarity([\"jim_carrey\"], [\"silly\"]) )\n",
        "print (\"\\n\")\n"
      ],
      "execution_count": 0,
      "outputs": [
        {
          "output_type": "stream",
          "text": [
            "morgan_freeman-god similarity: 0.5121833\n",
            "jim_carrey-god similarity: 0.41808778\n",
            "\n",
            "\n",
            "morgan_freeman-silly similarity: 0.5037501\n",
            "jim_carrey-silly similarity: 0.62789136\n",
            "\n",
            "\n"
          ],
          "name": "stdout"
        },
        {
          "output_type": "stream",
          "text": [
            "/usr/local/lib/python3.6/dist-packages/gensim/matutils.py:737: FutureWarning: Conversion of the second argument of issubdtype from `int` to `np.signedinteger` is deprecated. In future, it will be treated as `np.int64 == np.dtype(int).type`.\n",
            "  if np.issubdtype(vec.dtype, np.int):\n"
          ],
          "name": "stderr"
        }
      ]
    },
    {
      "cell_type": "code",
      "metadata": {
        "id": "csrUhYDJm98H",
        "colab_type": "code",
        "outputId": "f4bd492c-07a4-4380-d2e9-b06cd2e8c8c3",
        "colab": {
          "base_uri": "https://localhost:8080/",
          "height": 565
        }
      },
      "source": [
        "w2v_model.most_similar(positive=[\"jim_carrey\"], negative=[], topn=25)"
      ],
      "execution_count": 0,
      "outputs": [
        {
          "output_type": "stream",
          "text": [
            "/usr/local/lib/python3.6/dist-packages/ipykernel_launcher.py:1: DeprecationWarning: Call to deprecated `most_similar` (Method will be removed in 4.0.0, use self.wv.most_similar() instead).\n",
            "  \"\"\"Entry point for launching an IPython kernel.\n",
            "/usr/local/lib/python3.6/dist-packages/gensim/matutils.py:737: FutureWarning: Conversion of the second argument of issubdtype from `int` to `np.signedinteger` is deprecated. In future, it will be treated as `np.int64 == np.dtype(int).type`.\n",
            "  if np.issubdtype(vec.dtype, np.int):\n"
          ],
          "name": "stderr"
        },
        {
          "output_type": "execute_result",
          "data": {
            "text/plain": [
              "[('dolph_lundgren', 0.9064677953720093),\n",
              " ('ben_stiller', 0.904367983341217),\n",
              " ('always', 0.9013765454292297),\n",
              " ('jamie_foxx', 0.8841544985771179),\n",
              " ('robin_williams', 0.8807902336120605),\n",
              " ('amitabh', 0.8733845949172974),\n",
              " ('amitabh_bachchan', 0.8726174235343933),\n",
              " ('tim_meadows', 0.8718438148498535),\n",
              " ('peter_falk', 0.8714364767074585),\n",
              " ('cher', 0.8697625398635864),\n",
              " ('james_belushi', 0.8644199967384338),\n",
              " ('parker_posey', 0.8643465042114258),\n",
              " ('woody', 0.8612915873527527),\n",
              " ('oscar_worthy', 0.8585971593856812),\n",
              " ('emma_roberts', 0.858180582523346),\n",
              " ('eddie_murphy', 0.8577394485473633),\n",
              " ('dani', 0.8577135801315308),\n",
              " ('michael_keaton', 0.8562790751457214),\n",
              " ('peter_sellers', 0.8553581237792969),\n",
              " ('reese_witherspoon', 0.855057954788208),\n",
              " ('tom_hanks', 0.8536950945854187),\n",
              " ('night_listener', 0.8491001129150391),\n",
              " ('depardieu', 0.8479459285736084),\n",
              " ('elvis', 0.8459537029266357),\n",
              " ('clooney', 0.8454632759094238)]"
            ]
          },
          "metadata": {
            "tags": []
          },
          "execution_count": 24
        }
      ]
    },
    {
      "cell_type": "code",
      "metadata": {
        "id": "37DjF48Zm98N",
        "colab_type": "code",
        "outputId": "bf902897-7e08-4e10-989c-c2a20d83e460",
        "colab": {
          "base_uri": "https://localhost:8080/",
          "height": 549
        }
      },
      "source": [
        "target_word=\"funny\"\n",
        "actores = [\"adam_sandler\",\"jim_carrey\",\"ben_stiller\",\"eddie_murphy\",\"mike_myers\",\"chris_rock\",\"stallone\",\"willis\",\"jackie_chan\",\n",
        "           'jet_li',\"van_damme\",\"harrison_ford\",\"schwarzenegger\",\"chuck_norris\",'dicaprio']\n",
        "fun_score = []\n",
        "for actor in actores:\n",
        "    fun_score.append(w2v_model.wv.n_similarity([target_word], [actor]))\n",
        "    \n",
        "pd.DataFrame(fun_score,index = actores,columns=[target_word]).sort_values(by=target_word).plot(kind=\"bar\",figsize=(15,5), fontsize=20)"
      ],
      "execution_count": 0,
      "outputs": [
        {
          "output_type": "stream",
          "text": [
            "/usr/local/lib/python3.6/dist-packages/gensim/matutils.py:737: FutureWarning: Conversion of the second argument of issubdtype from `int` to `np.signedinteger` is deprecated. In future, it will be treated as `np.int64 == np.dtype(int).type`.\n",
            "  if np.issubdtype(vec.dtype, np.int):\n"
          ],
          "name": "stderr"
        },
        {
          "output_type": "execute_result",
          "data": {
            "text/plain": [
              "<matplotlib.axes._subplots.AxesSubplot at 0x7fb88d667e10>"
            ]
          },
          "metadata": {
            "tags": []
          },
          "execution_count": 25
        },
        {
          "output_type": "display_data",
          "data": {
            "image/png": "[encoded data removed]",
            "text/plain": [
              "<Figure size 1080x360 with 1 Axes>"
            ]
          },
          "metadata": {
            "tags": [],
            "needs_background": "light"
          }
        }
      ]
    },
    {
      "cell_type": "code",
      "metadata": {
        "id": "nTKkJhmvm98Q",
        "colab_type": "code",
        "colab": {}
      },
      "source": [
        "p_movies = [\"horror\",\"comedy\",\"drama\",\"science_fiction\",\"western\",\"documentary\"]\n",
        "p_actors_action = [\"stallone\",\"willis\",\"jackie_chan\",'jet_li',\"van_damme\",\"harrison_ford\",\"schwarzenegger\",\"chuck_norris\"]\n",
        "p_actors_comedy = [\"adam_sandler\",\"jim_carrey\",\"ben_stiller\",\"eddie_murphy\",\"mike_myers\",\"chris_rock\"]\n",
        "p_superheroes = [\"batman\",\"superman\",\"spiderman\",\"robocop\",\"hulk\",\"wolverine\"]\n",
        "p_colors = [\"blue\", \"green\", \"yellow\", \"red\", \"orange\"] # p_robos_en\n",
        "palabras = p_movies + p_actors_action + p_actors_comedy + p_superheroes + p_colors\n",
        "colores = [\"black\"]*len(p_movies)+[\"blue\"]*len(p_actors_action)+[\"green\"]*len(p_actors_comedy)+[\"red\"]*len(p_superheroes) +[\"purple\"]*len(p_colors)"
      ],
      "execution_count": 0,
      "outputs": []
    },
    {
      "cell_type": "code",
      "metadata": {
        "id": "43lS8JmWm98W",
        "colab_type": "code",
        "outputId": "19d89e55-5cb2-47ba-c879-9a06a2863409",
        "colab": {
          "base_uri": "https://localhost:8080/",
          "height": 1000
        }
      },
      "source": [
        "# Armo una matriz de distancias\n",
        "distancias=np.zeros((len(palabras),len(palabras))) #matriz cuadrada\n",
        "for i,ti in enumerate(palabras):\n",
        "    for j,tj in enumerate(palabras):\n",
        "        distancias[i,j] = abs(1-w2v_model.wv.similarity(ti,tj))\n",
        "print (distancias.shape)\n",
        "distancias"
      ],
      "execution_count": 0,
      "outputs": [
        {
          "output_type": "stream",
          "text": [
            "(31, 31)\n"
          ],
          "name": "stdout"
        },
        {
          "output_type": "stream",
          "text": [
            "/usr/local/lib/python3.6/dist-packages/gensim/matutils.py:737: FutureWarning: Conversion of the second argument of issubdtype from `int` to `np.signedinteger` is deprecated. In future, it will be treated as `np.int64 == np.dtype(int).type`.\n",
            "  if np.issubdtype(vec.dtype, np.int):\n"
          ],
          "name": "stderr"
        },
        {
          "output_type": "execute_result",
          "data": {
            "text/plain": [
              "array([[0.00000000e+00, 1.57765329e-01, 2.80061066e-01, 8.05030465e-02,\n",
              "        2.92748928e-01, 4.35995042e-01, 4.29461777e-01, 7.36883521e-01,\n",
              "        2.20798552e-01, 2.21113682e-01, 3.64628255e-01, 5.36904663e-01,\n",
              "        2.88831532e-01, 2.13756204e-01, 4.47971940e-01, 3.97765219e-01,\n",
              "        4.86064374e-01, 4.07105386e-01, 4.62674737e-01, 5.34174353e-01,\n",
              "        3.28345656e-01, 4.55078065e-01, 3.44273210e-01, 3.09084833e-01,\n",
              "        5.39671034e-01, 6.83549553e-01, 6.19549215e-01, 7.50478670e-01,\n",
              "        5.49599856e-01, 6.45517766e-01, 5.80563813e-01],\n",
              "       [1.57765329e-01, 0.00000000e+00, 1.74726129e-01, 1.99589491e-01,\n",
              "        3.13621640e-01, 4.31340635e-01, 4.04204905e-01, 5.18514216e-01,\n",
              "        2.60569453e-01, 2.03298151e-01, 4.11633670e-01, 3.91509831e-01,\n",
              "        2.69893885e-01, 2.17171013e-01, 3.38563502e-01, 2.38576770e-01,\n",
              "        3.14065158e-01, 3.11804950e-01, 4.19697762e-01, 3.44722331e-01,\n",
              "        3.96450937e-01, 5.27048409e-01, 4.41927910e-01, 4.64437127e-01,\n",
              "        5.15935510e-01, 6.09841406e-01, 6.21450692e-01, 7.44531333e-01,\n",
              "        5.78511149e-01, 6.51404053e-01, 6.03823781e-01],\n",
              "       [2.80061066e-01, 1.74726129e-01, 0.00000000e+00, 2.03509867e-01,\n",
              "        2.95354426e-01, 3.08751047e-01, 6.15044981e-01, 5.21324337e-01,\n",
              "        5.14164776e-01, 4.27012503e-01, 7.24419087e-01, 6.38332337e-01,\n",
              "        4.10074472e-01, 4.56455588e-01, 5.58800519e-01, 5.50692856e-01,\n",
              "        6.17690116e-01, 6.53000534e-01, 5.93437016e-01, 6.26784235e-01,\n",
              "        4.76989686e-01, 6.39174640e-01, 5.37319332e-01, 6.36379153e-01,\n",
              "        6.67328864e-01, 6.17945880e-01, 6.75849199e-01, 7.88693190e-01,\n",
              "        5.23392320e-01, 7.29293168e-01, 5.64720154e-01],\n",
              "       [8.05030465e-02, 1.99589491e-01, 2.03509867e-01, 0.00000000e+00,\n",
              "        1.98461115e-01, 2.61378229e-01, 4.51835811e-01, 6.88469797e-01,\n",
              "        2.54773259e-01, 2.51502454e-01, 4.80193317e-01, 5.58784217e-01,\n",
              "        3.13105345e-01, 3.38322878e-01, 5.32104820e-01, 4.90596652e-01,\n",
              "        6.01216048e-01, 5.00462443e-01, 5.40029168e-01, 6.30254030e-01,\n",
              "        2.90243089e-01, 4.77836370e-01, 3.31567585e-01, 3.07503462e-01,\n",
              "        6.07657343e-01, 6.82610393e-01, 6.67311668e-01, 7.18274027e-01,\n",
              "        5.43523103e-01, 7.08484679e-01, 6.08554572e-01],\n",
              "       [2.92748928e-01, 3.13621640e-01, 2.95354426e-01, 1.98461115e-01,\n",
              "        5.96046448e-08, 3.37802351e-01, 4.19791341e-01, 5.05502224e-01,\n",
              "        3.61564815e-01, 3.23741615e-01, 4.59427297e-01, 4.76865888e-01,\n",
              "        2.78960347e-01, 3.76815736e-01, 5.70951790e-01, 6.29782021e-01,\n",
              "        6.24261498e-01, 5.11224329e-01, 5.24057060e-01, 6.80211335e-01,\n",
              "        3.31242085e-01, 4.50197875e-01, 3.54350448e-01, 2.87542045e-01,\n",
              "        6.51135743e-01, 4.93423402e-01, 5.64202487e-01, 5.09879589e-01,\n",
              "        4.37398672e-01, 4.84204829e-01, 4.58209276e-01],\n",
              "       [4.35995042e-01, 4.31340635e-01, 3.08751047e-01, 2.61378229e-01,\n",
              "        3.37802351e-01, 0.00000000e+00, 7.28604704e-01, 6.44923985e-01,\n",
              "        5.50638467e-01, 4.72516239e-01, 7.17254907e-01, 4.86516416e-01,\n",
              "        5.67333251e-01, 5.07273704e-01, 5.66780657e-01, 6.73025072e-01,\n",
              "        6.92576945e-01, 5.36540359e-01, 5.59978157e-01, 5.97736239e-01,\n",
              "        5.69816470e-01, 6.34951800e-01, 3.40517104e-01, 5.55357277e-01,\n",
              "        5.17476469e-01, 5.56840539e-01, 6.88434094e-01, 7.46014565e-01,\n",
              "        5.01935124e-01, 7.53846586e-01, 6.97692871e-01],\n",
              "       [4.29461777e-01, 4.04204905e-01, 6.15044981e-01, 4.51835811e-01,\n",
              "        4.19791341e-01, 7.28604704e-01, 0.00000000e+00, 2.45392680e-01,\n",
              "        2.18082964e-01, 1.47673368e-01, 2.11384237e-01, 2.93467581e-01,\n",
              "        1.29794359e-01, 2.39407182e-01, 3.86975765e-01, 2.74043798e-01,\n",
              "        3.03212881e-01, 3.11079860e-01, 3.08546424e-01, 4.38498080e-01,\n",
              "        3.50784600e-01, 2.74683595e-01, 3.76355231e-01, 2.10250676e-01,\n",
              "        4.79257584e-01, 3.36563766e-01, 5.00242561e-01, 3.90171587e-01,\n",
              "        5.80807179e-01, 4.80105996e-01, 4.83981788e-01],\n",
              "       [7.36883521e-01, 5.18514216e-01, 5.21324337e-01, 6.88469797e-01,\n",
              "        5.05502224e-01, 6.44923985e-01, 2.45392680e-01, 0.00000000e+00,\n",
              "        5.30675143e-01, 3.90957177e-01, 4.55218375e-01, 2.77630746e-01,\n",
              "        2.43443429e-01, 3.69511068e-01, 4.00431991e-01, 4.19884324e-01,\n",
              "        3.42942595e-01, 5.32486558e-01, 3.93247426e-01, 4.66630101e-01,\n",
              "        5.78791529e-01, 4.65793431e-01, 5.25032401e-01, 6.10142440e-01,\n",
              "        5.42991847e-01, 1.88075542e-01, 4.64507163e-01, 3.42241645e-01,\n",
              "        4.60251451e-01, 4.71460760e-01, 3.71411443e-01],\n",
              "       [2.20798552e-01, 2.60569453e-01, 5.14164776e-01, 2.54773259e-01,\n",
              "        3.61564815e-01, 5.50638467e-01, 2.18082964e-01, 5.30675143e-01,\n",
              "        0.00000000e+00, 7.29660392e-02, 1.70212626e-01, 3.56999815e-01,\n",
              "        2.52980232e-01, 2.20112264e-01, 4.23009992e-01, 2.78465390e-01,\n",
              "        3.20920289e-01, 2.65822053e-01, 2.80400753e-01, 3.31267238e-01,\n",
              "        2.74670124e-01, 2.46440113e-01, 2.91834712e-01, 2.46513307e-01,\n",
              "        4.24890697e-01, 4.81359243e-01, 4.19066608e-01, 3.88244748e-01,\n",
              "        5.04442841e-01, 4.33883667e-01, 4.60007608e-01],\n",
              "       [2.21113682e-01, 2.03298151e-01, 4.27012503e-01, 2.51502454e-01,\n",
              "        3.23741615e-01, 4.72516239e-01, 1.47673368e-01, 3.90957177e-01,\n",
              "        7.29660392e-02, 0.00000000e+00, 1.76536262e-01, 2.49537945e-01,\n",
              "        2.00463772e-01, 1.48580492e-01, 3.10552001e-01, 2.30928540e-01,\n",
              "        2.34364986e-01, 2.36896634e-01, 2.09827542e-01, 2.76151538e-01,\n",
              "        2.48024464e-01, 2.62600183e-01, 2.45204449e-01, 2.39244461e-01,\n",
              "        3.02460372e-01, 4.26205158e-01, 4.04380679e-01, 3.98931026e-01,\n",
              "        4.87443507e-01, 4.22586918e-01, 4.38271880e-01],\n",
              "       [3.64628255e-01, 4.11633670e-01, 7.24419087e-01, 4.80193317e-01,\n",
              "        4.59427297e-01, 7.17254907e-01, 2.11384237e-01, 4.55218375e-01,\n",
              "        1.70212626e-01, 1.76536262e-01, 0.00000000e+00, 2.76553392e-01,\n",
              "        2.38468409e-01, 1.48846686e-01, 2.49104202e-01, 2.10179567e-01,\n",
              "        2.18663812e-01, 2.19467342e-01, 2.72951543e-01, 3.03732276e-01,\n",
              "        3.46425116e-01, 2.09790111e-01, 3.21108580e-01, 2.54261315e-01,\n",
              "        3.85902047e-01, 3.52243125e-01, 5.11819124e-01, 3.66708994e-01,\n",
              "        6.13093317e-01, 4.34353173e-01, 5.41460842e-01],\n",
              "       [5.36904663e-01, 3.91509831e-01, 6.38332337e-01, 5.58784217e-01,\n",
              "        4.76865888e-01, 4.86516416e-01, 2.93467581e-01, 2.77630746e-01,\n",
              "        3.56999815e-01, 2.49537945e-01, 2.76553392e-01, 5.96046448e-08,\n",
              "        2.61767864e-01, 1.71068192e-01, 2.38944411e-01, 2.79530287e-01,\n",
              "        1.46216094e-01, 2.20665336e-01, 1.18454218e-01, 1.87743068e-01,\n",
              "        4.97948587e-01, 3.66173327e-01, 1.93757832e-01, 4.02876496e-01,\n",
              "        3.66969764e-01, 2.11921453e-01, 4.19152915e-01, 4.05673563e-01,\n",
              "        4.16279376e-01, 4.27323639e-01, 4.72689450e-01],\n",
              "       [2.88831532e-01, 2.69893885e-01, 4.10074472e-01, 3.13105345e-01,\n",
              "        2.78960347e-01, 5.67333251e-01, 1.29794359e-01, 2.43443429e-01,\n",
              "        2.52980232e-01, 2.00463772e-01, 2.38468409e-01, 2.61767864e-01,\n",
              "        0.00000000e+00, 1.41978979e-01, 3.87936592e-01, 2.57522166e-01,\n",
              "        2.41236329e-01, 2.93348312e-01, 3.06926727e-01, 4.04898703e-01,\n",
              "        3.34241390e-01, 3.24114323e-01, 3.02623570e-01, 2.37967610e-01,\n",
              "        4.89457130e-01, 2.76859641e-01, 4.35431123e-01, 3.87213886e-01,\n",
              "        4.54420567e-01, 4.42676187e-01, 3.77065599e-01],\n",
              "       [2.13756204e-01, 2.17171013e-01, 4.56455588e-01, 3.38322878e-01,\n",
              "        3.76815736e-01, 5.07273704e-01, 2.39407182e-01, 3.69511068e-01,\n",
              "        2.20112264e-01, 1.48580492e-01, 1.48846686e-01, 1.71068192e-01,\n",
              "        1.41978979e-01, 0.00000000e+00, 1.44723296e-01, 1.64761066e-01,\n",
              "        1.21573389e-01, 1.71464086e-01, 2.14168429e-01, 2.06833839e-01,\n",
              "        3.48905504e-01, 3.13938260e-01, 2.62903512e-01, 3.08061123e-01,\n",
              "        4.00439441e-01, 3.34230959e-01, 4.71452057e-01, 4.91437972e-01,\n",
              "        4.76407468e-01, 4.71843839e-01, 4.78741288e-01],\n",
              "       [4.47971940e-01, 3.38563502e-01, 5.58800519e-01, 5.32104820e-01,\n",
              "        5.70951790e-01, 5.66780657e-01, 3.86975765e-01, 4.00431991e-01,\n",
              "        4.23009992e-01, 3.10552001e-01, 2.49104202e-01, 2.38944411e-01,\n",
              "        3.87936592e-01, 1.44723296e-01, 0.00000000e+00, 1.91453755e-01,\n",
              "        1.92703068e-01, 2.93991029e-01, 3.74321818e-01, 2.66876817e-01,\n",
              "        5.61072350e-01, 5.02196580e-01, 4.49098229e-01, 5.52681088e-01,\n",
              "        5.39033055e-01, 4.66759503e-01, 7.37797320e-01, 6.78714007e-01,\n",
              "        6.93055481e-01, 6.90734416e-01, 7.83421546e-01],\n",
              "       [3.97765219e-01, 2.38576770e-01, 5.50692856e-01, 4.90596652e-01,\n",
              "        6.29782021e-01, 6.73025072e-01, 2.74043798e-01, 4.19884324e-01,\n",
              "        2.78465390e-01, 2.30928540e-01, 2.10179567e-01, 2.79530287e-01,\n",
              "        2.57522166e-01, 1.64761066e-01, 1.91453755e-01, 0.00000000e+00,\n",
              "        9.56320763e-02, 1.42260611e-01, 3.42729270e-01, 1.58002675e-01,\n",
              "        4.02194917e-01, 3.78305495e-01, 4.92926836e-01, 4.49383914e-01,\n",
              "        4.30278063e-01, 4.90297437e-01, 5.93623936e-01, 5.96682072e-01,\n",
              "        6.92140281e-01, 6.28260285e-01, 7.39576787e-01],\n",
              "       [4.86064374e-01, 3.14065158e-01, 6.17690116e-01, 6.01216048e-01,\n",
              "        6.24261498e-01, 6.92576945e-01, 3.03212881e-01, 3.42942595e-01,\n",
              "        3.20920289e-01, 2.34364986e-01, 2.18663812e-01, 1.46216094e-01,\n",
              "        2.41236329e-01, 1.21573389e-01, 1.92703068e-01, 9.56320763e-02,\n",
              "        0.00000000e+00, 1.82125270e-01, 2.05854714e-01, 8.04560781e-02,\n",
              "        4.90035772e-01, 4.26210821e-01, 4.04655576e-01, 5.04198313e-01,\n",
              "        4.25684512e-01, 3.61569524e-01, 4.46702003e-01, 4.49908972e-01,\n",
              "        5.55086672e-01, 4.80212688e-01, 5.52083105e-01],\n",
              "       [4.07105386e-01, 3.11804950e-01, 6.53000534e-01, 5.00462443e-01,\n",
              "        5.11224329e-01, 5.36540359e-01, 3.11079860e-01, 5.32486558e-01,\n",
              "        2.65822053e-01, 2.36896634e-01, 2.19467342e-01, 2.20665336e-01,\n",
              "        2.93348312e-01, 1.71464086e-01, 2.93991029e-01, 1.42260611e-01,\n",
              "        1.82125270e-01, 0.00000000e+00, 2.70241022e-01, 1.68336928e-01,\n",
              "        4.12495494e-01, 3.05489421e-01, 3.35886717e-01, 2.68818974e-01,\n",
              "        3.59986186e-01, 4.19330776e-01, 5.35454363e-01, 5.81677794e-01,\n",
              "        6.66125298e-01, 5.44147760e-01, 7.28445292e-01],\n",
              "       [4.62674737e-01, 4.19697762e-01, 5.93437016e-01, 5.40029168e-01,\n",
              "        5.24057060e-01, 5.59978157e-01, 3.08546424e-01, 3.93247426e-01,\n",
              "        2.80400753e-01, 2.09827542e-01, 2.72951543e-01, 1.18454218e-01,\n",
              "        3.06926727e-01, 2.14168429e-01, 3.74321818e-01, 3.42729270e-01,\n",
              "        2.05854714e-01, 2.70241022e-01, 0.00000000e+00, 2.12319851e-01,\n",
              "        4.31198299e-01, 2.34367192e-01, 1.19328022e-01, 3.47156763e-01,\n",
              "        2.45579422e-01, 1.96833253e-01, 2.76060820e-01, 3.16879153e-01,\n",
              "        3.41273904e-01, 2.93112636e-01, 3.51855218e-01],\n",
              "       [5.34174353e-01, 3.44722331e-01, 6.26784235e-01, 6.30254030e-01,\n",
              "        6.80211335e-01, 5.97736239e-01, 4.38498080e-01, 4.66630101e-01,\n",
              "        3.31267238e-01, 2.76151538e-01, 3.03732276e-01, 1.87743068e-01,\n",
              "        4.04898703e-01, 2.06833839e-01, 2.66876817e-01, 1.58002675e-01,\n",
              "        8.04560781e-02, 1.68336928e-01, 2.12319851e-01, 0.00000000e+00,\n",
              "        5.01282454e-01, 4.04573560e-01, 4.33461964e-01, 5.84572315e-01,\n",
              "        4.07479525e-01, 3.87001753e-01, 5.12764663e-01, 5.44805557e-01,\n",
              "        5.96063524e-01, 5.66257894e-01, 6.37356192e-01],\n",
              "       [3.28345656e-01, 3.96450937e-01, 4.76989686e-01, 2.90243089e-01,\n",
              "        3.31242085e-01, 5.69816470e-01, 3.50784600e-01, 5.78791529e-01,\n",
              "        2.74670124e-01, 2.48024464e-01, 3.46425116e-01, 4.97948587e-01,\n",
              "        3.34241390e-01, 3.48905504e-01, 5.61072350e-01, 4.02194917e-01,\n",
              "        4.90035772e-01, 4.12495494e-01, 4.31198299e-01, 5.01282454e-01,\n",
              "        0.00000000e+00, 1.52215779e-01, 4.16547418e-01, 2.39162803e-01,\n",
              "        4.65069950e-01, 5.78516215e-01, 4.93335545e-01, 4.26180124e-01,\n",
              "        5.68512917e-01, 4.83190894e-01, 5.02635598e-01],\n",
              "       [4.55078065e-01, 5.27048409e-01, 6.39174640e-01, 4.77836370e-01,\n",
              "        4.50197875e-01, 6.34951800e-01, 2.74683595e-01, 4.65793431e-01,\n",
              "        2.46440113e-01, 2.62600183e-01, 2.09790111e-01, 3.66173327e-01,\n",
              "        3.24114323e-01, 3.13938260e-01, 5.02196580e-01, 3.78305495e-01,\n",
              "        4.26210821e-01, 3.05489421e-01, 2.34367192e-01, 4.04573560e-01,\n",
              "        1.52215779e-01, 0.00000000e+00, 2.74703383e-01, 2.04537451e-01,\n",
              "        3.36888850e-01, 2.77761996e-01, 4.29733396e-01, 3.12908828e-01,\n",
              "        5.43986112e-01, 4.00060296e-01, 4.63205278e-01],\n",
              "       [3.44273210e-01, 4.41927910e-01, 5.37319332e-01, 3.31567585e-01,\n",
              "        3.54350448e-01, 3.40517104e-01, 3.76355231e-01, 5.25032401e-01,\n",
              "        2.91834712e-01, 2.45204449e-01, 3.21108580e-01, 1.93757832e-01,\n",
              "        3.02623570e-01, 2.62903512e-01, 4.49098229e-01, 4.92926836e-01,\n",
              "        4.04655576e-01, 3.35886717e-01, 1.19328022e-01, 4.33461964e-01,\n",
              "        4.16547418e-01, 2.74703383e-01, 0.00000000e+00, 2.23307610e-01,\n",
              "        2.94911683e-01, 2.72041380e-01, 3.94912481e-01, 4.11957860e-01,\n",
              "        3.81060839e-01, 4.06049013e-01, 4.43220854e-01],\n",
              "       [3.09084833e-01, 4.64437127e-01, 6.36379153e-01, 3.07503462e-01,\n",
              "        2.87542045e-01, 5.55357277e-01, 2.10250676e-01, 6.10142440e-01,\n",
              "        2.46513307e-01, 2.39244461e-01, 2.54261315e-01, 4.02876496e-01,\n",
              "        2.37967610e-01, 3.08061123e-01, 5.52681088e-01, 4.49383914e-01,\n",
              "        5.04198313e-01, 2.68818974e-01, 3.47156763e-01, 5.84572315e-01,\n",
              "        2.39162803e-01, 2.04537451e-01, 2.23307610e-01, 0.00000000e+00,\n",
              "        4.71291840e-01, 4.57126439e-01, 5.14066219e-01, 4.63471711e-01,\n",
              "        5.89802653e-01, 4.62505043e-01, 5.61690807e-01],\n",
              "       [5.39671034e-01, 5.15935510e-01, 6.67328864e-01, 6.07657343e-01,\n",
              "        6.51135743e-01, 5.17476469e-01, 4.79257584e-01, 5.42991847e-01,\n",
              "        4.24890697e-01, 3.02460372e-01, 3.85902047e-01, 3.66969764e-01,\n",
              "        4.89457130e-01, 4.00439441e-01, 5.39033055e-01, 4.30278063e-01,\n",
              "        4.25684512e-01, 3.59986186e-01, 2.45579422e-01, 4.07479525e-01,\n",
              "        4.65069950e-01, 3.36888850e-01, 2.94911683e-01, 4.71291840e-01,\n",
              "        0.00000000e+00, 4.18205261e-01, 3.84110689e-01, 4.30447578e-01,\n",
              "        5.08824766e-01, 3.97891164e-01, 5.10982841e-01],\n",
              "       [6.83549553e-01, 6.09841406e-01, 6.17945880e-01, 6.82610393e-01,\n",
              "        4.93423402e-01, 5.56840539e-01, 3.36563766e-01, 1.88075542e-01,\n",
              "        4.81359243e-01, 4.26205158e-01, 3.52243125e-01, 2.11921453e-01,\n",
              "        2.76859641e-01, 3.34230959e-01, 4.66759503e-01, 4.90297437e-01,\n",
              "        3.61569524e-01, 4.19330776e-01, 1.96833253e-01, 3.87001753e-01,\n",
              "        5.78516215e-01, 2.77761996e-01, 2.72041380e-01, 4.57126439e-01,\n",
              "        4.18205261e-01, 0.00000000e+00, 4.20476377e-01, 2.93110013e-01,\n",
              "        3.94807279e-01, 4.03747082e-01, 3.43092561e-01],\n",
              "       [6.19549215e-01, 6.21450692e-01, 6.75849199e-01, 6.67311668e-01,\n",
              "        5.64202487e-01, 6.88434094e-01, 5.00242561e-01, 4.64507163e-01,\n",
              "        4.19066608e-01, 4.04380679e-01, 5.11819124e-01, 4.19152915e-01,\n",
              "        4.35431123e-01, 4.71452057e-01, 7.37797320e-01, 5.93623936e-01,\n",
              "        4.46702003e-01, 5.35454363e-01, 2.76060820e-01, 5.12764663e-01,\n",
              "        4.93335545e-01, 4.29733396e-01, 3.94912481e-01, 5.14066219e-01,\n",
              "        3.84110689e-01, 4.20476377e-01, 0.00000000e+00, 1.48930132e-01,\n",
              "        1.26664400e-01, 5.17227054e-02, 1.34120286e-01],\n",
              "       [7.50478670e-01, 7.44531333e-01, 7.88693190e-01, 7.18274027e-01,\n",
              "        5.09879589e-01, 7.46014565e-01, 3.90171587e-01, 3.42241645e-01,\n",
              "        3.88244748e-01, 3.98931026e-01, 3.66708994e-01, 4.05673563e-01,\n",
              "        3.87213886e-01, 4.91437972e-01, 6.78714007e-01, 5.96682072e-01,\n",
              "        4.49908972e-01, 5.81677794e-01, 3.16879153e-01, 5.44805557e-01,\n",
              "        4.26180124e-01, 3.12908828e-01, 4.11957860e-01, 4.63471711e-01,\n",
              "        4.30447578e-01, 2.93110013e-01, 1.48930132e-01, 0.00000000e+00,\n",
              "        2.68916190e-01, 1.10553503e-01, 1.77066207e-01],\n",
              "       [5.49599856e-01, 5.78511149e-01, 5.23392320e-01, 5.43523103e-01,\n",
              "        4.37398672e-01, 5.01935124e-01, 5.80807179e-01, 4.60251451e-01,\n",
              "        5.04442841e-01, 4.87443507e-01, 6.13093317e-01, 4.16279376e-01,\n",
              "        4.54420567e-01, 4.76407468e-01, 6.93055481e-01, 6.92140281e-01,\n",
              "        5.55086672e-01, 6.66125298e-01, 3.41273904e-01, 5.96063524e-01,\n",
              "        5.68512917e-01, 5.43986112e-01, 3.81060839e-01, 5.89802653e-01,\n",
              "        5.08824766e-01, 3.94807279e-01, 1.26664400e-01, 2.68916190e-01,\n",
              "        5.96046448e-08, 1.52714491e-01, 1.40042722e-01],\n",
              "       [6.45517766e-01, 6.51404053e-01, 7.29293168e-01, 7.08484679e-01,\n",
              "        4.84204829e-01, 7.53846586e-01, 4.80105996e-01, 4.71460760e-01,\n",
              "        4.33883667e-01, 4.22586918e-01, 4.34353173e-01, 4.27323639e-01,\n",
              "        4.42676187e-01, 4.71843839e-01, 6.90734416e-01, 6.28260285e-01,\n",
              "        4.80212688e-01, 5.44147760e-01, 2.93112636e-01, 5.66257894e-01,\n",
              "        4.83190894e-01, 4.00060296e-01, 4.06049013e-01, 4.62505043e-01,\n",
              "        3.97891164e-01, 4.03747082e-01, 5.17227054e-02, 1.10553503e-01,\n",
              "        1.52714491e-01, 0.00000000e+00, 1.45671964e-01],\n",
              "       [5.80563813e-01, 6.03823781e-01, 5.64720154e-01, 6.08554572e-01,\n",
              "        4.58209276e-01, 6.97692871e-01, 4.83981788e-01, 3.71411443e-01,\n",
              "        4.60007608e-01, 4.38271880e-01, 5.41460842e-01, 4.72689450e-01,\n",
              "        3.77065599e-01, 4.78741288e-01, 7.83421546e-01, 7.39576787e-01,\n",
              "        5.52083105e-01, 7.28445292e-01, 3.51855218e-01, 6.37356192e-01,\n",
              "        5.02635598e-01, 4.63205278e-01, 4.43220854e-01, 5.61690807e-01,\n",
              "        5.10982841e-01, 3.43092561e-01, 1.34120286e-01, 1.77066207e-01,\n",
              "        1.40042722e-01, 1.45671964e-01, 0.00000000e+00]])"
            ]
          },
          "metadata": {
            "tags": []
          },
          "execution_count": 27
        }
      ]
    },
    {
      "cell_type": "code",
      "metadata": {
        "id": "RbQSOA0Ym98Y",
        "colab_type": "code",
        "colab": {}
      },
      "source": [
        "# Reduccion de la dimensionalidad y visualizacion \n",
        "from sklearn.manifold import MDS\n",
        "from sklearn.manifold import TSNE \n",
        "def visualize_embeddings(distancias,palabras,colores,perplexity):\n",
        "    plt.figure(figsize=(20,10))\n",
        "    # Reduccion de la dimensionalidad y visualizacion \n",
        "    mds = MDS(n_components=2, max_iter=3000, eps=1e-9, random_state=123,\n",
        "                       dissimilarity=\"precomputed\", n_jobs=4)\n",
        "    Y = mds.fit(distancias).embedding_\n",
        "    plt.subplot(1,2,1)\n",
        "    plt.scatter(Y[:, 0], Y[:, 1],color=\"black\",s=3)\n",
        "    for label, x, y, color in zip(palabras, Y[:, 0], Y[:, 1],colores):\n",
        "        plt.annotate(label, xy=(x, y), xytext=(0, 0),color=color, textcoords='offset points',size=13)\n",
        "    plt.title(\"MDS\")\n",
        "    # Reduccion de la dimensionalidad y visualizacion \n",
        "    tsne = TSNE(n_components=2,metric=\"precomputed\",learning_rate=1000, random_state=123,perplexity=perplexity)\n",
        "    np.set_printoptions(suppress=True)\n",
        "    plt.subplot(1,2,2)\n",
        "    Y = tsne.fit_transform(distancias)\n",
        "    plt.scatter(Y[:, 0], Y[:, 1],color=\"black\",s=3)\n",
        "    for label, x, y, color in zip(palabras, Y[:, 0], Y[:, 1],colores):\n",
        "        plt.annotate(label, xy=(x, y), xytext=(0, 0),color=color, textcoords='offset points',size=13)\n",
        "    plt.title(\"TSNE\")"
      ],
      "execution_count": 0,
      "outputs": []
    },
    {
      "cell_type": "code",
      "metadata": {
        "id": "Eq_Cgblxm98b",
        "colab_type": "code",
        "outputId": "093bc591-18f9-4636-fba7-520cfbaf0f47",
        "colab": {
          "base_uri": "https://localhost:8080/",
          "height": 525
        }
      },
      "source": [
        "visualize_embeddings(distancias,palabras,colores,perplexity=4)"
      ],
      "execution_count": 0,
      "outputs": [
        {
          "output_type": "display_data",
          "data": {
            "image/png": "[encoded data removed]",
            "text/plain": [
              "<Figure size 1440x720 with 2 Axes>"
            ]
          },
          "metadata": {
            "tags": [],
            "needs_background": "light"
          }
        }
      ]
    },
    {
      "cell_type": "markdown",
      "metadata": {
        "id": "IreAR5F9m98e",
        "colab_type": "text"
      },
      "source": [
        "# Latent Semantic Analisis (LSA)"
      ]
    },
    {
      "cell_type": "code",
      "metadata": {
        "id": "27061n06m98f",
        "colab_type": "code",
        "colab": {}
      },
      "source": [
        "# Creates a dictionary wich maps tokens with Ids\n",
        "dictionary = corpora.Dictionary(trainset)\n",
        "# filter words with low frequency\n",
        "dictionary.filter_extremes(no_below=10, no_above=1, keep_n=100000)"
      ],
      "execution_count": 0,
      "outputs": []
    },
    {
      "cell_type": "code",
      "metadata": {
        "id": "7ETmw0Sam98l",
        "colab_type": "code",
        "outputId": "51361d1b-11b6-41b8-d310-d38d3e86e694",
        "colab": {
          "base_uri": "https://localhost:8080/",
          "height": 290
        }
      },
      "source": [
        "list(dictionary.iteritems())[:15]"
      ],
      "execution_count": 0,
      "outputs": [
        {
          "output_type": "execute_result",
          "data": {
            "text/plain": [
              "[(0, 'absolutely'),\n",
              " (1, 'an'),\n",
              " (2, 'movie'),\n",
              " (3, 'terrible'),\n",
              " (4, 'this'),\n",
              " (5, 'was'),\n",
              " (6, 'be'),\n",
              " (7, 'by'),\n",
              " (8, 'christopher'),\n",
              " (9, 'do'),\n",
              " (10, 'in'),\n",
              " (11, 'ironside'),\n",
              " (12, 'lured'),\n",
              " (13, 'michael'),\n",
              " (14, 'or')]"
            ]
          },
          "metadata": {
            "tags": []
          },
          "execution_count": 32
        }
      ]
    },
    {
      "cell_type": "code",
      "metadata": {
        "id": "rDmUxb2lm98t",
        "colab_type": "code",
        "colab": {}
      },
      "source": [
        "# me quedo con todos los tokens menos los \"bad_ids\" o sino con todos los \"good_ids\n",
        "# stopwords_id =np.array(dictionary.doc2bow(stopwords.words('english')))[:,0]\n",
        "# dictionary.filter_tokens(bad_ids=stopwords_id, good_ids=None) \n",
        "# dictionary.save(\"diarios_dictionary.dict\")"
      ],
      "execution_count": 0,
      "outputs": []
    },
    {
      "cell_type": "code",
      "metadata": {
        "id": "NQ0rDPZtm98w",
        "colab_type": "code",
        "colab": {}
      },
      "source": [
        "corpus = [dictionary.doc2bow(line) for line in trainset]\n",
        "tfidf = models.TfidfModel(corpus)  # tf-idf  transformation\n",
        "corpus_tfidf = tfidf[corpus]"
      ],
      "execution_count": 0,
      "outputs": []
    },
    {
      "cell_type": "code",
      "metadata": {
        "id": "CtuSjBGZm98y",
        "colab_type": "code",
        "outputId": "11fb28b6-083f-4a98-9c15-b087e6b91944",
        "colab": {
          "base_uri": "https://localhost:8080/",
          "height": 35
        }
      },
      "source": [
        "corpus_tfidf"
      ],
      "execution_count": 0,
      "outputs": [
        {
          "output_type": "execute_result",
          "data": {
            "text/plain": [
              "<gensim.interfaces.TransformedCorpus at 0x7fb88d8d2630>"
            ]
          },
          "metadata": {
            "tags": []
          },
          "execution_count": 34
        }
      ]
    },
    {
      "cell_type": "code",
      "metadata": {
        "id": "Ef5HfJ5bm981",
        "colab_type": "code",
        "colab": {}
      },
      "source": [
        "n_topics = 100\n",
        "lsa_tfidf = models.LsiModel(corpus_tfidf, id2word=dictionary, num_topics = n_topics)  # initialize an LSI transformation\n",
        "#lsa_tfidf.save(\"LSA_movies.lsi\") # Save LSA\n",
        "#lsa_tfidf = models.LsiModel.load(\"LSA_movies.lsi\")"
      ],
      "execution_count": 0,
      "outputs": []
    },
    {
      "cell_type": "code",
      "metadata": {
        "id": "WmrTrZEVm99G",
        "colab_type": "code",
        "outputId": "d91145ca-84a4-4e66-c825-ec07b899795d",
        "colab": {
          "base_uri": "https://localhost:8080/",
          "height": 199
        }
      },
      "source": [
        "# vectorial representation of a token\n",
        "vect_zombie = lsa_tfidf[dictionary.doc2bow([\"zombie\"])] \n",
        "vect_zombie[:10] # shows only the first 10 elements\n"
      ],
      "execution_count": 0,
      "outputs": [
        {
          "output_type": "execute_result",
          "data": {
            "text/plain": [
              "[(0, 0.004035179011448678),\n",
              " (1, -0.0023782701211526617),\n",
              " (2, -0.0005751317050579815),\n",
              " (3, 0.0013302611225752391),\n",
              " (4, -0.001279427576231465),\n",
              " (5, -0.0002931629442725641),\n",
              " (6, 0.0004155366576450667),\n",
              " (7, -0.0010141417538772574),\n",
              " (8, -0.00016986200721113713),\n",
              " (9, -0.0012247598769425843)]"
            ]
          },
          "metadata": {
            "tags": []
          },
          "execution_count": 36
        }
      ]
    },
    {
      "cell_type": "code",
      "metadata": {
        "id": "8MERayaYm99J",
        "colab_type": "code",
        "outputId": "4e8309cc-f3f6-4b80-e18a-3d2b22480229",
        "colab": {
          "base_uri": "https://localhost:8080/",
          "height": 290
        }
      },
      "source": [
        "# show the components of topic 10\n",
        "lsa_tfidf.show_topic(50, topn=15)"
      ],
      "execution_count": 0,
      "outputs": [
        {
          "output_type": "execute_result",
          "data": {
            "text/plain": [
              "[('does', 0.3370358137539132),\n",
              " ('too', 0.32721791611773454),\n",
              " ('with', 0.289246534782777),\n",
              " ('but', -0.24767832753214444),\n",
              " ('or', -0.24386557119866348),\n",
              " ('much', 0.24219872380043342),\n",
              " ('can', 0.23677433410447846),\n",
              " ('how', 0.21150836921545857),\n",
              " ('story', -0.15568060604774803),\n",
              " ('so', -0.15445770543465354),\n",
              " ('would', -0.1509599080077368),\n",
              " ('watch', -0.14474245940566197),\n",
              " ('about', -0.13989673696980712),\n",
              " ('more', -0.13362272706959427),\n",
              " ('there', 0.11940470246342377)]"
            ]
          },
          "metadata": {
            "tags": []
          },
          "execution_count": 37
        }
      ]
    },
    {
      "cell_type": "code",
      "metadata": {
        "id": "wnhXVtyJm99L",
        "colab_type": "code",
        "outputId": "87ab28a3-73ba-4151-f391-d14f54ff9e95",
        "colab": {
          "base_uri": "https://localhost:8080/",
          "height": 35
        }
      },
      "source": [
        "# Armo una matriz de distancias\n",
        "distancias_lsa=np.zeros((len(palabras),len(palabras))) #matriz cuadrada\n",
        "for i,ti in enumerate(palabras):\n",
        "    for j,tj in enumerate(palabras):\n",
        "        distancias_lsa[i,j] = abs(1-cossim(lsa_tfidf[dictionary.doc2bow([ti])] ,lsa_tfidf[dictionary.doc2bow([tj])]))\n",
        "print( distancias_lsa.shape )\n"
      ],
      "execution_count": 0,
      "outputs": [
        {
          "output_type": "stream",
          "text": [
            "(31, 31)\n"
          ],
          "name": "stdout"
        }
      ]
    },
    {
      "cell_type": "code",
      "metadata": {
        "id": "kUkkdEMum99O",
        "colab_type": "code",
        "outputId": "cebf920f-6144-431c-d63e-143bd4facc7e",
        "colab": {
          "base_uri": "https://localhost:8080/",
          "height": 527
        }
      },
      "source": [
        "visualize_embeddings(distancias_lsa,palabras,colores,perplexity=5)"
      ],
      "execution_count": 0,
      "outputs": [
        {
          "output_type": "display_data",
          "data": {
            "image/png": "[encoded data removed]",
            "text/plain": [
              "<Figure size 1440x720 with 2 Axes>"
            ]
          },
          "metadata": {
            "tags": [],
            "needs_background": "light"
          }
        }
      ]
    },
    {
      "cell_type": "markdown",
      "metadata": {
        "id": "m_Y8lWox-P9Y",
        "colab_type": "text"
      },
      "source": [
        "# Pretrained Word-embedding"
      ]
    },
    {
      "cell_type": "code",
      "metadata": {
        "id": "xaryRDelm99U",
        "colab_type": "code",
        "outputId": "7fdd87a2-874c-42e7-8cd9-b74c9101b78e",
        "colab": {
          "base_uri": "https://localhost:8080/",
          "height": 217
        }
      },
      "source": [
        "!wget https://s3.amazonaws.com/dl4j-distribution/GoogleNews-vectors-negative300.bin.gz"
      ],
      "execution_count": 0,
      "outputs": [
        {
          "output_type": "stream",
          "text": [
            "--2020-05-05 22:06:44--  https://s3.amazonaws.com/dl4j-distribution/GoogleNews-vectors-negative300.bin.gz\n",
            "Resolving s3.amazonaws.com (s3.amazonaws.com)... 54.231.82.210\n",
            "Connecting to s3.amazonaws.com (s3.amazonaws.com)|54.231.82.210|:443... connected.\n",
            "HTTP request sent, awaiting response... 200 OK\n",
            "Length: 1647046227 (1.5G) [application/x-gzip]\n",
            "Saving to: ‘GoogleNews-vectors-negative300.bin.gz’\n",
            "\n",
            "GoogleNews-vectors- 100%[===================>]   1.53G  16.2MB/s    in 1m 40s  \n",
            "\n",
            "2020-05-05 22:08:24 (15.8 MB/s) - ‘GoogleNews-vectors-negative300.bin.gz’ saved [1647046227/1647046227]\n",
            "\n"
          ],
          "name": "stdout"
        }
      ]
    },
    {
      "cell_type": "code",
      "metadata": {
        "id": "H51mHo4R-UQW",
        "colab_type": "code",
        "outputId": "0d885113-8e91-4c45-db8b-fa95096114be",
        "colab": {
          "base_uri": "https://localhost:8080/",
          "height": 74
        }
      },
      "source": [
        "w2v_model2 = KeyedVectors.load_word2vec_format('./GoogleNews-vectors-negative300.bin.gz', binary=True)"
      ],
      "execution_count": 0,
      "outputs": [
        {
          "output_type": "stream",
          "text": [
            "/usr/local/lib/python3.6/dist-packages/smart_open/smart_open_lib.py:253: UserWarning: This function is deprecated, use smart_open.open instead. See the migration notes for details: https://github.com/RaRe-Technologies/smart_open/blob/master/README.rst#migrating-to-the-new-open-function\n",
            "  'See the migration notes for details: %s' % _MIGRATION_NOTES_URL\n"
          ],
          "name": "stderr"
        }
      ]
    },
    {
      "cell_type": "code",
      "metadata": {
        "id": "3uPO7sxPm99Z",
        "colab_type": "code",
        "colab": {}
      },
      "source": [
        "p_robos_en = [\"robberies\", \"weapons\", \"murder\", \"thieves\", \"robbery\", \"assault\"]\n",
        "p_ciencias_en = [\"biology\", \"chemistry\", \"mathematics\", \"philosophy\", \"psychology\", \"science\", \"engineering\"]\n",
        "p_tiempo_en = [\"rainy\", \"sunny\", \"heat\", \"cloudy\", \"snow\", \"storm\"]\n",
        "p_paises_en = [\"Switzerland\", \"Sweden\", \"France\", \"Netherlands\", \"Peru\", \"Bolivia\", \"Paraguay\", \"Uruguay\",\"Argentine\" ,\"Brazil\", \"Colombia\"]\n",
        "p_comida_en = [\"bread\", \"noodles\", \"cookies\", \"cheese\", \"pizza\", \"beer\", \"wine\"]\n",
        "p_tecno_en = [\"technology\", \"computer\", \"internet\", \"web\", \"hackers\", \"monitor\", \"mouse\"]\n",
        "p_hogar_en = [\"kitchen\", \"bathroom\", \"dining_room\", \"armchairs\", \"wardrobe\", \"chairs\", \"tables\", \"tableware\"]\n",
        "grupos = [p_robos_en,p_ciencias_en,p_tiempo_en,p_paises_en,p_comida_en,p_tecno_en,p_hogar_en]\n",
        "palabras = p_robos_en + p_ciencias_en + p_tiempo_en + p_paises_en + p_comida_en + p_tecno_en +p_hogar_en\n",
        "colores = [\"black\"]*len(p_robos_en)+[\"blue\"]*len(p_ciencias_en)+[\"green\"]*len(p_tiempo_en)+[\"red\"]*len(p_paises_en) +[\"purple\"]*len(p_comida_en)+[\"orange\"]*len(p_tecno_en)+[\"cyan\"]*len(p_hogar_en) "
      ],
      "execution_count": 0,
      "outputs": []
    },
    {
      "cell_type": "code",
      "metadata": {
        "id": "bR77sDOTm99b",
        "colab_type": "code",
        "outputId": "a7791d5f-b49c-4230-8252-d1cfad68fafd",
        "colab": {
          "base_uri": "https://localhost:8080/",
          "height": 128
        }
      },
      "source": [
        "# Armo una matriz de distancias\n",
        "distancias_pre=np.zeros((len(palabras),len(palabras))) #matriz cuadrada\n",
        "for i,ti in enumerate(palabras):\n",
        "    for j,tj in enumerate(palabras):\n",
        "        distancias_pre[i,j] = abs(1-w2v_model2.wv.similarity(ti,tj))\n",
        "print (distancias_pre.shape)"
      ],
      "execution_count": 0,
      "outputs": [
        {
          "output_type": "stream",
          "text": [
            "(52, 52)\n"
          ],
          "name": "stdout"
        },
        {
          "output_type": "stream",
          "text": [
            "/usr/local/lib/python3.6/dist-packages/ipykernel_launcher.py:4: DeprecationWarning: Call to deprecated `wv` (Attribute will be removed in 4.0.0, use self instead).\n",
            "  after removing the cwd from sys.path.\n",
            "/usr/local/lib/python3.6/dist-packages/gensim/matutils.py:737: FutureWarning: Conversion of the second argument of issubdtype from `int` to `np.signedinteger` is deprecated. In future, it will be treated as `np.int64 == np.dtype(int).type`.\n",
            "  if np.issubdtype(vec.dtype, np.int):\n"
          ],
          "name": "stderr"
        }
      ]
    },
    {
      "cell_type": "code",
      "metadata": {
        "id": "pgn6tB_Nm99e",
        "colab_type": "code",
        "outputId": "49322e8c-c1f5-4011-84cc-2d5e452b9c17",
        "colab": {
          "base_uri": "https://localhost:8080/",
          "height": 538
        }
      },
      "source": [
        "visualize_embeddings(distancias_pre,palabras,colores,perplexity=2)"
      ],
      "execution_count": 0,
      "outputs": [
        {
          "output_type": "display_data",
          "data": {
            "image/png": "[encoded data removed]",
            "text/plain": [
              "<Figure size 1440x720 with 2 Axes>"
            ]
          },
          "metadata": {
            "tags": [],
            "needs_background": "light"
          }
        }
      ]
    },
    {
      "cell_type": "code",
      "metadata": {
        "id": "lxxEKa71m99j",
        "colab_type": "code",
        "outputId": "79b1d206-0fa3-4f68-9e72-a4364b0b5303",
        "colab": {
          "base_uri": "https://localhost:8080/",
          "height": 510
        }
      },
      "source": [
        "print (\"woman-kitchen similarity:\",w2v_model2.wv.n_similarity([\"woman\"], [\"kitchen\"]))\n",
        "print (\"man-kitchen similarity:\",w2v_model2.wv.n_similarity([\"man\"], [\"kitchen\"]) )\n",
        "print (\"\\n\")\n",
        "print (\"woman-wife similarity:\",w2v_model2.wv.n_similarity([\"woman\"], [\"wife\"]) )\n",
        "print (\"man-husband similarity:\",w2v_model2.wv.n_similarity([\"man\"], [\"husband\"]) )\n",
        "print(\"\\n\")\n",
        "print (\"woman-children similarity:\",w2v_model2.wv.n_similarity([\"woman\"], [\"children\"]) )\n",
        "print (\"man-children similarity:\",w2v_model2.wv.n_similarity([\"man\"], [\"children\"]) )\n",
        "print(\"\\n\")"
      ],
      "execution_count": 0,
      "outputs": [
        {
          "output_type": "stream",
          "text": [
            "woman-kitchen similarity: 0.13754271\n",
            "man-kitchen similarity: 0.076843694\n",
            "\n",
            "\n",
            "woman-wife similarity: 0.444824\n",
            "man-husband similarity: 0.34499747\n",
            "\n",
            "\n",
            "woman-children similarity: 0.34372672\n",
            "man-children similarity: 0.19058806\n",
            "\n",
            "\n"
          ],
          "name": "stdout"
        },
        {
          "output_type": "stream",
          "text": [
            "/usr/local/lib/python3.6/dist-packages/ipykernel_launcher.py:1: DeprecationWarning: Call to deprecated `wv` (Attribute will be removed in 4.0.0, use self instead).\n",
            "  \"\"\"Entry point for launching an IPython kernel.\n",
            "/usr/local/lib/python3.6/dist-packages/gensim/matutils.py:737: FutureWarning: Conversion of the second argument of issubdtype from `int` to `np.signedinteger` is deprecated. In future, it will be treated as `np.int64 == np.dtype(int).type`.\n",
            "  if np.issubdtype(vec.dtype, np.int):\n",
            "/usr/local/lib/python3.6/dist-packages/ipykernel_launcher.py:2: DeprecationWarning: Call to deprecated `wv` (Attribute will be removed in 4.0.0, use self instead).\n",
            "  \n",
            "/usr/local/lib/python3.6/dist-packages/ipykernel_launcher.py:4: DeprecationWarning: Call to deprecated `wv` (Attribute will be removed in 4.0.0, use self instead).\n",
            "  after removing the cwd from sys.path.\n",
            "/usr/local/lib/python3.6/dist-packages/ipykernel_launcher.py:5: DeprecationWarning: Call to deprecated `wv` (Attribute will be removed in 4.0.0, use self instead).\n",
            "  \"\"\"\n",
            "/usr/local/lib/python3.6/dist-packages/ipykernel_launcher.py:7: DeprecationWarning: Call to deprecated `wv` (Attribute will be removed in 4.0.0, use self instead).\n",
            "  import sys\n",
            "/usr/local/lib/python3.6/dist-packages/ipykernel_launcher.py:8: DeprecationWarning: Call to deprecated `wv` (Attribute will be removed in 4.0.0, use self instead).\n",
            "  \n"
          ],
          "name": "stderr"
        }
      ]
    },
    {
      "cell_type": "markdown",
      "metadata": {
        "id": "Ou4zLnqvm99m",
        "colab_type": "text"
      },
      "source": [
        "# Ganando un poco de intuición"
      ]
    },
    {
      "cell_type": "code",
      "metadata": {
        "id": "PNoDgC2wm99m",
        "colab_type": "code",
        "outputId": "f94bfc69-0820-4a5d-9f0f-80975438aff7",
        "colab": {
          "base_uri": "https://localhost:8080/",
          "height": 183
        }
      },
      "source": [
        "print (\"bank-money similarity:\",w2v_model2.wv.n_similarity([\"bank\"], [\"money\"]))\n",
        "print (\"bank-park similarity:\",w2v_model2.wv.n_similarity([\"bank\"], [\"park\"]))"
      ],
      "execution_count": 0,
      "outputs": [
        {
          "output_type": "stream",
          "text": [
            "bank-money similarity: 0.26132065\n",
            "bank-park similarity: 0.12146981\n"
          ],
          "name": "stdout"
        },
        {
          "output_type": "stream",
          "text": [
            "/usr/local/lib/python3.6/dist-packages/ipykernel_launcher.py:1: DeprecationWarning: Call to deprecated `wv` (Attribute will be removed in 4.0.0, use self instead).\n",
            "  \"\"\"Entry point for launching an IPython kernel.\n",
            "/usr/local/lib/python3.6/dist-packages/gensim/matutils.py:737: FutureWarning: Conversion of the second argument of issubdtype from `int` to `np.signedinteger` is deprecated. In future, it will be treated as `np.int64 == np.dtype(int).type`.\n",
            "  if np.issubdtype(vec.dtype, np.int):\n",
            "/usr/local/lib/python3.6/dist-packages/ipykernel_launcher.py:2: DeprecationWarning: Call to deprecated `wv` (Attribute will be removed in 4.0.0, use self instead).\n",
            "  \n"
          ],
          "name": "stderr"
        }
      ]
    },
    {
      "cell_type": "code",
      "metadata": {
        "id": "KMvB3LOBm99o",
        "colab_type": "code",
        "outputId": "4510a107-27aa-45f6-eda0-eb12f1b716cc",
        "colab": {
          "base_uri": "https://localhost:8080/",
          "height": 110
        }
      },
      "source": [
        "print(w2v_model2.n_similarity([\"Argentine\"], [\"park\"]),'\\n')"
      ],
      "execution_count": 0,
      "outputs": [
        {
          "output_type": "stream",
          "text": [
            "-0.009703358 \n",
            "\n"
          ],
          "name": "stdout"
        },
        {
          "output_type": "stream",
          "text": [
            "/usr/local/lib/python3.6/dist-packages/gensim/matutils.py:737: FutureWarning: Conversion of the second argument of issubdtype from `int` to `np.signedinteger` is deprecated. In future, it will be treated as `np.int64 == np.dtype(int).type`.\n",
            "  if np.issubdtype(vec.dtype, np.int):\n"
          ],
          "name": "stderr"
        }
      ]
    },
    {
      "cell_type": "code",
      "metadata": {
        "id": "N71REK8Ym99s",
        "colab_type": "code",
        "outputId": "c17d0d46-22b7-427d-ded0-178ea0cecc78",
        "colab": {
          "base_uri": "https://localhost:8080/",
          "height": 110
        }
      },
      "source": [
        "print(w2v_model2.n_similarity([\"Argentine\"], [\"money\"]),'\\n')"
      ],
      "execution_count": 0,
      "outputs": [
        {
          "output_type": "stream",
          "text": [
            "0.010083034 \n",
            "\n"
          ],
          "name": "stdout"
        },
        {
          "output_type": "stream",
          "text": [
            "/usr/local/lib/python3.6/dist-packages/gensim/matutils.py:737: FutureWarning: Conversion of the second argument of issubdtype from `int` to `np.signedinteger` is deprecated. In future, it will be treated as `np.int64 == np.dtype(int).type`.\n",
            "  if np.issubdtype(vec.dtype, np.int):\n"
          ],
          "name": "stderr"
        }
      ]
    },
    {
      "cell_type": "code",
      "metadata": {
        "id": "XPYAJFVRm99v",
        "colab_type": "code",
        "outputId": "0ca85139-d99c-45dd-c3db-ae45a99a4475",
        "colab": {
          "base_uri": "https://localhost:8080/",
          "height": 110
        }
      },
      "source": [
        "print(w2v_model2.n_similarity([\"run\"], [\"monkey\"]),'\\n')"
      ],
      "execution_count": 0,
      "outputs": [
        {
          "output_type": "stream",
          "text": [
            "0.09768893 \n",
            "\n"
          ],
          "name": "stdout"
        },
        {
          "output_type": "stream",
          "text": [
            "/usr/local/lib/python3.6/dist-packages/gensim/matutils.py:737: FutureWarning: Conversion of the second argument of issubdtype from `int` to `np.signedinteger` is deprecated. In future, it will be treated as `np.int64 == np.dtype(int).type`.\n",
            "  if np.issubdtype(vec.dtype, np.int):\n"
          ],
          "name": "stderr"
        }
      ]
    },
    {
      "cell_type": "code",
      "metadata": {
        "id": "fVhw5VePm99y",
        "colab_type": "code",
        "outputId": "b5f62a1c-c733-4d35-fb00-1a71ed6979e4",
        "colab": {
          "base_uri": "https://localhost:8080/",
          "height": 110
        }
      },
      "source": [
        "print(w2v_model2.n_similarity([\"wizard\"], [\"happy\"]),'\\n')"
      ],
      "execution_count": 0,
      "outputs": [
        {
          "output_type": "stream",
          "text": [
            "0.055537175 \n",
            "\n"
          ],
          "name": "stdout"
        },
        {
          "output_type": "stream",
          "text": [
            "/usr/local/lib/python3.6/dist-packages/gensim/matutils.py:737: FutureWarning: Conversion of the second argument of issubdtype from `int` to `np.signedinteger` is deprecated. In future, it will be treated as `np.int64 == np.dtype(int).type`.\n",
            "  if np.issubdtype(vec.dtype, np.int):\n"
          ],
          "name": "stderr"
        }
      ]
    },
    {
      "cell_type": "code",
      "metadata": {
        "id": "YzHaN2hjm990",
        "colab_type": "code",
        "outputId": "325b7b42-bedb-47a9-a5d9-25ad99be3030",
        "colab": {
          "base_uri": "https://localhost:8080/",
          "height": 110
        }
      },
      "source": [
        "print(w2v_model2.n_similarity([\"money\"], [\"wealthy\"]),'\\n')"
      ],
      "execution_count": 0,
      "outputs": [
        {
          "output_type": "stream",
          "text": [
            "0.32006815 \n",
            "\n"
          ],
          "name": "stdout"
        },
        {
          "output_type": "stream",
          "text": [
            "/usr/local/lib/python3.6/dist-packages/gensim/matutils.py:737: FutureWarning: Conversion of the second argument of issubdtype from `int` to `np.signedinteger` is deprecated. In future, it will be treated as `np.int64 == np.dtype(int).type`.\n",
            "  if np.issubdtype(vec.dtype, np.int):\n"
          ],
          "name": "stderr"
        }
      ]
    },
    {
      "cell_type": "code",
      "metadata": {
        "id": "WptmrO4xm994",
        "colab_type": "code",
        "outputId": "915da3c6-a91d-40a6-916b-5bd3e5a6b301",
        "colab": {
          "base_uri": "https://localhost:8080/",
          "height": 110
        }
      },
      "source": [
        "print(w2v_model2.n_similarity([\"money\"], [\"bankrupt\"]),'\\n')"
      ],
      "execution_count": 0,
      "outputs": [
        {
          "output_type": "stream",
          "text": [
            "0.32392168 \n",
            "\n"
          ],
          "name": "stdout"
        },
        {
          "output_type": "stream",
          "text": [
            "/usr/local/lib/python3.6/dist-packages/gensim/matutils.py:737: FutureWarning: Conversion of the second argument of issubdtype from `int` to `np.signedinteger` is deprecated. In future, it will be treated as `np.int64 == np.dtype(int).type`.\n",
            "  if np.issubdtype(vec.dtype, np.int):\n"
          ],
          "name": "stderr"
        }
      ]
    },
    {
      "cell_type": "code",
      "metadata": {
        "id": "9JBbgx4um996",
        "colab_type": "code",
        "outputId": "566fba64-f17b-449b-85d4-4f147efc58e9",
        "colab": {
          "base_uri": "https://localhost:8080/",
          "height": 110
        }
      },
      "source": [
        "print(w2v_model2.n_similarity([\"good\"], [\"happy\"]),'\\n')"
      ],
      "execution_count": 0,
      "outputs": [
        {
          "output_type": "stream",
          "text": [
            "0.5286674 \n",
            "\n"
          ],
          "name": "stdout"
        },
        {
          "output_type": "stream",
          "text": [
            "/usr/local/lib/python3.6/dist-packages/gensim/matutils.py:737: FutureWarning: Conversion of the second argument of issubdtype from `int` to `np.signedinteger` is deprecated. In future, it will be treated as `np.int64 == np.dtype(int).type`.\n",
            "  if np.issubdtype(vec.dtype, np.int):\n"
          ],
          "name": "stderr"
        }
      ]
    },
    {
      "cell_type": "code",
      "metadata": {
        "id": "M4bJDt8wm999",
        "colab_type": "code",
        "outputId": "7dcab1d3-fcfa-4479-b797-c0a5a5835dfa",
        "colab": {
          "base_uri": "https://localhost:8080/",
          "height": 110
        }
      },
      "source": [
        "print(w2v_model2.n_similarity([\"good\"], [\"bad\"]),'\\n')"
      ],
      "execution_count": 0,
      "outputs": [
        {
          "output_type": "stream",
          "text": [
            "0.7190051 \n",
            "\n"
          ],
          "name": "stdout"
        },
        {
          "output_type": "stream",
          "text": [
            "/usr/local/lib/python3.6/dist-packages/gensim/matutils.py:737: FutureWarning: Conversion of the second argument of issubdtype from `int` to `np.signedinteger` is deprecated. In future, it will be treated as `np.int64 == np.dtype(int).type`.\n",
            "  if np.issubdtype(vec.dtype, np.int):\n"
          ],
          "name": "stderr"
        }
      ]
    },
    {
      "cell_type": "code",
      "metadata": {
        "id": "iOTp2moVm9-A",
        "colab_type": "code",
        "outputId": "1149d57a-da81-4eb1-bb68-b989554d61c4",
        "colab": {
          "base_uri": "https://localhost:8080/",
          "height": 110
        }
      },
      "source": [
        "print(w2v_model2.n_similarity([\"black\"], [\"white\"]),'\\n')"
      ],
      "execution_count": 0,
      "outputs": [
        {
          "output_type": "stream",
          "text": [
            "0.80922145 \n",
            "\n"
          ],
          "name": "stdout"
        },
        {
          "output_type": "stream",
          "text": [
            "/usr/local/lib/python3.6/dist-packages/gensim/matutils.py:737: FutureWarning: Conversion of the second argument of issubdtype from `int` to `np.signedinteger` is deprecated. In future, it will be treated as `np.int64 == np.dtype(int).type`.\n",
            "  if np.issubdtype(vec.dtype, np.int):\n"
          ],
          "name": "stderr"
        }
      ]
    },
    {
      "cell_type": "markdown",
      "metadata": {
        "id": "gbKQwN0h1be5",
        "colab_type": "text"
      },
      "source": [
        "# volviendo a los reviews"
      ]
    },
    {
      "cell_type": "code",
      "metadata": {
        "id": "jJ2TyOIRm9-M",
        "colab_type": "code",
        "outputId": "1bbb3ce2-bcee-461b-87ba-bf0821e1090e",
        "colab": {
          "base_uri": "https://localhost:8080/",
          "height": 92
        }
      },
      "source": [
        "w2v_model.wv.n_similarity([\"black\"],[\"white\"])"
      ],
      "execution_count": 0,
      "outputs": [
        {
          "output_type": "stream",
          "text": [
            "/usr/local/lib/python3.6/dist-packages/gensim/matutils.py:737: FutureWarning: Conversion of the second argument of issubdtype from `int` to `np.signedinteger` is deprecated. In future, it will be treated as `np.int64 == np.dtype(int).type`.\n",
            "  if np.issubdtype(vec.dtype, np.int):\n"
          ],
          "name": "stderr"
        },
        {
          "output_type": "execute_result",
          "data": {
            "text/plain": [
              "0.97481227"
            ]
          },
          "metadata": {
            "tags": []
          },
          "execution_count": 56
        }
      ]
    },
    {
      "cell_type": "code",
      "metadata": {
        "id": "NFWSqltNGc9z",
        "colab_type": "code",
        "outputId": "803d5e6a-472f-49a8-e60d-aa4924c00186",
        "colab": {
          "base_uri": "https://localhost:8080/",
          "height": 92
        }
      },
      "source": [
        "w2v_model.wv.n_similarity([\"black\"],[\"hand\"])"
      ],
      "execution_count": 0,
      "outputs": [
        {
          "output_type": "stream",
          "text": [
            "/usr/local/lib/python3.6/dist-packages/gensim/matutils.py:737: FutureWarning: Conversion of the second argument of issubdtype from `int` to `np.signedinteger` is deprecated. In future, it will be treated as `np.int64 == np.dtype(int).type`.\n",
            "  if np.issubdtype(vec.dtype, np.int):\n"
          ],
          "name": "stderr"
        },
        {
          "output_type": "execute_result",
          "data": {
            "text/plain": [
              "0.4424128"
            ]
          },
          "metadata": {
            "tags": []
          },
          "execution_count": 58
        }
      ]
    },
    {
      "cell_type": "code",
      "metadata": {
        "id": "GdGeoih_m9-Q",
        "colab_type": "code",
        "outputId": "3645889f-98ce-4b51-c953-e84eea5a175a",
        "colab": {
          "base_uri": "https://localhost:8080/",
          "height": 324
        }
      },
      "source": [
        "w2v_model.wv.n_similarity([\"orange\"],[\"\"])"
      ],
      "execution_count": 0,
      "outputs": [
        {
          "output_type": "error",
          "ename": "KeyError",
          "evalue": "ignored",
          "traceback": [
            "\u001b[0;31m---------------------------------------------------------------------------\u001b[0m",
            "\u001b[0;31mKeyError\u001b[0m                                  Traceback (most recent call last)",
            "\u001b[0;32m<ipython-input-60-426e6f8f6add>\u001b[0m in \u001b[0;36m<module>\u001b[0;34m()\u001b[0m\n\u001b[0;32m----> 1\u001b[0;31m \u001b[0mw2v_model\u001b[0m\u001b[0;34m.\u001b[0m\u001b[0mwv\u001b[0m\u001b[0;34m.\u001b[0m\u001b[0mn_similarity\u001b[0m\u001b[0;34m(\u001b[0m\u001b[0;34m[\u001b[0m\u001b[0;34m\"orange\"\u001b[0m\u001b[0;34m]\u001b[0m\u001b[0;34m,\u001b[0m\u001b[0;34m[\u001b[0m\u001b[0;34m\"asdasdasd\"\u001b[0m\u001b[0;34m]\u001b[0m\u001b[0;34m)\u001b[0m\u001b[0;34m\u001b[0m\u001b[0;34m\u001b[0m\u001b[0m\n\u001b[0m",
            "\u001b[0;32m/usr/local/lib/python3.6/dist-packages/gensim/models/keyedvectors.py\u001b[0m in \u001b[0;36mn_similarity\u001b[0;34m(self, ws1, ws2)\u001b[0m\n\u001b[1;32m   1011\u001b[0m             \u001b[0;32mraise\u001b[0m \u001b[0mZeroDivisionError\u001b[0m\u001b[0;34m(\u001b[0m\u001b[0;34m'At least one of the passed list is empty.'\u001b[0m\u001b[0;34m)\u001b[0m\u001b[0;34m\u001b[0m\u001b[0;34m\u001b[0m\u001b[0m\n\u001b[1;32m   1012\u001b[0m         \u001b[0mv1\u001b[0m \u001b[0;34m=\u001b[0m \u001b[0;34m[\u001b[0m\u001b[0mself\u001b[0m\u001b[0;34m[\u001b[0m\u001b[0mword\u001b[0m\u001b[0;34m]\u001b[0m \u001b[0;32mfor\u001b[0m \u001b[0mword\u001b[0m \u001b[0;32min\u001b[0m \u001b[0mws1\u001b[0m\u001b[0;34m]\u001b[0m\u001b[0;34m\u001b[0m\u001b[0;34m\u001b[0m\u001b[0m\n\u001b[0;32m-> 1013\u001b[0;31m         \u001b[0mv2\u001b[0m \u001b[0;34m=\u001b[0m \u001b[0;34m[\u001b[0m\u001b[0mself\u001b[0m\u001b[0;34m[\u001b[0m\u001b[0mword\u001b[0m\u001b[0;34m]\u001b[0m \u001b[0;32mfor\u001b[0m \u001b[0mword\u001b[0m \u001b[0;32min\u001b[0m \u001b[0mws2\u001b[0m\u001b[0;34m]\u001b[0m\u001b[0;34m\u001b[0m\u001b[0;34m\u001b[0m\u001b[0m\n\u001b[0m\u001b[1;32m   1014\u001b[0m         \u001b[0;32mreturn\u001b[0m \u001b[0mdot\u001b[0m\u001b[0;34m(\u001b[0m\u001b[0mmatutils\u001b[0m\u001b[0;34m.\u001b[0m\u001b[0munitvec\u001b[0m\u001b[0;34m(\u001b[0m\u001b[0marray\u001b[0m\u001b[0;34m(\u001b[0m\u001b[0mv1\u001b[0m\u001b[0;34m)\u001b[0m\u001b[0;34m.\u001b[0m\u001b[0mmean\u001b[0m\u001b[0;34m(\u001b[0m\u001b[0maxis\u001b[0m\u001b[0;34m=\u001b[0m\u001b[0;36m0\u001b[0m\u001b[0;34m)\u001b[0m\u001b[0;34m)\u001b[0m\u001b[0;34m,\u001b[0m \u001b[0mmatutils\u001b[0m\u001b[0;34m.\u001b[0m\u001b[0munitvec\u001b[0m\u001b[0;34m(\u001b[0m\u001b[0marray\u001b[0m\u001b[0;34m(\u001b[0m\u001b[0mv2\u001b[0m\u001b[0;34m)\u001b[0m\u001b[0;34m.\u001b[0m\u001b[0mmean\u001b[0m\u001b[0;34m(\u001b[0m\u001b[0maxis\u001b[0m\u001b[0;34m=\u001b[0m\u001b[0;36m0\u001b[0m\u001b[0;34m)\u001b[0m\u001b[0;34m)\u001b[0m\u001b[0;34m)\u001b[0m\u001b[0;34m\u001b[0m\u001b[0;34m\u001b[0m\u001b[0m\n\u001b[1;32m   1015\u001b[0m \u001b[0;34m\u001b[0m\u001b[0m\n",
            "\u001b[0;32m/usr/local/lib/python3.6/dist-packages/gensim/models/keyedvectors.py\u001b[0m in \u001b[0;36m<listcomp>\u001b[0;34m(.0)\u001b[0m\n\u001b[1;32m   1011\u001b[0m             \u001b[0;32mraise\u001b[0m \u001b[0mZeroDivisionError\u001b[0m\u001b[0;34m(\u001b[0m\u001b[0;34m'At least one of the passed list is empty.'\u001b[0m\u001b[0;34m)\u001b[0m\u001b[0;34m\u001b[0m\u001b[0;34m\u001b[0m\u001b[0m\n\u001b[1;32m   1012\u001b[0m         \u001b[0mv1\u001b[0m \u001b[0;34m=\u001b[0m \u001b[0;34m[\u001b[0m\u001b[0mself\u001b[0m\u001b[0;34m[\u001b[0m\u001b[0mword\u001b[0m\u001b[0;34m]\u001b[0m \u001b[0;32mfor\u001b[0m \u001b[0mword\u001b[0m \u001b[0;32min\u001b[0m \u001b[0mws1\u001b[0m\u001b[0;34m]\u001b[0m\u001b[0;34m\u001b[0m\u001b[0;34m\u001b[0m\u001b[0m\n\u001b[0;32m-> 1013\u001b[0;31m         \u001b[0mv2\u001b[0m \u001b[0;34m=\u001b[0m \u001b[0;34m[\u001b[0m\u001b[0mself\u001b[0m\u001b[0;34m[\u001b[0m\u001b[0mword\u001b[0m\u001b[0;34m]\u001b[0m \u001b[0;32mfor\u001b[0m \u001b[0mword\u001b[0m \u001b[0;32min\u001b[0m \u001b[0mws2\u001b[0m\u001b[0;34m]\u001b[0m\u001b[0;34m\u001b[0m\u001b[0;34m\u001b[0m\u001b[0m\n\u001b[0m\u001b[1;32m   1014\u001b[0m         \u001b[0;32mreturn\u001b[0m \u001b[0mdot\u001b[0m\u001b[0;34m(\u001b[0m\u001b[0mmatutils\u001b[0m\u001b[0;34m.\u001b[0m\u001b[0munitvec\u001b[0m\u001b[0;34m(\u001b[0m\u001b[0marray\u001b[0m\u001b[0;34m(\u001b[0m\u001b[0mv1\u001b[0m\u001b[0;34m)\u001b[0m\u001b[0;34m.\u001b[0m\u001b[0mmean\u001b[0m\u001b[0;34m(\u001b[0m\u001b[0maxis\u001b[0m\u001b[0;34m=\u001b[0m\u001b[0;36m0\u001b[0m\u001b[0;34m)\u001b[0m\u001b[0;34m)\u001b[0m\u001b[0;34m,\u001b[0m \u001b[0mmatutils\u001b[0m\u001b[0;34m.\u001b[0m\u001b[0munitvec\u001b[0m\u001b[0;34m(\u001b[0m\u001b[0marray\u001b[0m\u001b[0;34m(\u001b[0m\u001b[0mv2\u001b[0m\u001b[0;34m)\u001b[0m\u001b[0;34m.\u001b[0m\u001b[0mmean\u001b[0m\u001b[0;34m(\u001b[0m\u001b[0maxis\u001b[0m\u001b[0;34m=\u001b[0m\u001b[0;36m0\u001b[0m\u001b[0;34m)\u001b[0m\u001b[0;34m)\u001b[0m\u001b[0;34m)\u001b[0m\u001b[0;34m\u001b[0m\u001b[0;34m\u001b[0m\u001b[0m\n\u001b[1;32m   1015\u001b[0m \u001b[0;34m\u001b[0m\u001b[0m\n",
            "\u001b[0;32m/usr/local/lib/python3.6/dist-packages/gensim/models/keyedvectors.py\u001b[0m in \u001b[0;36m__getitem__\u001b[0;34m(self, entities)\u001b[0m\n\u001b[1;32m    335\u001b[0m         \u001b[0;32mif\u001b[0m \u001b[0misinstance\u001b[0m\u001b[0;34m(\u001b[0m\u001b[0mentities\u001b[0m\u001b[0;34m,\u001b[0m \u001b[0mstring_types\u001b[0m\u001b[0;34m)\u001b[0m\u001b[0;34m:\u001b[0m\u001b[0;34m\u001b[0m\u001b[0;34m\u001b[0m\u001b[0m\n\u001b[1;32m    336\u001b[0m             \u001b[0;31m# allow calls like trained_model['office'], as a shorthand for trained_model[['office']]\u001b[0m\u001b[0;34m\u001b[0m\u001b[0;34m\u001b[0m\u001b[0;34m\u001b[0m\u001b[0m\n\u001b[0;32m--> 337\u001b[0;31m             \u001b[0;32mreturn\u001b[0m \u001b[0mself\u001b[0m\u001b[0;34m.\u001b[0m\u001b[0mget_vector\u001b[0m\u001b[0;34m(\u001b[0m\u001b[0mentities\u001b[0m\u001b[0;34m)\u001b[0m\u001b[0;34m\u001b[0m\u001b[0;34m\u001b[0m\u001b[0m\n\u001b[0m\u001b[1;32m    338\u001b[0m \u001b[0;34m\u001b[0m\u001b[0m\n\u001b[1;32m    339\u001b[0m         \u001b[0;32mreturn\u001b[0m \u001b[0mvstack\u001b[0m\u001b[0;34m(\u001b[0m\u001b[0;34m[\u001b[0m\u001b[0mself\u001b[0m\u001b[0;34m.\u001b[0m\u001b[0mget_vector\u001b[0m\u001b[0;34m(\u001b[0m\u001b[0mentity\u001b[0m\u001b[0;34m)\u001b[0m \u001b[0;32mfor\u001b[0m \u001b[0mentity\u001b[0m \u001b[0;32min\u001b[0m \u001b[0mentities\u001b[0m\u001b[0;34m]\u001b[0m\u001b[0;34m)\u001b[0m\u001b[0;34m\u001b[0m\u001b[0;34m\u001b[0m\u001b[0m\n",
            "\u001b[0;32m/usr/local/lib/python3.6/dist-packages/gensim/models/keyedvectors.py\u001b[0m in \u001b[0;36mget_vector\u001b[0;34m(self, word)\u001b[0m\n\u001b[1;32m    453\u001b[0m \u001b[0;34m\u001b[0m\u001b[0m\n\u001b[1;32m    454\u001b[0m     \u001b[0;32mdef\u001b[0m \u001b[0mget_vector\u001b[0m\u001b[0;34m(\u001b[0m\u001b[0mself\u001b[0m\u001b[0;34m,\u001b[0m \u001b[0mword\u001b[0m\u001b[0;34m)\u001b[0m\u001b[0;34m:\u001b[0m\u001b[0;34m\u001b[0m\u001b[0;34m\u001b[0m\u001b[0m\n\u001b[0;32m--> 455\u001b[0;31m         \u001b[0;32mreturn\u001b[0m \u001b[0mself\u001b[0m\u001b[0;34m.\u001b[0m\u001b[0mword_vec\u001b[0m\u001b[0;34m(\u001b[0m\u001b[0mword\u001b[0m\u001b[0;34m)\u001b[0m\u001b[0;34m\u001b[0m\u001b[0;34m\u001b[0m\u001b[0m\n\u001b[0m\u001b[1;32m    456\u001b[0m \u001b[0;34m\u001b[0m\u001b[0m\n\u001b[1;32m    457\u001b[0m     \u001b[0;32mdef\u001b[0m \u001b[0mwords_closer_than\u001b[0m\u001b[0;34m(\u001b[0m\u001b[0mself\u001b[0m\u001b[0;34m,\u001b[0m \u001b[0mw1\u001b[0m\u001b[0;34m,\u001b[0m \u001b[0mw2\u001b[0m\u001b[0;34m)\u001b[0m\u001b[0;34m:\u001b[0m\u001b[0;34m\u001b[0m\u001b[0;34m\u001b[0m\u001b[0m\n",
            "\u001b[0;32m/usr/local/lib/python3.6/dist-packages/gensim/models/keyedvectors.py\u001b[0m in \u001b[0;36mword_vec\u001b[0;34m(self, word, use_norm)\u001b[0m\n\u001b[1;32m    450\u001b[0m             \u001b[0;32mreturn\u001b[0m \u001b[0mresult\u001b[0m\u001b[0;34m\u001b[0m\u001b[0;34m\u001b[0m\u001b[0m\n\u001b[1;32m    451\u001b[0m         \u001b[0;32melse\u001b[0m\u001b[0;34m:\u001b[0m\u001b[0;34m\u001b[0m\u001b[0;34m\u001b[0m\u001b[0m\n\u001b[0;32m--> 452\u001b[0;31m             \u001b[0;32mraise\u001b[0m \u001b[0mKeyError\u001b[0m\u001b[0;34m(\u001b[0m\u001b[0;34m\"word '%s' not in vocabulary\"\u001b[0m \u001b[0;34m%\u001b[0m \u001b[0mword\u001b[0m\u001b[0;34m)\u001b[0m\u001b[0;34m\u001b[0m\u001b[0;34m\u001b[0m\u001b[0m\n\u001b[0m\u001b[1;32m    453\u001b[0m \u001b[0;34m\u001b[0m\u001b[0m\n\u001b[1;32m    454\u001b[0m     \u001b[0;32mdef\u001b[0m \u001b[0mget_vector\u001b[0m\u001b[0;34m(\u001b[0m\u001b[0mself\u001b[0m\u001b[0;34m,\u001b[0m \u001b[0mword\u001b[0m\u001b[0;34m)\u001b[0m\u001b[0;34m:\u001b[0m\u001b[0;34m\u001b[0m\u001b[0;34m\u001b[0m\u001b[0m\n",
            "\u001b[0;31mKeyError\u001b[0m: \"word 'asdasdasd' not in vocabulary\""
          ]
        }
      ]
    },
    {
      "cell_type": "code",
      "metadata": {
        "id": "_W8oAJBUcC3e",
        "colab_type": "code",
        "colab": {}
      },
      "source": [
        ""
      ],
      "execution_count": 0,
      "outputs": []
    }
  ]
}